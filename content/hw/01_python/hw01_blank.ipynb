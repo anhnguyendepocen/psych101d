{
 "cells": [
  {
   "cell_type": "markdown",
   "metadata": {},
   "source": [
    "<img src=\"../../shared/img/banner.svg\"></img>"
   ]
  },
  {
   "cell_type": "markdown",
   "metadata": {},
   "source": [
    "# Homework 01 - Python Drills"
   ]
  },
  {
   "cell_type": "code",
   "execution_count": null,
   "metadata": {},
   "outputs": [],
   "source": [
    "%matplotlib inline"
   ]
  },
  {
   "cell_type": "code",
   "execution_count": null,
   "metadata": {},
   "outputs": [],
   "source": [
    "import sys\n",
    "\n",
    "sys.path.append(\"../../\")\n",
    "\n",
    "from shared.src import quiet\n",
    "from shared.src import seed\n",
    "from shared.src import style"
   ]
  },
  {
   "cell_type": "code",
   "execution_count": null,
   "metadata": {},
   "outputs": [],
   "source": [
    "from pathlib import Path\n",
    "import random\n",
    "import string\n",
    "\n",
    "from client.api.notebook import Notebook\n",
    "import matplotlib.pyplot as plt\n",
    "import numpy as np\n",
    "import pandas as pd\n",
    "\n",
    "import shared.src.utils.util as util\n",
    "import utils.json_ok\n",
    "from utils.safe_sandwich import Sandwicher"
   ]
  },
  {
   "cell_type": "code",
   "execution_count": null,
   "metadata": {},
   "outputs": [],
   "source": [
    "ok = Notebook(\"ok/config\")"
   ]
  },
  {
   "cell_type": "markdown",
   "metadata": {},
   "source": [
    "## Learning Objectives\n",
    "\n",
    "\n",
    "1. Practice Python syntax and short code snippets.\n",
    "1. Recall and use Python codewords.\n",
    "1. Perform fundamental Pandas manipulations."
   ]
  },
  {
   "cell_type": "markdown",
   "metadata": {},
   "source": [
    "These problems are intended as opportunities for you to practice your Python.\n",
    "Each question is written with some particular Python tool in mind,\n",
    "whether it's a keyword like `if` or a construct like functions.\n",
    "\n",
    "If you notice that the tests allow you to answer the question without using the suggested constructions,\n",
    "feel free to answer without them.\n",
    "You won't be docked points for doing so, but only if your answer fails the tests.\n",
    "\n",
    "However, this shouldn't be used as an excuse to avoid understanding all of the constructions in this homework.\n",
    "We will use all of them, repeatedly, in the course."
   ]
  },
  {
   "cell_type": "markdown",
   "metadata": {},
   "source": [
    "## Section 1 - Python Data Structures"
   ]
  },
  {
   "cell_type": "markdown",
   "metadata": {},
   "source": [
    "### Lists"
   ]
  },
  {
   "cell_type": "markdown",
   "metadata": {},
   "source": [
    "Make a list, `conch_st_residents`, containing the inhabitants of Conch Street:\n",
    "`\"SpongeBob SquarePants\"`, `\"Squidward Tentacles\"`, and `\"Patrick Star\"`.\n",
    "Make sure they are in that order, and check your spelling and capitalization!"
   ]
  },
  {
   "cell_type": "code",
   "execution_count": null,
   "metadata": {},
   "outputs": [],
   "source": [
    "ok.grade(\"q01\")"
   ]
  },
  {
   "cell_type": "markdown",
   "metadata": {},
   "source": [
    "Make a list, `conch_st_addresses`, containing the addresses on Conch Street:\n",
    "`\"124 Conch Street\"`, `\"122 Conch Street\"`, and `\"120 Conch Street\"`.\n",
    "Again, order is important!"
   ]
  },
  {
   "cell_type": "code",
   "execution_count": null,
   "metadata": {},
   "outputs": [],
   "source": [
    "ok.grade(\"q02\")"
   ]
  },
  {
   "cell_type": "markdown",
   "metadata": {},
   "source": [
    "### Dictionaries"
   ]
  },
  {
   "cell_type": "markdown",
   "metadata": {},
   "source": [
    "Make an address book for Conch Street in the form of a dictionary: make the keys the addresses and the values the names of the resident. Name it `conch_st_address_bk`. The addresses listed above are in the same order as the list of residents.\n",
    "\n",
    "If you're feeling confident with for loops, you can save yourself some work by using your answers from the previous problems."
   ]
  },
  {
   "cell_type": "code",
   "execution_count": null,
   "metadata": {},
   "outputs": [],
   "source": [
    "ok.grade(\"q03\")"
   ]
  },
  {
   "cell_type": "markdown",
   "metadata": {},
   "source": [
    "## Section 2 - Flow Control"
   ]
  },
  {
   "cell_type": "markdown",
   "metadata": {},
   "source": [
    "### What's your function?"
   ]
  },
  {
   "cell_type": "markdown",
   "metadata": {},
   "source": [
    "Create a function, `times_ten` that returns its input times the number `2`,\n",
    "using the operator `*`, aka the symbol for multiplication."
   ]
  },
  {
   "cell_type": "code",
   "execution_count": null,
   "metadata": {},
   "outputs": [],
   "source": [
    "ok.grade(\"q04\")"
   ]
  },
  {
   "cell_type": "markdown",
   "metadata": {},
   "source": [
    "Write a function `ten_ayys` that prints the result of applying `times_ten` to the input `\"ayy\"`."
   ]
  },
  {
   "cell_type": "code",
   "execution_count": null,
   "metadata": {},
   "outputs": [],
   "source": [
    "ok.grade(\"q05\")"
   ]
  },
  {
   "cell_type": "markdown",
   "metadata": {},
   "source": [
    "Create a function, `make_times_k`, that takes in a number `k`\n",
    "and returns a function that multiplies its input by `k`."
   ]
  },
  {
   "cell_type": "code",
   "execution_count": null,
   "metadata": {},
   "outputs": [],
   "source": [
    "ok.grade(\"q06\")"
   ]
  },
  {
   "cell_type": "markdown",
   "metadata": {},
   "source": [
    "### What `for`?"
   ]
  },
  {
   "cell_type": "markdown",
   "metadata": {},
   "source": [
    "Make a list, `first2k`, of the numbers from 0 to 2000."
   ]
  },
  {
   "cell_type": "code",
   "execution_count": null,
   "metadata": {},
   "outputs": [],
   "source": [
    "ok.grade(\"q07\")"
   ]
  },
  {
   "cell_type": "markdown",
   "metadata": {},
   "source": [
    "Make a list, `first1k`, of the numbers from 0 to 1000, by slicing into the list `first2k` (that is, by using `:`)."
   ]
  },
  {
   "cell_type": "code",
   "execution_count": null,
   "metadata": {},
   "outputs": [],
   "source": [
    "ok.grade(\"q08\")"
   ]
  },
  {
   "cell_type": "markdown",
   "metadata": {},
   "source": [
    "`letters` below is a list of the lowercase letters from `a` to `z`."
   ]
  },
  {
   "cell_type": "code",
   "execution_count": null,
   "metadata": {},
   "outputs": [],
   "source": [
    "letters = string.ascii_lowercase"
   ]
  },
  {
   "cell_type": "markdown",
   "metadata": {},
   "source": [
    "Make a list, `letters_and_index`, of lists, where each list contains two elements: a letter and its position in the list `letters`, in order from `a` to `z`."
   ]
  },
  {
   "cell_type": "markdown",
   "metadata": {},
   "source": [
    "Some tools that might prove useful (you don't need all at once): `.append`, `enumerate`, `range`, `len`"
   ]
  },
  {
   "cell_type": "code",
   "execution_count": null,
   "metadata": {},
   "outputs": [],
   "source": [
    "ok.grade(\"q09\")"
   ]
  },
  {
   "cell_type": "markdown",
   "metadata": {},
   "source": [
    "Make a list, `letters_pyramid`, of strings, where each of the strings has a increasing number of letters from `letters`, starting with `''` and ending with `'abcdefghijklmnopqrstuvwxy'`."
   ]
  },
  {
   "cell_type": "code",
   "execution_count": null,
   "metadata": {},
   "outputs": [],
   "source": [
    "ok.grade(\"q10\")"
   ]
  },
  {
   "cell_type": "markdown",
   "metadata": {},
   "source": [
    "### What `if`?"
   ]
  },
  {
   "cell_type": "markdown",
   "metadata": {},
   "source": [
    "The function below, `is_letter_a`, is supposed to print the string `yup, that's an 'a'` if the input is the string `\"a\"`.\n",
    "\n",
    "But it's not working correctly! Fix it."
   ]
  },
  {
   "cell_type": "code",
   "execution_count": null,
   "metadata": {},
   "outputs": [],
   "source": [
    "def is_letter_a(input):\n",
    "    if input == \"b\":\n",
    "        print(\"yup, that's an 'a'\")\n",
    "        \n",
    "is_letter_a(\"a\")"
   ]
  },
  {
   "cell_type": "code",
   "execution_count": null,
   "metadata": {},
   "outputs": [],
   "source": [
    "ok.grade(\"q11\")"
   ]
  },
  {
   "cell_type": "markdown",
   "metadata": {},
   "source": [
    "Write a function `ayy_lmao`,\n",
    "that `print`s the string `lmao` if the input is `\"ayy\"`,\n",
    "and otherwise does nothing."
   ]
  },
  {
   "cell_type": "code",
   "execution_count": null,
   "metadata": {},
   "outputs": [],
   "source": [
    "ok.grade(\"q12\")"
   ]
  },
  {
   "cell_type": "markdown",
   "metadata": {},
   "source": [
    "Write a function, `is_number_one`,  that returns its input if its input is equal to the number `1`, but not if it's anything else, e.g. the strings `\"1\"` or `\"one\"`.\n",
    "In all other cases, don't return anything."
   ]
  },
  {
   "cell_type": "code",
   "execution_count": null,
   "metadata": {},
   "outputs": [],
   "source": [
    "ok.grade(\"q13\")"
   ]
  },
  {
   "cell_type": "markdown",
   "metadata": {},
   "source": [
    "Write a function, `is_one`,  that returns its input if its input is equal to the number `1` or the string `\"1\"`. Consider using `elif`."
   ]
  },
  {
   "cell_type": "code",
   "execution_count": null,
   "metadata": {},
   "outputs": [],
   "source": [
    "ok.grade(\"q14\")"
   ]
  },
  {
   "cell_type": "markdown",
   "metadata": {},
   "source": [
    "Make a list, `divisible_seventeen`, of the numbers from `0` to `1000` that are divisible by `17`.\n",
    "\n",
    "_Hint_: `x % y`, in Python, gives you the remainder when `x` is divided by `y`. What will the remainder be if `x` is divisible by `y`? If you don't know, try it!"
   ]
  },
  {
   "cell_type": "code",
   "execution_count": null,
   "metadata": {},
   "outputs": [],
   "source": [
    "ok.grade(\"q15\")"
   ]
  },
  {
   "cell_type": "markdown",
   "metadata": {},
   "source": [
    "### What `else`?"
   ]
  },
  {
   "cell_type": "markdown",
   "metadata": {},
   "source": [
    "Write a function, `is_one_or_not`, \n",
    "that returns its input if its input is the number `1` or the string `\"1\"`,\n",
    "and returns the string `\"not_one\"` otherwise.\n",
    "_Hint_: Use the keyword `else`."
   ]
  },
  {
   "cell_type": "code",
   "execution_count": null,
   "metadata": {},
   "outputs": [],
   "source": [
    "ok.grade(\"q16\")"
   ]
  },
  {
   "cell_type": "markdown",
   "metadata": {},
   "source": [
    "Make a list, `divisible_seventeen_with_xs` that has, at each position `i` (i.e., the thing that would be returned by `l[i]`), either `i`, if the number is divisible by `17`, or the string `\"x\"`, for `i` from `0` to `1000`."
   ]
  },
  {
   "cell_type": "code",
   "execution_count": null,
   "metadata": {},
   "outputs": [],
   "source": [
    "ok.grade(\"q17\")"
   ]
  },
  {
   "cell_type": "markdown",
   "metadata": {},
   "source": [
    "### What `with`?"
   ]
  },
  {
   "cell_type": "markdown",
   "metadata": {},
   "source": [
    "As [everyone knows](https://knowyourmeme.com/photos/1249778-is-a-hot-dog-a-sandwich),\n",
    "a sandwich is not a sandwich without bread on both sides.\n",
    "\n",
    "I've created and imported a very silly Python object, a `Sandwicher`,\n",
    "that is designed to ensure the integrity of sandwiches\n",
    "using the Python `with` keyword.\n",
    "\n",
    "That is, the `Sandwicher` creates a \"Python Sandwich\"\n",
    "by ensuring that the word `\"bread\"` is printed\n",
    "on \"either side\" of Python code, as below:"
   ]
  },
  {
   "cell_type": "code",
   "execution_count": null,
   "metadata": {},
   "outputs": [],
   "source": [
    "with Sandwicher():\n",
    "    pass"
   ]
  },
  {
   "cell_type": "markdown",
   "metadata": {},
   "source": [
    "This is just a very simple demonstration of something using `with`.\n",
    "\n",
    "You might use it this way if you were afraid that,\n",
    "in the midst of making a sandwich,\n",
    "an `Error` might appear.\n",
    "Without this `with`, that would mean the sandwich would have\n",
    "no bottom piece of bread, violating the principles of sandwich construction."
   ]
  },
  {
   "cell_type": "markdown",
   "metadata": {},
   "source": [
    "In a cell below, write a function, `safely_make_sandwich`,\n",
    "that takes in a `Sandwicher` and a list of ingredients\n",
    "and uses the `Sandwicher`, in a `with` block, to print all of the ingredients,\n",
    "each on a separate line.\n",
    "You'll want to combine the `print` function and a `for` loop."
   ]
  },
  {
   "cell_type": "markdown",
   "metadata": {},
   "source": [
    "For example, running the code after the `>>>` in the next cell would result in the output beneath it being printed."
   ]
  },
  {
   "cell_type": "markdown",
   "metadata": {},
   "source": [
    "```python\n",
    ">>> safely_make_sandwich(Sandwicher(), [\"peanut butter\", \"jelly\", \"peanut butter\"])\n",
    "bread\n",
    "peanut butter\n",
    "jelly\n",
    "peanut butter\n",
    "bread\n",
    "```"
   ]
  },
  {
   "cell_type": "code",
   "execution_count": null,
   "metadata": {},
   "outputs": [],
   "source": [
    "ok.grade(\"q18\")"
   ]
  },
  {
   "cell_type": "markdown",
   "metadata": {},
   "source": [
    "## Section 3 - Pandas"
   ]
  },
  {
   "cell_type": "markdown",
   "metadata": {},
   "source": [
    "### Making a `DataFrame` from scratch"
   ]
  },
  {
   "cell_type": "markdown",
   "metadata": {},
   "source": [
    "Recall the earlier problems, under **Lists** and **Dictionaries**, regarding the residents of Conch Street.\n",
    "\n",
    "Make a `DataFrame`, called `conch_st_df`, that serves as an address book for Conch Street. Use `\"resident\"` as the name for the column containing the names of the residents and `\"address\"` as the name for the column containing the addresses.\n",
    "\n",
    "Also include, as one of the columns, the type of each house on the street, under the column `housetype`.\n",
    "\n",
    "The `housetype` of 124 Conch Street is `\"Pineapple\"`, of 122 Conch Street is `\"Head\"`, and of 120 Conch Street is `\"Rock\"`. Keep the order as above."
   ]
  },
  {
   "cell_type": "code",
   "execution_count": null,
   "metadata": {},
   "outputs": [],
   "source": [
    "ok.grade(\"q19\")"
   ]
  },
  {
   "cell_type": "markdown",
   "metadata": {},
   "source": [
    "### Working with real data"
   ]
  },
  {
   "cell_type": "markdown",
   "metadata": {},
   "source": [
    "The cell below will download a small dataset\n",
    "of episode titles, information, and\n",
    "[Internet Movie DataBase](https://imdb.com)\n",
    "user ratings of episodes of the American TV series\n",
    "[_The Office_](https://en.wikipedia.org/wiki/The_Office_(American_TV_series)).\n",
    "\n",
    "This data was downloaded from a\n",
    "[post by the user `anujjain7`](https://data.world/anujjain7/the-office-imdb-ratings-dataset)\n",
    "to the website\n",
    "[data.world](https://data.world),\n",
    "a repository of and interface for\n",
    "public datasets."
   ]
  },
  {
   "cell_type": "code",
   "execution_count": null,
   "metadata": {},
   "outputs": [],
   "source": [
    "data_folder = Path(\".\") / \"dat\"\n",
    "\n",
    "office_data = pd.read_csv(data_folder / \"the-office-IMDb-dataset.csv\")\n",
    "\n",
    "office_data.head()"
   ]
  },
  {
   "cell_type": "markdown",
   "metadata": {},
   "source": [
    "The data is originally sorted by the `Air Date`, or the date the episode was first shown on air.\n",
    "The `IMDB Rating` is the rating given to the episode by the users of IMDB."
   ]
  },
  {
   "cell_type": "markdown",
   "metadata": {},
   "source": [
    "Some of the tools you might use include:\n",
    "- `.iloc` to select rows by their position\n",
    "- Comparisons with `>`, `<`, `==`\n",
    "- `sort_values` to arrange the data by the values in a column\n",
    "- `apply` to put all of the values in a column through the same function\n",
    "- `len` to get the length of a `DataFrame` or `Series`"
   ]
  },
  {
   "cell_type": "markdown",
   "metadata": {},
   "source": [
    "#### Basics and Indexing"
   ]
  },
  {
   "cell_type": "markdown",
   "metadata": {},
   "source": [
    "Complete each of the following:\n",
    "\n",
    "- Determine the total number of episodes of _The Office_ and save it to the variable `num_episodes`.\n",
    "- Select the episode  at index `102` and save it to the variable `episode_102`.\n",
    "- Determine the `Air Date` of the first and last episodes and save them into a list called `on_air_between`."
   ]
  },
  {
   "cell_type": "code",
   "execution_count": null,
   "metadata": {},
   "outputs": [],
   "source": [
    "ok.grade(\"q20\")"
   ]
  },
  {
   "cell_type": "markdown",
   "metadata": {},
   "source": [
    "#### Selection"
   ]
  },
  {
   "cell_type": "markdown",
   "metadata": {},
   "source": [
    "Complete each of the following:\n",
    "- Select all rows with more than 3000 `Total Votes` and give the result the name `highly_voted`.\n",
    "- Select all of the rows for episodes in seasons 2, 3, 4, and 5 and save your selection to the variable `seasons_2_through_5`. _Hint_: Don't forget that using more than one selector can be tricky! Remember the parentheses."
   ]
  },
  {
   "cell_type": "code",
   "execution_count": null,
   "metadata": {},
   "outputs": [],
   "source": [
    "ok.grade(\"q21\")"
   ]
  },
  {
   "cell_type": "markdown",
   "metadata": {},
   "source": [
    "#### Sorting"
   ]
  },
  {
   "cell_type": "markdown",
   "metadata": {},
   "source": [
    "Select the episodes with the lowest and highest `IMDB Rating`s\n",
    "and save them to the variables\n",
    "`lowest_rated` and `highest_rated`.\n",
    "\n",
    "You might want to use `sort_values` for this one."
   ]
  },
  {
   "cell_type": "code",
   "execution_count": null,
   "metadata": {},
   "outputs": [],
   "source": [
    "ok.grade(\"q22\")"
   ]
  },
  {
   "cell_type": "markdown",
   "metadata": {},
   "source": [
    "#### Apply"
   ]
  },
  {
   "cell_type": "markdown",
   "metadata": {},
   "source": [
    "Apply the function `date_to_year`, below, to the `Air Date` column and add it as a column called `Air Year`."
   ]
  },
  {
   "cell_type": "code",
   "execution_count": null,
   "metadata": {},
   "outputs": [],
   "source": [
    "def date_to_year(air_date):\n",
    "    return air_date.split(\" \")[-1]"
   ]
  },
  {
   "cell_type": "code",
   "execution_count": null,
   "metadata": {},
   "outputs": [],
   "source": [
    "ok.grade(\"q23\")"
   ]
  },
  {
   "cell_type": "markdown",
   "metadata": {},
   "source": [
    "## Scoring and Submission"
   ]
  },
  {
   "cell_type": "code",
   "execution_count": null,
   "metadata": {},
   "outputs": [],
   "source": [
    "ok.score()"
   ]
  }
 ],
 "metadata": {
  "kernelspec": {
   "display_name": "Python 3",
   "language": "python",
   "name": "python3"
  },
  "language_info": {
   "codemirror_mode": {
    "name": "ipython",
    "version": 3
   },
   "file_extension": ".py",
   "mimetype": "text/x-python",
   "name": "python",
   "nbconvert_exporter": "python",
   "pygments_lexer": "ipython3",
   "version": "3.6.8"
  }
 },
 "nbformat": 4,
 "nbformat_minor": 2
}
