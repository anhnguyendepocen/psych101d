{
 "cells": [
  {
   "cell_type": "markdown",
   "metadata": {},
   "source": [
    "<img src=\"../../shared/img/banner.svg\"></img>"
   ]
  },
  {
   "cell_type": "markdown",
   "metadata": {},
   "source": [
    "# Homework 02 - Descriptive Statistics and Bootstrapping"
   ]
  },
  {
   "cell_type": "markdown",
   "metadata": {},
   "source": [
    "**REMEMBER**: if you downloaded this file to datahub with an interact link,\n",
    "it will be called `hw02_blank.ipynb`.\n",
    "\n",
    "Before doing any work, go to the dropdown menu, `File > Make a Copy`,\n",
    "and then rename that copy to `hw02.ipynb`.\n",
    "Work in the copy, rather than the original."
   ]
  },
  {
   "cell_type": "code",
   "execution_count": null,
   "metadata": {},
   "outputs": [],
   "source": [
    "%matplotlib inline"
   ]
  },
  {
   "cell_type": "code",
   "execution_count": null,
   "metadata": {},
   "outputs": [],
   "source": [
    "import sys\n",
    "\n",
    "sys.path.append(\"../../\")\n",
    "\n",
    "from shared.src import quiet\n",
    "from shared.src import seed\n",
    "from shared.src import style"
   ]
  },
  {
   "cell_type": "code",
   "execution_count": null,
   "metadata": {},
   "outputs": [],
   "source": [
    "import inspect\n",
    "from pathlib import Path\n",
    "import random\n",
    "import string\n",
    "\n",
    "from client.api.notebook import Notebook\n",
    "import matplotlib.pyplot as plt\n",
    "import numpy as np\n",
    "import pandas as pd\n",
    "import seaborn as sns\n",
    "\n",
    "import shared.src.utils.util as util"
   ]
  },
  {
   "cell_type": "code",
   "execution_count": null,
   "metadata": {},
   "outputs": [],
   "source": [
    "sns.set_context(\"notebook\", font_scale=1.7)"
   ]
  },
  {
   "cell_type": "code",
   "execution_count": null,
   "metadata": {},
   "outputs": [],
   "source": [
    "ok = Notebook(\"ok/config\")"
   ]
  },
  {
   "cell_type": "markdown",
   "metadata": {},
   "source": [
    "## Learning Objectives\n",
    "\n",
    "\n",
    "1. Familiarize yourself with key descriptive statistics, like the mean and standard deviation.\n",
    "1. Learn to manipulate dataframes with `groupby`.\n",
    "1. Practice applying bootstrapping estimation of confidence intervals to data from a psychological experiment."
   ]
  },
  {
   "cell_type": "markdown",
   "metadata": {},
   "source": [
    "For all of the below, you can assume the input series has at least two values,\n",
    "so there's no need to handle the case of an empty `Series`,\n",
    "and that none of the values are null/NaN."
   ]
  },
  {
   "cell_type": "markdown",
   "metadata": {},
   "source": [
    "## Section 1 - Descriptive Statistics"
   ]
  },
  {
   "cell_type": "markdown",
   "metadata": {},
   "source": [
    "### Mean, Variance, and Standard Deviation"
   ]
  },
  {
   "cell_type": "markdown",
   "metadata": {},
   "source": [
    "For all of the below, your implementation must be in terms of basic Python keywords and operators:\n",
    "`for` loops, `+`, `/`, `**`.\n",
    "\n",
    "Do NOT use any methods or functions, like `.mean` or `np.var`,\n",
    "from outside the standard library."
   ]
  },
  {
   "cell_type": "markdown",
   "metadata": {},
   "source": [
    "Implement a function, `mean`, that takes in a pandas `Series` and calculates its mean.\n"
   ]
  },
  {
   "cell_type": "code",
   "execution_count": null,
   "metadata": {},
   "outputs": [],
   "source": [
    "ok.grade(\"q1\")"
   ]
  },
  {
   "cell_type": "markdown",
   "metadata": {},
   "source": [
    "Implement a function, `var`, that takes in a pandas `Series` and calculates its variance.\n",
    "In your implementation,\n",
    "re-use your `mean` function at least once."
   ]
  },
  {
   "cell_type": "code",
   "execution_count": null,
   "metadata": {},
   "outputs": [],
   "source": [
    "ok.grade(\"q2\")"
   ]
  },
  {
   "cell_type": "markdown",
   "metadata": {},
   "source": [
    "Implement a function, `std`, that takes in a pandas `Series` and calculates its standard deviation.\n",
    "In your implementation,\n",
    "re-use your `var` function."
   ]
  },
  {
   "cell_type": "code",
   "execution_count": null,
   "metadata": {},
   "outputs": [],
   "source": [
    "ok.grade(\"q3\")"
   ]
  },
  {
   "cell_type": "markdown",
   "metadata": {},
   "source": [
    "### Median"
   ]
  },
  {
   "cell_type": "markdown",
   "metadata": {},
   "source": [
    "Implement a function, `median`, that computes the median of a `Series`.\n",
    "\n",
    "Hint: use `.sort_values` to get a sorted version of the series.\n",
    "Once you've got that, all you need to do is index\n",
    "index into the right location(s) with `.iloc`\n",
    "and then handle the two cases of even-sized `Series` and odd-sized `Series`."
   ]
  },
  {
   "cell_type": "code",
   "execution_count": null,
   "metadata": {},
   "outputs": [],
   "source": [
    "ok.grade(\"q4\")"
   ]
  },
  {
   "cell_type": "markdown",
   "metadata": {},
   "source": [
    "## Section 2 - Bootstrapping"
   ]
  },
  {
   "cell_type": "markdown",
   "metadata": {},
   "source": [
    "Implement a function, `bootstrap_stat`,\n",
    "that takes as its arguments a series `s`, a function `stat_fun`, and an integer `n_boots`, in that order,\n",
    "and then computes and returns the value of `stat_fun` on `n_boots` bootstrap samples of the series `s`."
   ]
  },
  {
   "cell_type": "markdown",
   "metadata": {},
   "source": [
    "`bootstrap_stat(pd.Series([1,2,3]), mean, 5)` would return a list with 5 items -- each being the mean of a bootstrapped sample (sample of size 3 with replacement) of the series `[1, 2, 3]`."
   ]
  },
  {
   "cell_type": "markdown",
   "metadata": {},
   "source": [
    "Note that `Series`, like `DataFrame`s, have a `.sample` method that takes `frac` and `replace` keyword arguments."
   ]
  },
  {
   "cell_type": "code",
   "execution_count": null,
   "metadata": {},
   "outputs": [],
   "source": [
    "ok.grade(\"q5\")"
   ]
  },
  {
   "cell_type": "markdown",
   "metadata": {},
   "source": [
    "Implement a function `inside_95CI` that takes in a bootstrap series `s` and a value `p`\n",
    "and returns `True` if the value is inside the 95% confidence interval\n",
    "for the bootstrap parameter being estimated\n",
    "and `False` otherwise."
   ]
  },
  {
   "cell_type": "markdown",
   "metadata": {},
   "source": [
    "As an example, your function should do the following:"
   ]
  },
  {
   "cell_type": "markdown",
   "metadata": {},
   "source": [
    "```python\n",
    ">>> one_to_100 = pd.Series([1,2,3,(...),99,100])\n",
    ">>> inside_95CI(one_to_100, 50)\n",
    ">>> True\n",
    ">>> inside_95CI(one_to_100, 2)\n",
    ">>> False\n",
    "```            "
   ]
  },
  {
   "cell_type": "markdown",
   "metadata": {},
   "source": [
    "To generate your confidence intervals, \n",
    "you'll likely want to use the function `np.percentile`.\n",
    "This function takes in a list/series of values `a` and list of numbers between 0 and 100 `q`\n",
    "and returns the values at the `q`th percentiles of `a`.\n",
    "The result will be a `np.ndarray`,\n",
    "so use the functions `list` or `pd.Series` to cast it back to a more familiar datatype if you need to."
   ]
  },
  {
   "cell_type": "code",
   "execution_count": null,
   "metadata": {},
   "outputs": [],
   "source": [
    "ok.grade(\"q6\")"
   ]
  },
  {
   "cell_type": "markdown",
   "metadata": {},
   "source": [
    "## Section 3 - `groupby`"
   ]
  },
  {
   "cell_type": "markdown",
   "metadata": {},
   "source": [
    "The cell below loads some data from a (possibly fictional) psychology experiment,\n",
    "in which subjects were scored on their performance on tasks of varying difficulty.\n",
    "Half of the subjects had their attention divided by a distractor, while half did not.\n",
    "Scores are stored in the `score` column, while attentional states are stored in the `attention` column."
   ]
  },
  {
   "cell_type": "code",
   "execution_count": null,
   "metadata": {},
   "outputs": [],
   "source": [
    "atten_expt = sns.load_dataset(\"attention\", data_home=Path(\"..\") / \"..\" / \"shared\" / \"data\", index_col=0)\n",
    "\n",
    "atten_expt.head()"
   ]
  },
  {
   "cell_type": "markdown",
   "metadata": {},
   "source": [
    "Use `groupby` to generate a `GroupBy` object grouped by `attention` state, named `expt_groupby_atten`,\n",
    "and then use it to calculate the mean `score`s of each group with `.mean`.\n",
    "Save the mean scores to a `Series` called `atten_group_means`."
   ]
  },
  {
   "cell_type": "code",
   "execution_count": null,
   "metadata": {},
   "outputs": [],
   "source": [
    "ok.grade(\"q7\")"
   ]
  },
  {
   "cell_type": "markdown",
   "metadata": {},
   "source": [
    "Participants were also presented with problems of varying difficulty.\n",
    "Easier problems had multiple `solutions`, up to 3,\n",
    "while the hardest problems had only 1 solution.\n",
    "This information is stored in the `solutions` column."
   ]
  },
  {
   "cell_type": "markdown",
   "metadata": {},
   "source": [
    "Use `groupby` to generate a `GroupBy` object grouped\n",
    "by both `attention` state and number of `solutions`, named `expt_groupby_atten_solu`,\n",
    "and then use it to calculate the mean of the `score` column of each group with `.mean`.\n",
    "Save the mean scores to a Series called `atten_solu_group_means`."
   ]
  },
  {
   "cell_type": "code",
   "execution_count": null,
   "metadata": {},
   "outputs": [],
   "source": [
    "ok.grade(\"q8\")"
   ]
  },
  {
   "cell_type": "markdown",
   "metadata": {},
   "source": [
    "## Section 4 - Putting It All Together"
   ]
  },
  {
   "cell_type": "markdown",
   "metadata": {},
   "source": [
    "The cell below uses seaborn to plot the means and bootstrapped confidence intervals\n",
    "for each combination of score and solution count."
   ]
  },
  {
   "cell_type": "code",
   "execution_count": null,
   "metadata": {},
   "outputs": [],
   "source": [
    "f, ax = plt.subplots(figsize=(12, 8))\n",
    "sns.pointplot(x=\"solutions\", y=\"score\", hue=\"attention\", data=atten_expt,\n",
    "              ax=ax, palette={\"divided\": \"C0\", \"focused\": \"C1\"});"
   ]
  },
  {
   "cell_type": "markdown",
   "metadata": {},
   "source": [
    "It appears that, while individuals who were focused performed better on the hardest tasks,\n",
    "those with only one solution,\n",
    "average performance was roughly the same when the task became easy, and had three solutions."
   ]
  },
  {
   "cell_type": "markdown",
   "metadata": {},
   "source": [
    "As a first pass at determining whether this pattern is real,\n",
    "we'll combine `groupby` with bootstrapping\n",
    "to estimate confidence intervals for these two specific effects."
   ]
  },
  {
   "cell_type": "markdown",
   "metadata": {},
   "source": [
    "Later in the course, we will learn more systematic approaches to analyzing this type of data."
   ]
  },
  {
   "cell_type": "markdown",
   "metadata": {},
   "source": [
    "The cell below defines a function,\n",
    "`stratified_bootstrap`\n",
    "that combines `groupby` and `sample`\n",
    "to perform bootstrap samples of each of the six combinations\n",
    "of attention state and solution count simultaneously.\n",
    "\n",
    "Recall that the purpose of bootstrapping is to simulate\n",
    "what might happen if we were to repeat our measurements.\n",
    "If we were to repeat our experiment,\n",
    "we would always end up with half of our subjects in the focused group\n",
    "and with an equal number of observations from each difficulty level,\n",
    "so we have to respect that in our bootstrap."
   ]
  },
  {
   "cell_type": "code",
   "execution_count": null,
   "metadata": {},
   "outputs": [],
   "source": [
    "def stratified_bootstrap(df, groups=[\"attention\", \"solutions\"]):\n",
    "    \"\"\"Performs stratified bootstrap sampling, i.e. bootstrap sampling inside groups,\n",
    "    where the columns used to group are definied by the groups argument.\n",
    "    \"\"\"\n",
    "    return df.groupby([\"attention\", \"solutions\"]).apply(pd.DataFrame.sample, frac=1, replace=True)"
   ]
  },
  {
   "cell_type": "code",
   "execution_count": null,
   "metadata": {},
   "outputs": [],
   "source": [
    "stratified_bootstrap(atten_expt).head(10)"
   ]
  },
  {
   "cell_type": "code",
   "execution_count": null,
   "metadata": {},
   "outputs": [],
   "source": [
    "stratified_bootstrap(atten_expt).tail(10)"
   ]
  },
  {
   "cell_type": "markdown",
   "metadata": {},
   "source": [
    "Side Note: our bootstrapping strategy isn't quite right,\n",
    "since it ignores the fact that we actually tested sujbects in all three conditions.\n",
    "We'll deal with modeling subject-wise data later in the course."
   ]
  },
  {
   "cell_type": "markdown",
   "metadata": {},
   "source": [
    "Use `stratified_bootstrap` to perform bootstrap sampling on the difference in means\n",
    "between the focused and divided groups\n",
    "for both easy problems (`atten_expt[\"solutions\"] == 3`)\n",
    "and hard problems (`atten_expt[\"solutions\"] == 1`).\n",
    "Again, 100 bootstrap samples will suffice.\n",
    "\n",
    "Save the former to a list called `easy_boot_delta_means`\n",
    "and the latter to `hard_boot_delta_means`."
   ]
  },
  {
   "cell_type": "markdown",
   "metadata": {},
   "source": [
    "Then, for both, check whether the number `0`\n",
    "is in the 95% confidence interval\n",
    "using `inside_95CI`.\n",
    "\n",
    "Save the resulting `True`/`False` values to variables called `no_difference_easy` and `no_difference_hard`."
   ]
  },
  {
   "cell_type": "code",
   "execution_count": null,
   "metadata": {},
   "outputs": [],
   "source": [
    "ok.grade(\"q9\")"
   ]
  },
  {
   "cell_type": "markdown",
   "metadata": {},
   "source": [
    "## Scoring and Submission"
   ]
  },
  {
   "cell_type": "code",
   "execution_count": null,
   "metadata": {},
   "outputs": [],
   "source": [
    "ok.score()"
   ]
  }
 ],
 "metadata": {
  "kernelspec": {
   "display_name": "Python 3",
   "language": "python",
   "name": "python3"
  },
  "language_info": {
   "codemirror_mode": {
    "name": "ipython",
    "version": 3
   },
   "file_extension": ".py",
   "mimetype": "text/x-python",
   "name": "python",
   "nbconvert_exporter": "python",
   "pygments_lexer": "ipython3",
   "version": "3.6.8"
  }
 },
 "nbformat": 4,
 "nbformat_minor": 2
}
