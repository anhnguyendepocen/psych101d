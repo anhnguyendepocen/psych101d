{
 "cells": [
  {
   "cell_type": "markdown",
   "metadata": {},
   "source": [
    "<img src=\"../../shared/img/banner.svg\"></img>"
   ]
  },
  {
   "cell_type": "markdown",
   "metadata": {},
   "source": [
    "# Homework 03 - Models IRL"
   ]
  },
  {
   "cell_type": "code",
   "execution_count": null,
   "metadata": {},
   "outputs": [],
   "source": [
    "%matplotlib inline"
   ]
  },
  {
   "cell_type": "code",
   "execution_count": null,
   "metadata": {},
   "outputs": [],
   "source": [
    "import sys\n",
    "\n",
    "sys.path.append(\"../../\")\n",
    "\n",
    "from shared.src import quiet\n",
    "from shared.src import seed"
   ]
  },
  {
   "cell_type": "code",
   "execution_count": null,
   "metadata": {},
   "outputs": [],
   "source": [
    "import random\n",
    "\n",
    "from IPython.display import Image\n",
    "import matplotlib.pyplot as plt\n",
    "import numpy as np\n",
    "import pandas as pd\n",
    "import pymc3 as pm\n",
    "import seaborn as sns\n",
    "\n",
    "import shared.src.utils.util as util"
   ]
  },
  {
   "cell_type": "markdown",
   "metadata": {},
   "source": [
    "## Learning Objectives\n",
    "\n",
    "\n",
    "1. Practice building models of random processes.\n",
    "1. Learn to recognize problems in real life that you can use models to solve."
   ]
  },
  {
   "cell_type": "markdown",
   "metadata": {},
   "source": [
    "## Section 1 - Warm-Up"
   ]
  },
  {
   "cell_type": "markdown",
   "metadata": {},
   "source": [
    "### What's the most you ever lost in a coin toss?"
   ]
  },
  {
   "cell_type": "markdown",
   "metadata": {},
   "source": [
    "To begin, write a model for what might be considered the simplest random process:\n",
    "the tossing of a fair coin.\n",
    "\n",
    "Remember that `pm.Categorical` is used to make random variables that take on one of a limited set of values. Look back at the lecture notes if you need a reminder of how to make a model of coin tossing."
   ]
  },
  {
   "cell_type": "code",
   "execution_count": null,
   "metadata": {},
   "outputs": [],
   "source": [
    "coin_toss_model = pm.Model()\n",
    "\n",
    "with coin_toss_model:\n",
    "    pass"
   ]
  },
  {
   "cell_type": "markdown",
   "metadata": {},
   "source": [
    "Now, draw some samples from this model and plot the numbers of heads and tails.\n",
    "Use `util.samples_to_dataframe` to convert samples into a dataframe."
   ]
  },
  {
   "cell_type": "code",
   "execution_count": null,
   "metadata": {},
   "outputs": [],
   "source": []
  },
  {
   "cell_type": "markdown",
   "metadata": {},
   "source": [
    "### 1 + 1 = ?"
   ]
  },
  {
   "cell_type": "markdown",
   "metadata": {},
   "source": [
    "Random phenomena are always intertwined with deterministic phenomena:\n",
    "when we throw a dart at a dartboard, the place it lands is random, but the number of points you get for hitting a particular point is not random.\n",
    "As we write models for random phenomena, therefore, we'll need to often apply\n",
    "deterministic transformations.\n",
    "\n",
    "Thanks to the flexibility and generality of `pymc3` we can, with sufficient care,\n",
    "even make models that are totally deterministic!\n",
    "\n",
    "In the cell below, write a model called `adding_model` that adds together two `Categorical` random variables, `X` and `Y`, that are always equal to `1` to create a random variable `Z` that is always equal to `2`. Remember to use `pm.Deterministic`!\n",
    "\n",
    "The result should look something like the template below."
   ]
  },
  {
   "cell_type": "markdown",
   "metadata": {},
   "source": [
    "```python\n",
    "adding_model = pm.Model()\n",
    "\n",
    "with adding_model:\n",
    "    X = pm.Categorical(name=\"X\", ?)\n",
    "    Y = pm.Categorical(name=\"Y\", ?)\n",
    "    Z = ?\n",
    "```"
   ]
  },
  {
   "cell_type": "code",
   "execution_count": null,
   "metadata": {},
   "outputs": [],
   "source": []
  },
  {
   "cell_type": "markdown",
   "metadata": {},
   "source": [
    "Use the cells below to draw two samples from the model, then print the results."
   ]
  },
  {
   "cell_type": "code",
   "execution_count": null,
   "metadata": {},
   "outputs": [],
   "source": [
    "with adding_model:\n",
    "    sums = pm.sample(draws=2, n_init=0, tune=0, chains=1)"
   ]
  },
  {
   "cell_type": "code",
   "execution_count": null,
   "metadata": {},
   "outputs": [],
   "source": [
    "print(sums[0], sums[1])"
   ]
  },
  {
   "cell_type": "markdown",
   "metadata": {},
   "source": [
    "The winner of a game is often the person with the most points at the end.\n",
    "So a deterministic transformation we'll need if we want to model the winner's score is \"take the largest number\", or `maximum`.\n",
    "Of course, there are also games like golf, so we should also be able to take the smallest number, aka `minimum`.\n",
    "\n",
    "In the cell below, use `pm.math.maximum` in a model called `max_model` to select the larger of two `Categorical` random variables, one of which is always equal to `0` and one of which is always equal to `1`. Use the template below if you run into trouble."
   ]
  },
  {
   "cell_type": "markdown",
   "metadata": {},
   "source": [
    "```python\n",
    "max_model = pm.Model()\n",
    "\n",
    "with max_model:\n",
    "    X = pm.Categorical(name=\"X\", ?)\n",
    "    Y = pm.Categorical(name=\"Y\", ?)\n",
    "    Z = pm.Deterministic(name=\"Z\", var=pm.math.maximum(?, ?))\n",
    "```"
   ]
  },
  {
   "cell_type": "code",
   "execution_count": null,
   "metadata": {},
   "outputs": [],
   "source": []
  },
  {
   "cell_type": "markdown",
   "metadata": {},
   "source": [
    "Use the cells below to draw two samples from the model, then print the results."
   ]
  },
  {
   "cell_type": "code",
   "execution_count": null,
   "metadata": {},
   "outputs": [],
   "source": [
    "with max_model:\n",
    "    maxs = pm.sample(draws=2, n_init=0, tune=0, chains=1)"
   ]
  },
  {
   "cell_type": "code",
   "execution_count": null,
   "metadata": {},
   "outputs": [],
   "source": [
    "print(maxs[0], maxs[1])"
   ]
  },
  {
   "cell_type": "markdown",
   "metadata": {},
   "source": [
    "## Section 2 - Games"
   ]
  },
  {
   "cell_type": "markdown",
   "metadata": {},
   "source": [
    "### Root: A Game of Woodland Might and Right"
   ]
  },
  {
   "cell_type": "code",
   "execution_count": null,
   "metadata": {},
   "outputs": [],
   "source": [
    "Image(\"./img/rootlogo.png\", width=500)"
   ]
  },
  {
   "cell_type": "markdown",
   "metadata": {},
   "source": [
    "[*Root*](https://ledergames.com/root/) is a board game that combines the aesthetics of *Redwall* or *Watership Down* with the mechanics of *Risk*.\n",
    "Players control armies of adorable woodland creatures vying for political supremacy over the forest.\n",
    "\n",
    "When two players do battle, two die are rolled, numbered 0 through 3.\n",
    "One player is the attacker and the other is the defender.\n",
    "The attacker deals a number of \"hits\" to the defending army equal to the number on the die that rolled higher,\n",
    "while the defender deals a number of \"hits\" to the attacking army equal to the number on the die that rolled lower.\n",
    "\n",
    "As the wise gener-owl of the Bird Army, you'd like to apply your modeling skills to predict the outcomes of battles and guide your strategic planning.\n",
    "\n",
    "In the cell below, write a model for a *Root* battle.\n",
    "The die rolls should be `Categorical` or `DiscreteUniform`, while the number of hits should be a `Deterministic` transform of the die rolls (`pm.math.minimum` and `.maximum` will come in handy here)."
   ]
  },
  {
   "cell_type": "code",
   "execution_count": null,
   "metadata": {},
   "outputs": [],
   "source": [
    "root_model = pm.Model()\n",
    "\n",
    "with root_model:\n",
    "    pass"
   ]
  },
  {
   "cell_type": "markdown",
   "metadata": {},
   "source": [
    "Now, sample from your model and convert the samples into a dataframe."
   ]
  },
  {
   "cell_type": "code",
   "execution_count": null,
   "metadata": {},
   "outputs": [],
   "source": [
    "with root_model:\n",
    "    rolls = pm.sample(chains=1)"
   ]
  },
  {
   "cell_type": "code",
   "execution_count": null,
   "metadata": {},
   "outputs": [],
   "source": [
    "roll_df = util.samples_to_dataframe(rolls)"
   ]
  },
  {
   "cell_type": "code",
   "execution_count": null,
   "metadata": {},
   "outputs": [],
   "source": [
    "roll_df.head()"
   ]
  },
  {
   "cell_type": "markdown",
   "metadata": {},
   "source": [
    "Now, compute the average number of hits for the attacker and the defender and the chance that the attacker deals 3 hits."
   ]
  },
  {
   "cell_type": "code",
   "execution_count": null,
   "metadata": {},
   "outputs": [],
   "source": []
  },
  {
   "cell_type": "markdown",
   "metadata": {},
   "source": [
    "In *Root*, one of the goals is to have more soldiers left over at the end of a battle than your enemy does.\n",
    "Each hit removes one soldier.\n",
    "So one measurement that is of particular interest for your strategic planning is the difference in the number of hits you score and the number of hits your opponent scores.\n",
    "\n",
    "In the cell below,\n",
    "compute the average and the median difference in the number of hits."
   ]
  },
  {
   "cell_type": "code",
   "execution_count": null,
   "metadata": {},
   "outputs": [],
   "source": []
  },
  {
   "cell_type": "markdown",
   "metadata": {},
   "source": [
    "## Section 3 - Science"
   ]
  },
  {
   "cell_type": "markdown",
   "metadata": {},
   "source": [
    "TODO: introduce caffeine and alertness example. One with additive effect, another with additive effect and heteroscedasticity.\n",
    "Have them visualize the data and describe how it is different."
   ]
  }
 ],
 "metadata": {
  "kernelspec": {
   "display_name": "Python 3",
   "language": "python",
   "name": "python3"
  },
  "language_info": {
   "codemirror_mode": {
    "name": "ipython",
    "version": 3
   },
   "file_extension": ".py",
   "mimetype": "text/x-python",
   "name": "python",
   "nbconvert_exporter": "python",
   "pygments_lexer": "ipython3",
   "version": "3.6.8"
  }
 },
 "nbformat": 4,
 "nbformat_minor": 2
}
