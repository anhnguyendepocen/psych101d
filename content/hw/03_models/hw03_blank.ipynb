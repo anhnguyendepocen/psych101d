{
 "cells": [
  {
   "cell_type": "markdown",
   "metadata": {},
   "source": [
    "<img src=\"../../shared/img/banner.svg\"></img>"
   ]
  },
  {
   "cell_type": "markdown",
   "metadata": {},
   "source": [
    "# Homework 03 - Models IRL"
   ]
  },
  {
   "cell_type": "code",
   "execution_count": null,
   "metadata": {},
   "outputs": [],
   "source": [
    "%matplotlib inline"
   ]
  },
  {
   "cell_type": "code",
   "execution_count": null,
   "metadata": {},
   "outputs": [],
   "source": [
    "import sys\n",
    "\n",
    "sys.path.append(\"../../\")\n",
    "\n",
    "from shared.src import quiet\n",
    "from shared.src import seed\n",
    "from shared.src import style"
   ]
  },
  {
   "cell_type": "code",
   "execution_count": null,
   "metadata": {},
   "outputs": [],
   "source": [
    "import random\n",
    "\n",
    "from client.api.notebook import Notebook\n",
    "from IPython.display import Image\n",
    "import matplotlib.pyplot as plt\n",
    "import numpy as np\n",
    "import pandas as pd\n",
    "import pymc3 as pm\n",
    "import seaborn as sns\n",
    "\n",
    "import shared.src.utils.util as util"
   ]
  },
  {
   "cell_type": "code",
   "execution_count": null,
   "metadata": {},
   "outputs": [],
   "source": [
    "ok = Notebook(\"ok/config\")"
   ]
  },
  {
   "cell_type": "markdown",
   "metadata": {},
   "source": [
    "## Learning Objectives\n",
    "\n",
    "\n",
    "1. Practice building models of random processes in `pyMC` based on descriptions of the model.\n",
    "1. Learn to recognize problems in real life that you can use models to solve."
   ]
  },
  {
   "cell_type": "markdown",
   "metadata": {},
   "source": [
    "## Section 1 - Warm-Up"
   ]
  },
  {
   "cell_type": "markdown",
   "metadata": {},
   "source": [
    "### What's the most you ever lost in a coin toss?"
   ]
  },
  {
   "cell_type": "markdown",
   "metadata": {},
   "source": [
    "To begin, write a model for what might be considered the simplest random process:\n",
    "the tossing of a fair coin.\n",
    "\n",
    "Remember that `pm.Categorical` is used to make random variables that take on one of a limited set of values. Look back at the lecture notes if you need a reminder of how to make a model of coin tossing."
   ]
  },
  {
   "cell_type": "markdown",
   "metadata": {},
   "source": [
    "```python\n",
    "coin_toss_model = pm.Model()\n",
    "\n",
    "with coin_toss_model:\n",
    "    coin = pm.Categorical(name=\"coin\", ?)\n",
    "```"
   ]
  },
  {
   "cell_type": "code",
   "execution_count": null,
   "metadata": {},
   "outputs": [],
   "source": [
    "coin_toss_model = pm.Model()\n",
    "\n",
    "with coin_toss_model:\n",
    "    pass"
   ]
  },
  {
   "cell_type": "code",
   "execution_count": null,
   "metadata": {},
   "outputs": [],
   "source": [
    "ok.grade(\"q1\")"
   ]
  },
  {
   "cell_type": "markdown",
   "metadata": {},
   "source": [
    "Now, draw some samples from this model.\n",
    "Use `util.samples_to_dataframe` to convert samples into a dataframe and view it with `samples.head`."
   ]
  },
  {
   "cell_type": "code",
   "execution_count": null,
   "metadata": {},
   "outputs": [],
   "source": []
  },
  {
   "cell_type": "markdown",
   "metadata": {},
   "source": [
    "### 1 + 1 = ?"
   ]
  },
  {
   "cell_type": "markdown",
   "metadata": {},
   "source": [
    "Random phenomena are always intertwined with deterministic phenomena:\n",
    "when we throw a dart at a dartboard, the place it lands is random, but the number of points you get for hitting a particular point is not random.\n",
    "As we write models for random phenomena, therefore, we'll need to often apply\n",
    "deterministic transformations.\n",
    "\n",
    "Thanks to the flexibility and generality of `pymc3` we can, with sufficient care,\n",
    "even make models that are totally deterministic!\n",
    "\n",
    "In the cell below, write a model called `adding_model` that adds together two `Categorical` random variables, `X` and `Y`, that are always equal to `1` to create a random variable `Z` that is always equal to `2`. Remember to use `pm.Deterministic` for Z!\n",
    "\n",
    "The result should look something like the template below."
   ]
  },
  {
   "cell_type": "markdown",
   "metadata": {},
   "source": [
    "```python\n",
    "adding_model = pm.Model()\n",
    "\n",
    "with adding_model:\n",
    "    X = pm.Categorical(name=\"X\", p=[0, 1])\n",
    "    Y = pm.Categorical(name=\"Y\", ?)\n",
    "    Z = ?\n",
    "```"
   ]
  },
  {
   "cell_type": "code",
   "execution_count": null,
   "metadata": {},
   "outputs": [],
   "source": []
  },
  {
   "cell_type": "code",
   "execution_count": null,
   "metadata": {},
   "outputs": [],
   "source": [
    "ok.grade(\"q2\")"
   ]
  },
  {
   "cell_type": "markdown",
   "metadata": {},
   "source": [
    "Use the cells below to draw two samples from the model, then print the results."
   ]
  },
  {
   "cell_type": "code",
   "execution_count": null,
   "metadata": {},
   "outputs": [],
   "source": []
  },
  {
   "cell_type": "code",
   "execution_count": null,
   "metadata": {},
   "outputs": [],
   "source": []
  },
  {
   "cell_type": "markdown",
   "metadata": {},
   "source": [
    "The winner of a game is often the person with the most points at the end.\n",
    "So a deterministic transformation we'll need if we want to model the winner's score is \"take the largest number\", or `maximum`.\n",
    "Of course, there are also games like golf, so we should also be able to take the smallest number, aka `minimum`.\n",
    "\n",
    "In the cell below, use `pm.math.maximum` in a model called `max_model` to select the larger of two `Categorical` random variables, `X` and `Y`, where `X` always equal to `0` and where `Y` is always equal to `1`. Use the template below if you run into trouble."
   ]
  },
  {
   "cell_type": "markdown",
   "metadata": {},
   "source": [
    "```python\n",
    "max_model = pm.Model()\n",
    "\n",
    "with max_model:\n",
    "    X = pm.Categorical(name=\"X\", ?)\n",
    "    Y = pm.Categorical(name=\"Y\", ?)\n",
    "    Z = pm.Deterministic(name=\"Z\", var=pm.math.maximum(?, ?))\n",
    "```"
   ]
  },
  {
   "cell_type": "code",
   "execution_count": null,
   "metadata": {},
   "outputs": [],
   "source": []
  },
  {
   "cell_type": "markdown",
   "metadata": {},
   "source": [
    "Use the cells below to draw two samples from the model, then print the results."
   ]
  },
  {
   "cell_type": "code",
   "execution_count": null,
   "metadata": {},
   "outputs": [],
   "source": [
    "ok.grade(\"q3\")"
   ]
  },
  {
   "cell_type": "markdown",
   "metadata": {},
   "source": [
    "## Section 2 - Root: A Game of Woodland Might and Right"
   ]
  },
  {
   "cell_type": "code",
   "execution_count": null,
   "metadata": {},
   "outputs": [],
   "source": [
    "Image(\"./img/rootlogo.png\", width=500)"
   ]
  },
  {
   "cell_type": "markdown",
   "metadata": {},
   "source": [
    "[*Root*](https://ledergames.com/root/) is a board game that combines the aesthetics of *Redwall* or *Watership Down* with the mechanics of *Risk*.\n",
    "Players control armies of adorable woodland creatures vying for political supremacy over the forest.\n",
    "\n",
    "When two players do battle, two die are rolled, numbered 0 through 3.\n",
    "One player is the attacker and the other is the defender.\n",
    "The attacker deals a number of \"hits\" to the defending army equal to the number on the die that rolled higher,\n",
    "while the defender deals a number of \"hits\" to the attacking army equal to the number on the die that rolled lower.\n",
    "\n",
    "As the wise gener-owl of the Bird Army, you'd like to apply your modeling skills to predict the outcomes of battles and guide your strategic planning.\n",
    "\n",
    "In the cell below, write a model for a *Root* battle.\n",
    "The die rolls should be `Categorical` or `DiscreteUniform`, while the number of hits for the attacker and defender should be a `Deterministic` transform of the die rolls (`pm.math.minimum` and `.maximum` will come in handy here).\n",
    "Name the variable representing the number of attacker hits `\"attacker\"` and the variable representing the number of defender hits `\"defender\"`, or the autograder tests will fail."
   ]
  },
  {
   "cell_type": "code",
   "execution_count": null,
   "metadata": {},
   "outputs": [],
   "source": [
    "root_model = pm.Model()\n",
    "\n",
    "with root_model:\n",
    "    pass"
   ]
  },
  {
   "cell_type": "code",
   "execution_count": null,
   "metadata": {},
   "outputs": [],
   "source": [
    "ok.grade(\"q4\")"
   ]
  },
  {
   "cell_type": "markdown",
   "metadata": {},
   "source": [
    "Now, sample from your model and convert the samples into a dataframe called `roll_df` with `util.samples_to_dataframe`.\n",
    "Take at least 1000 samples."
   ]
  },
  {
   "cell_type": "markdown",
   "metadata": {},
   "source": [
    "Then, compute the average number of hits for the attacker and the defender (as `attacker_mean` and `defender_mean`) and the chance that the attacker deals no hits (as `attacker_chance_zero`)."
   ]
  },
  {
   "cell_type": "code",
   "execution_count": null,
   "metadata": {},
   "outputs": [],
   "source": []
  },
  {
   "cell_type": "markdown",
   "metadata": {},
   "source": [
    "In *Root*, one of the goals is to have more soldiers left over at the end of a battle than your enemy does.\n",
    "Each hit removes one soldier.\n",
    "So one measurement that is of particular interest for your strategic planning is the difference in the number of hits you score and the number of hits your opponent scores.\n",
    "\n",
    "In the cell below,\n",
    "compute the average and the median difference in the number of hits,\n",
    "and name them `mean_difference` and `median_difference`."
   ]
  },
  {
   "cell_type": "code",
   "execution_count": null,
   "metadata": {},
   "outputs": [],
   "source": []
  },
  {
   "cell_type": "code",
   "execution_count": null,
   "metadata": {},
   "outputs": [],
   "source": [
    "ok.grade(\"q5\")"
   ]
  },
  {
   "cell_type": "markdown",
   "metadata": {},
   "source": [
    "## Section 3 - Caffeine and Controversy"
   ]
  },
  {
   "cell_type": "markdown",
   "metadata": {},
   "source": [
    "Like many scientists, of both the data and research variety,\n",
    "you have a close relationship with caffeine.\n",
    "It helps you stay alert and focused while you're working.\n",
    "\n",
    "But unlike other scientists, you also study caffeine!\n",
    "Since you're a psychologist, you study its effects on the mind,\n",
    "in particular on a measure of alertness based on a task.\n",
    "\n",
    "The first, simple model of how caffeine changes alertness is that,\n",
    "on average, alertness increases.\n",
    "In this model, nothing else changes about\n",
    "the distribution of alertness before and after caffeine:\n",
    "there's no change in the spread, no increase in the chance of very high or low values,\n",
    "no change in the \"shape\" of the distribution.\n",
    "\n",
    "In such a simple model, it's typical to assume that the shape is _Gaussian_, or normal."
   ]
  },
  {
   "cell_type": "markdown",
   "metadata": {},
   "source": [
    "The cell below defines such a simple model of the effect of caffeine on alertness.\n",
    "\n",
    "The average alertness score, with and without caffeine, is defined by the `Deterministic` variable `mus`.\n",
    "Notice that, for technical reasons, the Python _list_ that stores those values\n",
    "needs to be passed to `to_pymc` during the definition of the `pyMC` _variable_ that stores those values.\n",
    "This will be important in the next question.\n",
    "\n",
    "Then, for each observation, we \"flip a coin\", called `has_caffeine`, to determine whether\n",
    "the observation corresponds to an individual who had caffeine or not.\n",
    "\n",
    "Lastly, we determine the `alertness_score`.\n",
    "In our model, the only thing about the distribution of alertness that can change\n",
    "depending on `has_caffeine` is the mean, `mu`,\n",
    "and we implement this in `pyMC` by using the same variable, no matter what the value of `has_caffeine` is,\n",
    "and by using the same value for `sd`, again no matter what the value of `has_caffeine` is."
   ]
  },
  {
   "cell_type": "code",
   "execution_count": null,
   "metadata": {},
   "outputs": [],
   "source": [
    "first_caffeine_model = pm.Model()\n",
    "\n",
    "mu_values = [10, 12]\n",
    "\n",
    "with first_caffeine_model:\n",
    "    mus = pm.Deterministic(name=\"mus\", var=util.to_pymc(mu_values))\n",
    "    has_caffeine = pm.Categorical(name=\"has_caffeine\", p=[1/2, 1/2])\n",
    "    alertness_score = pm.Normal(\"alertness_score\", mu=mus[has_caffeine], sd=0.5)"
   ]
  },
  {
   "cell_type": "markdown",
   "metadata": {},
   "source": [
    "Take samples from this model and visualize the results.\n",
    "Make sure you split up the data according to the value of `has_caffeine`,\n",
    "e.g."
   ]
  },
  {
   "cell_type": "markdown",
   "metadata": {},
   "source": [
    "```python\n",
    "sns.stripplot(x=first_caffeine_samples.alertness_score, y=first_caffeine_samples.has_caffeine, orient=\"h\")\n",
    "```"
   ]
  },
  {
   "cell_type": "markdown",
   "metadata": {},
   "source": [
    "or by calling `sns.distplot` twice:"
   ]
  },
  {
   "cell_type": "markdown",
   "metadata": {},
   "source": [
    "```python\n",
    "had_caffeine = first_caffeine_samples[\"has_caffeine\"].astype(bool)\n",
    "sns.distplot(first_caffeine_samples.alertness_score[had_caffeine], label=\"Caffeine\")\n",
    "sns.distplot(first_caffeine_samples.alertness_score[-had_caffeine], label=\"No Caffeine\")\n",
    "plt.legend()\n",
    "```"
   ]
  },
  {
   "cell_type": "markdown",
   "metadata": {},
   "source": [
    "Imagine a controversy in the world of caffeine research:\n",
    "one scientist claims that, contrary to the simple model used above,\n",
    "caffeine changes more than just the average alertness.\n",
    "\n",
    "Instead, they say, it both increases average alertness _and_ the variability in alertness,\n",
    "resulting in some individuals whose alertness actually decreases when given caffeine.\n",
    "This is perhaps, they speculate, because they become too jittery to focus correctly.\n",
    "\n",
    "In the cells below, define a `second_caffeine_model` that generates data according to the model\n",
    "of this contrarian scientist, draw samples, and visualize the data as you did for the `first_caffeine_model`.\n",
    "\n",
    "The template below should get you started.\n",
    "Use the same `mu_values` as before,\n",
    "but set the variable `sds` using the `sd_values` in the template.\n",
    "When setting the value of `sd` for `alertness_score`, use the same style as used to set the value of `mu`."
   ]
  },
  {
   "cell_type": "markdown",
   "metadata": {},
   "source": [
    "```python\n",
    "\n",
    "second_caffeine_model = pm.Model()\n",
    "sd_values = [0.5, 2]\n",
    "\n",
    "with second_caffeine_model:\n",
    "    mus = pm.Deterministic(name=\"mus\", var=util.to_pymc(mu_values))\n",
    "    sds = pm.Deterministic(name=\"sds\", var=?)\n",
    "    has_caffeine = pm.Categorical(name=\"has_caffeine\", p=[1/2, 1/2])\n",
    "    alertness_score = pm.Normal(\"alertness_score\", mu=mus[has_caffeine], sd=?)\n",
    "```"
   ]
  },
  {
   "cell_type": "code",
   "execution_count": null,
   "metadata": {},
   "outputs": [],
   "source": []
  },
  {
   "cell_type": "code",
   "execution_count": null,
   "metadata": {},
   "outputs": [],
   "source": []
  },
  {
   "cell_type": "code",
   "execution_count": null,
   "metadata": {},
   "outputs": [],
   "source": []
  },
  {
   "cell_type": "code",
   "execution_count": null,
   "metadata": {},
   "outputs": [],
   "source": [
    "ok.grade(\"q6\")"
   ]
  },
  {
   "cell_type": "markdown",
   "metadata": {},
   "source": [
    "Note: there is a small but non-negligible chance that the sampler will fail, under the hood, even if the model is written correctly. If, during grading, you receive an error message that says you should `increase 'target_accept' or reparameterize` AND, at the same time, do not get credit for the problem, run the grading code again a few times. The message may remain, but you should get credit every other time.\n",
    "\n",
    "If this happens to you more than once, alert course staff so they can check whether the issue is with your code or with the grading code."
   ]
  },
  {
   "cell_type": "code",
   "execution_count": null,
   "metadata": {},
   "outputs": [],
   "source": [
    "ok.score()"
   ]
  }
 ],
 "metadata": {
  "kernelspec": {
   "display_name": "Python 3",
   "language": "python",
   "name": "python3"
  },
  "language_info": {
   "codemirror_mode": {
    "name": "ipython",
    "version": 3
   },
   "file_extension": ".py",
   "mimetype": "text/x-python",
   "name": "python",
   "nbconvert_exporter": "python",
   "pygments_lexer": "ipython3",
   "version": "3.6.8"
  }
 },
 "nbformat": 4,
 "nbformat_minor": 2
}
