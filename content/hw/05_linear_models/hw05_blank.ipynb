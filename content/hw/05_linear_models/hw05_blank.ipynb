{
 "cells": [
  {
   "cell_type": "markdown",
   "metadata": {},
   "source": [
    "<img src=\"../../shared/img/banner.svg\"></img>"
   ]
  },
  {
   "cell_type": "markdown",
   "metadata": {},
   "source": [
    "# Homework 05 - Linear Models"
   ]
  },
  {
   "cell_type": "code",
   "execution_count": null,
   "metadata": {},
   "outputs": [],
   "source": [
    "%matplotlib inline"
   ]
  },
  {
   "cell_type": "code",
   "execution_count": null,
   "metadata": {},
   "outputs": [],
   "source": [
    "import sys\n",
    "\n",
    "sys.path.append(\"../../\")\n",
    "\n",
    "from shared.src import quiet\n",
    "from shared.src import seed\n",
    "from shared.src import style"
   ]
  },
  {
   "cell_type": "code",
   "execution_count": null,
   "metadata": {},
   "outputs": [],
   "source": [
    "import math\n",
    "from pathlib import Path\n",
    "\n",
    "from client.api.notebook import Notebook\n",
    "from IPython.display import Image\n",
    "import matplotlib.pyplot as plt\n",
    "import numpy as np\n",
    "import pandas as pd\n",
    "import pymc3 as pm\n",
    "import seaborn as sns\n",
    "import scipy.stats\n",
    "\n",
    "import shared.src.utils.util as shared_util"
   ]
  },
  {
   "cell_type": "code",
   "execution_count": null,
   "metadata": {},
   "outputs": [],
   "source": [
    "sns.set_context(\"notebook\", font_scale=1.7)"
   ]
  },
  {
   "cell_type": "code",
   "execution_count": null,
   "metadata": {},
   "outputs": [],
   "source": [
    "ok = Notebook(\"ok/config\")"
   ]
  },
  {
   "cell_type": "markdown",
   "metadata": {},
   "source": [
    "## Learning Objectives\n",
    "\n"
   ]
  },
  {
   "cell_type": "markdown",
   "metadata": {},
   "source": [
    "1. Recognize how the linear model framework unifies one-way, multiway, and regression models.\n",
    "2. Practice converting between \"natural\" and encoded representations of linear models.\n",
    "3. Develop intuition for the variance explained and the maximum likelihood parameters in heterogeneous linear models."
   ]
  },
  {
   "cell_type": "markdown",
   "metadata": {},
   "source": [
    "In this homework,\n",
    "we will work through the three types of linear models\n",
    "we've considered in greatest detail in this class:\n",
    "linear regression, and one-way and multiway categorical models.\n",
    "\n",
    "We will see that,\n",
    "when the input data and parameters are encoded properly,\n",
    "a single function can be used to compute the predictions\n",
    "from all three types of models:"
   ]
  },
  {
   "cell_type": "markdown",
   "metadata": {},
   "source": [
    "$$\n",
    "\\text{prediction} = \\text{sum}\\left(\\text{parameters} * \\text{data features}\\right)\n",
    "$$"
   ]
  },
  {
   "cell_type": "markdown",
   "metadata": {},
   "source": [
    "or, in more mathematical terms:"
   ]
  },
  {
   "cell_type": "markdown",
   "metadata": {},
   "source": [
    "$$\n",
    "y = \\sum_i m_i \\cdot x_i\n",
    "$$"
   ]
  },
  {
   "cell_type": "markdown",
   "metadata": {},
   "source": [
    "## Section 1 - Linear Regression Models"
   ]
  },
  {
   "cell_type": "markdown",
   "metadata": {},
   "source": [
    "### Making Predictions from Linear Regression Models"
   ]
  },
  {
   "cell_type": "markdown",
   "metadata": {},
   "source": [
    "Typically, the prediction $y$ of a linear model with input $x$ is written\n",
    "$$\n",
    "y = m\\cdot x + b\n",
    "$$\n",
    "\n",
    "Write a function, `make_prediction_linear_regression`,\n",
    "that takes in the observed value $x$ as its first argument\n",
    "and the intercept and slope, $b$ and $m$, as its second and third,\n",
    "and returns the predicted value $y$."
   ]
  },
  {
   "cell_type": "markdown",
   "metadata": {},
   "source": [
    "Write a function `make_predictions_linear_regression`\n",
    "that does same for a `Series` of `observed_values`.\n",
    "You should reuse `make_prediction_linear_regression`.\n",
    "You might use `apply` or a `for` loop or a list comprehension,\n",
    "depending on your preferred style."
   ]
  },
  {
   "cell_type": "code",
   "execution_count": null,
   "metadata": {},
   "outputs": [],
   "source": [
    "ok.grade(\"q1_01\")"
   ]
  },
  {
   "cell_type": "markdown",
   "metadata": {},
   "source": [
    "### Alternate Encoding of Linear Regression"
   ]
  },
  {
   "cell_type": "markdown",
   "metadata": {},
   "source": [
    "The connection between linear regression and other linear models\n",
    "is more apparent when the data and parameters are written differently.\n",
    "\n",
    "The manner in which data is represented numerically for use in a model\n",
    "is known as the _encoding_ or _coding_ of the data.\n",
    "\n",
    "In this alternate encoding of data for linear regression,\n",
    "each observed value $x$ is encoded as a pair of numbers:\n",
    "$\\text{data features} = [1, x]$.\n",
    "\n",
    "The parameters are then written as a pair of numbers in the same format:\n",
    "$\\text{parameters} = [\\text{intercept}, \\text{slope}]$.\n",
    "\n",
    "In this style,\n",
    "instead of the predictions being written\n",
    "$$\n",
    "\\text{prediction} = \\text{intercept} + \\text{slope}\\cdot x\n",
    "$$\n",
    "they are written\n",
    "$$\n",
    "\\text{prediction} = \\text{parameters}[0]\\cdot\\text{data features}[0] + \\text{parameters}[1]\\cdot\\text{data features}[1]\n",
    "$$"
   ]
  },
  {
   "cell_type": "markdown",
   "metadata": {},
   "source": [
    "Note that $\\text{data features}[0]$ is always $1$, and so the output is equivalent."
   ]
  },
  {
   "cell_type": "markdown",
   "metadata": {},
   "source": [
    "In Python, this might be written\n",
    "\n",
    "```python\n",
    "prediction = 0\n",
    "for parameter, data_feature in zip(parameters, data_features):\n",
    "    prediction += parameter * data_feature\n",
    "```"
   ]
  },
  {
   "cell_type": "markdown",
   "metadata": {},
   "source": [
    "In more standard mathematical notation,\n",
    "it would be written\n",
    "\n",
    "$$\n",
    "y = \\sum_i m_i \\cdot X_i\n",
    "$$\n",
    "\n",
    "where $m$ and $X$ are the parameters and data features,\n",
    "indexed by $i$,\n",
    "and\n",
    "where $\\sum$, pronounced \"sum\",\n",
    "means \"add up all of these values\".\n",
    "It is the mathematical equivalent of the `sum` function in Python."
   ]
  },
  {
   "cell_type": "markdown",
   "metadata": {},
   "source": [
    "The predictions are identical,\n",
    "as you will see below,\n",
    "but all linear models can be written in this form,\n",
    "unlike the $m\\cdot x + b$ representation."
   ]
  },
  {
   "cell_type": "markdown",
   "metadata": {},
   "source": [
    "First, write a function, `encode_data_linear_regression`,\n",
    "that turns a `Series` of observed values\n",
    "into a `DataFrame` of observed values in this new encoding."
   ]
  },
  {
   "cell_type": "markdown",
   "metadata": {},
   "source": [
    "That is, the input `Series`\n",
    "```python\n",
    "0    1\n",
    "1    2\n",
    "2    3\n",
    "```\n",
    "should result in the output `DataFrame`\n",
    "```python\n",
    "   0  1\n",
    "0  1  1\n",
    "1  1  2\n",
    "2  1  3\n",
    "```"
   ]
  },
  {
   "cell_type": "markdown",
   "metadata": {},
   "source": [
    "You might wish to split it into two functions,\n",
    "one that encodes a single datapoint\n",
    "and one that uses that function to encode an entire `Series` of datapoints\n",
    "(using `apply`, a `for` loop, or similar)."
   ]
  },
  {
   "cell_type": "code",
   "execution_count": null,
   "metadata": {},
   "outputs": [],
   "source": [
    "ok.grade(\"q1_02\")"
   ]
  },
  {
   "cell_type": "markdown",
   "metadata": {},
   "source": [
    "Now, write a function,  `make_predictions_linear_model`,\n",
    "that takes a `DataFrame` of `encoded_data` as its first argument\n",
    "and a `Series` of `parameters` as its second argument\n",
    "and returns a `Series` of predictions for each input.\n",
    "For a regression model,\n",
    "the `parameters` will have length 2 (intercept and slope),\n",
    "but for other models, this `Series`\n",
    "will have different lengths.\n",
    "The `encoded_data` will always have the same number of columns\n",
    "as `parameters` has entries.\n",
    "\n",
    "Again, splitting this function up into two pieces,\n",
    "one that works on a single row and\n",
    "another that calls it on each row in a `DataFrame`,\n",
    "is a useful strategy.\n",
    "`pd.DataFrame.apply` really shines here.\n",
    "\n",
    "In general, breaking complex functions into their\n",
    "constituent pieces and composing them\n",
    "is a key tool for\n",
    "simplifying the process of writing code\n",
    "and making it extensible, comprehensible, and general.\n",
    "For example, using `sum` and `*`,\n",
    "the prediction function for a single point can be written in a single line!"
   ]
  },
  {
   "cell_type": "code",
   "execution_count": null,
   "metadata": {},
   "outputs": [],
   "source": [
    "ok.grade(\"q1_03\")"
   ]
  },
  {
   "cell_type": "markdown",
   "metadata": {},
   "source": [
    "Below, we will see that this function,\n",
    "without any modifications,\n",
    "can also be used to compute the predictions of categorical models.\n",
    "It can even be extended to linear models with both categorical and continuous components."
   ]
  },
  {
   "cell_type": "markdown",
   "metadata": {},
   "source": [
    "### Quantifying Prediction Error"
   ]
  },
  {
   "cell_type": "markdown",
   "metadata": {},
   "source": [
    "In linear models with Normal likelihoods,\n",
    "the primary contribution to the posterior log-probability\n",
    "of the parameters\n",
    "is given by the average squared difference of the observed values\n",
    "and the values predicted by the model with those parameters."
   ]
  },
  {
   "cell_type": "markdown",
   "metadata": {},
   "source": [
    "Define a function, `mse_predictions`,\n",
    "that takes in a `Series` of `predictions` and a `Series` of `observations`\n",
    "and returns the mean squared error of those predictions."
   ]
  },
  {
   "cell_type": "markdown",
   "metadata": {},
   "source": [
    "The MSE expresses how likely the data is for a given set of model parameters,\n",
    "but it is not normalized,\n",
    "so it can be hard to evaluate the quality of a set of parameters\n",
    "just based on MSE.\n",
    "\n",
    "It can be normalized by dividing by the variance of the observations.\n",
    "When subtracted from 1, this is $R^2$,\n",
    "or _fraction of variance explained_.\n",
    "\n",
    "Write a function, `variance_explained`,\n",
    "that takes the same arguments as `mse_predictions`\n",
    "and returns the value of $R^2$.\n",
    "_Hint_: you might want to reuse `mse_predictions` here."
   ]
  },
  {
   "cell_type": "code",
   "execution_count": null,
   "metadata": {},
   "outputs": [],
   "source": [
    "ok.grade(\"q1_04\")"
   ]
  },
  {
   "cell_type": "markdown",
   "metadata": {},
   "source": [
    "### Minimizing Prediction Error"
   ]
  },
  {
   "cell_type": "markdown",
   "metadata": {},
   "source": [
    "For any model with a Normal likelihood,\n",
    "the parameters that maximize the likelihood\n",
    "are the ones that minimize the mean squared error.\n",
    "\n",
    "The `regression_df` loaded below contains two columns, `y` and `x`.\n",
    "Define a `Series` of parameters, an intercept and a slope,\n",
    "that approximately minimize the mean squared error and\n",
    "so approximately maximize the likelihood.\n",
    "Name the resulting variable `regression_parameters`.\n",
    "\n",
    "Your `regression_parameters` will pass the test if the variance explained\n",
    "is greater than `0.4`.\n",
    "\n",
    "It is strongly recommended that you plot your predictions\n",
    "against the data and use the visualization to guide your choice of parameters,\n",
    "but it is not necessary in order to receive credit."
   ]
  },
  {
   "cell_type": "markdown",
   "metadata": {},
   "source": [
    "You might try any of the following approaches:\n",
    "- Use `sns.lmplot` to obtain a visualization of the regression line and approximate the parameters from the plot.\n",
    "- Try a variety of values, making small adjustments and checking for improvement. _Hint: Try finding the best intercept with a slope of 0, then finding the best slope for that choice of intercept. Will the slope be positive or negative? Will the magnitude be bigger than 1 or between 0 and 1?_ Check out [guessthecorrelation.com](http://guessthecorrelation.com/) for a chance to practice guessing the slopes of regression lines in a cute game.\n",
    "- Notice that the data is standardized with $z$-scoring and use that to determine the maximum likelihood intercept and slope. _Hint: base your answer on the correlation (`scipy.stats.pearsonr`, `np.corrcoef`)._"
   ]
  },
  {
   "cell_type": "code",
   "execution_count": null,
   "metadata": {},
   "outputs": [],
   "source": [
    "regression_df = pd.read_csv(Path(\"data\") / \"regression_data.csv\", index_col=0)\n",
    "regression_df.head()"
   ]
  },
  {
   "cell_type": "code",
   "execution_count": null,
   "metadata": {},
   "outputs": [],
   "source": [
    "ok.grade(\"q1_05\")"
   ]
  },
  {
   "cell_type": "markdown",
   "metadata": {},
   "source": [
    "## Section 2 - One-way Categorical Linear Models"
   ]
  },
  {
   "cell_type": "markdown",
   "metadata": {},
   "source": [
    "In the natural encoding of a one-way categorical model,\n",
    "the prediction for a data point is given by the value of the group mean\n",
    "for that data point."
   ]
  },
  {
   "cell_type": "markdown",
   "metadata": {},
   "source": [
    "### Making Predictions from One-way Categorical Models"
   ]
  },
  {
   "cell_type": "markdown",
   "metadata": {},
   "source": [
    "Define a function, `make_predictions_oneway`,\n",
    "that takes in a `Series` of `group_idxs`\n",
    "and a `Series` of `group_means`,\n",
    "and returns the prediction of the one-way categorical model\n",
    "with those `group_means` as its parameters."
   ]
  },
  {
   "cell_type": "markdown",
   "metadata": {},
   "source": [
    "Again, consider splitting the function into two pieces."
   ]
  },
  {
   "cell_type": "code",
   "execution_count": null,
   "metadata": {},
   "outputs": [],
   "source": [
    "ok.grade(\"q2_01\")"
   ]
  },
  {
   "cell_type": "markdown",
   "metadata": {},
   "source": [
    "### Linear Model Encoding of One-way Categorical Models"
   ]
  },
  {
   "cell_type": "markdown",
   "metadata": {},
   "source": [
    "#### Encoding One-way Categorical Data"
   ]
  },
  {
   "cell_type": "markdown",
   "metadata": {},
   "source": [
    "There are many ways to encode categorical data so that it can be used with the standard linearmodel.\n",
    "\n",
    "The method we use here is called _Treatment Coding_,\n",
    "since it comes from experiments with a control group that sets a baseline\n",
    "and all other groups come from experimental manipulations, or _treatments_,\n",
    "being applied to this group.\n",
    "\n",
    "For simplicity, we will refer to this as **the** linear model encoding,\n",
    "though there are\n",
    "[others](https://www.statsmodels.org/dev/contrasts.html#treatment-dummy-coding)."
   ]
  },
  {
   "cell_type": "markdown",
   "metadata": {},
   "source": [
    "In the linear model encoding of data for categorical models,\n",
    "each data point is again represented by a `Series` beginning with `1`.\n",
    "\n",
    "The other entries of the `Series` are all `1` or `0`.\n",
    "For a one-way model, there is at most one other `1`,\n",
    "located at the group index for the data point:\n",
    "```\n",
    "[1, int(group_idx == 1) int(group_idx == 2) ...]\n",
    "```\n",
    "\n",
    "So if there are three groups,\n",
    "two datapoints with group indexes `0` and `1`\n",
    "would become\n",
    "```\n",
    "[1, 0, 0]\n",
    "```\n",
    "and\n",
    "```\n",
    "[1, 0, 1]\n",
    "```"
   ]
  },
  {
   "cell_type": "markdown",
   "metadata": {},
   "source": [
    "Write a function, `encode_data_oneway_model`,\n",
    "that takes a `Series` of `group_idxs` for some observed data\n",
    "and the number of groups\n",
    "as its arguments\n",
    "and returns a `DataFrame` where each row is the linear model encoding\n",
    "of the corresponding group index.\n",
    "\n",
    "Again, this function naturally breaks down into two pieces,\n",
    "one that encodes individual rows\n",
    "and one that combines the encodings of individual rows into a `DataFrame`."
   ]
  },
  {
   "cell_type": "code",
   "execution_count": null,
   "metadata": {},
   "outputs": [],
   "source": [
    "ok.grade(\"q2_02\")"
   ]
  },
  {
   "cell_type": "markdown",
   "metadata": {},
   "source": [
    "#### Encoding One-way Categorical Parameters"
   ]
  },
  {
   "cell_type": "markdown",
   "metadata": {},
   "source": [
    "When the inputs to categorical models are written in\n",
    "the linear model encoding,\n",
    "the outputs are computed in the same way as\n",
    "for the alternate encoding of a linear regression model:\n",
    "\n",
    "$$\n",
    "\\text{prediction} = \\text{parameters}[0]\\cdot\\text{data features}[0] + \\text{parameters}[1]\\cdot\\text{data features}[1] \\ \\ ...\n",
    "$$\n",
    "\n",
    "Again, $\\text{data features}[0]$ is always `1`.\n",
    "Now, instead of $\\text{data features}[1]$ being the observed value,\n",
    "it is either `1`,\n",
    "if the group index is equal to `1`,\n",
    "or `0`, if it is not.\n",
    "\n",
    "For a categorical model, then,\n",
    "the prediction for the observations in the group at index `0` is\n",
    "$$\n",
    "\\text{prediction for group 0} = \\text{parameters}[0] = \\text{group means}[0]\n",
    "$$\n",
    "while that for\n",
    "the observations in the group at index `1` is\n",
    "$$\n",
    "\\text{prediction for group 1} = \\text{parameters}[0] + \\text{parameters}[1] = \\text{group means}[1]\n",
    "$$\n",
    "and so\n",
    "$$\n",
    "\\text{parameters}[1] = \\text{group means}[1] - \\text{group means}[0]\n",
    "$$\n",
    "which is what we called the \"effect of the factor\"\n",
    "when working with categorical models in the mean parameterization.\n",
    "\n",
    "In general, when we computed effects and interactions in categorical models,\n",
    "we compared the `group_means` to each other.\n",
    "When the inputs to categorical models are written in\n",
    "the linear model encoding,\n",
    "the parameters are directly in terms of the effects and interactions."
   ]
  },
  {
   "cell_type": "markdown",
   "metadata": {},
   "source": [
    "Define a function, `encode_parameters_oneway_model`,\n",
    "that takes in a `Series` of `group_means`\n",
    "and returns a `Series` of `parameters` for a one-way model\n",
    "in the linear model encoding, as defined above."
   ]
  },
  {
   "cell_type": "code",
   "execution_count": null,
   "metadata": {},
   "outputs": [],
   "source": [
    "ok.grade(\"q2_03\")"
   ]
  },
  {
   "cell_type": "markdown",
   "metadata": {},
   "source": [
    "### Minimizing Prediction Error"
   ]
  },
  {
   "cell_type": "markdown",
   "metadata": {},
   "source": [
    "Prediction error in a categorical model is again standardized using the variance explained,\n",
    "and the maximum likelihood parameters for the model maximize the variance explained.\n",
    "\n",
    "The `oneway_df` loaded below contains two columns, `y` and `factor1`.\n",
    "Define a `Series` of parameters, in the linear model encoding,\n",
    "that approximately minimize the mean squared error and\n",
    "so approximately maximize the likelihood.\n",
    "Name the resulting variable `oneway_parameters`.\n",
    "\n",
    "In this case, the maximum variance explainable\n",
    "by a one-way model is small, and so\n",
    "your `oneway_parameters` will pass the test if the variance explained\n",
    "is at least `0.0` when the predictions are obtained by\n",
    "passing your parameters to `make_predictions_linear_model`."
   ]
  },
  {
   "cell_type": "markdown",
   "metadata": {},
   "source": [
    "Keep the following in mind:\n",
    "- The `variance_explained` is usually greater than `0`, since it is equal to one minus a ratio that is usually less than `1`.\n",
    "- To make the `variance_explained` equal to `0`, the numerator and denominator of that ratio should be equal. What is the denominator equal to for a categorical model?\n",
    "- You may find it easier to first define your answer in terms of the group means and then use `encode_parameters_oneway_model` to convert them to the linear model encoding.\n",
    "- A `pairplot` might make a helpful visualization."
   ]
  },
  {
   "cell_type": "code",
   "execution_count": null,
   "metadata": {},
   "outputs": [],
   "source": [
    "oneway_df = pd.read_csv(Path(\"data\") / \"oneway_data.csv\", index_col=0)"
   ]
  },
  {
   "cell_type": "code",
   "execution_count": null,
   "metadata": {},
   "outputs": [],
   "source": [
    "ok.grade(\"q2_04\")"
   ]
  },
  {
   "cell_type": "markdown",
   "metadata": {},
   "source": [
    "## Section 3 - Multiway Categorical Linear Models"
   ]
  },
  {
   "cell_type": "markdown",
   "metadata": {},
   "source": [
    "### Making Predictions from Multiway Categorical Models"
   ]
  },
  {
   "cell_type": "markdown",
   "metadata": {},
   "source": [
    "As with a one-way categorical model,\n",
    "in the natural encoding for a multiway categorical model,\n",
    "the prediction for a data point is given by the value of the group mean\n",
    "for that data point.\n",
    "\n",
    "But in a multiway model,\n",
    "there are multiple factors, not just one,\n",
    "and so the group means are typically represented with an `array`-like data structure."
   ]
  },
  {
   "cell_type": "markdown",
   "metadata": {},
   "source": [
    "Define a function, `make_predictions_twoway`,\n",
    "that takes as its first two arguments two `Series` of factor indices,\n",
    "one for the first factor and one for the second factor,\n",
    "and an `np.ndarray` of `group_means` as its third argument,\n",
    "and returns a `Series` of predictions from the two-way categorical model\n",
    "with those `group_means` as its parameters.\n",
    "\n",
    "The index for factor 1 should be used to select the row of `group_means`,\n",
    "while the index for factor 2 should be used to select the column.\n",
    "\n",
    "So if the `group_means` were the array\n",
    "```\n",
    "[[0, 1, 2],\n",
    " [3, 4, 5]]\n",
    "```\n",
    "then `make_predictions_twoway` would return\n",
    "```\n",
    "pd.Series([0, 1, 5])\n",
    "```\n",
    "on the inputs\n",
    "```\n",
    "pd.Series([0, 0, 1]), pd.Series([0, 1, 2])\n",
    "```"
   ]
  },
  {
   "cell_type": "markdown",
   "metadata": {},
   "source": [
    "As with the other prediction functions,\n",
    "this function naturally decomposes into two pieces."
   ]
  },
  {
   "cell_type": "code",
   "execution_count": null,
   "metadata": {},
   "outputs": [],
   "source": [
    "ok.grade(\"q3_01\")"
   ]
  },
  {
   "cell_type": "markdown",
   "metadata": {},
   "source": [
    "### Linear Model Encoding of Multiway Categorical Models"
   ]
  },
  {
   "cell_type": "markdown",
   "metadata": {},
   "source": [
    "#### Encoding Multiway Categorical Data"
   ]
  },
  {
   "cell_type": "markdown",
   "metadata": {},
   "source": [
    "In the linear model encoding of data for categorical models,\n",
    "including multiway models,\n",
    "each data point is still represented by a `Series` beginning with `1`.\n",
    "\n",
    "The other entries of the `Series` are all `1` or `0`.\n",
    "As with a one-way model,\n",
    "the length of the `Series` is equal to the total number\n",
    "of groups.\n",
    "In addition to starting with a `1`,\n",
    "there are `1`s\n",
    "to indicate whether this data point comes\n",
    "from a non-zero level of each factor\n",
    "and if it comes from a given _combination_\n",
    "of non-zero levels,\n",
    "as in\n",
    "```\n",
    "[1, int(factor1_idx == 1), int(factor1_idx == 2), ...\n",
    "int(factor2_idx == 1),  int(factor2_idx == 2), ...\n",
    "int((factor1_idx == 1) & (factor2_idx == 1)), ... \n",
    "int((factor1_idx == J) & (factor2_idx == K))]\n",
    "```\n",
    "for a a model with two factors with total numbers of factor levels `J` and `K`.\n",
    "\n",
    "We will focus on the simplest case:\n",
    "a multiway model with two factors,\n",
    "each of which has two levels.\n",
    "We will call such a model a _two-by-two_ model.\n",
    "\n",
    "If there are two levels of each two factors,\n",
    "for a total of four groups,\n",
    "a datapoint from level 0 of both factors\n",
    "would be coded as\n",
    "```\n",
    "[1, 0, 0, 0]\n",
    "```\n",
    "and one from level 1 of both factors\n",
    "would be coded as\n",
    "```\n",
    "[1, 1, 1, 1]\n",
    "```\n",
    "while a datapoint from level 1 of factor 1\n",
    "and level 0 of factor 2\n",
    "would be coded as\n",
    "```\n",
    "[1, 1, 0, 0]\n",
    "```"
   ]
  },
  {
   "cell_type": "markdown",
   "metadata": {},
   "source": [
    "Write a function, `encode_data_twobytwo_model`,\n",
    "that takes two `Series`,\n",
    "the `factor1_idxs` and `factor2_idxs`,\n",
    "for some observed data\n",
    "from a two-by-two model\n",
    "and returns a `DataFrame` where each row is the linear model encoding\n",
    "of the corresponding observed data point.\n",
    "\n",
    "Consider breaking your function into two pieces, as previously."
   ]
  },
  {
   "cell_type": "code",
   "execution_count": null,
   "metadata": {},
   "outputs": [],
   "source": [
    "ok.grade(\"q3_02\")"
   ]
  },
  {
   "cell_type": "markdown",
   "metadata": {},
   "source": [
    "#### Encoding Multiway Categorical Parameters"
   ]
  },
  {
   "cell_type": "markdown",
   "metadata": {},
   "source": [
    "When the inputs to categorical models are written in\n",
    "the linear model encoding,\n",
    "the outputs are computed in the same way as\n",
    "for the alternate encoding of a linear regression model:\n",
    "\n",
    "$$\n",
    "\\text{prediction} = \\text{parameters}[0]\\cdot\\text{data features}[0] + \\text{parameters}[1]\\cdot\\text{data features}[1] ...\n",
    "$$\n",
    "\n",
    "Again, $\\text{data features}[0]$ is always `1`.\n",
    "In categorical models, instead of the $\\text{data features}$ being the observed value,\n",
    "they are instead `0` or `1` to indicate to which groups the data point belonged,\n",
    "as levels and combinations of levels from each factor.\n",
    "\n",
    "For a two by two model, then,\n",
    "the prediction for the observations in level 0 of both facors,\n",
    "aka the baseline group, is\n",
    "$$\n",
    "\\text{prediction for factor levels 0, 0} = \\text{parameters}[0] = \\text{group means}[0, 0]\n",
    "$$\n",
    "while that for\n",
    "an observation in level 1 of both factors is\n",
    "$$\n",
    "\\text{prediction for factor levels 1, 1} = \\text{parameters}[0] + \\text{parameters}[1] + \\text{parameters}[2] + \\text{parameters}[3] = \\text{group means}[1, 1]\n",
    "$$\n",
    "and so\n",
    "$$\n",
    "\\text{parameters}[3] = \\text{group means}[1, 1] - \\text{parameters}[2] - \\text{parameters}[1] - \\text{parameters}[0]\n",
    "$$\n",
    "which is what we called the \"interaction of the factors\"\n",
    "when working with categorical models in the mean parameterization.\n",
    "\n",
    "In general, when we computed effects and interactions in categorical models,\n",
    "we compared the `group_means` to each other.\n",
    "When the inputs to categorical models are written in\n",
    "the linear model encoding,\n",
    "the parameters are directly in terms of the effects and interactions."
   ]
  },
  {
   "cell_type": "markdown",
   "metadata": {},
   "source": [
    "Define a function, `encode_parameters_twobytwo_model`,\n",
    "that takes in an `array` of `group_means`\n",
    "and returns a `Series` of `parameters` for a two-by-two model\n",
    "in the linear model encoding, as defined above."
   ]
  },
  {
   "cell_type": "markdown",
   "metadata": {},
   "source": [
    "When we computed treatment effects and interactions in categorical models,\n",
    "we compared the `group_means` to each other.\n",
    "\n",
    "When the inputs to a multiway categorical models are written in\n",
    "the linear model encoding,\n",
    "the parameters are directly in terms of the treatment effects and interactions."
   ]
  },
  {
   "cell_type": "markdown",
   "metadata": {},
   "source": [
    "As a concrete example,\n",
    "for a collection of `group_means`\n",
    "```\n",
    "[[1, 2],\n",
    " [1, 4]]\n",
    "```\n",
    "the corresponding `parameters` are\n",
    "```\n",
    "[1, 0, 1, 2]\n",
    "```"
   ]
  },
  {
   "cell_type": "markdown",
   "metadata": {},
   "source": [
    "Notice that while the `group_means` were a two-dimensional array,\n",
    "the parameters are one-dimensional\n",
    "(a `Series`, rather than a `DataFrame`),\n",
    "just as they were for the linear regression and one-way models."
   ]
  },
  {
   "cell_type": "code",
   "execution_count": null,
   "metadata": {},
   "outputs": [],
   "source": [
    "ok.grade(\"q3_03\")"
   ]
  },
  {
   "cell_type": "markdown",
   "metadata": {},
   "source": [
    "### Minimizing Prediction Error"
   ]
  },
  {
   "cell_type": "markdown",
   "metadata": {},
   "source": [
    "Prediction error in a multiway categorical model is again standardized using the variance explained,\n",
    "and the maximum likelihood parameters for the model maximize the variance explained.\n",
    "\n",
    "The `twobytwo_df` loaded below contains three columns, `y`, `factor1`, and `factor2`.\n",
    "Define a `Series` of parameters, in the linear model encoding,\n",
    "that approximately minimize the mean squared error and\n",
    "so approximately maximize the likelihood.\n",
    "Name the resulting variable `twobytwo_parameters`.\n",
    "\n",
    "Your `twobytwo_parameters` will pass the test if the variance explained\n",
    "is at least `0.3` when the predictions are obtained by\n",
    "passing your parameters to `make_predictions_linear_model`."
   ]
  },
  {
   "cell_type": "markdown",
   "metadata": {},
   "source": [
    "Keep the following in mind:\n",
    "- A `pairplot` might make a helpful visualization.\n",
    "- It might be easier to first define your answer in terms of the group means and then use `encode_parameters_twobytwo_model` to convert them to the linear model encoding."
   ]
  },
  {
   "cell_type": "code",
   "execution_count": null,
   "metadata": {},
   "outputs": [],
   "source": [
    "twobytwo_df = pd.read_csv(Path(\"data\") / \"twobytwo_data.csv\", index_col=0)\n",
    "twobytwo_df.head()"
   ]
  },
  {
   "cell_type": "code",
   "execution_count": null,
   "metadata": {},
   "outputs": [],
   "source": [
    "ok.grade(\"q3_04\")"
   ]
  },
  {
   "cell_type": "code",
   "execution_count": null,
   "metadata": {},
   "outputs": [],
   "source": [
    "ok.score()"
   ]
  }
 ],
 "metadata": {
  "kernelspec": {
   "display_name": "Python 3",
   "language": "python",
   "name": "python3"
  },
  "language_info": {
   "codemirror_mode": {
    "name": "ipython",
    "version": 3
   },
   "file_extension": ".py",
   "mimetype": "text/x-python",
   "name": "python",
   "nbconvert_exporter": "python",
   "pygments_lexer": "ipython3",
   "version": "3.6.8"
  }
 },
 "nbformat": 4,
 "nbformat_minor": 2
}
