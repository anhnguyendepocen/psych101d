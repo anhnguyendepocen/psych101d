{
 "cells": [
  {
   "cell_type": "markdown",
   "metadata": {},
   "source": [
    "<img src=\"../../shared/img/banner.svg\"></img>"
   ]
  },
  {
   "cell_type": "markdown",
   "metadata": {},
   "source": [
    "# Homework 07 - Modeling Categorical-Numerical Relationships"
   ]
  },
  {
   "cell_type": "code",
   "execution_count": null,
   "metadata": {},
   "outputs": [],
   "source": [
    "%matplotlib inline"
   ]
  },
  {
   "cell_type": "code",
   "execution_count": null,
   "metadata": {},
   "outputs": [],
   "source": [
    "import sys\n",
    "\n",
    "sys.path.append(\"../../\")\n",
    "\n",
    "from shared.src import quiet\n",
    "from shared.src import seed"
   ]
  },
  {
   "cell_type": "code",
   "execution_count": null,
   "metadata": {},
   "outputs": [],
   "source": [
    "import random\n",
    "\n",
    "import numpy as np\n",
    "import matplotlib.pyplot as plt\n",
    "import numpy as np\n",
    "import pandas as pd\n",
    "import pymc3 as pm\n",
    "import seaborn as sns\n",
    "import statsmodels.api as sm\n",
    "import statsmodels.formula.api as smf"
   ]
  },
  {
   "cell_type": "markdown",
   "metadata": {},
   "source": [
    "### Learning Objectives\n",
    "\n",
    "1. Practice writing categorical-numerical models in pyMC3\n",
    "1. Become more familiar with using `statsmodels` to run classical statistical tests.\n",
    "1. Recognize the benefits of the modeling flexibility of the sampling approach."
   ]
  },
  {
   "cell_type": "markdown",
   "metadata": {},
   "source": [
    "## ❤️ React for ANOVA, 😡 React for Non-Parametric Tests"
   ]
  },
  {
   "cell_type": "markdown",
   "metadata": {},
   "source": [
    "You're working as a research scientist studying\n",
    "social cognition and social processing.\n",
    "You're using fMRI machines\n",
    "to search for areas of the brain that respond to emotionally and socially salient stimuli.\n",
    "\n",
    "Since your grant money comes from Facebook,\n",
    "you're trying to find areas of the brain\n",
    "that respond differentially to discovering that\n",
    "a social media post has received one of the six reactions:\n",
    "`Like`, `Love`, `Haha`, `Wow`, `Sad`, and `Angry`,\n",
    "pictured below."
   ]
  },
  {
   "cell_type": "markdown",
   "metadata": {},
   "source": [
    "## ![reactions](https://upload.wikimedia.org/wikipedia/en/thumb/4/49/Facebook_Reactions.png/309px-Facebook_Reactions.png)"
   ]
  },
  {
   "cell_type": "markdown",
   "metadata": {},
   "source": [
    "From a literature review, you've identified a region that is likely to respond to these stimuli.\n",
    "\n",
    "You've collected the average activation values for the center of this region\n",
    "for a number of participants as they observed reactions to their social media posts.\n",
    "The data is stored in `fmri_data.pkl`."
   ]
  },
  {
   "cell_type": "code",
   "execution_count": null,
   "metadata": {},
   "outputs": [],
   "source": [
    "fmri_df = pd.read_pickle(\"data/fmri_data.pkl\")\n",
    "\n",
    "fmri_df.sample(5)"
   ]
  },
  {
   "cell_type": "code",
   "execution_count": null,
   "metadata": {},
   "outputs": [],
   "source": [
    "fmri_df.reaction.unique()"
   ]
  },
  {
   "cell_type": "markdown",
   "metadata": {},
   "source": [
    "The center takes up one pixel of the fMRI image;\n",
    "since fMRI creates images over time, or videos,\n",
    "these are known as _voxel_ s,\n",
    "short for video pixels.\n",
    "The values you've measured are called _voxel activations_,\n",
    "or `voxel_act` in the `fmri_df`.\n",
    "\n",
    "For each participant,\n",
    "you also measured the average activation of this voxel during the presentation\n",
    "of non-socially-relevant, non-emotional stimuli,\n",
    "and subtracted this value off.\n",
    "\n",
    "Therefore, you're looking to see whether the average activation across subjects (rows of `fmri_df`)\n",
    "is different from 0.\n",
    "You suspect that an ANOVA is the right model for this data."
   ]
  },
  {
   "cell_type": "markdown",
   "metadata": {},
   "source": [
    "#### Q Begin by visualizing the data. Does this look like a promising target for ANOVA? Explain."
   ]
  },
  {
   "cell_type": "markdown",
   "metadata": {},
   "source": [
    "#### Q Now define an ANOVA data model for this data."
   ]
  },
  {
   "cell_type": "markdown",
   "metadata": {},
   "source": [
    "Define variables for the model parameters,\n",
    "with shape `N_groups`,\n",
    "then index into those with the group labels (`target_idx`)\n",
    "to set the parameters of a `Normal`ly-distributed variable.\n",
    "For that variable, set `observed` equal to the observed voxel activations.\n",
    "\n",
    "Refer back to the lecture material if you get stuck."
   ]
  },
  {
   "cell_type": "markdown",
   "metadata": {},
   "source": [
    "#### Q Using this model, draw samples, compute a posterior with `pm.plot_posterior`, and report your findings."
   ]
  },
  {
   "cell_type": "markdown",
   "metadata": {},
   "source": [
    "#### Q Run a traditional ANOVA on the data using `smf.ols` and report your findings in the APA style.\n",
    "\n",
    "The relevant variable are `voxel_act`,\n",
    "which we are modeling as dependent (`~`)\n",
    "on the `C`ategorical variable `reaction`.\n",
    "\n",
    "To get just the results of the ANOVA, use the function `sm.stats.anova_lm`\n",
    "on the output of `smf.ols`\n",
    "to pull out just the ANOVA results\n",
    "(include the keyword argument `typ=2`).\n",
    "Refer back to the lecture for details.\n",
    "\n",
    "You might also be tempted to perform follow-up $t$-tests to determine which groups are different from each other."
   ]
  },
  {
   "cell_type": "markdown",
   "metadata": {},
   "source": [
    "## Beyond ANOVA: Modeling 👏 Emoji 👏 Use 👏"
   ]
  },
  {
   "cell_type": "markdown",
   "metadata": {},
   "source": [
    "Not every kind of effect can be detected by an ANOVA,\n",
    "since not all data is normal and not all changes effect the mean.\n",
    "\n",
    "You're working in a lab studying [Human-Computer Interaction](https://en.wikipedia.org/wiki/Human%E2%80%93computer_interaction).\n",
    "\n",
    "Your thesis is on emoji use.\n",
    "What causes people to use emojis?\n",
    "How can we improve the emoji experience for users?\n",
    "\n",
    "As an early step in this research, you're collecting some demographic data on emoji use.\n",
    "You suspect that younger generations (those born after 1985) use more emojis than do older generations (those born before 1985).\n",
    "To test your hypothesis, you collect some data, `emoji_data.pkl`."
   ]
  },
  {
   "cell_type": "code",
   "execution_count": null,
   "metadata": {},
   "outputs": [],
   "source": [
    "emoji_df = pd.read_pickle(\"data/emoji_data.pkl\")"
   ]
  },
  {
   "cell_type": "code",
   "execution_count": null,
   "metadata": {},
   "outputs": [],
   "source": [
    "emoji_df.head()"
   ]
  },
  {
   "cell_type": "markdown",
   "metadata": {},
   "source": [
    "The `emoji_ct` variable counts the number of emojis in the text message,\n",
    "while the `generation_idx` and `birthdate` variables code the generation of the text message sender,\n",
    "the former as a number and the latter as a string."
   ]
  },
  {
   "cell_type": "code",
   "execution_count": null,
   "metadata": {},
   "outputs": [],
   "source": [
    "emoji_df.describe()"
   ]
  },
  {
   "cell_type": "markdown",
   "metadata": {},
   "source": [
    "#### Q Visualize the data and predict whether an ANOVA will return a positive result. Explain your prediction."
   ]
  },
  {
   "cell_type": "code",
   "execution_count": null,
   "metadata": {},
   "outputs": [],
   "source": [
    "import seaborn as sns"
   ]
  },
  {
   "cell_type": "code",
   "execution_count": null,
   "metadata": {},
   "outputs": [],
   "source": [
    "sns.distplot(emoji_df[\"emoji_ct\"][emoji_df[\"birthdate\"] == \"<1985\"], kde=False, norm_hist=True);\n",
    "sns.distplot(emoji_df[\"emoji_ct\"][emoji_df[\"birthdate\"] == \">1985\"], kde=False, norm_hist=True);"
   ]
  },
  {
   "cell_type": "markdown",
   "metadata": {},
   "source": [
    "#### Q Run an ANOVA and report, in APA style, the results."
   ]
  },
  {
   "cell_type": "markdown",
   "metadata": {},
   "source": [
    "This result doesn't accord with your understanding of the data, so you decide to dig deeper.\n",
    "\n",
    "#### Q Plot a histogram of the data from each group, using `bins` as defined below."
   ]
  },
  {
   "cell_type": "code",
   "execution_count": null,
   "metadata": {},
   "outputs": [],
   "source": [
    "bins = np.arange(0, max(emoji_df[\"emoji_ct\"]))"
   ]
  },
  {
   "cell_type": "markdown",
   "metadata": {},
   "source": [
    "The data within each group is decidedly not normally distributed.\n",
    "\n",
    "#### Q What's the most salient non-normal aspect of the data? Hint: Look especially at the `<1985` histogram."
   ]
  },
  {
   "cell_type": "markdown",
   "metadata": {},
   "source": [
    "The two distributions do look different.\n",
    "\n",
    "#### Q Describe, in your own words, the differences between the two distributions."
   ]
  },
  {
   "cell_type": "markdown",
   "metadata": {},
   "source": [
    "It appears that there are two kinds of text messages:\n",
    "messages _with_ emojis, which then have a variable number of emojis,\n",
    "and messages _without_ emojis."
   ]
  },
  {
   "cell_type": "markdown",
   "metadata": {},
   "source": [
    "Given that we are working with counts,\n",
    "the natural distribution for modeling this data\n",
    "is the _Zero-Inflated Poisson_ distribution\n",
    "(see [the pyMC docs for a plot of the distribution](https://docs.pymc.io/api/distributions/discrete.html#pymc3.distributions.discrete.ZeroInflatedPoisson)).\n",
    "\n",
    "You can think of it as a random variable with two parts:\n",
    "its value is either equal to 0, or it is Poisson-distributed.\n",
    "It has two parameters:\n",
    "`theta`, which is the rate of the Poisson part,\n",
    "and `psi`, which is the chance the value is _not_ equal to 0.\n",
    "\n",
    "In our case,\n",
    "`psi` is the chance that the text message contains any emojis,\n",
    "while `theta` is the average number of emojis in the texts that contain emojis."
   ]
  },
  {
   "cell_type": "markdown",
   "metadata": {},
   "source": [
    "#### Q Explain, in your own words, why a sampling approach, like the one we are taking in this class, allows us to work with zero-inflated Poisson random variables more easily than a traditional approach, based on defined statistical tests."
   ]
  },
  {
   "cell_type": "markdown",
   "metadata": {},
   "source": [
    "#### Q Below, define a model for the emoji data that uses the Zero-Inflated Poisson.\n",
    "\n",
    "Write it by analogy to the ANOVA model:\n",
    "define variables for the model parameters,\n",
    "with shape `N_groups`,\n",
    "then index into those with the group labels (`generation_idx`)\n",
    "to set the parameters of the `ZeroInflatedPoisson` variable.\n",
    "For that variable, set `observed` equal to the observed counts.\n",
    "\n",
    "Think carefully about the distributions for the parameters of the Zero-Inflated Poisson variable.\n",
    "There are multiple right answers, but also lots of wrong answers.\n",
    "The variable `psi` must be between `0` and `1`,\n",
    "while the variable `theta` just has to be above `0`.\n",
    "You might have some other prior information or assumptions you want to include\n",
    "by choosing the initial distribution for these variables."
   ]
  },
  {
   "cell_type": "markdown",
   "metadata": {},
   "source": [
    "#### Q Using this model, draw samples, compute a posterior with `pm.plot_posterior`, and report your findings."
   ]
  },
  {
   "cell_type": "markdown",
   "metadata": {},
   "source": [
    "I found that the two groups differed in both the chance that they sent any emojis and in the number of emojis they sent when they did.\n",
    "While the `<1985` cohort was less likely than the `>1985` cohort to send any emojis, when they did, they sent more of them."
   ]
  }
 ],
 "metadata": {
  "kernelspec": {
   "display_name": "Python 3",
   "language": "python",
   "name": "python3"
  },
  "language_info": {
   "codemirror_mode": {
    "name": "ipython",
    "version": 3
   },
   "file_extension": ".py",
   "mimetype": "text/x-python",
   "name": "python",
   "nbconvert_exporter": "python",
   "pygments_lexer": "ipython3",
   "version": "3.6.8"
  }
 },
 "nbformat": 4,
 "nbformat_minor": 2
}
