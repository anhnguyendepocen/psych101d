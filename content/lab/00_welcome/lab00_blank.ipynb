{
 "cells": [
  {
   "cell_type": "markdown",
   "metadata": {},
   "source": [
    "<img src=\"../../shared/img/banner.svg\"></img>"
   ]
  },
  {
   "cell_type": "markdown",
   "metadata": {},
   "source": [
    "# Lab 00 - Getting to Know Jupyter and OK"
   ]
  },
  {
   "cell_type": "markdown",
   "metadata": {},
   "source": [
    "#### BEFORE YOU DO ANYTHING ELSE! If this file is called `lab00_blank`, click File in the dropdown menu, then click Make a Copy. \n",
    "\n",
    "Name that copy `lab00`, then open that notebook and work from it.\n",
    "The `_blank` version of the lab will be changed if the labs are patched after release,\n",
    "e.g. to fix a bug.\n",
    "If you work in `_blank` on accident, it's possible for your work to be over-written and lost!\n",
    "\n",
    "Also, you will be unable to submit your lab unless you create the `lab00.ipynb` file."
   ]
  },
  {
   "cell_type": "markdown",
   "metadata": {},
   "source": [
    "## Jupyter"
   ]
  },
  {
   "cell_type": "markdown",
   "metadata": {},
   "source": [
    "### What is Jupyter?"
   ]
  },
  {
   "cell_type": "markdown",
   "metadata": {},
   "source": [
    "This document is a Jupyter notebook.\n",
    "Jupyter notebooks weave together executable code, text, media, and interactive components,\n",
    "using HTML, Javascript, and CSS,\n",
    "the languages of the Internet.\n",
    "The result is rendered by the browser."
   ]
  },
  {
   "cell_type": "markdown",
   "metadata": {},
   "source": [
    "You can tell this is a Jupyter notebook because it has the file extension `.ipynb`, meaning \"IPYthon NoteBook\", the original name for Jupyter notebooks.\n",
    "\n",
    "They are no longer called IPython notebooks because, though they were originally designed for use only with Python,\n",
    "they now operate independently of the engine for executing the programming language under the hood.\n",
    "This engine is known as the _kernel_, and if someone writes a kernel for a language,\n",
    "then that language can be used with Jupyter.\n",
    "\n",
    "The three languages with the first kernels to be written, and which gave Jupyter its name are\n",
    "- [JUlia](https://julialang.org), an attempt to marry the ease of Python with the speed of low-level languages\n",
    "- [PYThon](https://www.python.org/), one of the most popular general-purpose languages\n",
    "- [R](https://www.r-project.org/about.html), the most popular language for statistical computing"
   ]
  },
  {
   "cell_type": "markdown",
   "metadata": {},
   "source": [
    "### Why is Jupyter?"
   ]
  },
  {
   "cell_type": "markdown",
   "metadata": {},
   "source": [
    "All of the languages in that list are heavily used for data science.\n",
    "This isn't a coincidence.\n",
    "\n",
    "Jupyter notebooks let programmers combine their code with\n",
    "- text describing what the code is doing and why\n",
    "- example, interactive outputs from the code\n",
    "- other media relevant to understanding the code"
   ]
  },
  {
   "cell_type": "markdown",
   "metadata": {},
   "source": [
    "These are incredibly useful features for data science and for education,\n",
    "and especially for data science education!\n",
    "\n",
    "In both cases, interactivity and visualization improves understanding.\n",
    "\n",
    "In general, when code is being used to _communicate_,\n",
    "whether that communication is about the result of a data analysis\n",
    "or about breaking down a technical concept for a class,\n",
    "Jupyter notebooks are a useful tool."
   ]
  },
  {
   "cell_type": "markdown",
   "metadata": {},
   "source": [
    "### Notebooks are made of cells."
   ]
  },
  {
   "cell_type": "markdown",
   "metadata": {},
   "source": [
    "Jupyter notebooks are composed of cells.\n",
    "Cells come in two major types:\n",
    "cells for text and cells for code."
   ]
  },
  {
   "cell_type": "markdown",
   "metadata": {},
   "source": [
    "#### Markdown Cells"
   ]
  },
  {
   "cell_type": "markdown",
   "metadata": {},
   "source": [
    "This is an example of a cell for text.\n",
    "Double click it to see (and edit!) the un-formatted, raw text.\n",
    "\n",
    "If you want it to go back to being formatted, click the Run button up top."
   ]
  },
  {
   "cell_type": "markdown",
   "metadata": {},
   "source": [
    "Cells with formatted text are called _Markdown Cells_, after the standard that is used to turn un-formatted text into formatted text, [Markdown](https://daringfireball.net/projects/markdown/).\n",
    "\n",
    "There are lots of cool features of Markdown, but you won't need just about any of them\n",
    "to answer questions in this class.\n",
    "But if you're ever curious about how the notebook is achieving some effect,\n",
    "like a\n",
    "- list\n",
    "- of\n",
    "- items\n",
    "\n",
    "or a\n",
    "> pull-out quote\n",
    "\n",
    "or an inline image\n",
    "<img src=http://python.org/static/community_logos/python-logo-generic.svg>\n",
    "\n",
    "then double click to check the raw text out!"
   ]
  },
  {
   "cell_type": "markdown",
   "metadata": {},
   "source": [
    "#### Code Cells"
   ]
  },
  {
   "cell_type": "markdown",
   "metadata": {},
   "source": [
    "Other cells are used to contain and execute code, like the one below this one.\n",
    "Sensibly enough, these are called _Code Cells_.\n",
    "You can tell it's a code cell because the inside is grey.\n",
    "The text in code cells is also automatically highlighted\n",
    "with different colors to help you parse the code.\n",
    "Also, the word \"`In`\" appears next to a code cell,\n",
    "along with a set of brackets and a colon, `[ ]:`,\n",
    "which might contain a number.\n",
    "\n",
    "Execute a code cell the same way you format a Markdown Cell:\n",
    "after clicking inside the cell\n",
    "(a green border will appear around it),\n",
    "click Run at the top of the screen.\n",
    "The border will turn blue and move."
   ]
  },
  {
   "cell_type": "code",
   "execution_count": null,
   "metadata": {},
   "outputs": [],
   "source": [
    "print(\"Hello from inside a Code Cell!\")"
   ]
  },
  {
   "cell_type": "markdown",
   "metadata": {},
   "source": [
    "If a Code Cell is running and you'd like it to stop, hit Escape and type `I`, then `I`,\n",
    "for `I`nterrupt `I`mmediately.\n",
    "\n",
    "You'll see message that says `KeyboardInterrupt`.\n",
    "\n",
    "The cell below takes a few seconds to run.\n",
    "Try `I`nterrupting it."
   ]
  },
  {
   "cell_type": "code",
   "execution_count": null,
   "metadata": {},
   "outputs": [],
   "source": [
    "import time\n",
    "for _ in range(5):\n",
    "    print(\"I'm wasting your time!\")\n",
    "    print(\"Stop me with Esc,I,I.\")\n",
    "    time.sleep(1)"
   ]
  },
  {
   "cell_type": "markdown",
   "metadata": {},
   "source": [
    "Code inside a cell can produce output, like those `print` commands do.\n",
    "Output can be much more than just text!\n",
    "Later, we'll see code that produces a graph as its output.\n",
    "\n",
    "On top of that, the output of the final line of code is also printed.\n",
    "If that output is a line of text, the line of text will appear.\n",
    "\n",
    "Run the cells below to see examples."
   ]
  },
  {
   "cell_type": "code",
   "execution_count": null,
   "metadata": {},
   "outputs": [],
   "source": [
    "\"Hello again!\""
   ]
  },
  {
   "cell_type": "code",
   "execution_count": null,
   "metadata": {},
   "outputs": [],
   "source": [
    "favorite_things = [\"raindrops on roses\", \"whiskers on kittens\", \"bright copper kettles\", \"warm woolen mittens\"]\n",
    "favorite_things"
   ]
  },
  {
   "cell_type": "markdown",
   "metadata": {},
   "source": [
    "If the output doesn't have a nice representation ready to be displayed,\n",
    "the result is typically wrapped in `<` and `>`, like the examples below.\n",
    "\n",
    "There will also be a string of random-looking numbers and letters.\n",
    "Don't worry about or be intimidated by those.\n",
    "They are typically only used during very detailed debugging."
   ]
  },
  {
   "cell_type": "code",
   "execution_count": null,
   "metadata": {},
   "outputs": [],
   "source": [
    "print"
   ]
  },
  {
   "cell_type": "code",
   "execution_count": null,
   "metadata": {},
   "outputs": [],
   "source": [
    "class Stuff():\n",
    "    \"\"\"Defining Stuff but not giving a way to display it.\"\"\"\n",
    "    pass\n",
    "\n",
    "Stuff()"
   ]
  },
  {
   "cell_type": "code",
   "execution_count": null,
   "metadata": {},
   "outputs": [],
   "source": [
    "zip(favorite_things, range(4))"
   ]
  },
  {
   "cell_type": "markdown",
   "metadata": {},
   "source": [
    "### Notebooks have two modes."
   ]
  },
  {
   "cell_type": "markdown",
   "metadata": {},
   "source": [
    "You might already be getting tired of going up to the top of the screen to click to execute cells.\n",
    "There's no need!\n",
    "Jupyter notebooks are designed to be used with great efficiency and minimal use of the mouse.\n",
    "They get around the mouse by using the keyboard to do double-duty, via _modes_."
   ]
  },
  {
   "cell_type": "markdown",
   "metadata": {},
   "source": [
    "- In **Edit Mode**, keystrokes type symbols (letters, numbers, etc.) into the notebook. You should see a blinking cursor somewhere in the notebook, showing you where you're typing. You should also see a green box around the cell you're typing in."
   ]
  },
  {
   "cell_type": "markdown",
   "metadata": {},
   "source": [
    "- In **Command Mode**, keystrokes issue commands -- almost like keyboard shortcuts, but ones that only work when you're not typing stuff in. If you see a blue bar on the side of one of the cells, you're in Command Mode. To enter Command Mode, hit the Escape key (`Esc`)."
   ]
  },
  {
   "cell_type": "markdown",
   "metadata": {},
   "source": [
    "For example, in Command Mode pressing `A` or `B` will add a cell `A`bove or `B`elow the one highlighted.\n",
    "`X` will the \"cut\" the cell (like `Control-X` for cutting text),\n",
    "which is like deleting it, but you can paste the most recent one you cut\n",
    "_or_ copied (`C`, for `C`opy)\n",
    "back in with `V` (like `Control-V` for pasting text; `V` as in `V`elcro).\n",
    "\n",
    "With `A` and `B`, the inserted cell will always be a Code Cell.\n",
    "To convert it to a Markdown Cell, press `M` for \"`M`arkdown\".\n",
    "Note that you have to be in Command Mode, for this to work, otherwise you'll just type M.\n",
    "To convert a Markdown Cell to code, press `Y`.\n",
    "I'm unaware of a cute mnemonic for that shortcut.\n",
    "`Y` for \"`Y`eet this text over to the kernel to be executed\"?\n",
    "\n",
    "There are also lots of keyboard shortcuts in Edit Mode.\n",
    "In either mode, pressing `Shift, Enter` (the Shift key followed by the Enter key)\n",
    "has the same effect as clicking Run.\n",
    "\n",
    "The most important shortcut to remember is \"`H` in Command Mode\", or, even simpler, `Esc, H`.\n",
    "That's `H` as in \"`H`elp, I forgot how to use Jupyter!\"\n",
    "It will bring up a list of keyboard shortcuts in case you forget."
   ]
  },
  {
   "cell_type": "markdown",
   "metadata": {},
   "source": [
    "Try all of these commands now.\n",
    "Make sure you don't cut any important cells!\n",
    "If you do, you can always copy them back in from `lab00_blank.ipynb`.\n",
    "You'll need to copy the raw text and paste it into a new cell.\n",
    "If the cell was Markdown, make sure you convert the new cell!"
   ]
  },
  {
   "cell_type": "markdown",
   "metadata": {},
   "source": [
    "### Make Sure Your Notebook Runs from Scratch with `Esc, 0, 0`"
   ]
  },
  {
   "cell_type": "markdown",
   "metadata": {},
   "source": [
    "One other thing:\n",
    "as you go along, running more and more code cells,\n",
    "you'll sometimes get into a situation where you'd like to \"wipe the slate clean\"\n",
    "and \"start the Notebook over\" as though none of the code cells have been run.\n",
    "\n",
    "You can achieve this by hitting `Esc, 0, 0`.\n",
    "This will \"restart the kernel\",\n",
    "essentially deleting all of the names and variables you've\n",
    "defined by running code cells.\n",
    "\n",
    "If you'd also like to get rid of the output of all of the cells,\n",
    "so the notebook is totally pristine, select \"Kernel\"\n",
    "from the menu above and choose the option \"Restart and Clear Output\".\n",
    "\n",
    "It's a good idea to occasionally restart your notebook,\n",
    "especially if you've added and deleted a lot of code recently.\n",
    "That way you can ensure the notebook runs \"from scratch\",\n",
    "and isn't relying on any code you've deleted or moved out of order.\n",
    "\n",
    "When the notebooks are being graded, they will run \"from scratch\",\n",
    "so do this before your final submission!"
   ]
  },
  {
   "cell_type": "markdown",
   "metadata": {},
   "source": [
    "## The Beginning of Every Lab and Homework Will Look Roughly The Same"
   ]
  },
  {
   "cell_type": "markdown",
   "metadata": {},
   "source": [
    "At the top, there will be a four code cells and Markdown cell that look like this:"
   ]
  },
  {
   "cell_type": "code",
   "execution_count": null,
   "metadata": {},
   "outputs": [],
   "source": [
    "# this cell sets up plotting\n",
    "%matplotlib inline"
   ]
  },
  {
   "cell_type": "code",
   "execution_count": null,
   "metadata": {},
   "outputs": [],
   "source": [
    "# this cell does some background setup\n",
    "import sys\n",
    "\n",
    "sys.path.append(\"../../\")\n",
    "\n",
    "from shared.src import quiet\n",
    "from shared.src import seed\n",
    "from shared.src import style"
   ]
  },
  {
   "cell_type": "code",
   "execution_count": null,
   "metadata": {},
   "outputs": [],
   "source": [
    "# this cell brings in the packages we'll need\n",
    "from client.api.notebook import Notebook\n",
    "import matplotlib.pyplot as plt\n",
    "import ok\n",
    "\n",
    "import shared.src.utils.util as util"
   ]
  },
  {
   "cell_type": "code",
   "execution_count": null,
   "metadata": {},
   "outputs": [],
   "source": [
    "ok = Notebook(\"ok/config\")"
   ]
  },
  {
   "cell_type": "markdown",
   "metadata": {},
   "source": [
    "## Learning Objectives\n",
    "\n",
    "\n",
    "1. Learn to use Jupyter notebooks to interactively execute Python code.\n",
    "1. Practice using the OK autograder to get your lab scored and submitted.\n",
    "1. Recognize the importance of Learning Objectives"
   ]
  },
  {
   "cell_type": "markdown",
   "metadata": {},
   "source": [
    "The first two code cells are background setup that you won't need to touch.\n",
    "\n",
    "The third code cell is more setup, but you might occasionally find you want to change it.\n",
    "We'll talk more about what it's doing next week.\n",
    "\n",
    "The fourth cell sets up the autograder.\n",
    "\n",
    "Make sure you execute these four code cells before doing anything else.\n",
    "\n",
    "The last of the five cells, a Markdown cell, tells you what the Learning Objectives for the assignment are.\n",
    "This will be helpful in case you're ever uncertain why you're doing something,\n",
    "and can help you \"see the forest for the trees\" in an assignment."
   ]
  },
  {
   "cell_type": "markdown",
   "metadata": {},
   "source": [
    "## Completing Assignments"
   ]
  },
  {
   "cell_type": "markdown",
   "metadata": {},
   "source": [
    "Assignments will typically have three kinds of tasks:\n",
    "\n",
    "1. Free-response questions \n",
    "1. Autograded coding problems\n",
    "1. Coding problems with plotted output"
   ]
  },
  {
   "cell_type": "markdown",
   "metadata": {},
   "source": [
    "### Free-Response Questions will be Bold, Start with a Q"
   ]
  },
  {
   "cell_type": "markdown",
   "metadata": {},
   "source": [
    "Free-response questions, like the three below,\n",
    "will test your understanding of class concepts\n",
    "or ask you to interpret the output of your code.\n",
    "\n",
    "You enter your answer by double-clicking the cell to make it editable\n",
    "and then typing it in.\n",
    "Make sure you do not edit the line with the question!\n",
    "It will be used to automatically extract your answer.\n",
    "\n",
    "NOTE: If you have the cell highlighted in Command Mode, pressing `Enter` will also make it editable.\n",
    "That way you don't need to use your mouse!\n",
    "\n",
    "Answer the questions below.\n",
    "Though they won't be graded for accuracy,\n",
    "we will be checking to make sure everyone entered something in each\n",
    "and our grading software was able to extract their answer."
   ]
  },
  {
   "cell_type": "markdown",
   "metadata": {},
   "source": [
    "#### Q What is your name?"
   ]
  },
  {
   "cell_type": "markdown",
   "metadata": {},
   "source": [
    "#### Q What is your quest?"
   ]
  },
  {
   "cell_type": "markdown",
   "metadata": {},
   "source": [
    "#### Q What is your favorite color?"
   ]
  },
  {
   "cell_type": "markdown",
   "metadata": {},
   "source": [
    "### The OK Autograder will be Used to Grade Most Coding Problems"
   ]
  },
  {
   "cell_type": "markdown",
   "metadata": {},
   "source": [
    "For most coding problems,\n",
    "the OK autograder will run some code\n",
    "and check whether the outputs are as expected.\n",
    "\n",
    "It uses the state of the notebook when the command `ok.grade` or `ok.score` is called.\n",
    "That is, every variable, function, or name you have defined in the notebook\n",
    "will be available for OK to inspect.\n",
    "Behind the scenes, it might also define some other variables."
   ]
  },
  {
   "cell_type": "markdown",
   "metadata": {},
   "source": [
    "Here's a simple coding problem:\n",
    "\n",
    "\"Define a variable, `numbers_in_order`, that is a list has the numbers from `1` to `3` in order.\""
   ]
  },
  {
   "cell_type": "markdown",
   "metadata": {},
   "source": [
    "The cell below has an incorrect answer.\n",
    "If you execute the cell below that one, `ok.grade(\"q1\")`,\n",
    "OK will check whether the answer is correct,\n",
    "i.e. whether `numbers_in_order` is in fact a list with the numbers `1` to `3` in order.\n",
    "If it finds a mistake, it will output the code it ran along with\n",
    "an explanation of what it was testing and why.\n",
    "Those explanations will appear on lines that begin with hashtags/pound signs, `#`,\n",
    "in OK's output."
   ]
  },
  {
   "cell_type": "markdown",
   "metadata": {},
   "source": [
    "Try running the two cells below (perhaps first running the `ok.grade` cell, without running the cell that defines `numbers_in_order`, in order to see what happens)\n",
    "and observing the outputs.\n",
    "\n",
    "Then, change the definition of `numbers_in_order` so that the problem is solved,\n",
    "and make sure `ok` agrees with your solution."
   ]
  },
  {
   "cell_type": "code",
   "execution_count": null,
   "metadata": {},
   "outputs": [],
   "source": [
    "numbers_in_order = [3, 1, 2]"
   ]
  },
  {
   "cell_type": "code",
   "execution_count": null,
   "metadata": {},
   "outputs": [],
   "source": [
    "ok.grade(\"q1\")"
   ]
  },
  {
   "cell_type": "markdown",
   "metadata": {},
   "source": [
    "The cell for testing a given coding problem will always be located close to that problem."
   ]
  },
  {
   "cell_type": "markdown",
   "metadata": {},
   "source": [
    "Other times, the assigment might contain a broken version\n",
    "of some code and ask you to correct the mistake.\n",
    "\n",
    "\"The below function is supposed to add 1, as its name claims,\n",
    "but there's a bug and it's not working right.\n",
    "Fix the definition of `add_one` in the cell below.\""
   ]
  },
  {
   "cell_type": "code",
   "execution_count": null,
   "metadata": {},
   "outputs": [],
   "source": [
    "def add_one(x):\n",
    "    return x + 2"
   ]
  },
  {
   "cell_type": "code",
   "execution_count": null,
   "metadata": {},
   "outputs": [],
   "source": [
    "ok.grade(\"q2\")"
   ]
  },
  {
   "cell_type": "markdown",
   "metadata": {},
   "source": [
    "When there's lots of coding to do,\n",
    "the assignment might contain some template code in a Markdown cell,\n",
    "like the one below."
   ]
  },
  {
   "cell_type": "markdown",
   "metadata": {},
   "source": [
    "```python\n",
    "def return_hello_there():\n",
    "    return ? + \" there\"\n",
    "```"
   ]
  },
  {
   "cell_type": "markdown",
   "metadata": {},
   "source": [
    "This code won't run as is, but will if you\n",
    "1. Copy it and paste it into a code cell\n",
    "2. Add proper Python where any `?` marks appear.\n",
    "\n",
    "Sort of a fill-in-the-blanks problem.\n",
    "\n",
    "Such a problem might look like this:\n",
    "\n",
    "\"In a cell below, define a function `return_hello_there` that returns the string of letters `\"hello there\"`.\n",
    "Use the template code above to get started.\""
   ]
  },
  {
   "cell_type": "code",
   "execution_count": null,
   "metadata": {},
   "outputs": [],
   "source": [
    "ok.grade(\"q3\")"
   ]
  },
  {
   "cell_type": "markdown",
   "metadata": {},
   "source": [
    "Somewhere close to the bottom of the assignment, as here,\n",
    "there will be a cell with `ok.score` in it.\n",
    "\n",
    "This command runs all of the tests for every question in the assignment\n",
    "and prints out your current score.\n",
    "\n",
    "Make sure you don't delete this cell!\n",
    "If you do, you'll receive a `0`."
   ]
  },
  {
   "cell_type": "code",
   "execution_count": null,
   "metadata": {},
   "outputs": [],
   "source": [
    "ok.score()"
   ]
  },
  {
   "cell_type": "markdown",
   "metadata": {},
   "source": [
    "### Plot Outputs must be Saved with Specific Names"
   ]
  },
  {
   "cell_type": "markdown",
   "metadata": {},
   "source": [
    "Insights into data are often communicated visually, with plots.\n",
    "\n",
    "Some of the coding problems will end in the output of a plot.\n",
    "\n",
    "To ensure the plot is graded correctly,\n",
    "you must ensure it has the correct name.\n",
    "The name will either be told to you in the course of the problem,\n",
    "as in \"produce a plot with X, Y, Z, and save it to `figs/XYZ.png`\"\n",
    "or the command for saving the figure will be provided,\n",
    "as in the example problem, with solution, below.\n",
    "\n",
    "\"Produce a plot that says 'Go Bears!'\n",
    "and save it to a file called `figs/go_bears.png`.\""
   ]
  },
  {
   "cell_type": "code",
   "execution_count": null,
   "metadata": {},
   "outputs": [],
   "source": [
    "f = plt.figure()\n",
    "plt.plot(0.5, 0.67, marker=f\"$GO$\", markersize=64); plt.plot(0.5, 0.33, marker=f\"$BEARS!$\", markersize=128);\n",
    "plt.xlim(0, 1); plt.ylim(0, 1); plt.axis(\"off\");"
   ]
  },
  {
   "cell_type": "code",
   "execution_count": null,
   "metadata": {},
   "outputs": [],
   "source": [
    "f.savefig(\"figs/go_bears.png\")"
   ]
  },
  {
   "cell_type": "markdown",
   "metadata": {},
   "source": [
    "### When You're Done, Execute `ok.auth` and `ok.submit`"
   ]
  },
  {
   "cell_type": "markdown",
   "metadata": {},
   "source": [
    "If you're officially enrolled in this class for a grade,\n",
    "you'll need to submit your assignment when you are done.\n",
    "\n",
    "To do so, add two cells, anywhere you like, that\n",
    "log you into\n",
    "[OKpy.org](https://okpy.org)\n",
    "and submit your assignment."
   ]
  },
  {
   "cell_type": "markdown",
   "metadata": {},
   "source": [
    "The first, to log-in or \"`auth`orize\" yourself, should have the command `ok.auth()`, and nothing else.\n",
    "Follow the instructions that appear beneath the cell when it is run."
   ]
  },
  {
   "cell_type": "markdown",
   "metadata": {},
   "source": [
    "The second, to `submit` your assignment, should have the command `ok.submit()` and nothing else.\n",
    "Adding anything else to the cell can cause issues with autograding your assignment."
   ]
  },
  {
   "cell_type": "markdown",
   "metadata": {},
   "source": [
    "### Autograding Gotchas"
   ]
  },
  {
   "cell_type": "markdown",
   "metadata": {},
   "source": [
    "- Feel free to submit early and often. Only the last submission before the deadline will be graded."
   ]
  },
  {
   "cell_type": "markdown",
   "metadata": {},
   "source": [
    "- It's probably a good idea to use `Esc, 0,0` to restart the kernel,\n",
    "then run your whole assignment up to the `ok.score()` part,\n",
    "to make sure that the notebook runs, right before your final submission."
   ]
  },
  {
   "cell_type": "markdown",
   "metadata": {},
   "source": [
    "- If the code you submit doesn't run, you'll get a `0` for the assignment."
   ]
  },
  {
   "cell_type": "markdown",
   "metadata": {},
   "source": [
    "- If any cell runs longer for 10 minutes, you'll get a `0` for the assignment-."
   ]
  },
  {
   "cell_type": "markdown",
   "metadata": {},
   "source": [
    "The hacker-minded might notice that, since the grading files are on your machine,\n",
    "you can just edit them to give yourself a perfect score.\n",
    "This will not work once you submit the assignment.\n",
    "We have methods for ensuring and checking the integrity of the grading code\n",
    "and will perform manual spot checks.\n",
    "If you're caught cheating, you'll be recommended for academic discipline."
   ]
  }
 ],
 "metadata": {
  "kernelspec": {
   "display_name": "Python 3",
   "language": "python",
   "name": "python3"
  },
  "language_info": {
   "codemirror_mode": {
    "name": "ipython",
    "version": 3
   },
   "file_extension": ".py",
   "mimetype": "text/x-python",
   "name": "python",
   "nbconvert_exporter": "python",
   "pygments_lexer": "ipython3",
   "version": "3.6.8"
  }
 },
 "nbformat": 4,
 "nbformat_minor": 2
}
