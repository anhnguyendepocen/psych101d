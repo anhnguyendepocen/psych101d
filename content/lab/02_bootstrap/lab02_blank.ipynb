{
 "cells": [
  {
   "cell_type": "markdown",
   "metadata": {},
   "source": [
    "<img src=\"../../shared/img/banner.svg\"></img>"
   ]
  },
  {
   "cell_type": "markdown",
   "metadata": {},
   "source": [
    "# Lab 02 - Bootstrap Estimation for Personality Data"
   ]
  },
  {
   "cell_type": "markdown",
   "metadata": {},
   "source": [
    "**REMEMBER**: if you downloaded this lab to datahub with an interact link,\n",
    "it will be called `lab02_blank.ipynb`.\n",
    "\n",
    "Before doing any work, go to the dropdown menu, `File > Make a Copy`,\n",
    "and then rename that copy to `lab02.ipynb`.\n",
    "Work in the copy, rather than the original."
   ]
  },
  {
   "cell_type": "code",
   "execution_count": null,
   "metadata": {},
   "outputs": [],
   "source": [
    "%matplotlib inline\n"
   ]
  },
  {
   "cell_type": "code",
   "execution_count": null,
   "metadata": {},
   "outputs": [],
   "source": [
    "import sys\n",
    "\n",
    "sys.path.append(\"../../\")\n",
    "\n",
    "from shared.src import quiet\n",
    "from shared.src import seed\n",
    "from shared.src import style"
   ]
  },
  {
   "cell_type": "code",
   "execution_count": null,
   "metadata": {},
   "outputs": [],
   "source": [
    "import json\n",
    "import itertools\n",
    "\n",
    "from client.api.notebook import Notebook\n",
    "import matplotlib.pyplot as plt\n",
    "import numpy as np\n",
    "import pandas as pd\n",
    "import seaborn as sns\n",
    "\n",
    "import utils.plot"
   ]
  },
  {
   "cell_type": "code",
   "execution_count": null,
   "metadata": {},
   "outputs": [],
   "source": [
    "ok = Notebook(\"ok/config\")"
   ]
  },
  {
   "cell_type": "code",
   "execution_count": null,
   "metadata": {},
   "outputs": [],
   "source": [
    "sns.set_context(\"notebook\", font_scale=1.7)"
   ]
  },
  {
   "cell_type": "markdown",
   "metadata": {},
   "source": [
    "## Learning Goals"
   ]
  },
  {
   "cell_type": "markdown",
   "metadata": {},
   "source": [
    "1. Practice using bootstrapping to calculate uncertainty.\n",
    "1. Learn to draw inferences from bootstrap samples \n",
    "1. Visualize uncertainty using seaborn."
   ]
  },
  {
   "cell_type": "markdown",
   "metadata": {},
   "source": [
    "## Personality Types"
   ]
  },
  {
   "cell_type": "markdown",
   "metadata": {},
   "source": [
    "The\n",
    "[Myers-Briggs Type Indicator](https://amazon.com/Manual-Guide-Development-Myers-Briggs-Indicator/dp/0891060278)\n",
    "(MBTI) is a personality test common in\n",
    "[management psychology](https://journals.sagepub.com/doi/abs/10.1177/014920639602200103).\n",
    "Though evidence for its utility and cross-cultural validity is\n",
    "[limited](https://www.researchgate.net/publication/232494957_Cautionary_comments_regarding_the_Myers-Briggs_Type_Indicator),\n",
    "and mainstream psychology prefers the\n",
    "[\"Big Five\"](https://en.wikipedia.org/wiki/Big_Five_personality_traits),\n",
    "the MBTI has\n",
    "[cultural staying power](https://www.newyorker.com/culture/culture-desk/the-enduring-allure-of-the-personality-quiz)\n",
    "and a\n",
    "[devoted online following](https://www.reddit.com/r/mbti/).\n",
    "\n",
    "The test is based on\n",
    "[Jungian personality theory](https://en.wikipedia.org/wiki/Personality_type#Carl_Jung),\n",
    "which breaks personality down by means of **preferences** in each of four categories:"
   ]
  },
  {
   "cell_type": "markdown",
   "metadata": {},
   "source": [
    "- Direction of Energy: `E`xtroverted, outward-oriented, or `I`ntroverted, inward-oriented\n",
    "- Perception: `S`ensing, preferring raw sensations, or I`N`tuitive, preferring internal interpretations\n",
    "- Decision-Making: `F`eeling, using emotional responses, or `T`hinking, using abstract rules\n",
    "- Outward Orientation: Passing `J`udgement or simply `P`erceiving things"
   ]
  },
  {
   "cell_type": "markdown",
   "metadata": {},
   "source": [
    "An individual is assigned a letter from each category,\n",
    "resulting in a four-letter string called a **type**.\n",
    "\n",
    "For example,\n",
    "an `ENFP` is an `E`xternally-oriented person who uses their i`N`tuition/internal abstractions,\n",
    "takes into account `F`eelings when making decisions and prefers `P`erceiving the world to passing judgment.\n",
    "\n",
    "There are thus $2 * 2 * 2 * 2 = 16$ possible types.\n",
    "The cell below defines a function,\n",
    "`make_mbti_type_list`,\n",
    "that will generate a Python list containing each of the 16 types,\n",
    "which you might find useful later."
   ]
  },
  {
   "cell_type": "code",
   "execution_count": null,
   "metadata": {},
   "outputs": [],
   "source": [
    "def make_mbti_type_list():\n",
    "    indexers = list(itertools.product([0,1] ,repeat=4))\n",
    "    types_array = np.array([[\"E\", \"I\"], [\"N\", \"S\"], [\"F\", \"T\"], [\"J\", \"P\"]])\n",
    "    \n",
    "    types = [\"\".join(types_array[[0, 1, 2, 3], indexer]) for indexer in indexers]\n",
    "    \n",
    "    return types\n",
    "\n",
    "type_list = make_mbti_type_list()\n",
    "\n",
    "type_list"
   ]
  },
  {
   "cell_type": "markdown",
   "metadata": {},
   "source": [
    "As the [Myers & Briggs Foundation notes](https://www.myersbriggs.org/my-mbti-personality-type/my-mbti-results/how-frequent-is-my-type.htm),\n",
    "one of the first questions you might want to ask is\n",
    "\"how common are each of these types\"?\n",
    "That is, how **prevalent** are the types and preferences\n",
    "in some population of interest?\n",
    "They report some data on the prevalence of each type,\n",
    "and of each preference in each category,\n",
    "in the United States' population.\n",
    "\n",
    "The cell below loads this data into a dictionary called `mbti_stats`.\n",
    "The types and categories serve as keys and the values are the prevalences,\n",
    "so `mbti_stats[\"ISFT\"]` is the prevalence of the ISTJ type,\n",
    "while `mbti_stats[\"I\"]` is the prevalence of the preference I,\n",
    "reported as fractions.\n",
    "Notice that the prevalence of a pair of preferences from the same category,\n",
    "e.g. E and I, from the first category, add up to 1.\n",
    "The prevalences for the sixteen types add up to slightly more than 1, due to rounding."
   ]
  },
  {
   "cell_type": "code",
   "execution_count": null,
   "metadata": {},
   "outputs": [],
   "source": [
    "with open(\"data/mbti_stats.json\") as f:\n",
    "    mbti_stats = json.load(f)\n",
    "\n",
    "print(mbti_stats)"
   ]
  },
  {
   "cell_type": "markdown",
   "metadata": {},
   "source": [
    "The cell below loads in some data about the MBTI types of a small subset of users of\n",
    "[Personality Cafe](https://www.personalitycafe.com/),\n",
    "a forum devoted to discussing aspects of personality\n",
    "and connecting individuals on the basis of their results on personality tests."
   ]
  },
  {
   "cell_type": "code",
   "execution_count": null,
   "metadata": {},
   "outputs": [],
   "source": [
    "mbti = pd.read_csv(\"data/downsampled_mbti.csv\", index_col=0)\n",
    "\n",
    "mbti.head()"
   ]
  },
  {
   "cell_type": "markdown",
   "metadata": {},
   "source": [
    "In this week's lab, you are tasked with using bootstrapping to determine whether\n",
    "the prevalences of the eight preferences and sixteen types among users of Personality Cafe\n",
    "match the prevalences reported by the Myers & Briggs Foundation for the general population.\n",
    "\n",
    "This is an example of an inferential problem, as discussed in class,\n",
    "so we will use bootstrapping to estimate our uncertainty\n",
    "and then use histograms to visually evaluate the results.\n",
    "We will leave quantifying our uncertainty for this week's homework.\n",
    "\n",
    "See the **Python Tips** section at the bottom of the lab for coding hints."
   ]
  },
  {
   "cell_type": "markdown",
   "metadata": {},
   "source": [
    "## Preference Prevalences"
   ]
  },
  {
   "cell_type": "markdown",
   "metadata": {},
   "source": [
    "For the Extroverted preference,\n",
    "compute the prevalence in the Personality Cafe user data\n",
    "and save the value to a variable called `observed_E_prevalence`."
   ]
  },
  {
   "cell_type": "code",
   "execution_count": null,
   "metadata": {},
   "outputs": [],
   "source": [
    "ok.grade(\"q1\")"
   ]
  },
  {
   "cell_type": "markdown",
   "metadata": {},
   "source": [
    "Now, for each of the eight preferences, E, N, F, J, I, S, T, and P,\n",
    "apply bootstrapping to the prevalence to get an estimate of your uncertainty.\n",
    "Between 100 and 1000 bootstraps should be sufficient.\n",
    "Visualize your uncertainty by plotting the distribution of observed values with `sns.distplot`."
   ]
  },
  {
   "cell_type": "markdown",
   "metadata": {},
   "source": [
    "## Type Prevalences"
   ]
  },
  {
   "cell_type": "markdown",
   "metadata": {},
   "source": [
    "Compute the prevalence of the INTJ type in the Personality Cafe user data\n",
    "and save the value to a variable called `observed_INTJ_prevalence`."
   ]
  },
  {
   "cell_type": "code",
   "execution_count": null,
   "metadata": {},
   "outputs": [],
   "source": [
    "ok.grade(\"q2\")"
   ]
  },
  {
   "cell_type": "markdown",
   "metadata": {},
   "source": [
    "For each of the sixteen types,\n",
    "use bootstrapping to estimate your uncertainty in the prevalence.\n",
    "Between, 100 and 1000 bootstraps will suffice.\n",
    "Again, visualize your uncertainty with `sns.distplot`."
   ]
  },
  {
   "cell_type": "markdown",
   "metadata": {},
   "source": [
    "## Questions\n",
    "\n",
    "Answer the questions below before submitting your lab."
   ]
  },
  {
   "cell_type": "markdown",
   "metadata": {},
   "source": [
    "#### Q For which of the preferences of `E`, `N`, `F`, and `J`, does it appear that the users of Personality Cafe have a different prevalence than the values reported for the broader population by the Myers & Briggs Foundation? Explain how you came to your conclusion."
   ]
  },
  {
   "cell_type": "markdown",
   "metadata": {},
   "source": [
    "#### Q For which of the 16 types does it appear that the users of Personality Cafe have about the same prevalence as reported for the broader population? Explain how you came to your conclusion."
   ]
  },
  {
   "cell_type": "code",
   "execution_count": null,
   "metadata": {},
   "outputs": [],
   "source": [
    "ok.score()"
   ]
  },
  {
   "cell_type": "markdown",
   "metadata": {},
   "source": [
    "## Python Tips"
   ]
  },
  {
   "cell_type": "markdown",
   "metadata": {},
   "source": [
    "### Calculating Prevalences"
   ]
  },
  {
   "cell_type": "markdown",
   "metadata": {},
   "source": [
    "You might calculate the prevalences of each preference\n",
    "by using .`apply` or `==` to get a Boolean series indicating whether a given row contains a given preference\n",
    "and then using `.mean` to to calculate the fraction that are `True` or `False`.\n",
    "\n",
    "To calculate the prevalences of the types,\n",
    "you'll need to do a bit more work,\n",
    "since there is no `\"type\"` column.\n",
    "To get a column for personality type,\n",
    "you might use `.apply` on each row of the dataframe by passing the keyword argument `axis=1`:"
   ]
  },
  {
   "cell_type": "markdown",
   "metadata": {},
   "source": [
    "```python\n",
    "df.apply(?, axis=1)\n",
    "```"
   ]
  },
  {
   "cell_type": "markdown",
   "metadata": {},
   "source": [
    "where you'll need to replace the `?` with a function that takes in a row from `mbti`\n",
    "and returns the type of the individual represented by that row."
   ]
  },
  {
   "cell_type": "markdown",
   "metadata": {},
   "source": [
    "### Bootstrapping"
   ]
  },
  {
   "cell_type": "markdown",
   "metadata": {},
   "source": [
    "From a dataframe `df`, you can compute a bootstrap sample with"
   ]
  },
  {
   "cell_type": "markdown",
   "metadata": {},
   "source": [
    "```python\n",
    "boostrap_df = df.sample(frac=1, replace=True)\n",
    "```"
   ]
  },
  {
   "cell_type": "markdown",
   "metadata": {},
   "source": [
    "### Plotting"
   ]
  },
  {
   "cell_type": "markdown",
   "metadata": {},
   "source": [
    "#### Plotting Distributions"
   ]
  },
  {
   "cell_type": "markdown",
   "metadata": {},
   "source": [
    "To plot the results of your bootstrap,\n",
    "you could use `distplot` from seaborn.\n",
    "If `bootstrap_values` were a list of the values of a statistic computed on a bunch of bootstrap samples,\n",
    "you would plot their distribution with\n",
    "\n",
    "```python\n",
    "sns.distplot(bootstrap_values)\n",
    "```\n",
    "\n",
    "If you call this function multiple times in the same cell,\n",
    "the distributions will be plotted on top of each other.\n",
    "Use the `label` keyword argument,\n",
    "plus the command `plt.legend()`,\n",
    "to label them.\n",
    "\n",
    "An example, labeling two bootstrap samples, `bootstrap1_values` and `bootstrap2_values`,\n",
    "appears below."
   ]
  },
  {
   "cell_type": "markdown",
   "metadata": {},
   "source": [
    "```python\n",
    "sns.distplot(bootstrap1_values, label=\"name for bootstrap1\")\n",
    "sns.distplot(bootstrap2_values, label=\"name for bootstrap2\")\n",
    "plt.legend();\n",
    "```"
   ]
  },
  {
   "cell_type": "markdown",
   "metadata": {},
   "source": [
    "#### Plotting a Comparison Value"
   ]
  },
  {
   "cell_type": "markdown",
   "metadata": {},
   "source": [
    "In order to answer the questions,\n",
    "you'll want to compare the bootstrap samples to the values in\n",
    "`mbti_stats`.\n",
    "The function `utils.plot.add_vertical_line` makes this easier\n",
    "by plotting a vertical line at the point on the x-axis given by `value`."
   ]
  },
  {
   "cell_type": "markdown",
   "metadata": {},
   "source": [
    "This cell shows how to use `utils.plot.add_vertical_line` in concert with `sns.displot`\n",
    "to plot the bootstrapping results for the prevalence of a given type, ENFJ,\n",
    "along with the prevalence reported by the Myers & Briggs Foundation,\n",
    "presuming that the former is stored in a list or series called `enfj_bootstrap_values`."
   ]
  },
  {
   "cell_type": "markdown",
   "metadata": {},
   "source": [
    "```python\n",
    "sns.distplot(enfj_bootstrap_values, label=\"Bootstrapped ENFJ Fraction\")\n",
    "utils.plot.add_vertical_line(mbti_stats[\"ENFJ\"], label=\"Reported ENFJ Fraction\")\n",
    "```"
   ]
  },
  {
   "cell_type": "markdown",
   "metadata": {},
   "source": [
    "Execute a cell containing the code\n",
    "```python\n",
    "utils.plot.utils.plot.add_vertical_line??\n",
    "```\n",
    "to see the documentation for this function."
   ]
  },
  {
   "cell_type": "markdown",
   "metadata": {},
   "source": [
    "#### Advanced: Subplots"
   ]
  },
  {
   "cell_type": "markdown",
   "metadata": {},
   "source": [
    "If you want to learn to make fancier figures that have subplots,\n",
    "consider adapting the code below.\n",
    "\n",
    "It produces a figure with 16 subplots, in a grid of 4 rows and 4 columns,\n",
    "and then calls `distplot` on three bootstrap samples,\n",
    "plotting them in the axis in the top-left corner,\n",
    "the axis next to it, and the axis beneath it.\n",
    "\n",
    "Creating a plot with subplots is not necessary for getting full credit on? this lab."
   ]
  },
  {
   "cell_type": "markdown",
   "metadata": {},
   "source": [
    "```python\n",
    "f, axs = plt.subplots(figsize=(16, 16), nrows=4, ncols=4)\n",
    "axs = list(axs)  # a list of lists of axes\n",
    "sns.distplot(enfj_bootstrap_values, ax=axs[0][0])\n",
    "sns.distplot(enfp_bootstrap_values, ax=axs[0][1])\n",
    "sns.distplot(esfj_bootstrap_values, ax=axs[1][1])\n",
    "# and so on\n",
    "```"
   ]
  }
 ],
 "metadata": {
  "kernelspec": {
   "display_name": "Python 3",
   "language": "python",
   "name": "python3"
  },
  "language_info": {
   "codemirror_mode": {
    "name": "ipython",
    "version": 3
   },
   "file_extension": ".py",
   "mimetype": "text/x-python",
   "name": "python",
   "nbconvert_exporter": "python",
   "pygments_lexer": "ipython3",
   "version": "3.6.8"
  }
 },
 "nbformat": 4,
 "nbformat_minor": 2
}
