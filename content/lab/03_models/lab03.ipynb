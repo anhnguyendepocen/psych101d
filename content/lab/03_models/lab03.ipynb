{
 "cells": [
  {
   "cell_type": "markdown",
   "metadata": {},
   "source": [
    "<img src=\"../../shared/img/banner.svg\"></img>"
   ]
  },
  {
   "cell_type": "markdown",
   "metadata": {},
   "source": [
    "# Lab 03 - Models and Monsters"
   ]
  },
  {
   "cell_type": "code",
   "execution_count": null,
   "metadata": {},
   "outputs": [],
   "source": [
    "%matplotlib inline"
   ]
  },
  {
   "cell_type": "code",
   "execution_count": null,
   "metadata": {},
   "outputs": [],
   "source": [
    "import sys\n",
    "\n",
    "sys.path.append(\"../../\")\n",
    "\n",
    "from shared.src import quiet\n",
    "from shared.src import seed"
   ]
  },
  {
   "cell_type": "code",
   "execution_count": null,
   "metadata": {},
   "outputs": [],
   "source": [
    "import random\n",
    "\n",
    "from IPython.display import Image\n",
    "import matplotlib.pyplot as plt\n",
    "import numpy as np\n",
    "import pandas as pd\n",
    "import pymc3 as pm\n",
    "import seaborn as sns\n",
    "\n",
    "import shared.src.utils.util as util"
   ]
  },
  {
   "cell_type": "markdown",
   "metadata": {},
   "source": [
    "## Learning Objectives\n",
    "\n",
    "\n",
    "1. Practice building models of random processes.\n",
    "1. Learn to recognize problems in real life that you can use models to solve."
   ]
  },
  {
   "cell_type": "markdown",
   "metadata": {},
   "source": [
    "## Distributions & Dragons"
   ]
  },
  {
   "cell_type": "code",
   "execution_count": null,
   "metadata": {},
   "outputs": [],
   "source": [
    "Image(\"./img/dndlogo.jpg\", width=500)"
   ]
  },
  {
   "cell_type": "markdown",
   "metadata": {},
   "source": [
    "[*Dungeons & Dragons*](http://dnd.wizards.com/) (R), or D&D, is the world's most popular tabletop roleplaying game.\n",
    "In addition to non-random, human-controlled elements of storytelling, it features lots of cases where story outcomes are determined by the rolling of dice of varying sides, most prominently a 20-sided die.\n",
    "\n",
    "One of the most important examples is *attacking*, when one character tries to use a weapon against another.\n",
    "The core idea is as follows:\n",
    "\n",
    "1. The attacker rolls a 20 sided die (`pm.DiscreteUniform`, with `lower=1` and `upper=20`).\n",
    "1. If the number on that die is as high or higher than the armor of the opponent, the attack \"hits\" and deals damage.\n",
    "1. If the number on that die is also as high or higher than the \"critical range\" of the attacker's weapon, then the attacker rolls another 20 sided die. This is called a \"confirmation roll\".\n",
    "1. If that number is also higher than the armor of the opponent, the attacker deals a \"critical hit\", meaning the attacker deals damage again.\n",
    "\n",
    "A character is dead if the amount of damage dealt exceeds their health points,\n",
    "so being able to do more damage to enemies is better.\n",
    "\n",
    "Unlike in the case of games like\n",
    "[*Risk*](https://en.wikipedia.org/wiki/Risk_(game)) or\n",
    "[*Root*](https://boardgamegeek.com/boardgame/237182/root) it can be much harder in D&D to use math to calculate things like how much damage a weapon will do on average or in the median (especially once additional rules get added to the above!).\n",
    "\n",
    "However, it's not that much harder to *simulate*!\n",
    "The function below produces models for how attacks are carried out in D&D."
   ]
  },
  {
   "cell_type": "code",
   "execution_count": null,
   "metadata": {},
   "outputs": [],
   "source": [
    "def construct_dnd_model(function_to_add_damage, armor=15):\n",
    "    dnd_model = pm.Model()\n",
    "\n",
    "    with dnd_model:\n",
    "\n",
    "        attack_roll = pm.DiscreteUniform(name=\"attack_roll\",\n",
    "                                         lower=1, upper=20)\n",
    "        confirmation_roll = pm.DiscreteUniform(name=\"confirmation_roll\",\n",
    "                                               lower=1, upper=20)\n",
    "\n",
    "        attack_hit = pm.Deterministic(name=\"attack_hit\",\n",
    "                                      var=attack_roll >= armor)\n",
    "\n",
    "        base_damage_roll, critical_damage_roll, critical_threat = function_to_add_damage(attack_roll)\n",
    "\n",
    "        critical_confirmed = pm.Deterministic(name=\"critical_confirmed\",\n",
    "                                              var=confirmation_roll >= armor)\n",
    "\n",
    "        critical_hit = pm.Deterministic(name=\"critical_hit\",\n",
    "                                        var=critical_threat * critical_confirmed)\n",
    "\n",
    "        total_damage = pm.Deterministic(name=\"total_damage\",\n",
    "                                        var=attack_hit * base_damage_roll + critical_hit * critical_damage_roll)\n",
    "        \n",
    "    return dnd_model"
   ]
  },
  {
   "cell_type": "markdown",
   "metadata": {},
   "source": [
    "Note that the simulation above is not an exact step-for-step implementation of the process described by the rules.\n",
    "For example, instead of, e.g., only doing the `confirmation_roll` when the `attack_roll` is above the `critical_range`, we always do it, but we only add in the damage if `critical_hit` is `True`."
   ]
  },
  {
   "cell_type": "markdown",
   "metadata": {},
   "source": [
    "Because different weapons do damage differently, we need to provide a `function_to_add_damage` to complete our model.\n",
    "The template below shows the basic outline of such a function."
   ]
  },
  {
   "cell_type": "markdown",
   "metadata": {},
   "source": [
    "```python\n",
    "def function_to_add_damage(attack_roll):\n",
    "    \"\"\"Differs based on the weapon, which have varying damage rolls and critical ranges.\n",
    "    \"\"\"\n",
    "    critical_range = ...\n",
    "    \n",
    "    base_damage_roll = ...\n",
    "    critical_damage_roll = ...\n",
    "    critical_threat = ...\n",
    "    \n",
    "    return base_damage_roll, critical_damage_roll, critical_threat\n",
    "```"
   ]
  },
  {
   "cell_type": "markdown",
   "metadata": {},
   "source": [
    "An example weapon is below.\n",
    "In D&D terms, the longsword would be described as dealing damage with _two six-sided die_\n",
    "(notice the `base_damage_roll` adds together two `DiscreteUniform` random variables between `1` and `6`)\n",
    "and having a _critical range of 20_."
   ]
  },
  {
   "cell_type": "code",
   "execution_count": null,
   "metadata": {},
   "outputs": [],
   "source": [
    "def add_longsword(attack_roll):\n",
    "    \n",
    "    critical_range = 20\n",
    "    base_damage_roll = pm.Deterministic(name=\"base_damage_roll\",\n",
    "                                        var=pm.DiscreteUniform(\"bd_d6_1\", lower=1, upper=6) +\n",
    "                                        pm.DiscreteUniform(\"bd_d6_2\", lower=1, upper=6))\n",
    "    critical_damage_roll = pm.Deterministic(name=\"critical_damage_roll\",\n",
    "                                            var=pm.DiscreteUniform(\"cd_d6_1\", lower=1, upper=6) +\n",
    "                                            pm.DiscreteUniform(\"cd_d6_2\", lower=1, upper=6))\n",
    "    critical_threat = pm.Deterministic(name=\"critical_threat\",\n",
    "                                       var=attack_roll >= critical_range)\n",
    "    \n",
    "    return base_damage_roll, critical_damage_roll, critical_threat\n",
    "    "
   ]
  },
  {
   "cell_type": "markdown",
   "metadata": {},
   "source": [
    "The code cells below will construct a model for damage dealing with the longsword, draw 1000 samples from it, and then convert those samples into a dataframe for ease of analysis."
   ]
  },
  {
   "cell_type": "code",
   "execution_count": null,
   "metadata": {},
   "outputs": [],
   "source": [
    "longsword_model = construct_dnd_model(add_longsword)"
   ]
  },
  {
   "cell_type": "code",
   "execution_count": null,
   "metadata": {},
   "outputs": [],
   "source": [
    "with longsword_model:\n",
    "    longsword_attacks = pm.sample(draws=1000)"
   ]
  },
  {
   "cell_type": "code",
   "execution_count": null,
   "metadata": {},
   "outputs": [],
   "source": [
    "longsword_df = util.samples_to_dataframe(longsword_attacks)"
   ]
  },
  {
   "cell_type": "markdown",
   "metadata": {},
   "source": [
    "From the samples, compute the following:\n",
    "\n",
    "- Fraction of times a critical hit happens\n",
    "- Average damage, including and not including critical hits\n",
    "- Fraction of times the attack roll and the confirmation roll are both odd"
   ]
  },
  {
   "cell_type": "code",
   "execution_count": null,
   "metadata": {},
   "outputs": [],
   "source": []
  },
  {
   "cell_type": "markdown",
   "metadata": {},
   "source": [
    "### A Critical Decision"
   ]
  },
  {
   "cell_type": "markdown",
   "metadata": {},
   "source": [
    "As a reward for completing a quest, a wizard offers your friend, Cora the Barbarian, a choice of two weapons: a keen katana +1 and a longsword +2.\n",
    "As the party's datamancer, it is your responsibility to provide data-driven modeling services and support optimal adventuring decision-making.\n",
    "\n",
    "Help Cora select a weapon by simulating the damage output for both of them.\n",
    "Produce samples, visualize and analyze them,\n",
    "and then make an argument for either the katana or the longsword.\n",
    "\n",
    "Here's how you'll do it:\n",
    "\n",
    "Write two functions below which add weapon damage rolls and critical threats\n",
    "to the model:\n",
    "`add_keen_katana` and\n",
    "`add_longsword_plus_two`.\n",
    "\n",
    "The `keen_katana` has a `critical_range` of `16` and rolls two six-sided die and adds `1`.\n",
    "The `longsword_plus_two` has a `critical_range` of `20` and rolls two six-sided die and adds `2`."
   ]
  },
  {
   "cell_type": "markdown",
   "metadata": {},
   "source": [
    "Give those functions to `construct_dnd_model` and then draw a good number of samples from each (maybe just a thousand while you're still playing around, but then maybe a few tens of thousands once you're ready to do your final analysis).\n",
    "\n",
    "Create visualizations for the resulting data, comparing the damage output of the `longsword_plus_two` and of the `keen_katana`.\n",
    "Calculate descriptive statistics on the damage, including at least the mean, standard deviation, median, and 25th and 75th percentiles.\n",
    "\n",
    "Combine your visualizations and your statistics to make an argument to Cora about which weapon she should choose.\n",
    "If you feel there's no strong reason to prefer either, you're free to claim that as well!\n",
    "Just make your argument data-driven, rather than about the stylistic differences between a katana and a longsword (you are a _datamancer_, not an emotion lord)."
   ]
  },
  {
   "cell_type": "code",
   "execution_count": null,
   "metadata": {},
   "outputs": [],
   "source": [
    "# def add_keen_katana(attack_roll):\n",
    "#     return base_damage_roll, critical_damage_roll, critical_threat\n",
    "\n",
    "# def add_longsword_plus_two(attack_roll):\n",
    "#     return base_damage_roll, critical_damage_roll, critical_threat"
   ]
  },
  {
   "cell_type": "code",
   "execution_count": null,
   "metadata": {},
   "outputs": [],
   "source": []
  }
 ],
 "metadata": {
  "kernelspec": {
   "display_name": "Python 3",
   "language": "python",
   "name": "python3"
  },
  "language_info": {
   "codemirror_mode": {
    "name": "ipython",
    "version": 3
   },
   "file_extension": ".py",
   "mimetype": "text/x-python",
   "name": "python",
   "nbconvert_exporter": "python",
   "pygments_lexer": "ipython3",
   "version": "3.6.8"
  }
 },
 "nbformat": 4,
 "nbformat_minor": 2
}
