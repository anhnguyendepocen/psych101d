{
 "cells": [
  {
   "cell_type": "markdown",
   "metadata": {},
   "source": [
    "<img src=\"../../shared/img/banner.svg\"></img>"
   ]
  },
  {
   "cell_type": "markdown",
   "metadata": {},
   "source": [
    "# Lab 03 - Models and Monsters"
   ]
  },
  {
   "cell_type": "code",
   "execution_count": null,
   "metadata": {},
   "outputs": [],
   "source": [
    "%matplotlib inline"
   ]
  },
  {
   "cell_type": "code",
   "execution_count": null,
   "metadata": {},
   "outputs": [],
   "source": [
    "import sys\n",
    "\n",
    "sys.path.append(\"../../\")\n",
    "\n",
    "from shared.src import quiet\n",
    "from shared.src import seed\n",
    "from shared.src import style"
   ]
  },
  {
   "cell_type": "code",
   "execution_count": null,
   "metadata": {},
   "outputs": [],
   "source": [
    "import random\n",
    "\n",
    "from client.api.notebook import Notebook\n",
    "from IPython.display import Image\n",
    "import matplotlib.pyplot as plt\n",
    "import numpy as np\n",
    "import pandas as pd\n",
    "import pymc3 as pm\n",
    "import seaborn as sns\n",
    "import scipy.stats\n",
    "\n",
    "import shared.src.utils.util as util"
   ]
  },
  {
   "cell_type": "code",
   "execution_count": null,
   "metadata": {},
   "outputs": [],
   "source": [
    "sns.set_context(\"notebook\", font_scale=1.7)"
   ]
  },
  {
   "cell_type": "code",
   "execution_count": null,
   "metadata": {},
   "outputs": [],
   "source": [
    "ok = Notebook(\"ok/config\")"
   ]
  },
  {
   "cell_type": "markdown",
   "metadata": {},
   "source": [
    "## Learning Objectives\n",
    "\n",
    "\n",
    "1. Practice building models of random processes with pyMC.\n",
    "1. Learn to recognize problems in real life that you can use models to solve."
   ]
  },
  {
   "cell_type": "markdown",
   "metadata": {},
   "source": [
    "## Distributions & Dragons"
   ]
  },
  {
   "cell_type": "code",
   "execution_count": null,
   "metadata": {},
   "outputs": [],
   "source": [
    "Image(\"./img/dndlogo.jpg\", width=500)"
   ]
  },
  {
   "cell_type": "markdown",
   "metadata": {},
   "source": [
    "[*Dungeons & Dragons*](http://dnd.wizards.com/) (R), or D&D, is the world's most popular tabletop roleplaying game.\n",
    "In addition to non-random, human-controlled elements of storytelling, it features lots of cases where story outcomes are determined by the rolling of dice of varying sides, most prominently a 20-sided die.\n",
    "\n",
    "One of the most important examples is *attacking*, when one character tries to use a weapon against another.\n",
    "The core idea is as follows:\n",
    "\n",
    "1. The attacker rolls a 20 sided die (`pm.DiscreteUniform`, with `lower=1` and `upper=20`).\n",
    "1. If the number on that die is as high or higher than the armor of the opponent, the attack \"hits\" and deals damage.\n",
    "1. If the number on that die is also as high or higher than the \"critical range\" of the attacker's weapon, then the attacker rolls another 20 sided die. This is called a \"confirmation roll\".\n",
    "1. If that number is also higher than the armor of the opponent, the attacker deals a \"critical hit\", meaning the attacker deals damage again.\n",
    "\n",
    "A character is dead if the amount of damage dealt exceeds their health points,\n",
    "so being able to do more damage to enemies is better.\n",
    "\n",
    "Unlike in the case of games like\n",
    "[*Risk*](https://en.wikipedia.org/wiki/Risk_(game)) or\n",
    "[*Root*](https://boardgamegeek.com/boardgame/237182/root) it can be much harder in D&D to use math to calculate things like how much damage a weapon will do on average or in the median (especially once additional rules get added to the above!).\n",
    "\n",
    "However, it's not that much harder to *simulate*!\n",
    "The function below produces models for D&D attacks.\n",
    "Ignore the `magic_bonus` argument for now."
   ]
  },
  {
   "cell_type": "code",
   "execution_count": null,
   "metadata": {},
   "outputs": [],
   "source": [
    "def construct_dnd_model(function_to_add_damage, magic_bonus=0):\n",
    "    \"\"\"\n",
    "    Arguments\n",
    "    ---------\n",
    "    function_to_add_damage: function, takes in the attack_roll variable and adds variables for the damage rolls\n",
    "    magic_bonus: integer, value to add to the attack, confirmation, and damage rolls for enchanted weapons\n",
    "    \n",
    "    Returns\n",
    "    -------\n",
    "    dnd_model: pm.Model, model for the random process of rolling attack and damage in DnD.\n",
    "    \"\"\"\n",
    "    dnd_model = pm.Model()\n",
    "\n",
    "    with dnd_model:\n",
    "\n",
    "        attack_roll = pm.DiscreteUniform(name=\"attack_roll\",\n",
    "                                         lower=1, upper=20)\n",
    "        confirmation_roll = pm.DiscreteUniform(name=\"confirmation_roll\",\n",
    "                                               lower=1, upper=20)\n",
    "\n",
    "        armor = 15\n",
    "        attack_hit = pm.Deterministic(name=\"attack_hit\",\n",
    "                                      var=attack_roll + magic_bonus >= armor)\n",
    "\n",
    "        base_damage_roll, critical_damage_roll, critical_threat = function_to_add_damage(attack_roll)\n",
    "\n",
    "        critical_confirmed = pm.Deterministic(name=\"critical_confirmed\",\n",
    "                                              var=confirmation_roll + magic_bonus >= armor)\n",
    "\n",
    "        critical_hit = pm.Deterministic(name=\"critical_hit\",\n",
    "                                        var=attack_hit * critical_threat * critical_confirmed)\n",
    "\n",
    "        total_damage = pm.Deterministic(name=\"total_damage\",\n",
    "                                        var=attack_hit * (base_damage_roll + magic_bonus)\n",
    "                                        + critical_hit * (critical_damage_roll + magic_bonus))\n",
    "        \n",
    "    return dnd_model"
   ]
  },
  {
   "cell_type": "markdown",
   "metadata": {},
   "source": [
    "Note that the simulation above is not an exact step-for-step implementation of the process described by the rules.\n",
    "For example, instead of, e.g., only doing the `confirmation_roll` when the `attack_roll` is above the `critical_range`, we always do it, but we only add in the damage if `critical_hit` is `True`."
   ]
  },
  {
   "cell_type": "markdown",
   "metadata": {},
   "source": [
    "Because different weapons do damage differently, we need to provide a `function_to_add_damage` to complete our model.\n",
    "The template below shows the basic outline of such a function."
   ]
  },
  {
   "cell_type": "markdown",
   "metadata": {},
   "source": [
    "```python\n",
    "def function_to_add_damage(attack_roll):\n",
    "    \"\"\"This is a format for functions to pass to construct_dnd_model.\n",
    "    \n",
    "    Exact content differs based on the weapon involved, but the four variables\n",
    "    critical_range, base_damage_roll, critical_damage_roll, and critical_threat\n",
    "    are always involved, and the latter three are returned.\n",
    "    \n",
    "    Arguments\n",
    "    ---------\n",
    "    attack_roll: pyMC Variable, random variable representing the attack roll\n",
    "    \n",
    "    Returns\n",
    "    ---------\n",
    "    base_damage_roll: pyMC Variable, random variable representing damage with no critical hit\n",
    "    critical_damage_roll: pyMC Variable, random variable representing possible additional critical hit damage\n",
    "    critical_threat: pyMC Variable, random variable representing whether attack roll at least\n",
    "                     critical_range, either 0 or 1\n",
    "    \"\"\"\n",
    "    critical_range = ?\n",
    "    \n",
    "    base_damage_roll = ?\n",
    "    critical_damage_roll = ?\n",
    "    \n",
    "    critical_threat = pm.Deterministic(name=\"critical_threat\",\n",
    "                                       var=attack_roll >= critical_range)\n",
    "    \n",
    "    return base_damage_roll, critical_damage_roll, critical_threat\n",
    "```"
   ]
  },
  {
   "cell_type": "markdown",
   "metadata": {},
   "source": [
    "An example weapon is below."
   ]
  },
  {
   "cell_type": "code",
   "execution_count": null,
   "metadata": {},
   "outputs": [],
   "source": [
    "def add_greatsword(attack_roll):\n",
    "    \n",
    "    critical_range = 19\n",
    "    \n",
    "    base_damage_roll = pm.Deterministic(name=\"base_damage_roll\",\n",
    "                                        var=pm.DiscreteUniform(\"bd_d6_1\", lower=1, upper=6) +\n",
    "                                        pm.DiscreteUniform(\"bd_d6_2\", lower=1, upper=6))\n",
    "    \n",
    "    critical_damage_roll = pm.Deterministic(name=\"critical_damage_roll\",\n",
    "                                            var=pm.DiscreteUniform(\"cd_d6_1\", lower=1, upper=6) +\n",
    "                                            pm.DiscreteUniform(\"cd_d6_2\", lower=1, upper=6))\n",
    "    \n",
    "    critical_threat = pm.Deterministic(name=\"critical_threat\",\n",
    "                                       var=attack_roll >= critical_range)\n",
    "    \n",
    "    return base_damage_roll, critical_damage_roll, critical_threat"
   ]
  },
  {
   "cell_type": "markdown",
   "metadata": {},
   "source": [
    "In D&D terms, the greatsword would be described as dealing damage with _two six-sided die_\n",
    "(notice the `base_damage_roll` adds together two `DiscreteUniform` random variables between `1` and `6`)\n",
    "and having a _critical range of 19_."
   ]
  },
  {
   "cell_type": "markdown",
   "metadata": {},
   "source": [
    "The code cells below will construct a model for attacking with the greatsword, draw 1000 samples from it, and then convert those samples into a dataframe for ease of analysis."
   ]
  },
  {
   "cell_type": "code",
   "execution_count": null,
   "metadata": {},
   "outputs": [],
   "source": [
    "greatsword_model = construct_dnd_model(add_greatsword)"
   ]
  },
  {
   "cell_type": "code",
   "execution_count": null,
   "metadata": {},
   "outputs": [],
   "source": [
    "with greatsword_model:\n",
    "    greatsword_attacks = pm.sample(draws=1000, chains=1)"
   ]
  },
  {
   "cell_type": "code",
   "execution_count": null,
   "metadata": {},
   "outputs": [],
   "source": [
    "greatsword_df = util.samples_to_dataframe(greatsword_attacks)"
   ]
  },
  {
   "cell_type": "markdown",
   "metadata": {},
   "source": [
    "From the samples, compute the following:\n",
    "\n",
    "- `gs_hit_chance:` Fraction of times a hit happens\n",
    "- `gs_avg_dmg`: Average damage, including misses\n",
    "- `gs_avg_dmg_crit`: Average damage on a critical hit\n",
    "- `gs_std_dmg`: Standard deviation of the damage"
   ]
  },
  {
   "cell_type": "code",
   "execution_count": null,
   "metadata": {},
   "outputs": [],
   "source": [
    "ok.grade(\"q1\")"
   ]
  },
  {
   "cell_type": "markdown",
   "metadata": {},
   "source": [
    "### Do You Believe in Magic?"
   ]
  },
  {
   "cell_type": "markdown",
   "metadata": {},
   "source": [
    "Some weapons also provide a `magic_bonus`, which is added to the attack roll, the confirmation roll, and the damage (see `construct_dnd_model` for details).\n",
    "Traditionally, a weapon with name _weaponname_ and a `magic_bonus=K` is called a *weaponname +K*.\n",
    "\n",
    "In some cells below, use `construct_dnd_model` to build a model, `greatsword_plusone_model`,\n",
    "for a *greatsword +1*.\n",
    "You can still use `add_greatsword`;\n",
    "you only need to change the `magic_bonus` argument to `construct_dnd_model`.\n",
    "\n",
    "Then draw 1000 samples, put them into a dataframe,\n",
    "and compute the statistics.\n",
    "It will look very much like the code above.\n",
    "\n",
    "Give the computed statistics the same variable names,\n",
    "but with `gs1` as the prefix, instead of `gs`."
   ]
  },
  {
   "cell_type": "code",
   "execution_count": null,
   "metadata": {},
   "outputs": [],
   "source": [
    "ok.grade(\"q2\")"
   ]
  },
  {
   "cell_type": "code",
   "execution_count": null,
   "metadata": {},
   "outputs": [],
   "source": [
    "ok.score()"
   ]
  },
  {
   "cell_type": "markdown",
   "metadata": {},
   "source": [
    "### A Critical Decision"
   ]
  },
  {
   "cell_type": "markdown",
   "metadata": {},
   "source": [
    "As a reward for completing a quest, a wizard (he/him) offers your friends,\n",
    "Cora the Paladin (she/her) and Baab the Goblin (they/them), a choice of two weapons:\n",
    "a *keen [falchion]((https://en.wikipedia.org/wiki/Falchion)) +1*\n",
    "and a *dagger +3*. There's two of them and two weapons, so they'll need to each take one."
   ]
  },
  {
   "cell_type": "markdown",
   "metadata": {},
   "source": [
    "Cora wants the weapon that's the most dependable and does damage most consistently,\n",
    "while Baab wants the weapon that's more likely to make a big splash and do more damage when it hits.\n",
    "As the party's datamancer, it is your responsibility to provide data-driven modeling services and support optimal adventuring decision-making.\n",
    "\n",
    "Help Cora and Baab divide up the weapons by simulating the damage output for both of them.\n",
    "Produce samples, visualize the sampling distributions of their statistics,\n",
    "and then provide a recommendation for who should get which weapon."
   ]
  },
  {
   "cell_type": "markdown",
   "metadata": {},
   "source": [
    "Here's how you'll do it:\n",
    "\n",
    "Write two functions below which add weapon damage rolls and critical threats\n",
    "to the model:\n",
    "`add_keen_falchion` and\n",
    "`add_dagger`.\n",
    "\n",
    "The *keen falchion +1* has a `critical_range` of `15` and rolls two four-sided die. It has a `magic_bonus` of `1`.\n",
    "The *dagger +3* has a `critical_range` of `19` and rolls two four-sided die. It has `magic_bonus=3`.\n",
    "\n",
    "Give those functions and the magic bonus values to `construct_dnd_model` separately\n",
    "to make two `pyMC.Model`s, one for the `keen_falchion` and the other for the `dagger`.\n",
    "To start, draw a thousand of samples from each."
   ]
  },
  {
   "cell_type": "markdown",
   "metadata": {},
   "source": [
    "Create visualizations for the resulting data,\n",
    "comparing the `total_damage` of the *dagger +3* to that of the *keen falchion +1*.\n",
    "Calculate descriptive statistics on the damage, including at least the mean, skew, and the chance to hit.\n",
    "(Hint: compute the skew with the `.skew` method or with `scipy.stats.skew`).\n",
    "\n",
    "Use bootstrapping to represent and visualize your uncertainty about those parameters.\n",
    "You might also be interested in the median, the 1st and 3rd quartiles, the chance of a critical hit,\n",
    "or the 90th percentile of the damage, given that the weapon hits,\n",
    "which can help make your argument to Cora and Baab stronger.\n",
    "\n",
    "Once all of your code is working, change the number of samples to 10000.\n",
    "Combine your visualizations and your statistics into a report to Cora and Baab about the two weapons.\n",
    "End your report with your personal recommendation.\n",
    "If you feel neither party member has a strong reason to prefer either, you're free to claim that as well!\n",
    "Just make your argument data-driven -- you are a _datamancer_, not an emotion lord."
   ]
  },
  {
   "cell_type": "markdown",
   "metadata": {},
   "source": [
    "#### Q Write your report to Cora and Baab here. Connect your claims to your plots and to your computed statistics."
   ]
  }
 ],
 "metadata": {
  "kernelspec": {
   "display_name": "Python 3",
   "language": "python",
   "name": "python3"
  },
  "language_info": {
   "codemirror_mode": {
    "name": "ipython",
    "version": 3
   },
   "file_extension": ".py",
   "mimetype": "text/x-python",
   "name": "python",
   "nbconvert_exporter": "python",
   "pygments_lexer": "ipython3",
   "version": "3.6.8"
  }
 },
 "nbformat": 4,
 "nbformat_minor": 2
}
