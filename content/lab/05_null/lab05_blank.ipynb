{
 "cells": [
  {
   "cell_type": "markdown",
   "metadata": {
    "slideshow": {
     "slide_type": "slide"
    }
   },
   "source": [
    "<img src=\"../../shared/img/banner.svg\" width=2560></img>"
   ]
  },
  {
   "cell_type": "markdown",
   "metadata": {
    "slideshow": {
     "slide_type": "-"
    }
   },
   "source": [
    "# Lab 05 - Modeling Science"
   ]
  },
  {
   "cell_type": "code",
   "execution_count": null,
   "metadata": {
    "slideshow": {
     "slide_type": "skip"
    }
   },
   "outputs": [],
   "source": [
    "%matplotlib inline"
   ]
  },
  {
   "cell_type": "code",
   "execution_count": null,
   "metadata": {
    "slideshow": {
     "slide_type": "skip"
    }
   },
   "outputs": [],
   "source": [
    "import sys\n",
    "\n",
    "sys.path.append(\"../../\")\n",
    "\n",
    "from shared.src import quiet\n",
    "from shared.src import seed\n",
    "from shared.src import style"
   ]
  },
  {
   "cell_type": "code",
   "execution_count": null,
   "metadata": {
    "slideshow": {
     "slide_type": "skip"
    }
   },
   "outputs": [],
   "source": [
    "from client.api.notebook import Notebook\n",
    "import matplotlib.pyplot as plt\n",
    "import numpy as np\n",
    "import pandas as pd\n",
    "import pymc3 as pm\n",
    "import seaborn as sns\n",
    "\n",
    "import shared.src.utils.util as shared_util\n",
    "import utils"
   ]
  },
  {
   "cell_type": "code",
   "execution_count": null,
   "metadata": {
    "slideshow": {
     "slide_type": "skip"
    }
   },
   "outputs": [],
   "source": [
    "sns.set_context(\"notebook\", font_scale=1.7)"
   ]
  },
  {
   "cell_type": "code",
   "execution_count": null,
   "metadata": {},
   "outputs": [],
   "source": [
    "ok = Notebook(\"ok/config\")"
   ]
  },
  {
   "cell_type": "markdown",
   "metadata": {},
   "source": [
    "## Learning Objectives\n",
    "\n",
    "1. Connect the quantities in NHST to the components of a model of NHST.\n",
    "2. Recognize the tentative nature of research results from small numbers of low-powered studies.\n",
    "3. Practice using pyMC to draw from priors and posteriors"
   ]
  },
  {
   "cell_type": "markdown",
   "metadata": {},
   "source": [
    "JPA Ioannidis argued, in\n",
    "a 2005 article provocatively titled\n",
    "[\"Why Most Published Research Findings Are False\"](https://journals.plos.org/plosmedicine/article?id=10.1371/journal.pmed.0020124),\n",
    "that statistical factors, like low prior probabilites and low power,\n",
    "and human factors, like conscious and unconscious bias,\n",
    "suggest that the aura of finality attached to scientific claims\n",
    "that are the result of hypothesis testing is misplaced.\n",
    "\n",
    "In this lab, we will apply our pyMC modeling skills to the process of running a scientific experiment\n",
    "and applying null hypothesis significance testing.\n",
    "This will allows us to obtain posterior probabilities of the null hypothesis,\n",
    "instead of just claims about results being \"positive\" or \"negative\"\n",
    "and the hypothesis being \"rejected\" or \"not rejected\".\n",
    "We will observe the impact of low power on interpeting results."
   ]
  },
  {
   "cell_type": "markdown",
   "metadata": {},
   "source": [
    "## Problem Setup: Replication Failure"
   ]
  },
  {
   "cell_type": "markdown",
   "metadata": {},
   "source": [
    "As a budding young research psychologist,\n",
    "you've just published your first paper:\n",
    "_Exposure to Foo Reduces Bar_.\n",
    "In it, you performed a statistical test\n",
    "of the null hypothesis that Foo does not have any impact on the effect of Bar,\n",
    "found that $p<0.05$, and so found that this null hypothesis could be rejected.\n",
    "\n",
    "Only one year on from publication, a contradicting paper comes out:\n",
    "_Exposure to Foo Does Reduce Bar_.\n",
    "Another research group has repeated your experiment\n",
    "and gotten a different result:\n",
    "their $p \\geq 0.05$.\n",
    "An experiment that repeats another is called a _replication experiment_,\n",
    "and when the results are different,\n",
    "we say that the first experiment _failed to replicate_.\n",
    "The authors of the paper claim that\n",
    "the null hypothesis should therefore not be rejected.\n",
    "\n",
    "You are devastated:\n",
    "you've suffered a _replication failure_.\n",
    "Someone has contradicted your work,\n",
    "and surely that means that your hypotheses about Foo and Bar have been falsified,\n",
    "and you need to burn your dissertation and start over.\n",
    "\n",
    "But should you be?\n",
    "Let's make a pyMC model of the process of running a science experiment\n",
    "and obtaining a result using NHST.\n",
    "Then, we can draw from the posterior of the model\n",
    "to determine what your beliefs about the null hypothesis should be,\n",
    "given the results you've seen."
   ]
  },
  {
   "cell_type": "markdown",
   "metadata": {},
   "source": [
    "## Writing Down our Model"
   ]
  },
  {
   "cell_type": "code",
   "execution_count": null,
   "metadata": {},
   "outputs": [],
   "source": [
    "utils.plot.make_science_model_graph();"
   ]
  },
  {
   "cell_type": "markdown",
   "metadata": {},
   "source": [
    "To write down a model, we need to combine a prior and a likelihood.\n",
    "\n",
    "The prior will be determined by what we thought about the null hypothesis before we saw the experiment.\n",
    "\n",
    "The likelihood will be determined by the parameters of our statistical test."
   ]
  },
  {
   "cell_type": "markdown",
   "metadata": {},
   "source": [
    "### Setting the Prior"
   ]
  },
  {
   "cell_type": "markdown",
   "metadata": {},
   "source": [
    "The prior for this model is straightforward:\n",
    "the null hypothesis is either true or false,\n",
    "and so we have a `Bernoulli` distribution.\n",
    "\n",
    "That `Bernoulli` distribution has a parameter, `p`,\n",
    "which determines the probability that it is equal to `1`.\n",
    "Let's interpret this variable being equal to `1` to mean that the null hypothesis was true.\n",
    "For that reason, we'll call this variable `null_true`.\n",
    "\n",
    "Do not confuse this `p`, or any of the `p` parameters\n",
    "in the pyMC model,\n",
    "for the $p$ value calculated from a statistic (note the difference in typesetting).\n",
    "The $p$-value is a random variable, derived from our data,\n",
    "while `p` here is a fixed parameter.\n",
    "\n",
    "To represent the state of maximum uncertainty about the null hypothesis,\n",
    "we set this parameter to be equal to `0.5`:\n",
    "the null hypothesis is equally likely to be true as false.\n",
    "Given the track record of scientific claims,\n",
    "it would perhaps be more appropriate to be even more conservative,\n",
    "and set the prior probability still lower."
   ]
  },
  {
   "cell_type": "code",
   "execution_count": null,
   "metadata": {},
   "outputs": [],
   "source": [
    "prior = 0.5"
   ]
  },
  {
   "cell_type": "markdown",
   "metadata": {},
   "source": [
    "### Setting the Likelihood"
   ]
  },
  {
   "cell_type": "markdown",
   "metadata": {},
   "source": [
    "Since the result of our hypothesis test is similarly binary,\n",
    "either positive (we reject the null)\n",
    "or negative (we fail to reject the null),\n",
    "the likelihood will also be `Bernoulli`."
   ]
  },
  {
   "cell_type": "markdown",
   "metadata": {},
   "source": [
    "The table below breaks down the English-language terms for the likelihood component of our model.\n",
    "The columns correspond to whether the null hypothesis is $F$alse or $T$rue,\n",
    "while the rows correspond to whether the outcome of the test is positive ($+$) or negative ($-$).\n",
    "Because our prior was over the truth value of the null hypothesis,\n",
    "the columns (colored) are the conditional distributions."
   ]
  },
  {
   "cell_type": "markdown",
   "metadata": {},
   "source": [
    "<table class=\"center\">\n",
    "  <tbody>\n",
    "    <tr>\n",
    "      <th class=\"border-less\"></th>\n",
    "      <th > $$F$$ </th>\n",
    "      <th > $$T$$ </th>\n",
    "    </tr>\n",
    "    <tr>\n",
    "      <td >$$+$$</td>\n",
    "      <td style=\"background-color: rgb(0,50,98); color: white\"> True Positive Rate, Power, Sensitivity </td>\n",
    "      <td style=\"background-color: rgb(253,181,21);\"> False Positive Rate, &#945; </td>\n",
    "    </tr>\n",
    "     <tr>\n",
    "      <td >$$-$$</td>\n",
    "      <td style=\"background-color: rgb(0,50,98); color: white\"> False Negative Rate, &#946;</td>\n",
    "      <td style=\"background-color: rgb(253,181,21);\"> True Negative Rate, Specificity</td>\n",
    "    </tr>\n",
    "  </tbody>\n",
    "</table>\n"
   ]
  },
  {
   "cell_type": "markdown",
   "metadata": {},
   "source": [
    "For our pyMC verison of this model, let's say that a value of `1`\n",
    "for this variable corresponds to a positive outcome,\n",
    "and give it the name `positive_result`.\n",
    "Then, the two values for the  `p` parameter of the `Bernoulli` likelihood are\n",
    "the \"False Positive Rate\", $\\alpha$, for when the null is true,\n",
    "and the \"Power\", $1 - \\beta$, for when the null is false."
   ]
  },
  {
   "cell_type": "markdown",
   "metadata": {},
   "source": [
    "If we reject the null whenever $p$ is below a threshold $x$,\n",
    "then our false positive rate is $x$.\n",
    "This follows from the definition of $p$.\n",
    "\n",
    "The choice of $x$ is determined by tradition: `0.05`."
   ]
  },
  {
   "cell_type": "code",
   "execution_count": null,
   "metadata": {},
   "outputs": [],
   "source": [
    "alpha = 0.05"
   ]
  },
  {
   "cell_type": "markdown",
   "metadata": {},
   "source": [
    "The `power` is much harder to measure.\n",
    "Once you've completed an experiment,\n",
    "you can estimate the power of a follow-up experiment of any size,\n",
    "but this relies on assuming your results were accurate.\n",
    "Results are only accurate for large sample sizes,\n",
    "which are uncommon in many branches of science.\n",
    "\n",
    "By combining results from many papers,\n",
    "a process known as _meta-analysis_,\n",
    "we can improve the accuracy of our power estimations.\n",
    "\n",
    "By doing [a meta-analysis of meta-analyses](https://www.nature.com/articles/nrn3475),\n",
    "Button et al. were able to estimate the median power level of experiments in neuroscience to be `0.3`.\n",
    "Power levels are low in neuroscience because of ethical concerns\n",
    "(each element in a sample often requires the death of an animal)\n",
    "and the expense of experiments.\n",
    "\n",
    "In psychology, power levels are sometimes higher,\n",
    "but they are limited by ethical concerns of their own\n",
    "(human experimentation is subjected, rightly, to substantial oversight)\n",
    "and to the tremendous degree of uncontrolled variability in experiments with humans.\n",
    "\n",
    "So for the power of our experiment, we will take the pessimistic value of $0.3$."
   ]
  },
  {
   "cell_type": "code",
   "execution_count": null,
   "metadata": {},
   "outputs": [],
   "source": [
    "power = 0.3"
   ]
  },
  {
   "cell_type": "markdown",
   "metadata": {},
   "source": [
    "To set the value of the `p` in the likelihood according to whether,\n",
    "on a given sample, the null was true or not,\n",
    "and so whether the false positive rate or the power\n",
    "determines the behavior of our simulated test,\n",
    "we use `pm.math.switch`.\n",
    "\n",
    "This function is a sort of `if`/`else` for pyMC variables.\n",
    "Read the section on it under **Tips** at the bottom of the lab for an explanation of how to use it,\n",
    "or check out the slides for the previous week for an example of it in use."
   ]
  },
  {
   "cell_type": "markdown",
   "metadata": {},
   "source": [
    "### Including the Observations"
   ]
  },
  {
   "cell_type": "markdown",
   "metadata": {},
   "source": [
    "Lastly, we need to set the `observed` value.\n",
    "\n",
    "We have not directly observed whether the null is true or not,\n",
    "so we do not place the `observed` keyword in the variable\n",
    "representing the truth value of the null hypothesis.\n",
    "Instead, we've observed the outcome of a test,\n",
    "so we put it in the `positive_result` variable.\n",
    "\n",
    "We will first model our beliefs after seeing the positive result\n",
    "that led us to publish our paper, so `observed=1`."
   ]
  },
  {
   "cell_type": "markdown",
   "metadata": {},
   "source": [
    "### Specifying the Model in pyMC and Drawing Samples"
   ]
  },
  {
   "cell_type": "markdown",
   "metadata": {},
   "source": [
    "Now, combine all of these components together in a model,\n",
    "`science_model_positive_result`,\n",
    "based on the template below.\n",
    "\n",
    "Put `prior`, `power` and `alpha` in the right places.\n",
    "Use `pm.math.switch` to switch between using `power` and `alpha`\n",
    "depending on the value of `null_true`.\n",
    "Again, check out the section under **Tips** for more on how to use `pm.math.switch`."
   ]
  },
  {
   "cell_type": "markdown",
   "metadata": {},
   "source": [
    "```python\n",
    "with pm.Model() as science_model_positive_result:\n",
    "    null_true = pm.Bernoulli(\"null_true\", p=?)\n",
    "    positive_result = pm.Bernoulli(\"positive_result\",\n",
    "                                     p=pm.math.switch(?, ?, ?), observed=1,\n",
    "                                     dtype=\"int64\")\n",
    "```"
   ]
  },
  {
   "cell_type": "markdown",
   "metadata": {},
   "source": [
    "Note: ignore the `dtype=int64`, this is to resolve a small bug in the version of pyMC used in this class."
   ]
  },
  {
   "cell_type": "markdown",
   "metadata": {},
   "source": [
    "## Checking the Model"
   ]
  },
  {
   "cell_type": "markdown",
   "metadata": {},
   "source": [
    "Use `sample_prior_predictive` to draw `10000` samples,\n",
    "saved to a dataframe called `prior_samples`."
   ]
  },
  {
   "cell_type": "code",
   "execution_count": null,
   "metadata": {},
   "outputs": [],
   "source": [
    "ok.grade(\"q1\")"
   ]
  },
  {
   "cell_type": "markdown",
   "metadata": {},
   "source": [
    "**Now, produce two histograms representing the likelihood**.\n",
    "\n",
    "Make a histogram for each of the two conditional distributions of the `positive_result` variable,\n",
    "one given that the null hypothesis is true (`prior_samples[\"null_true\"] == 1`)\n",
    "and one given that it is false.\n",
    "\n",
    "For convenience, the function `utils.plot.compare_bernoullis` is provided to help you make the histograms.\n",
    "If you'd rather do it yourself,\n",
    "for practice or because you find that function more confusing than helpful,\n",
    "you may do so.\n",
    "Check out the documentation string by running a cell containing the line `utils.plot.compare_bernoullis??`\n",
    "and see the example under the **Tips** section at the bottom of the lab.\n",
    "\n",
    "Once you have the histograms, use them to answer the question below."
   ]
  },
  {
   "cell_type": "markdown",
   "metadata": {},
   "source": [
    "#### Q Which bar's height is equal to `alpha`? Which bar's height is equal to `power`?"
   ]
  },
  {
   "cell_type": "markdown",
   "metadata": {},
   "source": [
    "## Approximating Our Posterior Beliefs with pyMC"
   ]
  },
  {
   "cell_type": "markdown",
   "metadata": {},
   "source": [
    "Next, let's use `pm.sample` to draw samples from the posterior,\n",
    "which represents our beliefs about the null hypothesis after observing the\n",
    "results of the first experiment.\n",
    "\n",
    "Draw at least `10000` samples and put them in a dataframe called `posterior_samples`."
   ]
  },
  {
   "cell_type": "code",
   "execution_count": null,
   "metadata": {},
   "outputs": [],
   "source": [
    "ok.grade(\"q2\")"
   ]
  },
  {
   "cell_type": "markdown",
   "metadata": {},
   "source": [
    "**Now, produce two histograms representing the prior and the posterior for the null hypothesis**."
   ]
  },
  {
   "cell_type": "markdown",
   "metadata": {},
   "source": [
    "The former will be based on the `prior_samples` and the latter on the `posterior_samples`."
   ]
  },
  {
   "cell_type": "markdown",
   "metadata": {},
   "source": [
    "Again, `utils.plot.compare_bernoullis` might be of help.\n",
    "\n",
    "Use the histograms to answer the question below."
   ]
  },
  {
   "cell_type": "markdown",
   "metadata": {},
   "source": [
    "#### Q What, approximately, is the probability that the null hypothesis is true under the posterior? Is it larger or smaller than the probability under the prior? Intuitively, why did the probability change in this direction?"
   ]
  },
  {
   "cell_type": "markdown",
   "metadata": {},
   "source": [
    "The questions below ask about what might happen if certain parameters differed. If you've got a strong grasp on how conditional probabilities work, you can answer them directly.\n",
    "\n",
    "If you're struggling, just try simulating what happens instead! Change the values of the relevant parameters,\n",
    "`alpha` and `prior`.\n",
    "Except for values of `alpha` and `prior` very close to `0` or `1`, this won't interfere with the autograder."
   ]
  },
  {
   "cell_type": "markdown",
   "metadata": {},
   "source": [
    "#### Q If you wanted to increase the posterior probability of the null hypothesis being false, given a positive result, would you increase or decrease the value of `alpha`? Give an intuitive explanation for your answer."
   ]
  },
  {
   "cell_type": "markdown",
   "metadata": {},
   "source": [
    "#### Q If the `prior` probability of the null hypothesis being true were larger, would the posterior probability of the null hypothesis being false increase or decrease?"
   ]
  },
  {
   "cell_type": "markdown",
   "metadata": {},
   "source": [
    "## Incorporating the Failed Replication Experiment"
   ]
  },
  {
   "cell_type": "markdown",
   "metadata": {},
   "source": [
    "Now, let's see how our beliefs change once the replication failure occurs.\n",
    "The impact of a failed replication is such that folks\n",
    "usually interpret a replication failure to mean\n",
    "that the null hypothesis is extremely likely."
   ]
  },
  {
   "cell_type": "markdown",
   "metadata": {},
   "source": [
    "To do so, let's specify a new model, `science_model_replication_failure`.\n",
    "Again, we'll need observations, a likelihood, and a prior.\n",
    "\n",
    "The observed value will be different, since we are now observing a negative result: `observed=0`.\n",
    "\n",
    "The likelihood will be the same as in the first model,\n",
    "because the experiment and statistical test being performed are exactly the same.\n",
    "\n",
    "The prior will also have changed.\n",
    "We can now _incorporate the evidence from the previous experiment into our prior_.\n",
    "The new prior probability of the null hypothesis,\n",
    "under this new model of the failed replication experiment,\n",
    "is equal to the posterior probability of the null hypothesis,\n",
    "under the old model and given the observation (in this case, of a positive result).\n",
    "That is, we _update our beliefs_ in response to the evidence.\n",
    "\n",
    "Calculate the `new_prior` probability of the null hypothesis\n",
    "from the `posterior_samples` and use it,\n",
    "along with the values of `alpha` and `power`,\n",
    "to specify a model based on the template below.\n",
    "\n",
    "Then, draw at least `10000` samples with `pm.sample` or `shared_util.sample_from`,\n",
    "and put them in a dataframe called `replication_failure_samples`."
   ]
  },
  {
   "cell_type": "markdown",
   "metadata": {},
   "source": [
    "```python\n",
    "with pm.Model() as science_model_replication_failure:\n",
    "    null_true = pm.Bernoulli(\"null_true\", p=?)\n",
    "    positive_result = pm.Bernoulli(\"positive_result\",\n",
    "                                     p=pm.math.switch(?, ?, ?), observed=0,\n",
    "                                     dtype=\"int64\")\n",
    "```"
   ]
  },
  {
   "cell_type": "code",
   "execution_count": null,
   "metadata": {},
   "outputs": [],
   "source": [
    "ok.grade(\"q3\")"
   ]
  },
  {
   "cell_type": "markdown",
   "metadata": {},
   "source": [
    "**Now, plot the histograms of the posterior after the first experiment\n",
    "and the posterior after the failed replication experiment.**\n",
    "\n",
    "Use them to answer the questions below."
   ]
  },
  {
   "cell_type": "markdown",
   "metadata": {},
   "source": [
    "#### Q What is the final posterior probability of the null hypothesis, given the results of the two experiments?"
   ]
  },
  {
   "cell_type": "markdown",
   "metadata": {},
   "source": [
    "#### Q How different are the posterior before and after observing the result of the failed replication experiment? Does this surprise you? Why or why not?"
   ]
  },
  {
   "cell_type": "markdown",
   "metadata": {},
   "source": [
    "The original scientific question was about whether the null hypothesis could be rejected: does Foo, in fact, reduce the effect of Bar? \n",
    "\n",
    "#### Q Would you consider this question settled? Explain how you came to this conclusion based on the final posterior probability. Note: there is an element of subjectivity in answering this question, so don't be afraid to disagree with your classmates."
   ]
  },
  {
   "cell_type": "code",
   "execution_count": null,
   "metadata": {},
   "outputs": [],
   "source": [
    "ok.score()"
   ]
  },
  {
   "cell_type": "markdown",
   "metadata": {},
   "source": [
    "## Tips"
   ]
  },
  {
   "cell_type": "markdown",
   "metadata": {},
   "source": [
    "### Using `pm.math.switch`"
   ]
  },
  {
   "cell_type": "markdown",
   "metadata": {},
   "source": [
    "`pm.math.switch` acts like an `if`/`else` statement, but for a pyMC model."
   ]
  },
  {
   "cell_type": "markdown",
   "metadata": {},
   "source": [
    "The arguments for `pm.math.switch` are:\n",
    "0. The \"trigger\" variable whose value determines which argument to return. This acts like the expression after an `if`.\n",
    "1. The value to return when the \"trigger\" is `1`.\n",
    "2. The value to return when the \"trigger\" is `0`."
   ]
  },
  {
   "cell_type": "markdown",
   "metadata": {},
   "source": [
    "```python\n",
    "p = pm.math.switch(arg0, arg1, arg2)\n",
    "```"
   ]
  },
  {
   "cell_type": "markdown",
   "metadata": {},
   "source": [
    "is the pyMC equivalent of:"
   ]
  },
  {
   "cell_type": "markdown",
   "metadata": {},
   "source": [
    "```python\n",
    "if arg0:\n",
    "    p = arg1\n",
    "else:\n",
    "    p = arg2\n",
    "```"
   ]
  },
  {
   "cell_type": "markdown",
   "metadata": {},
   "source": [
    "### Using `utils.plot.compare_bernoullis`"
   ]
  },
  {
   "cell_type": "markdown",
   "metadata": {},
   "source": [
    "If you'd like, you may use the `utils.plot.compare_bernoullis` function\n",
    "to plot your histograms.\n",
    "\n",
    "I encourage you to use your own plotting code, if you'd like the practice!"
   ]
  },
  {
   "cell_type": "markdown",
   "metadata": {},
   "source": [
    "Read the documentation for this function by uncommenting and the running the cell directly below this one."
   ]
  },
  {
   "cell_type": "code",
   "execution_count": null,
   "metadata": {},
   "outputs": [],
   "source": [
    "# utils.plot.compare_bernoullis??"
   ]
  },
  {
   "cell_type": "markdown",
   "metadata": {},
   "source": [
    "Run the cell beneath this one to see an example."
   ]
  },
  {
   "cell_type": "code",
   "execution_count": null,
   "metadata": {},
   "outputs": [],
   "source": [
    "example_series = [pd.Series([1, 1, 1, 1]), pd.Series([1, 1, 0, 0]), pd.Series([0, 0, 0, 0])]\n",
    "utils.plot.compare_bernoullis(example_series,\n",
    "                   colors=[\"C0\", \"C1\", \"C2\"],\n",
    "                   titles=[\"All 1s\", \"Half and Half\", \"All 0s\"]);"
   ]
  }
 ],
 "metadata": {
  "kernelspec": {
   "display_name": "Python 3",
   "language": "python",
   "name": "python3"
  },
  "language_info": {
   "codemirror_mode": {
    "name": "ipython",
    "version": 3
   },
   "file_extension": ".py",
   "mimetype": "text/x-python",
   "name": "python",
   "nbconvert_exporter": "python",
   "pygments_lexer": "ipython3",
   "version": "3.6.8"
  }
 },
 "nbformat": 4,
 "nbformat_minor": 2
}
