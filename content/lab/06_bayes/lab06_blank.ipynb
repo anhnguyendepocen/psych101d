{
 "cells": [
  {
   "cell_type": "markdown",
   "metadata": {
    "slideshow": {
     "slide_type": "slide"
    }
   },
   "source": [
    "<img src=\"../../shared/img/banner.svg\" width=2560></img>"
   ]
  },
  {
   "cell_type": "markdown",
   "metadata": {
    "slideshow": {
     "slide_type": "-"
    }
   },
   "source": [
    "# Lab 06 - Bayesian Inference for Differences of Means"
   ]
  },
  {
   "cell_type": "code",
   "execution_count": null,
   "metadata": {
    "slideshow": {
     "slide_type": "skip"
    }
   },
   "outputs": [],
   "source": [
    "%matplotlib inline"
   ]
  },
  {
   "cell_type": "code",
   "execution_count": null,
   "metadata": {
    "slideshow": {
     "slide_type": "skip"
    }
   },
   "outputs": [],
   "source": [
    "import sys\n",
    "\n",
    "sys.path.append(\"../../\")\n",
    "\n",
    "from shared.src import quiet\n",
    "from shared.src import seed\n",
    "from shared.src import style"
   ]
  },
  {
   "cell_type": "code",
   "execution_count": null,
   "metadata": {},
   "outputs": [],
   "source": [
    "from pathlib import Path\n",
    "\n",
    "from client.api.notebook import Notebook\n",
    "from IPython.display import Image\n",
    "import matplotlib.pyplot as plt\n",
    "import numpy as np\n",
    "import pandas as pd\n",
    "import pymc3 as pm\n",
    "import seaborn as sns\n",
    "\n",
    "import shared.src.utils.util as shared_util"
   ]
  },
  {
   "cell_type": "code",
   "execution_count": null,
   "metadata": {
    "slideshow": {
     "slide_type": "skip"
    }
   },
   "outputs": [],
   "source": [
    "sns.set_context(\"notebook\", font_scale=1.7)"
   ]
  },
  {
   "cell_type": "markdown",
   "metadata": {},
   "source": [
    "## Learning Objectives\n",
    "\n",
    "1. Become comfortable designing models based on visualizations of data.\n",
    "2. Practice using pyMC to draw from priors and posteriors.\n",
    "3. Draw inferences from posteriors and communicate them."
   ]
  },
  {
   "cell_type": "markdown",
   "metadata": {},
   "source": [
    "In this week's lab,\n",
    "you'll develop a model that aims to infer\n",
    "whether two groups differ in their average value of some variable.\n",
    "You will be given the choice of dataset,\n",
    "the choice of groups or variables within that dataset,\n",
    "and the freedom to design an accompanying model.\n",
    "\n",
    "This lab is significantly more open-ended than previous labs.\n",
    "For example, there is no autograding portion.\n",
    "This better represents the kinds of problems\n",
    "data scientists and research psychologists face in their work:\n",
    "there are no \"tests\" to check whether a model is correct,\n",
    "the definition of success is at least partially under their control,\n",
    "and the scope of their work passes all the way from raw data to insight."
   ]
  },
  {
   "cell_type": "markdown",
   "metadata": {},
   "source": [
    "## Loading the Datasets"
   ]
  },
  {
   "cell_type": "markdown",
   "metadata": {},
   "source": [
    "The `seaborn` library can download a number of \"demonstration\" datasets,\n",
    "many of which are classic datasets in statistics."
   ]
  },
  {
   "cell_type": "markdown",
   "metadata": {},
   "source": [
    "The sections below load and describe three datasets from this collection.\n",
    "\n",
    "They are saved them as `csv` files in the `content/shared/data` folder of this course\n",
    "and loaded into the Python workspace as `DataFrame`s."
   ]
  },
  {
   "cell_type": "code",
   "execution_count": null,
   "metadata": {},
   "outputs": [],
   "source": [
    "shared_data_dir = Path(\".\") / \"..\" / \"..\" / \"shared\"/ \"data\""
   ]
  },
  {
   "cell_type": "markdown",
   "metadata": {},
   "source": [
    "#### `iris`"
   ]
  },
  {
   "cell_type": "markdown",
   "metadata": {},
   "source": [
    "The `iris` dataset has a long history:\n",
    "it was introduced by Ronald Fisher in the 1930s\n",
    "to develop early ideas in statistical classification."
   ]
  },
  {
   "cell_type": "code",
   "execution_count": null,
   "metadata": {},
   "outputs": [],
   "source": [
    "iris = sns.load_dataset(\"iris\", data_home=shared_data_dir)\n",
    "iris.columns"
   ]
  },
  {
   "cell_type": "markdown",
   "metadata": {},
   "source": [
    "The dataset contains anatomical measurements of three different `species` of the iris flower:"
   ]
  },
  {
   "cell_type": "code",
   "execution_count": null,
   "metadata": {},
   "outputs": [],
   "source": [
    "iris[\"species\"].unique()"
   ]
  },
  {
   "cell_type": "markdown",
   "metadata": {},
   "source": [
    "The measurements are of the `length` and `width` of two components of the flower:\n",
    "the `petal` and `sepal`, pictured below."
   ]
  },
  {
   "cell_type": "code",
   "execution_count": null,
   "metadata": {},
   "outputs": [],
   "source": [
    "Image(url=\"https://upload.wikimedia.org/wikipedia/commons/7/78/Petal-sepal.jpg\", width=250)"
   ]
  },
  {
   "cell_type": "markdown",
   "metadata": {},
   "source": [
    "Petals are the component that most associate with flowers.\n",
    "Sepals are a more leaf-like, typically green component that primarily serve to protect flowers before they bloom.\n",
    "\n",
    "The question behind the `iris` dataset is whether\n",
    "these anatomical features can be used to predict the `species`."
   ]
  },
  {
   "cell_type": "markdown",
   "metadata": {},
   "source": [
    "For more information about this dataset, see [Kaggle](https://www.kaggle.com/arshid/iris-flower-dataset)."
   ]
  },
  {
   "cell_type": "markdown",
   "metadata": {},
   "source": [
    "#### `attention`"
   ]
  },
  {
   "cell_type": "markdown",
   "metadata": {},
   "source": [
    "In previous labs and homeworks, we have considered the `attention` dataset:"
   ]
  },
  {
   "cell_type": "code",
   "execution_count": null,
   "metadata": {},
   "outputs": [],
   "source": [
    "attention = sns.load_dataset(\"attention\", data_home=shared_data_dir, index_col=0)\n",
    "attention.columns"
   ]
  },
  {
   "cell_type": "markdown",
   "metadata": {},
   "source": [
    "Subjects attempted to complete a task with varying numbers of `solutions`,\n",
    "between `1` and `3`,\n",
    "while their `attention` was either\n",
    "`divided` away from the task by a distractor\n",
    "or `focused` on the task."
   ]
  },
  {
   "cell_type": "code",
   "execution_count": null,
   "metadata": {},
   "outputs": [],
   "source": [
    "print(attention[\"attention\"].unique(), \"\\n\", attention[\"solutions\"].unique())"
   ]
  },
  {
   "cell_type": "markdown",
   "metadata": {},
   "source": [
    "#### `exercise`"
   ]
  },
  {
   "cell_type": "markdown",
   "metadata": {},
   "source": [
    "In this dataset,\n",
    "healthy human volunteers\n",
    "on a `low fat` or `no fat` `diet`\n",
    "had their heart rate, or `pulse`,\n",
    "measured while they performed exercises of different `kind`s:\n",
    "either `running`, `walking`, or at `rest`.\n",
    "Their heart rates were also measured\n",
    "at different `time`s:\n",
    "after `1`, `15`, and `30` minutes of each exercise."
   ]
  },
  {
   "cell_type": "code",
   "execution_count": null,
   "metadata": {},
   "outputs": [],
   "source": [
    "exercise = sns.load_dataset(\"exercise\", data_home=shared_data_dir, index_col=0)\n",
    "exercise.columns"
   ]
  },
  {
   "cell_type": "code",
   "execution_count": null,
   "metadata": {},
   "outputs": [],
   "source": [
    "print(exercise[\"kind\"].unique(), \"\\n\", exercise[\"diet\"].unique(), \"\\n\", exercise[\"time\"].unique())"
   ]
  },
  {
   "cell_type": "markdown",
   "metadata": {},
   "source": [
    "## Visualizing the Data"
   ]
  },
  {
   "cell_type": "markdown",
   "metadata": {},
   "source": [
    "The first thing to do when you embark on a new analysis,\n",
    "especially with new data,\n",
    "is to visualize the data."
   ]
  },
  {
   "cell_type": "markdown",
   "metadata": {},
   "source": [
    "Select at least one of the suggested visualizations below for the dataset you want to work with\n",
    "and/or come up with your own.\n",
    "If you come up with your own visualization,\n",
    "remember that the end goal is to see whether the mean\n",
    "is different between two sub-groups in the data.\n",
    "\n",
    "For more on making and interpreting boxplots, see the the second set of Slides for this week.\n",
    "For some info on using `\"hue\"` to split up data, review the lab on data munging.\n",
    "\n",
    "#### Once you've produced one or more visualizations, answer the question(s) below."
   ]
  },
  {
   "cell_type": "markdown",
   "metadata": {},
   "source": [
    "### Some Suggested Visualizations:"
   ]
  },
  {
   "cell_type": "markdown",
   "metadata": {},
   "source": [
    "To create a boxplot showing the distribution\n",
    "of a `\"continuous_measurement\"`\n",
    "split bythe values of both one `\"grouping_variable\"`\n",
    "and some `\"other_grouping_variable\"`,\n",
    "all stored as columns\n",
    "in the dataframe `df`,\n",
    "use the following:\n",
    "\n",
    "```python\n",
    "sns.boxplot(data=df, y=\"continuous_measurement\", x=\"grouping_variable\", hue=\"other_grouping_variable\")\n",
    "```"
   ]
  },
  {
   "cell_type": "markdown",
   "metadata": {},
   "source": [
    "#### `iris`:\n",
    "  - `pairplot`, with color given by the species of the flower: `sns.pairplot(iris, hue=\"species\")`\n",
    "  - a single figure with a `distplot` for each species on one of the anatomical measures"
   ]
  },
  {
   "cell_type": "markdown",
   "metadata": {},
   "source": [
    "#### `attention`:\n",
    "  - any of the plots from the previous encounters with this dataset\n",
    "  - a `boxplot`, showing the distribution of scores and split by either the number of solutions, the attentional state, or both: setting `y=\"solutions\"` and `hue=\"attention\"` or vice versa."
   ]
  },
  {
   "cell_type": "markdown",
   "metadata": {},
   "source": [
    "#### `exercise`:\n",
    "  - `boxplot`, showing the distribution of the pulse variable, separating out observations by diet, kind of exercise, or both, e.g. setting `x=\"diet\"`, `y=\"pulse\"`, and `hue=\"kind\"`."
   ]
  },
  {
   "cell_type": "markdown",
   "metadata": {},
   "source": [
    "#### Q Describe at least one pattern in the data that jumps out at your from your visualization. For example: Does one variable seem to have little or no effect? Does one variable seem to have a large effect? Do you see different patterns looking at pairs of variables than looking at each individually? Does one of the distributions you observe look strange?"
   ]
  },
  {
   "cell_type": "markdown",
   "metadata": {},
   "source": [
    "## Creating a Model of the Data"
   ]
  },
  {
   "cell_type": "markdown",
   "metadata": {},
   "source": [
    "Select one of the claims about group averages below\n",
    "and create a `pyMC` model of your data\n",
    "whose posterior can be used to perform Bayesian inference\n",
    "on that claim.\n",
    "\n",
    "That is,\n",
    "write down a likelihood for the observed data given its\n",
    "(unknown) parameters.\n",
    "Because we are interested in a difference of means,\n",
    "you'll want to select a likelihood with\n",
    "a parameter for the mean, e.g. `pm.Normal` or `pm.Poisson`.\n",
    "\n",
    "Then, above the definition of the likelihood in your model,\n",
    "write down prior distributions for the parameters of the likelihood.\n",
    "\n",
    "Make sure you include the data in the model by placing\n",
    "`observed=` in the right place!"
   ]
  },
  {
   "cell_type": "markdown",
   "metadata": {},
   "source": [
    "### Some Suggested Claims"
   ]
  },
  {
   "cell_type": "markdown",
   "metadata": {},
   "source": [
    "Note that all claims below are assumed to be about _averages_.\n",
    "Note also that they don't state whether variances are different or not,\n",
    "nor do they say anything about how parameters like the mean determine\n",
    "the distribution of the data,\n",
    "and so those choices are left up to you, as the modeler."
   ]
  },
  {
   "cell_type": "markdown",
   "metadata": {},
   "source": [
    "#### `iris`:\n",
    "  - Length of sepals differs between two species\n",
    "  - Length of petals differs between two species\n",
    "  - Width of petals differs between two species\n",
    "  - Withd of sepals differs between two species"
   ]
  },
  {
   "cell_type": "markdown",
   "metadata": {},
   "source": [
    "#### `attention`:\n",
    "  - Score differs across attention state\n",
    "  - Score differs between hard and easy problems\n",
    "  - Score differs across attention state for hard problems\n",
    "  - Score differs across attention state for easy problems"
   ]
  },
  {
   "cell_type": "markdown",
   "metadata": {},
   "source": [
    "#### `exercise`\n",
    "  - Pulse differs between running and resting\n",
    "  - Pulse differs between low-fat and no-fat diet\n",
    "  - Pulse differs between low-fat and no-fat diet while running\n",
    "  - Pulse differs between low-fat and no-fat diet while resting"
   ]
  },
  {
   "cell_type": "markdown",
   "metadata": {},
   "source": [
    "#### Q Identify the \"prior\" component of your model and explain your choice of distribution for each random variable in it."
   ]
  },
  {
   "cell_type": "markdown",
   "metadata": {},
   "source": [
    "#### Q Identify the \"likelihood\" component of your model and explain your choice of distribution for each random variable in it."
   ]
  },
  {
   "cell_type": "markdown",
   "metadata": {},
   "source": [
    "## Drawing an Inference about a Difference of Means"
   ]
  },
  {
   "cell_type": "markdown",
   "metadata": {},
   "source": [
    "Draw samples from the posterior of your model\n",
    "(you'll want at least 1000, perhaps more).\n",
    "Then visualize the posterior over the difference in means\n",
    "and obtain the 95% highest posterior density interval.\n",
    "\n",
    "If you calculated the difference of means inside the model,\n",
    "then you can use `plot_posterior` to visualize the posterior\n",
    "over the difference in means and the other variables simultaneously\n",
    "and the 95% HPD will be included in the plot.\n",
    "See the second set of Slides this week for details.\n",
    "Note that `plot_posterior` expects a `Trace`,\n",
    "the output of `pm.sample`,\n",
    "not a `DataFrame`.\n",
    "\n",
    "If you did not calculate the difference of means inside the model,\n",
    "then you can calculate it directly on the samples by subtracting the values of the mean variables\n",
    "in each sample.\n",
    "Then, use `pm.stats.hpd` to compute the 95% highest posterior density interval.\n",
    "\n",
    "#### Use the visualization of the posterior samples and the 95% HPD to answer the question(s) below."
   ]
  },
  {
   "cell_type": "markdown",
   "metadata": {},
   "source": [
    "#### Q Based on your posterior and the 95% HPD, do you think there is a high probability that the difference in means you checked for is greater than 0? Explain your reasoning."
   ]
  }
 ],
 "metadata": {
  "kernelspec": {
   "display_name": "Python 3",
   "language": "python",
   "name": "python3"
  },
  "language_info": {
   "codemirror_mode": {
    "name": "ipython",
    "version": 3
   },
   "file_extension": ".py",
   "mimetype": "text/x-python",
   "name": "python",
   "nbconvert_exporter": "python",
   "pygments_lexer": "ipython3",
   "version": "3.6.8"
  }
 },
 "nbformat": 4,
 "nbformat_minor": 2
}
