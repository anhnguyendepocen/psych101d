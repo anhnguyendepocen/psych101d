{
 "cells": [
  {
   "cell_type": "markdown",
   "metadata": {
    "slideshow": {
     "slide_type": "slide"
    }
   },
   "source": [
    "<img src=\"../../shared/img/banner.svg\" width=2560></img>"
   ]
  },
  {
   "cell_type": "markdown",
   "metadata": {
    "slideshow": {
     "slide_type": "-"
    }
   },
   "source": [
    "# Lab 08 - Bayesian Inference for Multi-way Modeling"
   ]
  },
  {
   "cell_type": "code",
   "execution_count": null,
   "metadata": {
    "slideshow": {
     "slide_type": "skip"
    }
   },
   "outputs": [],
   "source": [
    "%matplotlib inline"
   ]
  },
  {
   "cell_type": "code",
   "execution_count": null,
   "metadata": {
    "slideshow": {
     "slide_type": "skip"
    }
   },
   "outputs": [],
   "source": [
    "import sys\n",
    "\n",
    "sys.path.append(\"../../\")\n",
    "\n",
    "from shared.src import quiet\n",
    "from shared.src import seed\n",
    "from shared.src import style"
   ]
  },
  {
   "cell_type": "code",
   "execution_count": null,
   "metadata": {},
   "outputs": [],
   "source": [
    "from pathlib import Path\n",
    "\n",
    "from client.api.notebook import Notebook\n",
    "from IPython.display import Image\n",
    "import matplotlib.pyplot as plt\n",
    "import numpy as np\n",
    "import pandas as pd\n",
    "import pymc3 as pm\n",
    "import seaborn as sns\n",
    "\n",
    "import shared.src.utils.util as shared_util"
   ]
  },
  {
   "cell_type": "code",
   "execution_count": null,
   "metadata": {
    "slideshow": {
     "slide_type": "skip"
    }
   },
   "outputs": [],
   "source": [
    "sns.set_context(\"notebook\", font_scale=1.7)"
   ]
  },
  {
   "cell_type": "code",
   "execution_count": null,
   "metadata": {},
   "outputs": [],
   "source": [
    "ok = Notebook(\"ok/config\")"
   ]
  },
  {
   "cell_type": "markdown",
   "metadata": {},
   "source": [
    "## Learning Objectives\n",
    "\n",
    "1. Recognize interaction effects in data visualizations.\n",
    "2. Practice specifying pyMC models with multiple categories.\n",
    "3. Draw inferences from the posterior samples of pyMC models with multiple categories."
   ]
  },
  {
   "cell_type": "markdown",
   "metadata": {},
   "source": [
    "In this lab, we will re-analyze the `attention` dataset using our new multi-way modeling approach."
   ]
  },
  {
   "cell_type": "code",
   "execution_count": null,
   "metadata": {},
   "outputs": [],
   "source": [
    "shared_data_dir = Path(\".\") / \"..\" / \"..\" / \"shared\"/ \"data\"\n",
    "\n",
    "attention = sns.load_dataset(\"attention\", data_home=shared_data_dir, index_col=0)\n",
    "attention.columns"
   ]
  },
  {
   "cell_type": "markdown",
   "metadata": {},
   "source": [
    "In this experiment,\n",
    "participants were asked to perform a task with a varying number of `solutions`,\n",
    "between 1 and 3,\n",
    "while their `attention` was either `divided` by a distractor or allowed to be `focused` on the task at hand.\n",
    "\n",
    "The participants' performance on the task was measured in terms of a `score`."
   ]
  },
  {
   "cell_type": "markdown",
   "metadata": {},
   "source": [
    "#### Use `violinplot` or `pointplot` to visualize the distributions of the `score` for all six groups of the levels of the `attention` and `solutions` variables."
   ]
  },
  {
   "cell_type": "markdown",
   "metadata": {},
   "source": [
    "#### Q Do you suspect that these two factors interact? Explain your reasoning in terms of the information in your visualization."
   ]
  },
  {
   "cell_type": "markdown",
   "metadata": {},
   "source": [
    "Create a model for this data that represents the hypothesis that the data in each group\n",
    "is distributed normally around its mean.\n",
    "\n",
    "You are free to select your priors for the group means and\n",
    "to decide how to handle the group standard deviations.\n",
    "\n",
    "Defining the \"indexer\" for the `attention` variable requires an extra step or two,\n",
    "relative to the indexers defined for the grouping variables in the lecture,\n",
    "since the values are not integers already, but they are instead strings,\n",
    "and we can't use boolean `Series` to index into `pyMC` variables.\n",
    "\n",
    "Consider using an `apply` or similar strategy.\n",
    "Alternatively, you can cast a boolean Series\n",
    "to `0`s and `1`s  with the `dtype` argument of `pd.Series`."
   ]
  },
  {
   "cell_type": "markdown",
   "metadata": {},
   "source": [
    "Draw samples from the posterior of your model and use them to answer the questions below"
   ]
  },
  {
   "cell_type": "markdown",
   "metadata": {},
   "source": [
    "#### Compute  and visualize your posteriors for the following two effects:\n",
    "- the effect of dividing `attention` for problems with one solution\n",
    "- the effect of increasing the number of `solutions` from one to three for participants with their attention focused"
   ]
  },
  {
   "cell_type": "markdown",
   "metadata": {},
   "source": [
    "Consider: which group is the baseline for each of these two effects? Which group is the \"treatment\" or \"comparison\" group? What is the right index to pull out each group from your `mus` arrays?\n",
    "\n",
    "How exactly this is coded in Python will depend on the details of how you defined your model above,\n",
    "but the general conclusions should not."
   ]
  },
  {
   "cell_type": "markdown",
   "metadata": {},
   "source": [
    "#### Q Which, if any, of these effects do you think are non-zero? How did you come to this conclusion? You may either use your visualization of the posteriors, possibly including a highest posterior density interval (`pm.stats.hpd`), or calculate a precise posterior probability."
   ]
  },
  {
   "cell_type": "markdown",
   "metadata": {},
   "source": [
    "Before coming to any conclusions about\n",
    "\"the effect of attentional state\" or \"the effect of the number of solutions\"\n",
    "on task performance,\n",
    "we need to consider whether the two factors interact."
   ]
  },
  {
   "cell_type": "markdown",
   "metadata": {},
   "source": [
    "#### Compute and visualize your posterior for the interaction between increasing the number of solutions and dividing participant attention."
   ]
  },
  {
   "cell_type": "markdown",
   "metadata": {},
   "source": [
    "Consider: which group is the baseline for each of these two effects? To which group is it compared? How do we calculate interaction effect sizes? _Hint_: are they more than the sum of their parts?\n",
    "\n",
    "How exactly this is coded will depend on how you defined your model above,\n",
    "but the general conclusions should not.\n",
    "It should be possible to reuse the code for computing the effects above."
   ]
  },
  {
   "cell_type": "markdown",
   "metadata": {},
   "source": [
    "#### Q Is this interaction effect non-zero? How did you come to this conclusion? You may either use your visualization of the posteriors, possibly including a highest posterior density interval (`pm.stats.hpd`), or calculate a precise posterior probability."
   ]
  },
  {
   "cell_type": "markdown",
   "metadata": {},
   "source": [
    "#### Q Describe, in informal language, the inference you would draw about the relationship between task performance (`score`) and attentional state and problem difficulty. That is, what does this data say about how participant score varies depending on task performance and problem difficulty?"
   ]
  }
 ],
 "metadata": {
  "kernelspec": {
   "display_name": "Python 3",
   "language": "python",
   "name": "python3"
  },
  "language_info": {
   "codemirror_mode": {
    "name": "ipython",
    "version": 3
   },
   "file_extension": ".py",
   "mimetype": "text/x-python",
   "name": "python",
   "nbconvert_exporter": "python",
   "pygments_lexer": "ipython3",
   "version": "3.6.8"
  }
 },
 "nbformat": 4,
 "nbformat_minor": 2
}
