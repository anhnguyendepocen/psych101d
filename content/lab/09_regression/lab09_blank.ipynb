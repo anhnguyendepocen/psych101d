{
 "cells": [
  {
   "cell_type": "markdown",
   "metadata": {
    "slideshow": {
     "slide_type": "slide"
    }
   },
   "source": [
    "<img src=\"../../shared/img/banner.svg\" width=2560></img>"
   ]
  },
  {
   "cell_type": "markdown",
   "metadata": {
    "slideshow": {
     "slide_type": "-"
    }
   },
   "source": [
    "# Lab 09 - Bayesian Linear Regression"
   ]
  },
  {
   "cell_type": "code",
   "execution_count": null,
   "metadata": {
    "slideshow": {
     "slide_type": "skip"
    }
   },
   "outputs": [],
   "source": [
    "%matplotlib inline"
   ]
  },
  {
   "cell_type": "code",
   "execution_count": null,
   "metadata": {
    "slideshow": {
     "slide_type": "skip"
    }
   },
   "outputs": [],
   "source": [
    "import sys\n",
    "\n",
    "sys.path.append(\"../../\")\n",
    "\n",
    "from shared.src import quiet\n",
    "from shared.src import seed\n",
    "from shared.src import style"
   ]
  },
  {
   "cell_type": "code",
   "execution_count": null,
   "metadata": {},
   "outputs": [],
   "source": [
    "from pathlib import Path\n",
    "\n",
    "from client.api.notebook import Notebook\n",
    "from IPython.display import Image\n",
    "import matplotlib.pyplot as plt\n",
    "import numpy as np\n",
    "import pandas as pd\n",
    "import pymc3 as pm\n",
    "import seaborn as sns\n",
    "\n",
    "import shared.src.utils.util as shared_util"
   ]
  },
  {
   "cell_type": "code",
   "execution_count": null,
   "metadata": {
    "slideshow": {
     "slide_type": "skip"
    }
   },
   "outputs": [],
   "source": [
    "sns.set_context(\"notebook\", font_scale=1.7)"
   ]
  },
  {
   "cell_type": "code",
   "execution_count": null,
   "metadata": {},
   "outputs": [],
   "source": [
    "ok = Notebook(\"ok/config\")"
   ]
  },
  {
   "cell_type": "markdown",
   "metadata": {},
   "source": [
    "## Learning Objectives\n",
    "\n",
    "1. Become comfortable designing linear regression models based on visualizations of data.\n",
    "2. Practice using pyMC to specify a linear regression model in terms of priors and likelihoods.\n",
    "3. Draw inferences from the posterior of a linear regression model and relate the parameters to predictions."
   ]
  },
  {
   "cell_type": "markdown",
   "metadata": {},
   "source": [
    "In this week's lab,\n",
    "you'll develop a linear regression model:\n",
    "a model that where one variable's parameters\n",
    "are a linear function of another variable.\n",
    "\n",
    "You will be given the choice of dataset,\n",
    "the opportunity to select variables to relate to one another,\n",
    "and the freedom to design an accompanying linear regression model."
   ]
  },
  {
   "cell_type": "markdown",
   "metadata": {},
   "source": [
    "## Loading the Datasets"
   ]
  },
  {
   "cell_type": "markdown",
   "metadata": {},
   "source": [
    "The `seaborn` library can download a number of \"demonstration\" datasets,\n",
    "many of which are classic datasets in statistics."
   ]
  },
  {
   "cell_type": "markdown",
   "metadata": {},
   "source": [
    "The sections below load and describe two datasets from this collection.\n",
    "\n",
    "They are saved as `csv` files in the `content/shared/data` folder of this course\n",
    "and loaded into the Python workspace as `DataFrame`s."
   ]
  },
  {
   "cell_type": "code",
   "execution_count": null,
   "metadata": {},
   "outputs": [],
   "source": [
    "shared_data_dir = Path(\".\") / \"..\" / \"..\" / \"shared\"/ \"data\""
   ]
  },
  {
   "cell_type": "markdown",
   "metadata": {},
   "source": [
    "#### `iris`"
   ]
  },
  {
   "cell_type": "markdown",
   "metadata": {},
   "source": [
    "The `iris` dataset was also used in Lab 06. The description there is reproduced below."
   ]
  },
  {
   "cell_type": "markdown",
   "metadata": {},
   "source": [
    "The `iris` dataset has a long history:\n",
    "it was introduced by Ronald Fisher in the 1930s\n",
    "to develop early ideas in statistical classification."
   ]
  },
  {
   "cell_type": "code",
   "execution_count": null,
   "metadata": {},
   "outputs": [],
   "source": [
    "iris = sns.load_dataset(\"iris\", data_home=shared_data_dir)\n",
    "iris.columns"
   ]
  },
  {
   "cell_type": "markdown",
   "metadata": {},
   "source": [
    "The dataset contains anatomical measurements of three different `species` of the iris flower:"
   ]
  },
  {
   "cell_type": "code",
   "execution_count": null,
   "metadata": {},
   "outputs": [],
   "source": [
    "iris[\"species\"].unique()"
   ]
  },
  {
   "cell_type": "markdown",
   "metadata": {},
   "source": [
    "The measurements are of the `length` and `width` of two components of the flower:\n",
    "the `petal` and `sepal`, pictured below."
   ]
  },
  {
   "cell_type": "code",
   "execution_count": null,
   "metadata": {},
   "outputs": [],
   "source": [
    "Image(url=\"https://upload.wikimedia.org/wikipedia/commons/7/78/Petal-sepal.jpg\", width=250)"
   ]
  },
  {
   "cell_type": "markdown",
   "metadata": {},
   "source": [
    "Petals are the component that most associate with flowers.\n",
    "Sepals are a more leaf-like, typically green component that primarily serve to protect flowers before they bloom.\n",
    "\n",
    "The question behind the `iris` dataset is whether\n",
    "these anatomical features can be used to predict the `species`."
   ]
  },
  {
   "cell_type": "markdown",
   "metadata": {},
   "source": [
    "For more information about this dataset, see [Kaggle](https://www.kaggle.com/arshid/iris-flower-dataset)."
   ]
  },
  {
   "cell_type": "markdown",
   "metadata": {},
   "source": [
    "#### `mpg`"
   ]
  },
  {
   "cell_type": "markdown",
   "metadata": {},
   "source": [
    "The `auto-mpg` dataset is another common example dataset in data science,\n",
    "less classic than `iris` but still widely-used."
   ]
  },
  {
   "cell_type": "code",
   "execution_count": null,
   "metadata": {},
   "outputs": [],
   "source": [
    "mpg = sns.load_dataset(\"mpg\", data_home=shared_data_dir)\n",
    "mpg.columns"
   ]
  },
  {
   "cell_type": "markdown",
   "metadata": {},
   "source": [
    "It contains information on the engines of cars produced between 1970 and 1982 in the United States, Europe, and Japan."
   ]
  },
  {
   "cell_type": "code",
   "execution_count": null,
   "metadata": {},
   "outputs": [],
   "source": [
    "mpg[\"model_year\"].unique(), mpg[\"origin\"].unique()"
   ]
  },
  {
   "cell_type": "markdown",
   "metadata": {},
   "source": [
    "The information includes the number of\n",
    "[`cylinders`](https://en.wikipedia.org/wiki/Cylinder_(engine)) in the engine,\n",
    "(the famous [V8 engine](https://en.wikipedia.org/wiki/V8_engine) is named for its 8 cylinders),\n",
    "the size of the engine\n",
    "(technically [`displacement`](https://en.wikipedia.org/wiki/Engine_displacement),\n",
    "a measure of the volume acted on by the pistons),\n",
    "the `horsepower`, a measure of the engine's ability to move mass over distance and time,\n",
    "the overall `weight` of the vehicle in pounds,\n",
    "and the `acceleration`, whose meaning and units are somewhat opaque."
   ]
  },
  {
   "cell_type": "code",
   "execution_count": null,
   "metadata": {},
   "outputs": [],
   "source": [
    "mpg.sample(10)"
   ]
  },
  {
   "cell_type": "markdown",
   "metadata": {},
   "source": [
    "These values are typically used to try and predict the `mpg` variable:\n",
    "the number of `m`iles the car travels `p`er `g`allon of gas\n",
    "([the city mpg, rather than highway](https://www.kbb.com/what-is/highway-mpg/)),\n",
    "also known as the _gas mileage_ or _mileage_.\n",
    "\n",
    "You are free to relate any pair of numerical variables to one another in your regression model."
   ]
  },
  {
   "cell_type": "markdown",
   "metadata": {},
   "source": [
    "For more information about this dataset, see [Kaggle](https://www.kaggle.com/uciml/autompg-dataset)."
   ]
  },
  {
   "cell_type": "markdown",
   "metadata": {},
   "source": [
    "## Visualizing the Data"
   ]
  },
  {
   "cell_type": "markdown",
   "metadata": {},
   "source": [
    "The first thing to do when you embark on a new analysis,\n",
    "especially with new data,\n",
    "is to visualize the data."
   ]
  },
  {
   "cell_type": "markdown",
   "metadata": {},
   "source": [
    "#### Use `pairplot` to visualize the dataset you've chosen to work with."
   ]
  },
  {
   "cell_type": "markdown",
   "metadata": {},
   "source": [
    "#### Q Select a pair of variables that appear to be linearly related to one another. Why do you suspect that the relationship is linear? Use the visual features of the `pairplot`."
   ]
  },
  {
   "cell_type": "markdown",
   "metadata": {},
   "source": [
    "## Creating a Model of the Data"
   ]
  },
  {
   "cell_type": "markdown",
   "metadata": {},
   "source": [
    "#### For the variables you described above, define a linear regression model and use it to infer a posterior distribution over the slope and intercept parameters of the relationship.\n",
    "\n",
    "You are encouraged, but not required,\n",
    "to use some of the advanced linear regression concepts\n",
    "covered in the second set of slides,\n",
    "e.g. robust regression, ridge regression, and LASSO regression.\n",
    "\n",
    "You do not need to standardize your data with $z$-scoring,\n",
    "but that might make the setting of a ROPE easier below."
   ]
  },
  {
   "cell_type": "markdown",
   "metadata": {},
   "source": [
    "#### Q Identify the \"prior\" component of your model and explain your choice of distribution for each random variable in it."
   ]
  },
  {
   "cell_type": "markdown",
   "metadata": {},
   "source": [
    "#### Q Identify the \"likelihood\" component of your model and explain your choice of distribution for each random variable in it."
   ]
  },
  {
   "cell_type": "markdown",
   "metadata": {},
   "source": [
    "## Drawing an Inference about the Presence of a Relationship"
   ]
  },
  {
   "cell_type": "markdown",
   "metadata": {},
   "source": [
    "Draw samples from the posterior of your model\n",
    "(you'll want at least 1000, perhaps more).\n",
    "Then visualize the posterior over the\n",
    "slope parameter of your model\n",
    "and obtain a 95% highest posterior density interval.\n",
    "\n",
    "Include a Region of Practical Equivalence (ROPE) using the `rope` kwarg of `pm.plot_posterior`.\n",
    "\n",
    "#### Use the visualization of the posterior samples, the ROPE, and the 95% HPD to answer the question(s) below."
   ]
  },
  {
   "cell_type": "markdown",
   "metadata": {},
   "source": [
    "#### Q What does your posterior tell you about the probable nature of the relationship between the two variables? Relate your claim to the features of the posterior, the 95% HPDI, and the ROPE, or to the value of a function computed on the posterior samples."
   ]
  },
  {
   "cell_type": "markdown",
   "metadata": {},
   "source": [
    "Regression models are more commonly used for prediction,\n",
    "rather than hypothesis testing,\n",
    "and so MAP estimation is often natural."
   ]
  },
  {
   "cell_type": "markdown",
   "metadata": {},
   "source": [
    "#### Find the MAP parameters of your model and plot the predictions associated with those parameters on top of the data."
   ]
  }
 ],
 "metadata": {
  "kernelspec": {
   "display_name": "Python 3",
   "language": "python",
   "name": "python3"
  },
  "language_info": {
   "codemirror_mode": {
    "name": "ipython",
    "version": 3
   },
   "file_extension": ".py",
   "mimetype": "text/x-python",
   "name": "python",
   "nbconvert_exporter": "python",
   "pygments_lexer": "ipython3",
   "version": "3.6.8"
  }
 },
 "nbformat": 4,
 "nbformat_minor": 2
}
