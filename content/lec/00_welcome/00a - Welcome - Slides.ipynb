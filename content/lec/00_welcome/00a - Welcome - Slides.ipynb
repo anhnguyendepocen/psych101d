{
 "cells": [
  {
   "cell_type": "markdown",
   "metadata": {
    "slideshow": {
     "slide_type": "slide"
    }
   },
   "source": [
    "<img src=\"../../shared/img/slides_banner.svg\" width=2560></img>"
   ]
  },
  {
   "cell_type": "markdown",
   "metadata": {
    "slideshow": {
     "slide_type": "-"
    }
   },
   "source": [
    "# 00a - Welcome"
   ]
  },
  {
   "cell_type": "code",
   "execution_count": null,
   "metadata": {
    "slideshow": {
     "slide_type": "skip"
    }
   },
   "outputs": [],
   "source": [
    "%matplotlib notebook"
   ]
  },
  {
   "cell_type": "code",
   "execution_count": null,
   "metadata": {
    "slideshow": {
     "slide_type": "skip"
    }
   },
   "outputs": [],
   "source": [
    "import sys\n",
    "\n",
    "sys.path.append(\"../../\")\n",
    "\n",
    "from shared.src import quiet\n",
    "from shared.src import seed\n",
    "from shared.src import style"
   ]
  },
  {
   "cell_type": "code",
   "execution_count": null,
   "metadata": {
    "slideshow": {
     "slide_type": "skip"
    }
   },
   "outputs": [],
   "source": [
    "from IPython.display import HTML, IFrame, Image, YouTubeVideo\n",
    "import matplotlib.pyplot as plt\n",
    "import pandas as pd\n",
    "\n",
    "import utils.daft"
   ]
  },
  {
   "cell_type": "markdown",
   "metadata": {
    "slideshow": {
     "slide_type": "slide"
    }
   },
   "source": [
    "# What is this class?"
   ]
  },
  {
   "cell_type": "markdown",
   "metadata": {
    "slideshow": {
     "slide_type": "fragment"
    }
   },
   "source": [
    "## Data Science for Research Psychology"
   ]
  },
  {
   "cell_type": "markdown",
   "metadata": {
    "slideshow": {
     "slide_type": "slide"
    }
   },
   "source": [
    "## What do we mean by _Data Science_?"
   ]
  },
  {
   "cell_type": "markdown",
   "metadata": {
    "slideshow": {
     "slide_type": "fragment"
    }
   },
   "source": [
    "### Data 8: The Foundations of Data Science\n",
    "> The UC Berkeley Foundations of Data Science course combines  ... **inferential thinking** \\[and\\] **computational thinking** ... The course teaches **critical concepts and skills in computer programming and statistical inference**"
   ]
  },
  {
   "cell_type": "markdown",
   "metadata": {
    "slideshow": {
     "slide_type": "fragment"
    }
   },
   "source": [
    "\"Data Science\" is the intersection of Computer Science and Statistics."
   ]
  },
  {
   "cell_type": "markdown",
   "metadata": {
    "slideshow": {
     "slide_type": "fragment"
    }
   },
   "source": [
    "### Ubiquitous computing power has changed statistical practice ...\n",
    "\n",
    "so it can and should also change statistical education."
   ]
  },
  {
   "cell_type": "markdown",
   "metadata": {
    "slideshow": {
     "slide_type": "subslide"
    }
   },
   "source": [
    "#### Ubiquitous Computing"
   ]
  },
  {
   "cell_type": "markdown",
   "metadata": {
    "slideshow": {
     "slide_type": "fragment"
    }
   },
   "source": [
    "Around 3 out of 4 of U.S. adults are carrying around a powerful computer in their pockets."
   ]
  },
  {
   "cell_type": "code",
   "execution_count": null,
   "metadata": {
    "slideshow": {
     "slide_type": "fragment"
    }
   },
   "outputs": [],
   "source": [
    "# SOURCE: Pew Research Center\n",
    "IFrame(src=\"https://www.pewinternet.org/chart/mobile-phone-ownership/iframe/\",\n",
    "       width=\"1840px\", height=\"480px\", scrolling=\"no\")"
   ]
  },
  {
   "cell_type": "markdown",
   "metadata": {
    "slideshow": {
     "slide_type": "subslide"
    }
   },
   "source": [
    "#### Consider Apollo 11"
   ]
  },
  {
   "cell_type": "markdown",
   "metadata": {
    "slideshow": {
     "slide_type": "fragment"
    }
   },
   "source": [
    "> ... the latest phones typically have 4GB of RAM. ... This is more than one million ... times more memory than the Apollo computer had in RAM ...\n",
    "\n",
    "> ... But memory isn’t the only thing that matters. The Apollo 11 computer had a processor ... which ran at 0.043 MHz ... the iPhone in your pocket has over 100,000 times the processing power of the computer that landed man on the moon 50 years ago.\n",
    "\n",
    "[SOURCE: realclearscience.com](https://www.realclearscience.com/articles/2019/07/02/your_mobile_phone_vs_apollo_11s_guidance_computer_111026.html)"
   ]
  },
  {
   "cell_type": "code",
   "execution_count": null,
   "metadata": {
    "slideshow": {
     "slide_type": "subslide"
    }
   },
   "outputs": [],
   "source": [
    "print(\"Margaret Hamilton, Programming Lead for Apollo 11 Guidance Computer, with her codebase.\")\n",
    "Image(\"img/margaret_hamilton.jpg\", height=\"25%\", width=\"25%\")"
   ]
  },
  {
   "cell_type": "markdown",
   "metadata": {
    "slideshow": {
     "slide_type": "skip"
    }
   },
   "source": [
    "SOURCE: https://qz.com/726338/the-code-that-took-america-to-the-moon-was-just-published-to-github-and-its-like-a-1960s-time-capsule/"
   ]
  },
  {
   "cell_type": "markdown",
   "metadata": {
    "slideshow": {
     "slide_type": "fragment"
    }
   },
   "source": [
    "[Source code](https://github.com/chrislgarry/Apollo-11/) and\n",
    "[simulator](https://github.com/virtualagc/virtualagc)\n",
    "can be downloaded from GitHub in seconds,\n",
    "as files around the size use to stream 10 minutes of music."
   ]
  },
  {
   "cell_type": "markdown",
   "metadata": {
    "slideshow": {
     "slide_type": "fragment"
    }
   },
   "source": [
    "With the click of a button and\n",
    "for just [10 cents/s](https://aiimpacts.org/recent-trend-in-the-cost-of-computing/),\n",
    "you can rent 100,000 times that compute power!"
   ]
  },
  {
   "cell_type": "markdown",
   "metadata": {
    "slideshow": {
     "slide_type": "skip"
    }
   },
   "source": [
    "Compare that to advances in rocket technology:\n",
    "a trip to the space, let alone the moon, remains out of the reach of the average American."
   ]
  },
  {
   "cell_type": "markdown",
   "metadata": {
    "slideshow": {
     "slide_type": "subslide"
    }
   },
   "source": [
    "#### As in other fields, this has fundamentally changed statistics."
   ]
  },
  {
   "cell_type": "code",
   "execution_count": null,
   "metadata": {
    "slideshow": {
     "slide_type": "fragment"
    }
   },
   "outputs": [],
   "source": [
    "Image(\"img/f_table.gif\")"
   ]
  },
  {
   "cell_type": "markdown",
   "metadata": {
    "slideshow": {
     "slide_type": "skip"
    }
   },
   "source": [
    "[SOURCE](https://www.oreilly.com/library/view/a-step-by-step-approach/9781590474174/9781590474174_app03.html)"
   ]
  },
  {
   "cell_type": "markdown",
   "metadata": {
    "slideshow": {
     "slide_type": "skip"
    }
   },
   "source": [
    "This table contains the \"Critical Values\" for an important and often-used statistic, $F$.\n",
    "Without the ability to compute these values, it's impossible to do certain common statistical tests.\n",
    "These values were difficult enough to compute that, until the advent of ubiquitous computing,\n",
    "they had to be computed by specialists and then published in tables, like this one.\n",
    "\n",
    "This led early statistics to emphasize specific tests for which these tables were computable\n",
    "with the resources of the time.\n",
    "\n",
    "Now, they can be computed in fractions of a second by anyone with the right software packages,\n",
    "and critical values can be found on the fly even faster."
   ]
  },
  {
   "cell_type": "markdown",
   "metadata": {
    "slideshow": {
     "slide_type": "subslide"
    }
   },
   "source": [
    "### ... and computing has become more statisical."
   ]
  },
  {
   "cell_type": "markdown",
   "metadata": {
    "slideshow": {
     "slide_type": "fragment"
    }
   },
   "source": [
    "The increasing ease and decreasing cost of collecting, saving, and analyzing data\n",
    "has made statistical analysis of data a focus of computing and\n",
    "revolutionized business, science, and politics."
   ]
  },
  {
   "cell_type": "code",
   "execution_count": null,
   "metadata": {
    "slideshow": {
     "slide_type": "fragment"
    }
   },
   "outputs": [],
   "source": [
    "YouTubeVideo(\n",
    "    id=\"8WVoJ6JNLO8\", start=256, width=1.5 * 600, height=1.5 * 450)"
   ]
  },
  {
   "cell_type": "markdown",
   "metadata": {
    "slideshow": {
     "slide_type": "skip"
    }
   },
   "source": [
    "[SOURCE: The Visual Capitalist](https://www.visualcapitalist.com/animation-top-15-global-brands-2000-2018/)"
   ]
  },
  {
   "cell_type": "code",
   "execution_count": null,
   "metadata": {
    "slideshow": {
     "slide_type": "skip"
    }
   },
   "outputs": [],
   "source": [
    "Image(\"img/top-10-companies-100-years.jpg\", width=600)"
   ]
  },
  {
   "cell_type": "markdown",
   "metadata": {
    "slideshow": {
     "slide_type": "fragment"
    }
   },
   "source": [
    "This has led to the [oft-repeated](),\n",
    "[oft-disputed](https://towardsdatascience.com/data-is-not-the-new-oil-bdb31f61bc2d) quote \"data is the new oil\"."
   ]
  },
  {
   "cell_type": "markdown",
   "metadata": {
    "slideshow": {
     "slide_type": "subslide"
    }
   },
   "source": [
    "### The centrality of statistical computing has led to the rise of the field of Data Science."
   ]
  },
  {
   "cell_type": "code",
   "execution_count": null,
   "metadata": {
    "slideshow": {
     "slide_type": "subslide"
    }
   },
   "outputs": [],
   "source": [
    "df = pd.read_csv(\"data/ds_v_stats.csv\"); df[\"Date\"] = df[\"Date\"].apply(pd.to_datetime)\n",
    "print(\"SOURCE: Google Trends Data (https://www.google.com/trends)\")\n",
    "f, ax = plt.subplots(figsize=(10, 4))"
   ]
  },
  {
   "cell_type": "code",
   "execution_count": null,
   "metadata": {
    "slideshow": {
     "slide_type": "fragment"
    }
   },
   "outputs": [],
   "source": [
    "ax.plot(\"Date\", \"Data Scientist\", data=df, lw=4); ax.plot(\"Date\", \"Statistician\", data=df, lw=4);\n",
    "ax.legend(); ax.set_xlabel(\"Date\"); ax.set_ylabel(\"Google Search Interest in US\\n% of Max\"); plt.tight_layout();"
   ]
  },
  {
   "cell_type": "markdown",
   "metadata": {
    "slideshow": {
     "slide_type": "skip"
    }
   },
   "source": [
    "[SOURCE: The Visual Capitalist](https://www.visualcapitalist.com/most-valuable-companies-100-years/)"
   ]
  },
  {
   "cell_type": "markdown",
   "metadata": {
    "slideshow": {
     "slide_type": "subslide"
    }
   },
   "source": [
    "### But the rise of data is about more than money!"
   ]
  },
  {
   "cell_type": "markdown",
   "metadata": {
    "slideshow": {
     "slide_type": "subslide"
    }
   },
   "source": [
    "Social scientists are increasingly raising alarms about how data is being used\n",
    "and the impacts of data-driven decision-making.\n",
    "\n",
    "\n",
    "The world needs more informed, conscious citizens to resolve political and ethical concerns around data."
   ]
  },
  {
   "cell_type": "code",
   "execution_count": null,
   "metadata": {
    "slideshow": {
     "slide_type": "fragment"
    }
   },
   "outputs": [],
   "source": [
    "HTML(\"src/aoc_tweet.html\")"
   ]
  },
  {
   "cell_type": "code",
   "execution_count": null,
   "metadata": {
    "slideshow": {
     "slide_type": "fragment"
    }
   },
   "outputs": [],
   "source": [
    "Image(\"img/eubanks_auto_ineq.jpg\") # amazon.com/Automating-Inequality-High-Tech-Profile-Police/dp/1250074312"
   ]
  },
  {
   "cell_type": "code",
   "execution_count": null,
   "metadata": {
    "slideshow": {
     "slide_type": "skip"
    }
   },
   "outputs": [],
   "source": [
    "Image(\"img/oneil_math_destruction.jpg\") # amazon.com/Weapons-Math-Destruction-Increases-Inequality/dp/0553418831/"
   ]
  },
  {
   "cell_type": "markdown",
   "metadata": {
    "slideshow": {
     "slide_type": "subslide"
    }
   },
   "source": [
    "### The Approach:"
   ]
  },
  {
   "cell_type": "markdown",
   "metadata": {
    "slideshow": {
     "slide_type": "fragment"
    }
   },
   "source": [
    "- \"Data Science\" is the intersection of **computer science and statistics**. These ideas should be **taught together, just as they are used together**."
   ]
  },
  {
   "cell_type": "markdown",
   "metadata": {
    "slideshow": {
     "slide_type": "fragment"
    }
   },
   "source": [
    "- The combination of computer science and statistics can and should be **taught differently from the sum of its parts**."
   ]
  },
  {
   "cell_type": "markdown",
   "metadata": {
    "slideshow": {
     "slide_type": "fragment"
    }
   },
   "source": [
    "- **Contemporary technical tools for education** should be used to scale up and smooth over the process of teaching statistics."
   ]
  },
  {
   "cell_type": "markdown",
   "metadata": {
    "slideshow": {
     "slide_type": "slide"
    }
   },
   "source": [
    "# What is this class?"
   ]
  },
  {
   "cell_type": "markdown",
   "metadata": {
    "slideshow": {
     "slide_type": "fragment"
    }
   },
   "source": [
    "## ~~Data Science~~ for Research Psychology"
   ]
  },
  {
   "cell_type": "markdown",
   "metadata": {
    "slideshow": {
     "slide_type": "slide"
    }
   },
   "source": [
    "## What do we mean by _for Research Psychology_?"
   ]
  },
  {
   "cell_type": "markdown",
   "metadata": {
    "slideshow": {
     "slide_type": "subslide"
    }
   },
   "source": [
    "### This course will connect with research psychology in two ways:"
   ]
  },
  {
   "cell_type": "markdown",
   "metadata": {
    "slideshow": {
     "slide_type": "fragment"
    }
   },
   "source": [
    "- Learning to **evaluate quantitative claims** in psychology research using **traditional statistical methods**"
   ]
  },
  {
   "cell_type": "markdown",
   "metadata": {
    "slideshow": {
     "slide_type": "fragment"
    }
   },
   "source": [
    "- Learning skills and tools used to engage in **new forms of psychology research enabled by computational methods**"
   ]
  },
  {
   "cell_type": "markdown",
   "metadata": {
    "slideshow": {
     "slide_type": "subslide"
    }
   },
   "source": [
    "#### Learning to evaluate claims using traditional statistical methods"
   ]
  },
  {
   "cell_type": "markdown",
   "metadata": {
    "slideshow": {
     "slide_type": "fragment"
    }
   },
   "source": [
    "In the traditional method, values called\n",
    "_statistics_ (e.g. $F$, $p$, $t$)\n",
    "are calculated on data and compared to reference values\n",
    "to determine whether patterns in data are likely due to chance."
   ]
  },
  {
   "cell_type": "markdown",
   "metadata": {
    "slideshow": {
     "slide_type": "subslide"
    }
   },
   "source": [
    "#### Example: MDMA and Responses to Rejection"
   ]
  },
  {
   "cell_type": "markdown",
   "metadata": {
    "slideshow": {
     "slide_type": "fragment"
    }
   },
   "source": [
    "The street reputation of MDMA (molly, ecstasy) is that it makes you feel more loving, socially-connected and empathic, in addition to more traditional stimulant effects.\n",
    "\n",
    "What empirical evidence can we find of this?"
   ]
  },
  {
   "cell_type": "markdown",
   "metadata": {
    "slideshow": {
     "slide_type": "subslide"
    }
   },
   "source": [
    "In a paper back in 2013, I examined this with some colleagues at the University of Chicago."
   ]
  },
  {
   "cell_type": "markdown",
   "metadata": {
    "slideshow": {
     "slide_type": "fragment"
    }
   },
   "source": [
    "We used a simulated social exclusion/inclusion paradigm called _Cyberball_."
   ]
  },
  {
   "cell_type": "code",
   "execution_count": null,
   "metadata": {
    "slideshow": {
     "slide_type": "fragment"
    }
   },
   "outputs": [],
   "source": [
    "Image(\"img/cyberball.png\")"
   ]
  },
  {
   "cell_type": "markdown",
   "metadata": {
    "slideshow": {
     "slide_type": "skip"
    }
   },
   "source": [
    "#### [SOURCE](https://www1.psych.purdue.edu/~willia55/Announce/cyberball.htm)"
   ]
  },
  {
   "cell_type": "markdown",
   "metadata": {
    "slideshow": {
     "slide_type": "subslide"
    }
   },
   "source": [
    "We found that MDMA buffered against the impacts of simulated social rejection."
   ]
  },
  {
   "cell_type": "code",
   "execution_count": null,
   "metadata": {
    "slideshow": {
     "slide_type": "fragment"
    }
   },
   "outputs": [],
   "source": [
    "Image(\"img/frye_et_al_2013_fig2.png\")"
   ]
  },
  {
   "cell_type": "markdown",
   "metadata": {
    "slideshow": {
     "slide_type": "fragment"
    }
   },
   "source": [
    "and we reported our results like this:\n",
    "\n",
    "> MDMA reduced the effect of rejection on mood and self-esteem (linear dose × social condition, F[1, 34] = 4.206, p < .05 and F[1, 34] = 5.626, p < .05, respectively ... )\n",
    "\n",
    "\\- [Frye et al., 2013](https://www.researchgate.net/publication/259246733_MDMA_decreases_the_effects_of_simulated_social_rejection)"
   ]
  },
  {
   "cell_type": "markdown",
   "metadata": {
    "slideshow": {
     "slide_type": "subslide"
    }
   },
   "source": [
    "In this class, we will learn to perform analyses like these\n",
    "and report our results in this fashion.\n",
    "\n",
    "But we will also learn to recognize these as claims about a _model of the world_ and how it relates to our data."
   ]
  },
  {
   "cell_type": "markdown",
   "metadata": {
    "slideshow": {
     "slide_type": "fragment"
    }
   },
   "source": [
    "We'll represent our models as Python code and as graphs, like this one:"
   ]
  },
  {
   "cell_type": "code",
   "execution_count": null,
   "metadata": {
    "slideshow": {
     "slide_type": "fragment"
    }
   },
   "outputs": [],
   "source": [
    "utils.daft.display_mdma_model()"
   ]
  },
  {
   "cell_type": "markdown",
   "metadata": {
    "slideshow": {
     "slide_type": "subslide"
    }
   },
   "source": [
    "#### Learning tools for computational psychology"
   ]
  },
  {
   "cell_type": "markdown",
   "metadata": {
    "slideshow": {
     "slide_type": "fragment"
    }
   },
   "source": [
    "In addition to providing new ways to think about old approaches,\n",
    "computation will allow us to ask questions that would be impossible otherwise."
   ]
  },
  {
   "cell_type": "markdown",
   "metadata": {
    "slideshow": {
     "slide_type": "subslide"
    }
   },
   "source": [
    "#### Example: Semantic Maps of the Brain"
   ]
  },
  {
   "cell_type": "markdown",
   "metadata": {
    "slideshow": {
     "slide_type": "fragment"
    }
   },
   "source": [
    "Recent research from Berkeley by [Huth et al., 2016](https://www.nature.com/articles/nature17637):\n",
    "\n",
    "> In this experiment people passively **listened to stories from the Moth Radio Hour** while **brain activity was recorded**. Voxel-wise modeling was used to determine how **each individual brain location responded to 985 distinct semantic concepts** in the stories. The demo shows how these concepts are mapped across the cortical surface."
   ]
  },
  {
   "cell_type": "markdown",
   "metadata": {
    "slideshow": {
     "slide_type": "fragment"
    }
   },
   "source": [
    "DEMO: https://gallantlab.org/huth2016/."
   ]
  },
  {
   "cell_type": "markdown",
   "metadata": {
    "slideshow": {
     "slide_type": "skip"
    }
   },
   "source": [
    "Use the buttons in the top-left that say \"Next\" for a guided tour.\n",
    "\n",
    "The cell below shows a brain region I found interesting:\n",
    "a region for moral judgment?"
   ]
  },
  {
   "cell_type": "code",
   "execution_count": null,
   "metadata": {
    "slideshow": {
     "slide_type": "skip"
    }
   },
   "outputs": [],
   "source": [
    "Image(\"img/huth_demo.png\")"
   ]
  },
  {
   "cell_type": "markdown",
   "metadata": {
    "slideshow": {
     "slide_type": "subslide"
    }
   },
   "source": [
    "Even sophisticated experiments like this one rely on proposing a model\n",
    "and comparing its predictions to the data you observed."
   ]
  },
  {
   "cell_type": "code",
   "execution_count": null,
   "metadata": {
    "slideshow": {
     "slide_type": "fragment"
    }
   },
   "outputs": [],
   "source": [
    "utils.daft.display_huth_model()  # after some simplifications"
   ]
  },
  {
   "cell_type": "markdown",
   "metadata": {
    "slideshow": {
     "slide_type": "subslide"
    }
   },
   "source": [
    "### Questions we will learn to answer:"
   ]
  },
  {
   "cell_type": "markdown",
   "metadata": {
    "slideshow": {
     "slide_type": "fragment"
    }
   },
   "source": [
    "- how do I use statistical methods to **interpret the outcome of an experiment**?"
   ]
  },
  {
   "cell_type": "markdown",
   "metadata": {
    "slideshow": {
     "slide_type": "fragment"
    }
   },
   "source": [
    "- how do I know when my statistical **methods might fail** me?"
   ]
  },
  {
   "cell_type": "markdown",
   "metadata": {
    "slideshow": {
     "slide_type": "fragment"
    }
   },
   "source": [
    "- what are the common statistical **methods I will encounter** as I practice psychological research?"
   ]
  },
  {
   "cell_type": "markdown",
   "metadata": {
    "slideshow": {
     "slide_type": "fragment"
    }
   },
   "source": [
    "- how do I **communicate scientific findings** to other psychologists?"
   ]
  },
  {
   "cell_type": "markdown",
   "metadata": {
    "slideshow": {
     "slide_type": "slide"
    }
   },
   "source": [
    "# How does this class work?"
   ]
  },
  {
   "cell_type": "markdown",
   "metadata": {
    "slideshow": {
     "slide_type": "subslide"
    }
   },
   "source": [
    "This course\n",
    "\n",
    "- ... is centered on **Jupyter notebooks**, which allow you to interactively run Python code with rich multimedia outputs using the browser."
   ]
  },
  {
   "cell_type": "markdown",
   "metadata": {
    "slideshow": {
     "slide_type": "fragment"
    }
   },
   "source": [
    "- ... is **deployed on cloud computing platforms**, to avoid technical problems with installation."
   ]
  },
  {
   "cell_type": "markdown",
   "metadata": {
    "slideshow": {
     "slide_type": "fragment"
    }
   },
   "source": [
    "- ... uses **partial autograding** to allow for real-time feedback on assignments."
   ]
  },
  {
   "cell_type": "markdown",
   "metadata": {
    "slideshow": {
     "slide_type": "subslide"
    }
   },
   "source": [
    "This course is in its first iteration and is _highly experimental_.\n",
    "\n",
    "I'll be asking for your feedback during the course,\n",
    "via Piazza and through a middle-of-term evaluation."
   ]
  },
  {
   "cell_type": "markdown",
   "metadata": {
    "slideshow": {
     "slide_type": "fragment"
    }
   },
   "source": [
    "I'll also ask for your patience with technical glitches\n",
    "and other foibles as the course is rolled out."
   ]
  },
  {
   "cell_type": "markdown",
   "metadata": {
    "slideshow": {
     "slide_type": "subslide"
    }
   },
   "source": [
    "Let's check out the [course website](https://charlesfrye.github.io/psych101d)."
   ]
  },
  {
   "cell_type": "markdown",
   "metadata": {
    "slideshow": {
     "slide_type": "skip"
    }
   },
   "source": [
    "The most important component is the table of course materials,\n",
    "which is populated with links.\n",
    "\n",
    "Some of them look like the image below:"
   ]
  },
  {
   "cell_type": "code",
   "execution_count": null,
   "metadata": {
    "slideshow": {
     "slide_type": "skip"
    }
   },
   "outputs": [],
   "source": [
    "Image(url=\"https://charlesfrye.github.io/psych101d/content/shared/img/interact_badge.svg\")"
   ]
  },
  {
   "cell_type": "markdown",
   "metadata": {
    "slideshow": {
     "slide_type": "skip"
    }
   },
   "source": [
    "Click these if you are a Berkeley-affiliated user. You'll need a CalNet ID."
   ]
  },
  {
   "cell_type": "markdown",
   "metadata": {
    "slideshow": {
     "slide_type": "skip"
    }
   },
   "source": [
    "The others look like this:"
   ]
  },
  {
   "cell_type": "code",
   "execution_count": null,
   "metadata": {
    "slideshow": {
     "slide_type": "skip"
    }
   },
   "outputs": [],
   "source": [
    "Image(url=\"https://mybinder.org/badge_logo.svg\")"
   ]
  },
  {
   "cell_type": "markdown",
   "metadata": {
    "slideshow": {
     "slide_type": "skip"
    }
   },
   "source": [
    "these are for non-Berkeley folks who want to check out the course materials."
   ]
  },
  {
   "cell_type": "markdown",
   "metadata": {
    "slideshow": {
     "slide_type": "skip"
    }
   },
   "source": [
    "Notice that there are some materials already present, in case you want a sneak preview of where the course is going.\n",
    "\n",
    "These materials are subject to change, so don't put in too much work."
   ]
  },
  {
   "cell_type": "markdown",
   "metadata": {
    "slideshow": {
     "slide_type": "skip"
    }
   },
   "source": [
    "The course has\n",
    "\n",
    "- weekly labs, on Fridays\n",
    "- weekly homeworks\n",
    "- two exams: midterm and final\n",
    "- a final (group) project"
   ]
  },
  {
   "cell_type": "markdown",
   "metadata": {
    "slideshow": {
     "slide_type": "skip"
    }
   },
   "source": [
    "## Homeworks\n",
    "\n",
    "Homeworks give you a chance to \"drill\" on concepts from the lectures.\n",
    "Some will be due before lab, with the intent that you practice a skill that's important for doing the lab."
   ]
  },
  {
   "cell_type": "markdown",
   "metadata": {
    "slideshow": {
     "slide_type": "skip"
    }
   },
   "source": [
    "## Labs\n",
    "\n",
    "Labs are more open-ended.\n",
    "They are designed to teach you how to \"play with\" concepts and tools from the lectures.\n",
    "\n",
    "It is intended for it to be possible to complete the lab within the two hour in-person time allotted on Fridays.\n",
    "Attendance is not mandatory.\n",
    "It is, however, encouraged, since you will be able to compare notes with your classmates and ask questions of the instructors.\n",
    "Given the open-ended nature of the lab assignments and the limited amount of automatic grading on labs,\n",
    "the direct feedback given in the lab sections will be especially useful."
   ]
  },
  {
   "cell_type": "markdown",
   "metadata": {
    "slideshow": {
     "slide_type": "skip"
    }
   },
   "source": [
    "## Group Project\n",
    "\n",
    "In the group project, you will apply the modeling skills you've developed in the course to real data, ideally from a psychological experiment.\n",
    "\n",
    "The exact format of the group project is to be determined.\n",
    "Possibilities include poster, write-up, Jupyter notebook.\n",
    "\n",
    "Groups will be no larger than 3 and no smaller than 1.\n",
    "\n",
    "There will be a final presentation, tentatively scheduled for the last lab session, on 12/6/2019."
   ]
  },
  {
   "cell_type": "markdown",
   "metadata": {
    "slideshow": {
     "slide_type": "skip"
    }
   },
   "source": [
    "## Exams\n",
    "\n",
    "The exams will be in-person and have a written component. Their final format is to be determined.\n",
    "\n",
    "Together, the exams count for less of your grade than do the homeworks and labs.\n",
    "Relative performance on those will be considered if the exams bring you to a grade border.\n",
    "\n",
    "The midterm is tentatively scheduled for 10/30/2019, in-class."
   ]
  },
  {
   "cell_type": "markdown",
   "metadata": {
    "slideshow": {
     "slide_type": "slide"
    }
   },
   "source": [
    "# What's Next?"
   ]
  },
  {
   "cell_type": "markdown",
   "metadata": {
    "slideshow": {
     "slide_type": "fragment"
    }
   },
   "source": [
    "We _will_ meet for the first lab, on August 30th.\n",
    "\n",
    "We will go over how to use Jupyter notebooks and the OK autograder."
   ]
  },
  {
   "cell_type": "markdown",
   "metadata": {
    "slideshow": {
     "slide_type": "fragment"
    }
   },
   "source": [
    "There is no class on September 2nd, for Labor Day."
   ]
  },
  {
   "cell_type": "markdown",
   "metadata": {
    "slideshow": {
     "slide_type": "fragment"
    }
   },
   "source": [
    "On Wednesday, September 4th, we'll do a whirlwind review of Python.\n",
    "\n",
    "See the [Python Resources](https://charlesfrye.github.io/psych101d/res/) if you're feeling rusty."
   ]
  }
 ],
 "metadata": {
  "celltoolbar": "Slideshow",
  "kernelspec": {
   "display_name": "Python 3",
   "language": "python",
   "name": "python3"
  },
  "language_info": {
   "codemirror_mode": {
    "name": "ipython",
    "version": 3
   },
   "file_extension": ".py",
   "mimetype": "text/x-python",
   "name": "python",
   "nbconvert_exporter": "python",
   "pygments_lexer": "ipython3",
   "version": "3.6.8"
  }
 },
 "nbformat": 4,
 "nbformat_minor": 2
}
