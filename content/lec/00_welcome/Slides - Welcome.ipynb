{
 "cells": [
  {
   "cell_type": "markdown",
   "metadata": {
    "slideshow": {
     "slide_type": "slide"
    }
   },
   "source": [
    "<img src=\"../../shared/img/slides_banner.svg\" width=2560></img>"
   ]
  },
  {
   "cell_type": "markdown",
   "metadata": {
    "slideshow": {
     "slide_type": "-"
    }
   },
   "source": [
    "# Welcome"
   ]
  },
  {
   "cell_type": "code",
   "execution_count": null,
   "metadata": {
    "slideshow": {
     "slide_type": "skip"
    }
   },
   "outputs": [],
   "source": [
    "%matplotlib notebook"
   ]
  },
  {
   "cell_type": "code",
   "execution_count": null,
   "metadata": {
    "slideshow": {
     "slide_type": "skip"
    }
   },
   "outputs": [],
   "source": [
    "import sys\n",
    "\n",
    "sys.path.append(\"../../\")\n",
    "\n",
    "from shared.src import quiet\n",
    "from shared.src import seed"
   ]
  },
  {
   "cell_type": "code",
   "execution_count": null,
   "metadata": {
    "slideshow": {
     "slide_type": "skip"
    }
   },
   "outputs": [],
   "source": [
    "from IPython.display import HTML, Image, YouTubeVideo\n",
    "import matplotlib.pyplot as plt\n",
    "import pandas as pd"
   ]
  },
  {
   "cell_type": "markdown",
   "metadata": {
    "slideshow": {
     "slide_type": "slide"
    }
   },
   "source": [
    "# What is this class?"
   ]
  },
  {
   "cell_type": "markdown",
   "metadata": {
    "slideshow": {
     "slide_type": "fragment"
    }
   },
   "source": [
    "This is an experimental new course building off of [data8](http://data8.org), _The Foundations of Data Science_."
   ]
  },
  {
   "cell_type": "markdown",
   "metadata": {
    "slideshow": {
     "slide_type": "fragment"
    }
   },
   "source": [
    "It is a rethinking of a long-standing course, PSYCH101, _Research and Data Analysis in Psychology_."
   ]
  },
  {
   "cell_type": "markdown",
   "metadata": {
    "slideshow": {
     "slide_type": "fragment"
    }
   },
   "source": [
    "PSYCH101-D brings the _approach_ of data8 to the _topics_ of PSYCH101."
   ]
  },
  {
   "cell_type": "markdown",
   "metadata": {
    "slideshow": {
     "slide_type": "slide"
    }
   },
   "source": [
    "## What is data8?"
   ]
  },
  {
   "cell_type": "markdown",
   "metadata": {
    "slideshow": {
     "slide_type": "fragment"
    }
   },
   "source": [
    "### Data 8: The Foundations of Data Science\n",
    "The UC Berkeley Foundations of Data Science course combines three perspectives: **inferential thinking, computational thinking**, and real-world relevance. Given data arising from some real-world phenomenon, how does one analyze that data so as to understand that phenomenon? The course teaches **critical concepts and skills in computer programming and statistical inference**, in conjunction with hands-on analysis of real-world datasets, including economic data, document collections, geographical data, and social networks. It delves into social issues surrounding data analysis such as privacy and design."
   ]
  },
  {
   "cell_type": "markdown",
   "metadata": {
    "slideshow": {
     "slide_type": "subslide"
    }
   },
   "source": [
    "### The Core Idea of data8:"
   ]
  },
  {
   "cell_type": "markdown",
   "metadata": {
    "slideshow": {
     "slide_type": "fragment"
    }
   },
   "source": [
    "Ubiquitous computing power and the rise of data have changed statistical practice, so they can and should also change statistical education."
   ]
  },
  {
   "cell_type": "markdown",
   "metadata": {
    "slideshow": {
     "slide_type": "subslide"
    }
   },
   "source": [
    "#### Ubiquitous Computing: Consider Apollo 11"
   ]
  },
  {
   "cell_type": "markdown",
   "metadata": {
    "slideshow": {
     "slide_type": "fragment"
    }
   },
   "source": [
    "> ... the latest phones typically have 4GB of RAM. ... This is more than one million (1,048,576 to be exact) times more memory than the Apollo computer had in RAM ...\n",
    "\n",
    "> ... But memory isn’t the only thing that matters. The Apollo 11 computer had a processor – an electronic circuit that performs operations on external data sources – which ran at 0.043 MHz ... the iPhone in your pocket has over 100,000 times the processing power of the computer that landed man on the moon 50 years ago.\n",
    "\n",
    "[SOURCE: realclearscience.com](https://www.realclearscience.com/articles/2019/07/02/your_mobile_phone_vs_apollo_11s_guidance_computer_111026.html)"
   ]
  },
  {
   "cell_type": "code",
   "execution_count": null,
   "metadata": {
    "slideshow": {
     "slide_type": "subslide"
    }
   },
   "outputs": [],
   "source": [
    "print(\"The Director of Software Engineering for Apollo 11, with her codebase.\")\n",
    "Image(\"img/margaret_hamilton.jpg\")"
   ]
  },
  {
   "cell_type": "markdown",
   "metadata": {
    "slideshow": {
     "slide_type": "skip"
    }
   },
   "source": [
    "SOURCE: https://qz.com/726338/the-code-that-took-america-to-the-moon-was-just-published-to-github-and-its-like-a-1960s-time-capsule/"
   ]
  },
  {
   "cell_type": "markdown",
   "metadata": {
    "slideshow": {
     "slide_type": "fragment"
    }
   },
   "source": [
    "Now available for [download on GitHub.com](https://github.com/chrislgarry/Apollo-11/),\n",
    "as a file smaller than would be used to stream music, let alone Netflix."
   ]
  },
  {
   "cell_type": "markdown",
   "metadata": {
    "slideshow": {
     "slide_type": "subslide"
    }
   },
   "source": [
    "#### The Rise of Data"
   ]
  },
  {
   "cell_type": "code",
   "execution_count": null,
   "metadata": {
    "slideshow": {
     "slide_type": "fragment"
    }
   },
   "outputs": [],
   "source": [
    "YouTubeVideo(\n",
    "    id=\"8WVoJ6JNLO8\", start=180, width=1.5 * 600, height=1.5 * 450)"
   ]
  },
  {
   "cell_type": "markdown",
   "metadata": {
    "slideshow": {
     "slide_type": "skip"
    }
   },
   "source": [
    "[SOURCE: The Visual Capitalist](https://www.visualcapitalist.com/animation-top-15-global-brands-2000-2018/)"
   ]
  },
  {
   "cell_type": "code",
   "execution_count": null,
   "metadata": {
    "slideshow": {
     "slide_type": "skip"
    }
   },
   "outputs": [],
   "source": [
    "Image(\"img/top-10-companies-100-years.jpg\", width=600)"
   ]
  },
  {
   "cell_type": "markdown",
   "metadata": {
    "slideshow": {
     "slide_type": "skip"
    }
   },
   "source": [
    "[SOURCE: The Visual Capitalist](https://www.visualcapitalist.com/most-valuable-companies-100-years/)"
   ]
  },
  {
   "cell_type": "code",
   "execution_count": null,
   "metadata": {
    "slideshow": {
     "slide_type": "subslide"
    }
   },
   "outputs": [],
   "source": [
    "df = pd.read_csv(\"data/ds_v_stats.csv\"); df[\"Date\"] = df[\"Date\"].apply(pd.to_datetime)\n",
    "print(\"SOURCE: Google Trends Data (https://www.google.com/trends)\")\n",
    "f, ax = plt.subplots(figsize=(10, 4))\n",
    "ax.plot(\"Date\", \"Data Scientist\", data=df, lw=4); ax.plot(\"Date\", \"Statistician\", data=df, lw=4)\n",
    "ax.legend(); ax.set_xlabel(\"Date\"); ax.set_ylabel(\"Google Search Interest in US\\n% of Max\"); plt.tight_layout();"
   ]
  },
  {
   "cell_type": "code",
   "execution_count": null,
   "metadata": {
    "slideshow": {
     "slide_type": "fragment"
    }
   },
   "outputs": [],
   "source": [
    "# Bootstraps!\n",
    "[ax.plot(\"Date\", \"Data Scientist\", data=df.sample(frac=1, replace=True).sort_values(\"Date\"),\n",
    "         lw=4, color=\"C0\", alpha=0.01) for _ in range(100)];\n",
    "[ax.plot(\"Date\", \"Statistician\", data=df.sample(frac=1, replace=True).sort_values(\"Date\"),\n",
    "         lw=4, color=\"C1\", alpha=0.01) for _ in range(100)];"
   ]
  },
  {
   "cell_type": "markdown",
   "metadata": {
    "slideshow": {
     "slide_type": "subslide"
    }
   },
   "source": [
    "This has led to the [oft-repeated](),\n",
    "[oft-disputed](https://towardsdatascience.com/data-is-not-the-new-oil-bdb31f61bc2d) quote \"data is the new oil\"."
   ]
  },
  {
   "cell_type": "markdown",
   "metadata": {
    "slideshow": {
     "slide_type": "subslide"
    }
   },
   "source": [
    "But the rise of data is about more than money!"
   ]
  },
  {
   "cell_type": "markdown",
   "metadata": {
    "slideshow": {
     "slide_type": "subslide"
    }
   },
   "source": [
    "Social scientists are increasingly raising alarms about how data is being used and the impacts data-driven decision-making is having.\n",
    "\n",
    "Understanding their arguments and the stakes thoroughly enough to be truly informed citizens necessitates engagement with data science."
   ]
  },
  {
   "cell_type": "code",
   "execution_count": null,
   "metadata": {
    "slideshow": {
     "slide_type": "fragment"
    }
   },
   "outputs": [],
   "source": [
    "Image(\"img/eubanks_auto_ineq.jpg\") # amazon.com/Automating-Inequality-High-Tech-Profile-Police/dp/1250074312"
   ]
  },
  {
   "cell_type": "code",
   "execution_count": null,
   "metadata": {
    "slideshow": {
     "slide_type": "skip"
    }
   },
   "outputs": [],
   "source": [
    "Image(\"img/oneil_math_destruction.jpg\") # amazon.com/Weapons-Math-Destruction-Increases-Inequality/dp/0553418831/"
   ]
  },
  {
   "cell_type": "markdown",
   "metadata": {
    "slideshow": {
     "slide_type": "subslide"
    }
   },
   "source": [
    "### The Approach:"
   ]
  },
  {
   "cell_type": "markdown",
   "metadata": {
    "slideshow": {
     "slide_type": "fragment"
    }
   },
   "source": [
    "- \"Data Science\" is the intersection of computer science and statistics. These ideas should be taught together, just as they are used together."
   ]
  },
  {
   "cell_type": "markdown",
   "metadata": {
    "slideshow": {
     "slide_type": "fragment"
    }
   },
   "source": [
    "- The combination of computer science and statistics can and should be taught differently from the sum of its parts."
   ]
  },
  {
   "cell_type": "markdown",
   "metadata": {
    "slideshow": {
     "slide_type": "fragment"
    }
   },
   "source": [
    "- Contemporary technical tools for education should be used to scale up and smooth over the process of teaching statistics."
   ]
  },
  {
   "cell_type": "markdown",
   "metadata": {
    "slideshow": {
     "slide_type": "slide"
    }
   },
   "source": [
    "## What is PSYCH101?"
   ]
  },
  {
   "cell_type": "markdown",
   "metadata": {
    "slideshow": {
     "slide_type": "fragment"
    }
   },
   "source": [
    "PSYCH101 is the quantitative research methods course in the Psychology Department."
   ]
  },
  {
   "cell_type": "markdown",
   "metadata": {
    "slideshow": {
     "slide_type": "fragment"
    }
   },
   "source": [
    "It teaches the core concepts of statistics for students in the Psychology major."
   ]
  },
  {
   "cell_type": "markdown",
   "metadata": {
    "slideshow": {
     "slide_type": "subslide"
    }
   },
   "source": [
    "### The Core Idea of PSYCH101:"
   ]
  },
  {
   "cell_type": "markdown",
   "metadata": {
    "slideshow": {
     "slide_type": "fragment"
    }
   },
   "source": [
    "Train undergraduate students in the language and practice of statistics for empirical research in psychology."
   ]
  },
  {
   "cell_type": "markdown",
   "metadata": {
    "slideshow": {
     "slide_type": "fragment"
    }
   },
   "source": [
    "This is implemented in a variety of ways.\n",
    "\n",
    "Some versions of the course emphasize programming, others pen-and-paper mathematics."
   ]
  },
  {
   "cell_type": "markdown",
   "metadata": {
    "slideshow": {
     "slide_type": "subslide"
    }
   },
   "source": [
    "But all versions attempt to teach students the following:"
   ]
  },
  {
   "cell_type": "markdown",
   "metadata": {
    "slideshow": {
     "slide_type": "fragment"
    }
   },
   "source": [
    "- how do I use statistical methods to interpret the outcome of an experiment?"
   ]
  },
  {
   "cell_type": "markdown",
   "metadata": {
    "slideshow": {
     "slide_type": "fragment"
    }
   },
   "source": [
    "- how do I know when my statistical methods might fail me?"
   ]
  },
  {
   "cell_type": "markdown",
   "metadata": {
    "slideshow": {
     "slide_type": "fragment"
    }
   },
   "source": [
    "- what are the common statistical methods I will encounter as I practice psychological research?"
   ]
  },
  {
   "cell_type": "markdown",
   "metadata": {
    "slideshow": {
     "slide_type": "fragment"
    }
   },
   "source": [
    "- how do I communicate scientific findings to other psychologists?"
   ]
  },
  {
   "cell_type": "markdown",
   "metadata": {
    "slideshow": {
     "slide_type": "slide"
    }
   },
   "source": [
    "## What is PSYCH101-D?"
   ]
  },
  {
   "cell_type": "markdown",
   "metadata": {
    "slideshow": {
     "slide_type": "fragment"
    }
   },
   "source": [
    "### The Core Idea of PSYCH101-D:"
   ]
  },
  {
   "cell_type": "markdown",
   "metadata": {
    "slideshow": {
     "slide_type": "fragment"
    }
   },
   "source": [
    "Take advantage of ubiquitous, easy computing, new educational tools, and the increasing technical sophistication of undergraduates to teach the fundamental ideas of scientific inference and experimentation in a new way."
   ]
  },
  {
   "cell_type": "markdown",
   "metadata": {
    "slideshow": {
     "slide_type": "fragment"
    }
   },
   "source": [
    "Train those undergraduate students who have some background in data science in the language and practice of statistics for empirical research in _increasingly computational, data-driven_ sub-fields of psychology."
   ]
  },
  {
   "cell_type": "markdown",
   "metadata": {
    "slideshow": {
     "slide_type": "subslide"
    }
   },
   "source": [
    "#### Computational Methods in Psychology"
   ]
  },
  {
   "cell_type": "markdown",
   "metadata": {
    "slideshow": {
     "slide_type": "fragment"
    }
   },
   "source": [
    "Ubiquitous computing power has enabled new kinds of research in psychology."
   ]
  },
  {
   "cell_type": "markdown",
   "metadata": {
    "slideshow": {
     "slide_type": "fragment"
    }
   },
   "source": [
    "An example: recent research from Berkeley by [Huth et al., 2016](https://www.nature.com/articles/nature17637):\n",
    "\n",
    "> In this experiment people passively listened to stories from the Moth Radio Hour while brain activity was recorded. Voxel-wise modeling was used to determine how each individual brain location responded to 985 distinct semantic concepts in the stories. The demo shows how these concepts are mapped across the cortical surface."
   ]
  },
  {
   "cell_type": "markdown",
   "metadata": {
    "slideshow": {
     "slide_type": "fragment"
    }
   },
   "source": [
    "DEMO: https://gallantlab.org/huth2016/."
   ]
  },
  {
   "cell_type": "markdown",
   "metadata": {
    "slideshow": {
     "slide_type": "skip"
    }
   },
   "source": [
    "Use the buttons in the top-left that say \"Next\" for a guided tour.\n",
    "\n",
    "The cell below shows a brain region I found interesting:\n",
    "a region for moral judgment?"
   ]
  },
  {
   "cell_type": "code",
   "execution_count": null,
   "metadata": {
    "slideshow": {
     "slide_type": "skip"
    }
   },
   "outputs": [],
   "source": [
    "Image(\"img/huth_demo.png\")"
   ]
  },
  {
   "cell_type": "markdown",
   "metadata": {
    "slideshow": {
     "slide_type": "slide"
    }
   },
   "source": [
    "# How does this class work?"
   ]
  },
  {
   "cell_type": "markdown",
   "metadata": {
    "slideshow": {
     "slide_type": "subslide"
    }
   },
   "source": [
    "This course is\n",
    "\n",
    "- centered on Jupyter notebooks, which allow you to interactively run Python code with rich multimedia outputs using the browser..."
   ]
  },
  {
   "cell_type": "markdown",
   "metadata": {
    "slideshow": {
     "slide_type": "fragment"
    }
   },
   "source": [
    "- deployed on cloud computing platforms, to avoid technical problems with installation..."
   ]
  },
  {
   "cell_type": "markdown",
   "metadata": {
    "slideshow": {
     "slide_type": "fragment"
    }
   },
   "source": [
    "- using partial autograding to allow for real-time feedback on assignments."
   ]
  },
  {
   "cell_type": "markdown",
   "metadata": {
    "slideshow": {
     "slide_type": "subslide"
    }
   },
   "source": [
    "Let's check out the [course website](https://charlesfrye.github.io/psych101d)."
   ]
  },
  {
   "cell_type": "markdown",
   "metadata": {
    "slideshow": {
     "slide_type": "skip"
    }
   },
   "source": [
    "The most important component is the table of course materials,\n",
    "which is populated with links.\n",
    "\n",
    "Some of them look like the image below:"
   ]
  },
  {
   "cell_type": "code",
   "execution_count": null,
   "metadata": {
    "scrolled": false,
    "slideshow": {
     "slide_type": "skip"
    }
   },
   "outputs": [],
   "source": [
    "Image(url=\"https://charlesfrye.github.io/psych101d/content/shared/img/interact_badge.svg\")"
   ]
  },
  {
   "cell_type": "markdown",
   "metadata": {
    "slideshow": {
     "slide_type": "skip"
    }
   },
   "source": [
    "Click these if you are a Berkeley-affiliated user. You'll need a CalNet ID."
   ]
  },
  {
   "cell_type": "markdown",
   "metadata": {
    "slideshow": {
     "slide_type": "skip"
    }
   },
   "source": [
    "The others look like this:"
   ]
  },
  {
   "cell_type": "code",
   "execution_count": null,
   "metadata": {
    "scrolled": false,
    "slideshow": {
     "slide_type": "skip"
    }
   },
   "outputs": [],
   "source": [
    "Image(url=\"https://mybinder.org/badge_logo.svg\")"
   ]
  },
  {
   "cell_type": "markdown",
   "metadata": {
    "slideshow": {
     "slide_type": "skip"
    }
   },
   "source": [
    "these are for non-Berkeley folks who want to check out the course materials."
   ]
  },
  {
   "cell_type": "markdown",
   "metadata": {
    "slideshow": {
     "slide_type": "skip"
    }
   },
   "source": [
    "Notice that there are some materials already present, in case you want a sneak preview of where the course is going.\n",
    "\n",
    "These materials are subject to change, so don't put in too much work."
   ]
  },
  {
   "cell_type": "markdown",
   "metadata": {
    "slideshow": {
     "slide_type": "skip"
    }
   },
   "source": [
    "The course has\n",
    "\n",
    "- weekly labs, on Fridays\n",
    "- weekly homeworks\n",
    "- two exams: midterm and final\n",
    "- a final (group) project"
   ]
  },
  {
   "cell_type": "markdown",
   "metadata": {
    "slideshow": {
     "slide_type": "skip"
    }
   },
   "source": [
    "## Homeworks\n",
    "\n",
    "Homeworks give you a chance to \"drill\" on concepts from the lectures.\n",
    "Some will be due before lab, with the intent that you practice a skill that's important for doing the lab."
   ]
  },
  {
   "cell_type": "markdown",
   "metadata": {
    "slideshow": {
     "slide_type": "skip"
    }
   },
   "source": [
    "## Labs\n",
    "\n",
    "Labs are more open-ended.\n",
    "They are designed to teach you how to \"play with\" concepts and tools from the lectures.\n",
    "\n",
    "It is intended for it to be possible to complete the lab within the two hour in-person time allotted on Fridays.\n",
    "Attendance is not mandatory.\n",
    "It is, however, encouraged, since you will be able to compare notes with your classmates and ask questions of the instructors.\n",
    "Given the open-ended nature of the lab assignments and the limited amount of automatic grading on labs,\n",
    "the direct feedback given in the lab sections will be especially useful."
   ]
  },
  {
   "cell_type": "markdown",
   "metadata": {
    "slideshow": {
     "slide_type": "skip"
    }
   },
   "source": [
    "## Group Project\n",
    "\n",
    "In the group project, you will apply the modeling skills you've developed in the course to real data, ideally from a psychological experiment.\n",
    "\n",
    "The exact format of the group project is to be determined.\n",
    "Possibilities include poster, write-up, Jupyter notebook.\n",
    "\n",
    "Groups will be no larger than 3 and no smaller than 1.\n",
    "\n",
    "There will be a final presentation, tentatively scheduled for the last lab session, on 12/6/2019."
   ]
  },
  {
   "cell_type": "markdown",
   "metadata": {
    "slideshow": {
     "slide_type": "skip"
    }
   },
   "source": [
    "## Exams\n",
    "\n",
    "The exams will be in-person and have a written component. Their final format is to be determined.\n",
    "\n",
    "Together, the exams count for less of your grade than do the homeworks and labs.\n",
    "Relative performance on those will be considered if the exams bring you to a grade border.\n",
    "\n",
    "The midterm is tentatively scheduled for 10/30/2019, in-class."
   ]
  },
  {
   "cell_type": "markdown",
   "metadata": {
    "slideshow": {
     "slide_type": "slide"
    }
   },
   "source": [
    "# What's Next?"
   ]
  },
  {
   "cell_type": "markdown",
   "metadata": {
    "slideshow": {
     "slide_type": "fragment"
    }
   },
   "source": [
    "We _will_ meet for the first lab, on August 30th.\n",
    "\n",
    "We will go over how to use Jupyter notebooks and the OK autograder."
   ]
  },
  {
   "cell_type": "markdown",
   "metadata": {
    "slideshow": {
     "slide_type": "fragment"
    }
   },
   "source": [
    "There is no class on September 2nd. Thank a labor union for inventing weekends."
   ]
  },
  {
   "cell_type": "markdown",
   "metadata": {
    "slideshow": {
     "slide_type": "fragment"
    }
   },
   "source": [
    "On Wednesday, September 4th, we'll do a whirlwind review of Python.\n",
    "\n",
    "See the [Python Resources](https://charlesfrye.github.io/psych101d/res/) if you're feeling rusty."
   ]
  }
 ],
 "metadata": {
  "celltoolbar": "Slideshow",
  "kernelspec": {
   "display_name": "Python 3",
   "language": "python",
   "name": "python3"
  },
  "language_info": {
   "codemirror_mode": {
    "name": "ipython",
    "version": 3
   },
   "file_extension": ".py",
   "mimetype": "text/x-python",
   "name": "python",
   "nbconvert_exporter": "python",
   "pygments_lexer": "ipython3",
   "version": "3.6.8"
  }
 },
 "nbformat": 4,
 "nbformat_minor": 2
}
