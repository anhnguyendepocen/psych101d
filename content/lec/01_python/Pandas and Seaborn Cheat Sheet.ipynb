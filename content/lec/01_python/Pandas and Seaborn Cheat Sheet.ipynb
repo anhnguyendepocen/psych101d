{
 "cells": [
  {
   "cell_type": "markdown",
   "metadata": {
    "slideshow": {
     "slide_type": "slide"
    }
   },
   "source": [
    "<img src=\"../../shared/img/banner.svg\" width=2560></img>"
   ]
  },
  {
   "cell_type": "markdown",
   "metadata": {
    "slideshow": {
     "slide_type": "-"
    }
   },
   "source": [
    "# Pandas and Seaborn Cheat Sheet"
   ]
  },
  {
   "cell_type": "markdown",
   "metadata": {},
   "source": [
    "This notebook is intended as a reference for the pandas and seaborn material in hw01 and lab01.\n",
    "\n",
    "If you want a reference for the pure Python material,\n",
    "e.g. on lists, dictionaries, functions, and control flow (`for`, `if`, `else`),\n",
    "check out [these cheat sheets](https://ehmatthes.github.io/pcc/cheatsheets/README.html)"
   ]
  },
  {
   "cell_type": "markdown",
   "metadata": {},
   "source": [
    "If you've taken data8 or are otherwise familiar with the `datascience` package\n",
    "and its `Table`s,\n",
    "check out the notebook at\n",
    "[this interact link](http://datahub.berkeley.edu/user-redirect/interact?account=ds-modules&repo=core-resources&branch=master&path=tabular-data/datascience%20to%20pandas.ipynb)\n",
    "for a \"Rosetta Stone\" matching `datascience.Table`s to `pandas.DataFrame`s.\n",
    "You only need up to, but not including, **Grouping and Aggregating** for the first lab and homework."
   ]
  },
  {
   "cell_type": "code",
   "execution_count": null,
   "metadata": {
    "slideshow": {
     "slide_type": "skip"
    }
   },
   "outputs": [],
   "source": [
    "%matplotlib inline"
   ]
  },
  {
   "cell_type": "code",
   "execution_count": null,
   "metadata": {
    "slideshow": {
     "slide_type": "skip"
    }
   },
   "outputs": [],
   "source": [
    "import sys\n",
    "\n",
    "sys.path.append(\"../../\")\n",
    "\n",
    "from shared.src import quiet\n",
    "from shared.src import seed\n",
    "from shared.src import style"
   ]
  },
  {
   "cell_type": "code",
   "execution_count": null,
   "metadata": {
    "slideshow": {
     "slide_type": "skip"
    }
   },
   "outputs": [],
   "source": [
    "import matplotlib.pyplot as plt\n",
    "import numpy as np"
   ]
  },
  {
   "cell_type": "markdown",
   "metadata": {},
   "source": [
    "## Pandas"
   ]
  },
  {
   "cell_type": "markdown",
   "metadata": {},
   "source": [
    "Pandas is typically abbreviated to `pd`."
   ]
  },
  {
   "cell_type": "code",
   "execution_count": null,
   "metadata": {},
   "outputs": [],
   "source": [
    "import pandas as pd"
   ]
  },
  {
   "cell_type": "markdown",
   "metadata": {},
   "source": [
    "### Creating a `DataFrame`"
   ]
  },
  {
   "cell_type": "markdown",
   "metadata": {},
   "source": [
    "One view of a `DataFrame` is that it is like a _dictionary of lists_.\n",
    "Each list represents a column of the dataframe,\n",
    "and the key gives the column name.\n",
    "All of the lists are the same size."
   ]
  },
  {
   "cell_type": "code",
   "execution_count": null,
   "metadata": {},
   "outputs": [],
   "source": [
    "data_in_columns = {\"columnA\": [\"0A\", \"1A\"], \"columnB\": [\"0B\", \"1B\"]}\n",
    "\n",
    "pd.DataFrame(data_in_columns)"
   ]
  },
  {
   "cell_type": "markdown",
   "metadata": {},
   "source": [
    "Another view of a `DataFrame` is that it is like a _list of lists_.\n",
    "In this case, each element in the outermost list represents a _row_\n",
    "of the dataframe.\n",
    "Again, all of the lists must be the same size.\n",
    "\n",
    "We must add the column names manually, in this case."
   ]
  },
  {
   "cell_type": "code",
   "execution_count": null,
   "metadata": {},
   "outputs": [],
   "source": [
    "data_in_rows = [[\"0A\", \"0B\"], [\"1A\", \"1B\"]]\n",
    "\n",
    "pd.DataFrame(data_in_rows, columns=[\"columnA\", \"columnB\"])"
   ]
  },
  {
   "cell_type": "markdown",
   "metadata": {},
   "source": [
    "The cell below generates a slightly larger dataframe to work with for the rest of the pandas section."
   ]
  },
  {
   "cell_type": "code",
   "execution_count": null,
   "metadata": {},
   "outputs": [],
   "source": [
    "N = 6\n",
    "toy_data = {\"species\": np.random.choice([\"puppy\", \"kitty\"], size=N),\n",
    "            \"rating\": np.random.randint(8, 11, size=N)}\n",
    "\n",
    "toy_df = pd.DataFrame(toy_data)\n",
    "toy_df"
   ]
  },
  {
   "cell_type": "markdown",
   "metadata": {},
   "source": [
    "### Series"
   ]
  },
  {
   "cell_type": "markdown",
   "metadata": {},
   "source": [
    "But a DataFrame is not represented using `list`s.\n",
    "\n",
    "Instead, both rows and columns of dataframes are represented as a datatype called a `Series`."
   ]
  },
  {
   "cell_type": "code",
   "execution_count": null,
   "metadata": {},
   "outputs": [],
   "source": [
    "# this cell selects a column\n",
    "toy_df[\"species\"]"
   ]
  },
  {
   "cell_type": "code",
   "execution_count": null,
   "metadata": {},
   "outputs": [],
   "source": [
    "type(toy_df[\"species\"])"
   ]
  },
  {
   "cell_type": "code",
   "execution_count": null,
   "metadata": {},
   "outputs": [],
   "source": [
    "# this cell selects a row; see indexing section below\n",
    "toy_df.iloc[0]"
   ]
  },
  {
   "cell_type": "code",
   "execution_count": null,
   "metadata": {},
   "outputs": [],
   "source": [
    "type(toy_df.iloc[0])"
   ]
  },
  {
   "cell_type": "markdown",
   "metadata": {},
   "source": [
    "Lots of operations on `Series` result in a new `Series`. "
   ]
  },
  {
   "cell_type": "code",
   "execution_count": null,
   "metadata": {},
   "outputs": [],
   "source": [
    "toy_df[\"species\"] == \"puppy\""
   ]
  },
  {
   "cell_type": "code",
   "execution_count": null,
   "metadata": {},
   "outputs": [],
   "source": [
    "type(toy_df[\"species\"] == \"puppy\")"
   ]
  },
  {
   "cell_type": "code",
   "execution_count": null,
   "metadata": {},
   "outputs": [],
   "source": [
    "toy_df[\"rating\"] + 1"
   ]
  },
  {
   "cell_type": "code",
   "execution_count": null,
   "metadata": {},
   "outputs": [],
   "source": [
    "type(toy_df[\"rating\"] + 1)"
   ]
  },
  {
   "cell_type": "markdown",
   "metadata": {},
   "source": [
    "### Applying functions to Series"
   ]
  },
  {
   "cell_type": "markdown",
   "metadata": {},
   "source": [
    "Use the `apply` function to feed each element of a `Series`\n",
    "to a function and get out a new `Series`."
   ]
  },
  {
   "cell_type": "code",
   "execution_count": null,
   "metadata": {},
   "outputs": [],
   "source": [
    "def is_ten(rating):\n",
    "    return rating == 10"
   ]
  },
  {
   "cell_type": "code",
   "execution_count": null,
   "metadata": {},
   "outputs": [],
   "source": [
    "toy_df[\"rating\"].apply(is_ten)"
   ]
  },
  {
   "cell_type": "markdown",
   "metadata": {},
   "source": [
    "We can then add a column to our dataframe by assignment."
   ]
  },
  {
   "cell_type": "code",
   "execution_count": null,
   "metadata": {},
   "outputs": [],
   "source": [
    "toy_df[\"top_rated\"] = toy_df[\"rating\"].apply(is_ten)"
   ]
  },
  {
   "cell_type": "code",
   "execution_count": null,
   "metadata": {},
   "outputs": [],
   "source": [
    "toy_df"
   ]
  },
  {
   "cell_type": "markdown",
   "metadata": {},
   "source": [
    "### Selection with Boolean Series"
   ]
  },
  {
   "cell_type": "markdown",
   "metadata": {},
   "source": [
    "A series whose values are all `True` or `False` is called a _Boolean Series_.\n",
    "\n",
    "If we use a Boolean series, instead of a string,\n",
    "inside brackets following the name of a dataframe,\n",
    "we will pull out, or \"select\" the rows corresponding to `True` in the Series."
   ]
  },
  {
   "cell_type": "code",
   "execution_count": null,
   "metadata": {},
   "outputs": [],
   "source": [
    "toy_df[toy_df[\"species\"] == \"kitty\"]"
   ]
  },
  {
   "cell_type": "markdown",
   "metadata": {},
   "source": [
    "Matching is done, when possible, using the index, not the order,\n",
    "as shown by the cells below.\n",
    "\n",
    "`sample` here draws, without replacement, rows from the dataframe.\n",
    "`frac=1` means to draw all of the rows.\n",
    "Since the sampling is without replacement,\n",
    "`sample(frac=1)` results in a shuffling of all of the rows.\n",
    "\n",
    "`tolist()` turns the `Series` into a list, which gets rid of the index.\n",
    "Run both cells below several times to see the different results."
   ]
  },
  {
   "cell_type": "code",
   "execution_count": null,
   "metadata": {},
   "outputs": [],
   "source": [
    "toy_df.sample(frac=1)[toy_df[\"species\"] == \"kitty\"]"
   ]
  },
  {
   "cell_type": "code",
   "execution_count": null,
   "metadata": {},
   "outputs": [],
   "source": [
    "toy_df.sample(frac=1)[(toy_df[\"species\"] == \"kitty\").tolist()]"
   ]
  },
  {
   "cell_type": "markdown",
   "metadata": {},
   "source": [
    "We can combine Boolean series with `&`, pronounced \"and\", and `|`, pronounced \"or\".\n",
    "\n",
    "Two gotchas:\n",
    "- The keywords `and` and `or` will not work here.\n",
    "- Notice the parentheses!"
   ]
  },
  {
   "cell_type": "code",
   "execution_count": null,
   "metadata": {},
   "outputs": [],
   "source": [
    "toy_df[(toy_df[\"species\"] == \"kitty\") & (toy_df[\"rating\"] > 8)]"
   ]
  },
  {
   "cell_type": "markdown",
   "metadata": {},
   "source": [
    "### Indexing"
   ]
  },
  {
   "cell_type": "markdown",
   "metadata": {},
   "source": [
    "When we want to select just one row,  or a few in a row,\n",
    "we use the two indexing functions of pandas: `loc` and `iloc`.\n",
    "\n",
    "They are akin to slicing into lists, with `list[a:b]` and such."
   ]
  },
  {
   "cell_type": "markdown",
   "metadata": {},
   "source": [
    "#### .iloc\n",
    "\n",
    "`.iloc` selects by position in the dataframe.\n",
    "It takes an `i`nteger as argument and uses straight brackets `[`,\n",
    "just like when slicing a list."
   ]
  },
  {
   "cell_type": "code",
   "execution_count": null,
   "metadata": {},
   "outputs": [],
   "source": [
    "toy_df.iloc[0]"
   ]
  },
  {
   "cell_type": "markdown",
   "metadata": {},
   "source": [
    "If the order of the rows changes,\n",
    "e.g. in the example below,\n",
    "the value returned by `iloc` will change:"
   ]
  },
  {
   "cell_type": "code",
   "execution_count": null,
   "metadata": {},
   "outputs": [],
   "source": [
    "toy_df.sample(frac=1).iloc[0]"
   ]
  },
  {
   "cell_type": "markdown",
   "metadata": {},
   "source": [
    "#### .loc"
   ]
  },
  {
   "cell_type": "markdown",
   "metadata": {},
   "source": [
    "`.loc`, on the other hand, selects by the `index`,\n",
    "the \"extra\" column of values on the left-most side."
   ]
  },
  {
   "cell_type": "code",
   "execution_count": null,
   "metadata": {},
   "outputs": [],
   "source": [
    "toy_df"
   ]
  },
  {
   "cell_type": "code",
   "execution_count": null,
   "metadata": {},
   "outputs": [],
   "source": [
    "toy_df.index.tolist()"
   ]
  },
  {
   "cell_type": "code",
   "execution_count": null,
   "metadata": {},
   "outputs": [],
   "source": [
    "toy_df.loc[0]"
   ]
  },
  {
   "cell_type": "markdown",
   "metadata": {},
   "source": [
    "In our case, the index is just a number, so `loc` and `iloc` take the same arguments.\n",
    "In other cases, the index might be a name, an ID string, or a timestamp,\n",
    "and so `iloc` would still use an `int`eger,\n",
    "but `loc` would take a different type of argument.\n",
    "\n",
    "But in our case, how are these functions different?\n",
    "Because the index is part of the row, the value returned by `loc` is unaffected by changes in the order of rows."
   ]
  },
  {
   "cell_type": "code",
   "execution_count": null,
   "metadata": {},
   "outputs": [],
   "source": [
    "toy_df.sample(frac=1)"
   ]
  },
  {
   "cell_type": "code",
   "execution_count": null,
   "metadata": {},
   "outputs": [],
   "source": [
    "toy_df.sample(frac=1).loc[0]"
   ]
  },
  {
   "cell_type": "markdown",
   "metadata": {},
   "source": [
    "### Sorting"
   ]
  },
  {
   "cell_type": "markdown",
   "metadata": {},
   "source": [
    "Sort a dataframe by one of its columns with the function `sort_values`."
   ]
  },
  {
   "cell_type": "code",
   "execution_count": null,
   "metadata": {},
   "outputs": [],
   "source": [
    "toy_df.sort_values(by=\"rating\")"
   ]
  },
  {
   "cell_type": "markdown",
   "metadata": {},
   "source": [
    "Reverse the order by passing `ascending=False` as a keyword argument."
   ]
  },
  {
   "cell_type": "code",
   "execution_count": null,
   "metadata": {},
   "outputs": [],
   "source": [
    "toy_df.sort_values(by=\"rating\", ascending=False)"
   ]
  },
  {
   "cell_type": "markdown",
   "metadata": {},
   "source": [
    "## Seaborn"
   ]
  },
  {
   "cell_type": "markdown",
   "metadata": {},
   "source": [
    "Seaborn is typically abbreviated to `sns`."
   ]
  },
  {
   "cell_type": "code",
   "execution_count": null,
   "metadata": {},
   "outputs": [],
   "source": [
    "import seaborn as sns"
   ]
  },
  {
   "cell_type": "markdown",
   "metadata": {},
   "source": [
    "The plotting code with seaborn is mostly provided for you in the lab, in the following format:"
   ]
  },
  {
   "cell_type": "markdown",
   "metadata": {},
   "source": [
    "```python\n",
    "sns.stripplot(x=?, y=?, data=?);\n",
    "```"
   ]
  },
  {
   "cell_type": "markdown",
   "metadata": {},
   "source": [
    "where `stripplot` is just one example of the types of plots seaborn can make,\n",
    "and which you'll make in the lab."
   ]
  },
  {
   "cell_type": "markdown",
   "metadata": {},
   "source": [
    "The `x=` keyword argument picks which column is plotted on the `x` axis,\n",
    "while the `y=` keyword argument picks a column for `y`.\n",
    "The `data` keyword argument tells seaborn which dataframe to pull the columns from."
   ]
  },
  {
   "cell_type": "markdown",
   "metadata": {},
   "source": [
    "So if the above code snippet were given, along with the instructions\n",
    "> Create a `stripplot` of the data in `toy_df` with `species` on the `x` axis and `rating` on the `y` axis.\n",
    "\n",
    "the correct answer would be:"
   ]
  },
  {
   "cell_type": "code",
   "execution_count": null,
   "metadata": {},
   "outputs": [],
   "source": [
    "sns.stripplot(x=\"species\", y=\"rating\", data=toy_df);"
   ]
  },
  {
   "cell_type": "markdown",
   "metadata": {},
   "source": [
    "Seaborn also lets you choose a column to separate out datapoints by color,\n",
    "using the `hue` argument.\n",
    "This will be done for you in this first lab,\n",
    "as below:"
   ]
  },
  {
   "cell_type": "markdown",
   "metadata": {},
   "source": [
    "```python\n",
    "sns.stripplot(x=?, y=?, hue=\"top_rated\", data=?);\n",
    "```"
   ]
  },
  {
   "cell_type": "markdown",
   "metadata": {},
   "source": [
    "accompanied by instructions\n",
    "> Create a `stripplot` of the data in `toy_df` with `species` on the `x` axis and `rating` on the `y` axis.\n",
    "\n",
    "and with correct answer"
   ]
  },
  {
   "cell_type": "code",
   "execution_count": null,
   "metadata": {},
   "outputs": [],
   "source": [
    "sns.stripplot(x=\"species\", y=\"rating\", hue=\"top_rated\", data=toy_df);"
   ]
  }
 ],
 "metadata": {
  "kernelspec": {
   "display_name": "Python 3",
   "language": "python",
   "name": "python3"
  },
  "language_info": {
   "codemirror_mode": {
    "name": "ipython",
    "version": 3
   },
   "file_extension": ".py",
   "mimetype": "text/x-python",
   "name": "python",
   "nbconvert_exporter": "python",
   "pygments_lexer": "ipython3",
   "version": "3.6.8"
  }
 },
 "nbformat": 4,
 "nbformat_minor": 2
}
