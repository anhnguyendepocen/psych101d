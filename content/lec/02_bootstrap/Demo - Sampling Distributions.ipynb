{
 "cells": [
  {
   "cell_type": "markdown",
   "metadata": {},
   "source": [
    "<img src=\"../../shared/img/banner.svg\" width=2560></img>"
   ]
  },
  {
   "cell_type": "markdown",
   "metadata": {},
   "source": [
    "# Demo - Sampling Distributions"
   ]
  },
  {
   "cell_type": "code",
   "execution_count": null,
   "metadata": {},
   "outputs": [],
   "source": [
    "%matplotlib inline"
   ]
  },
  {
   "cell_type": "code",
   "execution_count": null,
   "metadata": {},
   "outputs": [],
   "source": [
    "import sys\n",
    "\n",
    "sys.path.append(\"../../\")\n",
    "\n",
    "from shared.src import quiet\n",
    "from shared.src import seed\n",
    "from shared.src import style"
   ]
  },
  {
   "cell_type": "code",
   "execution_count": null,
   "metadata": {},
   "outputs": [],
   "source": [
    "import collections\n",
    "import fractions\n",
    "import functools\n",
    "import itertools\n",
    "from operator import __mul__ as mul\n",
    "\n",
    "import matplotlib.pyplot as plt\n",
    "import numpy as np\n",
    "\n",
    "import utils.sampdist_demo as demo"
   ]
  },
  {
   "cell_type": "markdown",
   "metadata": {},
   "source": [
    "Here, we define a few probability mass distributions, aka probability mass functions, or pmfs.\n",
    "\n",
    "We'll use dictionaries to represent these distributions.\n",
    "\n",
    "The _keys_ of the dictionary are the outcomes, or possible data values.\n",
    "The _values_ of the dictionary are the probabilities associated with each outcome."
   ]
  },
  {
   "cell_type": "markdown",
   "metadata": {},
   "source": [
    "You can define your own pmfs by choosing different keys and values.\n",
    "Using the `Fraction` datatype makes some things cleaner, but isn't necessary."
   ]
  },
  {
   "cell_type": "code",
   "execution_count": null,
   "metadata": {},
   "outputs": [],
   "source": [
    "# using fractions here just to make the pmfs look nicer\n",
    "fair_coin_pmf = {\"H\": fractions.Fraction(1, 2), \"T\": fractions.Fraction(1, 2)}\n",
    "\n",
    "unfair_coin_pmf = {\"H\": 0.4, \"T\":0.6}\n",
    "\n",
    "very_unfair_coin_pmf = {\"H\": fractions.Fraction(1, 10), \"T\": fractions.Fraction(9, 10)}"
   ]
  },
  {
   "cell_type": "markdown",
   "metadata": {},
   "source": [
    "For convenience, we make a variable just to refer to whichever pmf we're currently working with.\n",
    "That way, if we want to rerun all of the analyses with a different pmf, we can just make a change in this one cell, then go to the `Cell` menu in the toolbar at the top of the screen and select `Run All Below`."
   ]
  },
  {
   "cell_type": "code",
   "execution_count": null,
   "metadata": {},
   "outputs": [],
   "source": [
    "data_pmf = fair_coin_pmf"
   ]
  },
  {
   "cell_type": "markdown",
   "metadata": {},
   "source": [
    "How do we make a sampling distribution from a `pmf`?\n",
    "\n",
    "The key assumption for sampling is _independence_: the outcome for one sample has no influence over or predictive power for any other sample.\n",
    "\n",
    "Independent outcomes have a nice property: the probability of both independent outcomes occuring is the product of the probability of the each outcome individually.\n",
    "\n",
    "Therefore, the probability of getting a sample is just the product of the `pmf` values for each element in the sample.\n",
    "\n",
    "The function in the code cell below computes the sampling distribution for a `pmf` in exactly this manner.\n",
    "It's not necessary to understand everything going on in this function for this demo to be useful.\n",
    "Lines or blocks that are helpful to understand are preceded by comments."
   ]
  },
  {
   "cell_type": "code",
   "execution_count": null,
   "metadata": {},
   "outputs": [],
   "source": [
    "def make_sampling_distribution_data(pmf, N):\n",
    "    \"\"\"\n",
    "    Parameters\n",
    "    ----------\n",
    "    \n",
    "    pmf                  : dictionary, represents the probability mass function\n",
    "                           of each data point, with outcomes as keys and\n",
    "                           probabilities as values\n",
    "    N                    : int, number of data points in a sample\n",
    "    \n",
    "    Returns\n",
    "    -------\n",
    "    sampling_distribution_data: dictionary, represents the probability mass\n",
    "                                function corresponding to the sampling\n",
    "                                distribution of the data\n",
    "    \"\"\"\n",
    "    # the sampling distribution is also a pmf\n",
    "    sampling_distribution = {}\n",
    "    \n",
    "    labels = pmf.keys()\n",
    "    \n",
    "    # every sample is a combo of N labels, every combo is possible\n",
    "    sample_labels = list(itertools.product(labels, repeat=N))\n",
    "    \n",
    "    num_samples = len(sample_labels)\n",
    "    \n",
    "    for sample_label in sample_labels:\n",
    "        \n",
    "        ps = []\n",
    "        for label in sample_label:\n",
    "            # each outcome in the sample has probability pmf[label]\n",
    "            ps.append(pmf[label])\n",
    "            \n",
    "        # the probability of getting a sample is the product of all the outcomes\n",
    "        sample_probability = 1\n",
    "        for p in ps:\n",
    "            sample_probability = sample_probability * p\n",
    "            \n",
    "        sampling_distribution[sample_label] = sample_probability\n",
    "    \n",
    "    return sampling_distribution"
   ]
  },
  {
   "cell_type": "markdown",
   "metadata": {},
   "source": [
    "To get rid of any residual air of mystery, here's what the sampling distribution for a small sample according to the `data_pmf` looks like, followed by a plot of the pmf."
   ]
  },
  {
   "cell_type": "code",
   "execution_count": null,
   "metadata": {},
   "outputs": [],
   "source": [
    "small_sample = make_sampling_distribution_data(data_pmf, 4)\n",
    "[print(key,val) for key, val in small_sample.items()];"
   ]
  },
  {
   "cell_type": "code",
   "execution_count": null,
   "metadata": {},
   "outputs": [],
   "source": [
    "f, ax = plt.subplots(figsize=(12, 4))\n",
    "demo.plot_sampling_distribution(small_sample, ax=ax,\n",
    "                                title=\"Sampling Distribution of Data\");"
   ]
  },
  {
   "cell_type": "markdown",
   "metadata": {},
   "source": [
    "This demo uses a coin, which only has two outcomes,\n",
    "so that we could work with the largest sample size possible.\n",
    "For a sample size of 15, there are $2^{15}=32,768$ possible samples.\n",
    "If you define your own pmfs, use the cell below to check that the number of samples isn't too high."
   ]
  },
  {
   "cell_type": "code",
   "execution_count": null,
   "metadata": {},
   "outputs": [],
   "source": [
    "num_outcomes = len(data_pmf)\n",
    "sample_size = 15\n",
    "\n",
    "num_possible_samples = num_outcomes ** sample_size\n",
    "\n",
    "if num_possible_samples > 1e5:\n",
    "    print(\"watch out, too many possible samples, might crash: {}\".format(num_possible_samples))"
   ]
  },
  {
   "cell_type": "markdown",
   "metadata": {},
   "source": [
    "## Computing Sampling Distributions of Statistics"
   ]
  },
  {
   "cell_type": "markdown",
   "metadata": {},
   "source": [
    "Now, we need a function to calculate the sampling distribution of statistics.\n",
    "\n",
    "Most statistics are non-random -- they don't add randomness of their own to the data (can you think of a counter-example?).\n",
    "They are just the output of a function, call it $S$, applied to the data.\n",
    "\n",
    "If the statistic is not random, then the chance of getting a particular value of the statistic, $s$, is equal to the chance of getting _any dataset_ for which\n",
    "\n",
    "$$S(dataset)=s$$\n",
    "\n",
    "So we can calculate the sampling distribution of the statistic directly from the sampling distribution of the data.\n",
    "We just work through the sampling distribution, adding up probabilities from samples that share the same value of the statistic.\n",
    "\n",
    "The function in the cell below implements this procedure, given a `pmf`, a sample size `N`, and a function to calculate the statistic, `statistic calculator`.\n",
    "See the following code cell for some example `statistic_calculator`s.\n",
    "\n",
    "Again, the details of this function are much less important than the logic above.\n",
    "For the curious, the lines that implement the core ideas are preceded by comments."
   ]
  },
  {
   "cell_type": "code",
   "execution_count": null,
   "metadata": {},
   "outputs": [],
   "source": [
    "def make_sampling_distribution_statistic(pmf, N, statistic_calculator):\n",
    "    \"\"\"\n",
    "    Parameters\n",
    "    ----------\n",
    "    \n",
    "    pmf                  : dictionary, represents the probability mass function\n",
    "                           of each data point, with outcomes as keys and\n",
    "                           probabilities as values\n",
    "    N                    : int, number of data points in a sample\n",
    "    statistic_calculator : function, takes in a sample (list of outcomes), and\n",
    "                           returns the value of the statistic on that sample\n",
    "    \n",
    "    Returns\n",
    "    -------\n",
    "    sampling_distribution_statistic : (ordered) dictionary, represents the probability\n",
    "                                      mass function corresponding to the sampling\n",
    "                                      distribution of the statistic\n",
    "    \"\"\"\n",
    "    # we need the sampling distribution of the data first\n",
    "    sampling_distribution_data = make_sampling_distribution_data(pmf, N)\n",
    "    \n",
    "    sampling_distribution_statistic = collections.defaultdict(lambda: 0)\n",
    "    \n",
    "    # to calculate the pmf of the statistic, iterate through all samples ...\n",
    "    for sample_label, sample_probability in sampling_distribution_data.items():\n",
    "        \n",
    "        # ... calculate the value of the statistic on that sample ...\n",
    "        statistic_value = statistic_calculator(list(sample_label))\n",
    "        \n",
    "        # ... and then add that probability to the pmf for that statistic value\n",
    "        sampling_distribution_statistic[statistic_value] = (sampling_distribution_statistic[statistic_value]\n",
    "                                                            + sample_probability)\n",
    "        \n",
    "    sampling_distribution_statistic = collections.OrderedDict(\n",
    "        sorted(sampling_distribution_statistic.items()))\n",
    "    \n",
    "    return sampling_distribution_statistic"
   ]
  },
  {
   "cell_type": "markdown",
   "metadata": {},
   "source": [
    "A `statistic_calculator` must take in a list of outcomes, representing the sample, and return some value.\n",
    "The only restriction we have here is that the value must be usable as the key to a dictionary. Numbers and strings and `True/False` all work, but a list wouldn't."
   ]
  },
  {
   "cell_type": "code",
   "execution_count": null,
   "metadata": {},
   "outputs": [],
   "source": [
    "def calc_num_heads(tosses):\n",
    "    return sum([toss == \"H\" for toss in tosses])\n",
    "\n",
    "def calc_num_tails(tosses):\n",
    "    return sum([toss == \"T\" for toss in tosses])\n",
    "\n",
    "def calc_is_all_tails(tosses):\n",
    "    \n",
    "    if tosses == [\"T\"]*len(tosses):\n",
    "        return True\n",
    "    else:\n",
    "        return False"
   ]
  },
  {
   "cell_type": "markdown",
   "metadata": {},
   "source": [
    "Since our outcomes are all strings (`\"H\"` for heads, `\"T\"` for tails), we can't use a function like `np.mean` as our statistic calculator, and we need to define a wrapper to first convert tosses to numbers before giving them to the numerical function.\n",
    "\n",
    "If you define a pmf that has numbers as labels, then you can just use those functions directly,\n",
    "e.g. `np.mean`, `np.median`."
   ]
  },
  {
   "cell_type": "code",
   "execution_count": null,
   "metadata": {},
   "outputs": [],
   "source": [
    "def calc_mean_coins(tosses):\n",
    "    return np.mean([toss == \"H\" for toss in tosses])"
   ]
  },
  {
   "cell_type": "markdown",
   "metadata": {},
   "source": [
    "Some fun statistics for coin tosses involve the lengths of streaks, or sequences of equal values, like `HHHH` or `TT`.\n",
    "These take more effort to calculate, so the lion's share has been put into the function `demo.calc_streaks`.\n",
    "If you're interested in calculating your own statistics for streaks, check out the documentation with `demo.calc_streaks??`.\n",
    "You might also just try slightly modifying the code in `calc_longest_streak`. To get the shortest streak, you could use `min` instead of `max`, to get the average, you could use `np.mean`, etc."
   ]
  },
  {
   "cell_type": "code",
   "execution_count": null,
   "metadata": {},
   "outputs": [],
   "source": [
    "def calc_longest_streak(tosses):\n",
    "    streaks = demo.calc_streaks(tosses)\n",
    "    longest_streak = max([streak_len for label, streak_len in streaks])\n",
    "    \n",
    "    return longest_streak"
   ]
  },
  {
   "cell_type": "markdown",
   "metadata": {},
   "source": [
    "Now, we calculate a bunch of sampling distributions for a variety of statistics on our `data_pmf` with varying numbers of samples."
   ]
  },
  {
   "cell_type": "code",
   "execution_count": null,
   "metadata": {},
   "outputs": [],
   "source": [
    "samp_dist_four_coin_toss_heads = make_sampling_distribution_statistic(data_pmf, 4, calc_num_heads)"
   ]
  },
  {
   "cell_type": "code",
   "execution_count": null,
   "metadata": {},
   "outputs": [],
   "source": [
    "samp_dist_four_coin_toss_mean = make_sampling_distribution_statistic(data_pmf, 4, calc_mean_coins)\n",
    "\n",
    "samp_dist_ten_coin_toss_mean = make_sampling_distribution_statistic(data_pmf, 10, calc_mean_coins)"
   ]
  },
  {
   "cell_type": "code",
   "execution_count": null,
   "metadata": {},
   "outputs": [],
   "source": [
    "samp_dist_four_coin_toss_streak = make_sampling_distribution_statistic(data_pmf, 4,\n",
    "                                                                       calc_longest_streak)\n",
    "\n",
    "samp_dist_ten_coin_toss_streak = make_sampling_distribution_statistic(data_pmf, 10,\n",
    "                                                                      calc_longest_streak)\n",
    "\n",
    "samp_dist_fifteen_coin_toss_streak = make_sampling_distribution_statistic(data_pmf, 15,\n",
    "                                                                          calc_longest_streak)"
   ]
  },
  {
   "cell_type": "code",
   "execution_count": null,
   "metadata": {},
   "outputs": [],
   "source": [
    "samp_dist_four_coin_toss_is_all_tails = make_sampling_distribution_statistic(data_pmf, 4,\n",
    "                                                                             calc_is_all_tails)\n",
    "\n",
    "samp_dist_ten_coin_toss_is_all_tails = make_sampling_distribution_statistic(data_pmf, 10,\n",
    "                                                                             calc_is_all_tails)\n",
    "\n",
    "samp_dist_fifteen_coin_toss_is_all_tails = make_sampling_distribution_statistic(data_pmf, 15,\n",
    "                                                                             calc_is_all_tails)"
   ]
  },
  {
   "cell_type": "markdown",
   "metadata": {},
   "source": [
    "## Visualizing Sampling Distributions of Statistics"
   ]
  },
  {
   "cell_type": "markdown",
   "metadata": {},
   "source": [
    "Once they're all calculated, we can plot them.\n",
    "\n",
    "For the smaller samples and the simpler statistics (e.g. \"Is All Tails\"), try and track where the probability mass in the sampling distribution of the statistic came from by plotting the sampling distribution of the data right next to that of the statistic."
   ]
  },
  {
   "cell_type": "code",
   "execution_count": null,
   "metadata": {},
   "outputs": [],
   "source": [
    "demo.plot_sampling_distribution(samp_dist_four_coin_toss_mean,\n",
    "                                title=\"Sampling Distribution of Mean, 4 Tosses\");\n",
    "\n",
    "demo.plot_sampling_distribution(samp_dist_ten_coin_toss_mean,\n",
    "                                title=\"Sampling Distribution of Mean, 10 Tosses\");"
   ]
  },
  {
   "cell_type": "code",
   "execution_count": null,
   "metadata": {},
   "outputs": [],
   "source": [
    "demo.plot_sampling_distribution(samp_dist_four_coin_toss_is_all_tails,\n",
    "                                title=\"Sampling Distribution of 'Is All Tails', 4 Tosses\");\n",
    "\n",
    "demo.plot_sampling_distribution(samp_dist_ten_coin_toss_is_all_tails,\n",
    "                                title=\"Sampling Distribution of 'Is All Tails', 10 Tosses\");\n",
    "\n",
    "demo.plot_sampling_distribution(samp_dist_fifteen_coin_toss_is_all_tails,\n",
    "                                title=\"Sampling Distribution of 'Is All Tails', 15 Tosses\");"
   ]
  },
  {
   "cell_type": "code",
   "execution_count": null,
   "metadata": {},
   "outputs": [],
   "source": [
    "demo.plot_sampling_distribution(samp_dist_four_coin_toss_streak,\n",
    "                                title=\"Sampling Distribution of Longest Streak, 4 Tosses\");\n",
    "\n",
    "demo.plot_sampling_distribution(samp_dist_ten_coin_toss_streak,\n",
    "                                title=\"Sampling Distribution of Longest Streak, 10 Tosses\");\n",
    "\n",
    "demo.plot_sampling_distribution(samp_dist_fifteen_coin_toss_streak,\n",
    "                                title=\"Sampling Distribution of Longest Streak, 15 Tosses\");"
   ]
  }
 ],
 "metadata": {
  "kernelspec": {
   "display_name": "Python 3",
   "language": "python",
   "name": "python3"
  },
  "language_info": {
   "codemirror_mode": {
    "name": "ipython",
    "version": 3
   },
   "file_extension": ".py",
   "mimetype": "text/x-python",
   "name": "python",
   "nbconvert_exporter": "python",
   "pygments_lexer": "ipython3",
   "version": "3.6.8"
  }
 },
 "nbformat": 4,
 "nbformat_minor": 2
}
