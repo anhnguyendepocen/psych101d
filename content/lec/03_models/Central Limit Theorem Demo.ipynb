{
 "cells": [
  {
   "cell_type": "markdown",
   "metadata": {},
   "source": [
    "<img src=\"../../shared/img/banner.svg\" width=2560></img>"
   ]
  },
  {
   "cell_type": "markdown",
   "metadata": {},
   "source": [
    "# Demo - Central Limit Theorem"
   ]
  },
  {
   "cell_type": "markdown",
   "metadata": {},
   "source": [
    "The central limit theorem states that the sums of independent random variables will be distributed approximately as a Gaussian, or Normal, distribution, with the approximation improving as the number of variables increases."
   ]
  },
  {
   "cell_type": "markdown",
   "metadata": {},
   "source": [
    "This demo lets you see the Central Limit Theorem in action on a variety of probability mass functions (PMFs)."
   ]
  },
  {
   "cell_type": "code",
   "execution_count": null,
   "metadata": {},
   "outputs": [],
   "source": [
    "%matplotlib notebook"
   ]
  },
  {
   "cell_type": "code",
   "execution_count": null,
   "metadata": {},
   "outputs": [],
   "source": [
    "import utils.clt_demo as demo"
   ]
  },
  {
   "cell_type": "markdown",
   "metadata": {},
   "source": [
    "## Suggested PMFs"
   ]
  },
  {
   "cell_type": "markdown",
   "metadata": {},
   "source": [
    "The PMFs suggested below are a good place to start, but you can use any PMF that works on numbers from 0 on up. In order to get the labelling right and avoid errors, your PMF should be written as a list, where `PMF[x]` gives the probability of `x`. Note that this means you need to start at 0, even if that probability is 0."
   ]
  },
  {
   "cell_type": "code",
   "execution_count": null,
   "metadata": {},
   "outputs": [],
   "source": [
    "coin_flip = [0.5, 0.5]  # heads, tails. \"adding up\" means counting how many tails you get\n",
    "d6_roll = [0] + [1 / 6] * 6  # a six-sided die.\n",
    "d20_roll = [0] + [1 / 20] * 20  # roll for initiative!\n",
    "wonky_PMF = [1 / 2, 1 / 4, 0, 0, 0, 2 / 8]  # even very uneven distributions work"
   ]
  },
  {
   "cell_type": "markdown",
   "metadata": {},
   "source": [
    "## Demo"
   ]
  },
  {
   "cell_type": "markdown",
   "metadata": {},
   "source": [
    "Running the cell below will produce a short animation that shows the distribution for the sums of random variables distributed according to the pmf given as the first argument.\n",
    "\n",
    "On each frame,\n",
    "the number of random variables with this distribution that are added together is increased,\n",
    "up to the integer given as the second argument.\n",
    "This animation was designed with values between 2 and 20 in mind."
   ]
  },
  {
   "cell_type": "code",
   "execution_count": null,
   "metadata": {},
   "outputs": [],
   "source": [
    "demo.central_limit_demo(wonky_PMF, 15, delay=0.9)  # increase the delay argument to run the animation more slowly"
   ]
  },
  {
   "cell_type": "code",
   "execution_count": null,
   "metadata": {},
   "outputs": [],
   "source": []
  },
  {
   "cell_type": "code",
   "execution_count": null,
   "metadata": {},
   "outputs": [],
   "source": []
  },
  {
   "cell_type": "code",
   "execution_count": null,
   "metadata": {},
   "outputs": [],
   "source": []
  }
 ],
 "metadata": {
  "anaconda-cloud": {},
  "kernelspec": {
   "display_name": "Python 3",
   "language": "python",
   "name": "python3"
  },
  "language_info": {
   "codemirror_mode": {
    "name": "ipython",
    "version": 3
   },
   "file_extension": ".py",
   "mimetype": "text/x-python",
   "name": "python",
   "nbconvert_exporter": "python",
   "pygments_lexer": "ipython3",
   "version": "3.6.8"
  }
 },
 "nbformat": 4,
 "nbformat_minor": 1
}
