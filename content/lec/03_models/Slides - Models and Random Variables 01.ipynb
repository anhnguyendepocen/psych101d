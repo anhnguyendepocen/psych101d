{
 "cells": [
  {
   "cell_type": "markdown",
   "metadata": {
    "slideshow": {
     "slide_type": "slide"
    }
   },
   "source": [
    "<img src=\"../../shared/img/slides_banner.svg\" width=2560></img>"
   ]
  },
  {
   "cell_type": "markdown",
   "metadata": {
    "slideshow": {
     "slide_type": "-"
    }
   },
   "source": [
    "# Models and Random Variables 01"
   ]
  },
  {
   "cell_type": "code",
   "execution_count": null,
   "metadata": {
    "slideshow": {
     "slide_type": "skip"
    }
   },
   "outputs": [],
   "source": [
    "%matplotlib notebook"
   ]
  },
  {
   "cell_type": "code",
   "execution_count": null,
   "metadata": {
    "slideshow": {
     "slide_type": "skip"
    }
   },
   "outputs": [],
   "source": [
    "import sys\n",
    "\n",
    "sys.path.append(\"../../\")\n",
    "\n",
    "from shared.src import quiet\n",
    "from shared.src import seed"
   ]
  },
  {
   "cell_type": "code",
   "execution_count": null,
   "metadata": {
    "slideshow": {
     "slide_type": "skip"
    }
   },
   "outputs": [],
   "source": [
    "import random\n",
    "\n",
    "import daft\n",
    "from IPython.display import Image\n",
    "import matplotlib.pyplot as plt\n",
    "import numpy as np\n",
    "import pandas as pd\n",
    "import pymc3 as pm\n",
    "import seaborn as sns\n",
    "import scipy.stats"
   ]
  },
  {
   "cell_type": "markdown",
   "metadata": {
    "slideshow": {
     "slide_type": "slide"
    }
   },
   "source": [
    "## There are many ways to think inferentially"
   ]
  },
  {
   "cell_type": "markdown",
   "metadata": {
    "slideshow": {
     "slide_type": "subslide"
    }
   },
   "source": [
    "### We can think inferentially with bootstrapping"
   ]
  },
  {
   "cell_type": "markdown",
   "metadata": {
    "slideshow": {
     "slide_type": "fragment"
    }
   },
   "source": [
    "Bootstrapping lets us think inferentially by representing our uncertainty by _resampling_."
   ]
  },
  {
   "cell_type": "code",
   "execution_count": null,
   "metadata": {
    "slideshow": {
     "slide_type": "skip"
    }
   },
   "outputs": [],
   "source": [
    "data = pd.read_json(\"./data/bootstrap_example.json\")"
   ]
  },
  {
   "cell_type": "code",
   "execution_count": null,
   "metadata": {
    "slideshow": {
     "slide_type": "fragment"
    }
   },
   "outputs": [],
   "source": [
    "bootsrap_f, bootstrap_ax = plt.subplots(figsize=(6,3))\n",
    "sns.distplot(data, hist=False, rug=True); plt.gca().set_yticks([]);\n",
    "bootstrap_ax.vlines(np.mean(data[\"X\"]), -0.1, 0.1,\n",
    "           color=\"r\", zorder=np.inf, lw=4);"
   ]
  },
  {
   "cell_type": "code",
   "execution_count": null,
   "metadata": {
    "slideshow": {
     "slide_type": "fragment"
    }
   },
   "outputs": [],
   "source": [
    "# each time this cell is run, a new bootstrap sample is drawn and plotted, along with its mean\n",
    "bootstrap = data.sample(frac=1., replace=True)\n",
    "sns.distplot(bootstrap, color=\"k\", hist=False, kde_kws={\"alpha\": 0.25}, ax=bootstrap_ax)\n",
    "bootstrap_ax.vlines(np.mean(bootstrap[\"X\"]),\n",
    "           -0.1, 0.1, color=\"k\", alpha=0.75);"
   ]
  },
  {
   "cell_type": "markdown",
   "metadata": {
    "slideshow": {
     "slide_type": "subslide"
    }
   },
   "source": [
    "The core idea of bootstrapping was that if the inference we wanted to make was true _for enough of the resamples we drew_, we could feel confident in making that inference."
   ]
  },
  {
   "cell_type": "markdown",
   "metadata": {
    "slideshow": {
     "slide_type": "fragment"
    }
   },
   "source": [
    "How might we use bootstrapping to answer these inferential questions?"
   ]
  },
  {
   "cell_type": "markdown",
   "metadata": {
    "slideshow": {
     "slide_type": "fragment"
    }
   },
   "source": [
    "- is this jury selection data compatible with the hypothesis that juries are selected fairly across racial lines?"
   ]
  },
  {
   "cell_type": "markdown",
   "metadata": {
    "slideshow": {
     "slide_type": "fragment"
    }
   },
   "source": [
    "- do individuals shown pictures of angry faces show more brain activity in their amygdala?"
   ]
  },
  {
   "cell_type": "markdown",
   "metadata": {
    "slideshow": {
     "slide_type": "subslide"
    }
   },
   "source": [
    "### We can think inferentially with models"
   ]
  },
  {
   "cell_type": "markdown",
   "metadata": {
    "slideshow": {
     "slide_type": "fragment"
    }
   },
   "source": [
    "In this class, we will use _models_ to think inferentially."
   ]
  },
  {
   "cell_type": "markdown",
   "metadata": {
    "slideshow": {
     "slide_type": "fragment"
    }
   },
   "source": [
    "Like bootstrapping, models will generate _samples_, or \"fake\"/simulated data points."
   ]
  },
  {
   "cell_type": "markdown",
   "metadata": {
    "slideshow": {
     "slide_type": "fragment"
    }
   },
   "source": [
    "Unlike bootstrapping, models will generate samples that _don't look exactly like data we observed_."
   ]
  },
  {
   "cell_type": "markdown",
   "metadata": {
    "slideshow": {
     "slide_type": "fragment"
    }
   },
   "source": [
    "Instead, they will generate samples _according to a set of rules_. For us, those rules will be Python commands."
   ]
  },
  {
   "cell_type": "markdown",
   "metadata": {
    "slideshow": {
     "slide_type": "subslide"
    }
   },
   "source": [
    "Here's a very simple model of a deceptively simple process: flipping a coin."
   ]
  },
  {
   "cell_type": "code",
   "execution_count": null,
   "metadata": {
    "slideshow": {
     "slide_type": "fragment"
    }
   },
   "outputs": [],
   "source": [
    "random.choice([\"Heads\", \"Tails\"])"
   ]
  },
  {
   "cell_type": "markdown",
   "metadata": {
    "slideshow": {
     "slide_type": "fragment"
    }
   },
   "source": [
    "A good model has samples that are _hard to distinguish from reality_.\n",
    "\n",
    "The best models have rules that _also mimic reality_."
   ]
  },
  {
   "cell_type": "markdown",
   "metadata": {
    "slideshow": {
     "slide_type": "slide"
    }
   },
   "source": [
    "## Models can be mathematical or computational"
   ]
  },
  {
   "cell_type": "markdown",
   "metadata": {
    "slideshow": {
     "slide_type": "subslide"
    }
   },
   "source": [
    "### Mathematical models are defined by symbols"
   ]
  },
  {
   "cell_type": "markdown",
   "metadata": {
    "slideshow": {
     "slide_type": "fragment"
    }
   },
   "source": [
    "Instead of Python commands, we could instead use mathematical symbols to represent the rules of our model."
   ]
  },
  {
   "cell_type": "markdown",
   "metadata": {
    "slideshow": {
     "slide_type": "fragment"
    }
   },
   "source": [
    "$p(\\texttt{Heads}) = p(\\texttt{Tails}) = 0.5$"
   ]
  },
  {
   "cell_type": "markdown",
   "metadata": {
    "slideshow": {
     "slide_type": "fragment"
    }
   },
   "source": [
    "By using mathematical symbols, we make it possible to _reason_ about our model.\n",
    "\n",
    "For example, we can calculate the chance that we see five heads in five tosses, under that model.\n",
    "\n",
    "This is a major focus of _probability theory_, as in e.g. [Prob 140](http://prob140.org/logistics/)."
   ]
  },
  {
   "cell_type": "markdown",
   "metadata": {
    "slideshow": {
     "slide_type": "subslide"
    }
   },
   "source": [
    "### Mathematical models are powerful but limited"
   ]
  },
  {
   "cell_type": "markdown",
   "metadata": {
    "slideshow": {
     "slide_type": "fragment"
    }
   },
   "source": [
    "Until the advent of computers, mathematical models were the only game in town.\n",
    "\n",
    "The whole edifice of modern science is built on using mathematical models to think inferentially."
   ]
  },
  {
   "cell_type": "markdown",
   "metadata": {
    "slideshow": {
     "slide_type": "fragment"
    }
   },
   "source": [
    "This has advantages: mathematical models can give exact answers and writing down a mathematical model requires clarity of thought that can bring tremendous insight."
   ]
  },
  {
   "cell_type": "markdown",
   "metadata": {
    "slideshow": {
     "slide_type": "fragment"
    }
   },
   "source": [
    "#### The Binomial Distribution: $$p(k) = \\binom{N}{k} q^{k}(1-q)^{N-k}$$"
   ]
  },
  {
   "cell_type": "markdown",
   "metadata": {
    "slideshow": {
     "slide_type": "fragment"
    }
   },
   "source": [
    "#### The Gaussian Distribution: $$p(x) = \\frac{1}{\\sqrt{2 \\pi}\\sigma} \\mathrm{e}^{\\frac{-(x -\\mu)^2}{2\\sigma^2}}$$"
   ]
  },
  {
   "cell_type": "markdown",
   "metadata": {
    "slideshow": {
     "slide_type": "subslide"
    }
   },
   "source": [
    "But it has disadvantages too: there are many processes too complicated to describe mathematically."
   ]
  },
  {
   "cell_type": "markdown",
   "metadata": {
    "slideshow": {
     "slide_type": "fragment"
    }
   },
   "source": [
    "#### The _Angry Birds_ Distribution"
   ]
  },
  {
   "cell_type": "code",
   "execution_count": null,
   "metadata": {
    "slideshow": {
     "slide_type": "fragment"
    }
   },
   "outputs": [],
   "source": [
    "Image(\"./img/angry_birds.jpg\")"
   ]
  },
  {
   "cell_type": "markdown",
   "metadata": {
    "slideshow": {
     "slide_type": "skip"
    }
   },
   "source": [
    "Source: https://gamesdb.launchbox-app.com/games/images/2266"
   ]
  },
  {
   "cell_type": "markdown",
   "metadata": {
    "slideshow": {
     "slide_type": "fragment"
    }
   },
   "source": [
    "Say I choose the birds in a random order. What is the distribution of scores?\n",
    "\n",
    "Note: contemporary game-playing AIs are trained in something like this fashion."
   ]
  },
  {
   "cell_type": "markdown",
   "metadata": {
    "slideshow": {
     "slide_type": "subslide"
    }
   },
   "source": [
    "### Computational models are defined by programs"
   ]
  },
  {
   "cell_type": "markdown",
   "metadata": {
    "slideshow": {
     "slide_type": "fragment"
    }
   },
   "source": [
    "In cases like _Angry Birds_, the model's distribution is so complicated we can't even write it down!\n",
    "Forget doing math on it.\n",
    "\n",
    "Still, we might be able to come up with a _computer program_ that can draw samples according to the model's distribution.\n",
    "These will be the primary models we'll work with in this course."
   ]
  },
  {
   "cell_type": "markdown",
   "metadata": {
    "slideshow": {
     "slide_type": "fragment"
    }
   },
   "source": [
    "The recent advent of both ubiquitous, powerful, and easy-to-program computers and large, complicated data sets means that these models can be used to great effect, promising to fundamentally change how inference is done in science and industry."
   ]
  },
  {
   "cell_type": "markdown",
   "metadata": {
    "slideshow": {
     "slide_type": "subslide"
    }
   },
   "source": [
    "#### But traditional mathematical models are still useful"
   ]
  },
  {
   "cell_type": "markdown",
   "metadata": {
    "slideshow": {
     "slide_type": "fragment"
    }
   },
   "source": [
    "We will still connect back to traditional models as often as we can in this course."
   ]
  },
  {
   "cell_type": "markdown",
   "metadata": {
    "slideshow": {
     "slide_type": "fragment"
    }
   },
   "source": [
    "First, when it works, traditional approach will often be faster, cleaner, and more insightful than the sampling approach."
   ]
  },
  {
   "cell_type": "markdown",
   "metadata": {
    "slideshow": {
     "slide_type": "fragment"
    }
   },
   "source": [
    "Second, this will help you communicate your inferences with folks trained in the traditional fashion and understand the inferences they have drawn."
   ]
  },
  {
   "cell_type": "markdown",
   "metadata": {
    "slideshow": {
     "slide_type": "slide"
    }
   },
   "source": [
    "## Our models are made of random variables"
   ]
  },
  {
   "cell_type": "markdown",
   "metadata": {
    "slideshow": {
     "slide_type": "fragment"
    }
   },
   "source": [
    "We will build _models_ by combining together _random variables_."
   ]
  },
  {
   "cell_type": "markdown",
   "metadata": {
    "slideshow": {
     "slide_type": "fragment"
    }
   },
   "source": [
    "The random variables and how they are combined will be described with Python code."
   ]
  },
  {
   "cell_type": "markdown",
   "metadata": {
    "slideshow": {
     "slide_type": "subslide"
    }
   },
   "source": [
    "### Random variables are variables whose values are random"
   ]
  },
  {
   "cell_type": "markdown",
   "metadata": {
    "slideshow": {
     "slide_type": "fragment"
    }
   },
   "source": [
    "Randomness is hard to define exactly. It's easy to show:"
   ]
  },
  {
   "cell_type": "code",
   "execution_count": null,
   "metadata": {
    "slideshow": {
     "slide_type": "fragment"
    }
   },
   "outputs": [],
   "source": [
    "random.random()"
   ]
  },
  {
   "cell_type": "markdown",
   "metadata": {
    "slideshow": {
     "slide_type": "fragment"
    }
   },
   "source": [
    "Typically, random values in Python are sampled using the `random` or `numpy.random` libraries. These libraries contain _random number generators_, or functions that return different, unpredictable values every time they are run."
   ]
  },
  {
   "cell_type": "markdown",
   "metadata": {
    "slideshow": {
     "slide_type": "subslide"
    }
   },
   "source": [
    "### First pass: random means \"unknown\" or \"unpredictable\""
   ]
  },
  {
   "cell_type": "markdown",
   "metadata": {
    "slideshow": {
     "slide_type": "fragment"
    }
   },
   "source": [
    "Random variables will correspond to phenomena in the real world. \n",
    "These will almost always be phenomena whose values we can't predict or know exactly, for one reason or another."
   ]
  },
  {
   "cell_type": "markdown",
   "metadata": {
    "slideshow": {
     "slide_type": "fragment"
    }
   },
   "source": [
    "Examples:\n",
    "- the fraction of voters who will vote for Candidate A\n",
    "- the side of the coin that will face up after I toss it\n",
    "- the average effect on alertness of a single cup of coffee."
   ]
  },
  {
   "cell_type": "markdown",
   "metadata": {
    "slideshow": {
     "slide_type": "fragment"
    }
   },
   "source": [
    "Sometimes, they will be unpredictable because something is out of our control or knowledge."
   ]
  },
  {
   "cell_type": "markdown",
   "metadata": {
    "slideshow": {
     "slide_type": "fragment"
    }
   },
   "source": [
    "Other times, they will be unpredictable because they are inherently unmeasurable or unknowable."
   ]
  },
  {
   "cell_type": "markdown",
   "metadata": {
    "slideshow": {
     "slide_type": "subslide"
    }
   },
   "source": [
    "### Random variables will be represented with circles"
   ]
  },
  {
   "cell_type": "markdown",
   "metadata": {
    "slideshow": {
     "slide_type": "fragment"
    }
   },
   "source": [
    "We will often draw our models so that we can think about them more clearly. We will call these drawings _graphs_.\n",
    "\n",
    "When we make a graph, a random variable will be represented by a circle with a label. In the terminology of graphs, these are called _nodes_."
   ]
  },
  {
   "cell_type": "markdown",
   "metadata": {
    "slideshow": {
     "slide_type": "fragment"
    }
   },
   "source": [
    "Here's a drawing of our example \"coin toss\" model."
   ]
  },
  {
   "cell_type": "code",
   "execution_count": null,
   "metadata": {
    "slideshow": {
     "slide_type": "fragment"
    }
   },
   "outputs": [],
   "source": [
    "coin_toss_node = daft.Node(\"coin_toss\", \"coin toss\", 1, 1, scale=2.)\n",
    "\n",
    "coin_toss_model_graph = daft.PGM([2, 2])\n",
    "\n",
    "coin_toss_model_graph.add_node(coin_toss_node)\n",
    "\n",
    "coin_toss_model_graph.render();"
   ]
  },
  {
   "cell_type": "markdown",
   "metadata": {
    "slideshow": {
     "slide_type": "fragment"
    }
   },
   "source": [
    "Not a lot going on here."
   ]
  },
  {
   "cell_type": "markdown",
   "metadata": {
    "slideshow": {
     "slide_type": "subslide"
    }
   },
   "source": [
    "### Random variables can influence each other"
   ]
  },
  {
   "cell_type": "markdown",
   "metadata": {
    "slideshow": {
     "slide_type": "fragment"
    }
   },
   "source": [
    "Say I throw a dart at a board, and then, if I bullseye (which I do 1/4 of the time) I roll a die. If I don't bullseye, I flip a coin.\n",
    "\n",
    "In this case, the value of one random variable determines the value of a different random variable.\n",
    "\n",
    "The Python program below models this process."
   ]
  },
  {
   "cell_type": "code",
   "execution_count": null,
   "metadata": {
    "slideshow": {
     "slide_type": "fragment"
    }
   },
   "outputs": [],
   "source": [
    "def dart_throw_bullseye():\n",
    "    if random.random() < .25:\n",
    "        return True\n",
    "    else:\n",
    "        return False\n",
    "\n",
    "def dart_and_roll():\n",
    "    if dart_throw_bullseye():\n",
    "        return random.choice([1, 2, 3, 4, 5 ,6])\n",
    "    else:\n",
    "        return random.choice([\"Heads\", \"Tails\"])\n",
    "    \n",
    "dart_and_roll()"
   ]
  },
  {
   "cell_type": "markdown",
   "metadata": {
    "slideshow": {
     "slide_type": "subslide"
    }
   },
   "source": [
    "### Influences will be represented with arrows"
   ]
  },
  {
   "cell_type": "markdown",
   "metadata": {
    "slideshow": {
     "slide_type": "fragment"
    }
   },
   "source": [
    "When one random variable influences another, we will draw an arrow between their circles."
   ]
  },
  {
   "cell_type": "code",
   "execution_count": null,
   "metadata": {
    "slideshow": {
     "slide_type": "fragment"
    }
   },
   "outputs": [],
   "source": [
    "dart_node = daft.Node(\"dart_throw\", \"dart throw\", 1, 1, scale=2.)\n",
    "roll_node = daft.Node(\"roll\", \"roll\", 3, 1, scale=2.)\n",
    "\n",
    "dart_and_roll_model_graph = daft.PGM([5, 2])\n",
    "\n",
    "dart_and_roll_model_graph.add_node(dart_node)\n",
    "dart_and_roll_model_graph.add_node(roll_node)\n",
    "\n",
    "dart_and_roll_model_graph.add_edge(\"dart_throw\", \"roll\")\n",
    "\n",
    "dart_and_roll_model_graph.render();"
   ]
  },
  {
   "cell_type": "markdown",
   "metadata": {
    "slideshow": {
     "slide_type": "subslide"
    }
   },
   "source": [
    "## Random variables can be combined"
   ]
  },
  {
   "cell_type": "markdown",
   "metadata": {
    "slideshow": {
     "slide_type": "fragment"
    }
   },
   "source": [
    "Just like we can take regular numerical variables and combine them algebraically, resulting in a new variable,"
   ]
  },
  {
   "cell_type": "markdown",
   "metadata": {
    "slideshow": {
     "slide_type": "fragment"
    }
   },
   "source": [
    "Math:\n",
    "$$z = x + y$$\n",
    "`Python`:\n",
    "<center>\n",
    "    <tt>z = x + y</tt>\n",
    "</center>"
   ]
  },
  {
   "cell_type": "markdown",
   "metadata": {
    "slideshow": {
     "slide_type": "fragment"
    }
   },
   "source": [
    "we can take numerical random variables and combine them algebraically, resulting in a new random variable:"
   ]
  },
  {
   "cell_type": "code",
   "execution_count": null,
   "metadata": {
    "slideshow": {
     "slide_type": "fragment"
    }
   },
   "outputs": [],
   "source": [
    "def x():\n",
    "    return random.random()\n",
    "\n",
    "def y():\n",
    "    return random.random()\n",
    "\n",
    "def z():\n",
    "    return x() + y()\n",
    "\n",
    "z()"
   ]
  },
  {
   "cell_type": "markdown",
   "metadata": {
    "slideshow": {
     "slide_type": "subslide"
    }
   },
   "source": [
    "### Combinations will be represented by arrows coming together"
   ]
  },
  {
   "cell_type": "code",
   "execution_count": null,
   "metadata": {
    "slideshow": {
     "slide_type": "fragment"
    }
   },
   "outputs": [],
   "source": [
    "x_node = daft.Node(\"X\", \"X\", 1, 3)\n",
    "y_node = daft.Node(\"Y\", \"Y\", 1, 1)\n",
    "z_node = daft.Node(\"Z\", \"Z\", 2, 2)\n",
    "\n",
    "coin_toss_model_graph = daft.PGM([3, 4])\n",
    "\n",
    "coin_toss_model_graph.add_node(x_node)\n",
    "coin_toss_model_graph.add_node(y_node)\n",
    "coin_toss_model_graph.add_node(z_node)\n",
    "\n",
    "coin_toss_model_graph.add_edge(\"X\", \"Z\")\n",
    "coin_toss_model_graph.add_edge(\"Y\", \"Z\")\n",
    "\n",
    "coin_toss_model_graph.render();"
   ]
  },
  {
   "cell_type": "markdown",
   "metadata": {
    "slideshow": {
     "slide_type": "fragment"
    }
   },
   "source": [
    "Note: this rule for drawing graphs is a consequence of our last rule!"
   ]
  },
  {
   "cell_type": "markdown",
   "metadata": {
    "slideshow": {
     "slide_type": "subslide"
    }
   },
   "source": [
    "## Random variables can also be transformed"
   ]
  },
  {
   "cell_type": "markdown",
   "metadata": {
    "slideshow": {
     "slide_type": "fragment"
    }
   },
   "source": [
    "We can also apply whatever Python transformations we want to our variables:"
   ]
  },
  {
   "cell_type": "code",
   "execution_count": null,
   "metadata": {
    "slideshow": {
     "slide_type": "fragment"
    }
   },
   "outputs": [],
   "source": [
    "def random_plus_minus_one():\n",
    "    return 2 * random.random() - 1\n",
    "\n",
    "def random_average():\n",
    "    return 1 / 2 * (random.random() + random.random())\n",
    "\n",
    "random_average()"
   ]
  },
  {
   "cell_type": "markdown",
   "metadata": {
    "slideshow": {
     "slide_type": "subslide"
    }
   },
   "source": [
    "## And we can mix transformations and combinations"
   ]
  },
  {
   "cell_type": "code",
   "execution_count": null,
   "metadata": {},
   "outputs": [],
   "source": [
    "def a():\n",
    "    return random.random()\n",
    "\n",
    "def b():\n",
    "    return 10 * random.random()\n",
    "\n",
    "def c():\n",
    "    return a() + b() - 1"
   ]
  },
  {
   "cell_type": "markdown",
   "metadata": {
    "slideshow": {
     "slide_type": "fragment"
    }
   },
   "source": [
    "Combinations and transformations will change the values of a random variable.\n",
    "So even though we start with distributions we can understand pretty well,\n",
    "we can end up with very complicated distributions!\n",
    "\n",
    "This is similar in principle to the way a Python program, which can be as complex as Twitter or a whole operating system, is built up by combinations and transformations of a few simple things, like `True` and `False`, numbers, and library functions."
   ]
  },
  {
   "cell_type": "markdown",
   "metadata": {
    "slideshow": {
     "slide_type": "subslide"
    }
   },
   "source": [
    "If we want to see what kinds of values a random variable typically takes on,\n",
    "we can construct the histogram of the values from repeated runs,\n",
    "just as you constructed histograms of your data in data8."
   ]
  },
  {
   "cell_type": "code",
   "execution_count": null,
   "metadata": {
    "slideshow": {
     "slide_type": "fragment"
    }
   },
   "outputs": [],
   "source": [
    "def random_histogram(random_variable, sample_size=100, ax=None):\n",
    "    if ax is None:\n",
    "        plt.figure(); ax = plt.gca()\n",
    "    samples = [random_variable() for _ in range(sample_size)]\n",
    "    return ax.hist(samples, histtype=\"step\", lw=4) \n",
    "\n",
    "random_histogram(random_plus_minus_one);"
   ]
  },
  {
   "cell_type": "markdown",
   "metadata": {
    "slideshow": {
     "slide_type": "subslide"
    }
   },
   "source": [
    "### That means we can think of almost anything as a random variable..."
   ]
  },
  {
   "cell_type": "markdown",
   "metadata": {
    "slideshow": {
     "slide_type": "fragment"
    }
   },
   "source": [
    "But notice that the histogram is different each time you execute the cell above.\n",
    "Note also that the histogram is the output of a Python function,\n",
    "so it is also a random variable! We can get a rough sense for how those histograms vary with different data by drawing a bunch of them:"
   ]
  },
  {
   "cell_type": "code",
   "execution_count": null,
   "metadata": {
    "scrolled": false,
    "slideshow": {
     "slide_type": "fragment"
    }
   },
   "outputs": [],
   "source": [
    "random_histogram(random_average)\n",
    "[random_histogram(random_average, ax=plt.gca()) for _ in range(9)];"
   ]
  },
  {
   "cell_type": "markdown",
   "metadata": {
    "slideshow": {
     "slide_type": "subslide"
    }
   },
   "source": [
    "### ... and still think inferentially!"
   ]
  },
  {
   "cell_type": "markdown",
   "metadata": {
    "slideshow": {
     "slide_type": "fragment"
    }
   },
   "source": [
    "At least qualitatively: the histogram seems centered at `0.5` and rarely produces values close to `0` or `1`."
   ]
  },
  {
   "cell_type": "markdown",
   "metadata": {
    "slideshow": {
     "slide_type": "fragment"
    }
   },
   "source": [
    "Importantly: this works even though we can't easily write down a probability distribution over histograms.\n",
    "All we need to do is to generate a large enough number of samples\n",
    "and then examine the results."
   ]
  },
  {
   "cell_type": "markdown",
   "metadata": {
    "slideshow": {
     "slide_type": "slide"
    }
   },
   "source": [
    "## We will use `pyMC` to build models"
   ]
  },
  {
   "cell_type": "markdown",
   "metadata": {
    "slideshow": {
     "slide_type": "fragment"
    }
   },
   "source": [
    "The pure-Python approach suffices for coming up with even very complicated random variables.\n",
    "We just need to keep defining more functions that combine random variables together."
   ]
  },
  {
   "cell_type": "markdown",
   "metadata": {
    "slideshow": {
     "slide_type": "fragment"
    }
   },
   "source": [
    "It becomes harder, however, if we want to know what the simultaneous values of several random variables are."
   ]
  },
  {
   "cell_type": "markdown",
   "metadata": {
    "slideshow": {
     "slide_type": "subslide"
    }
   },
   "source": [
    "Consider: if the output of `c()` is `9`, is that because `a()` was `1` and `b()` was `11`, or was it the other way around?"
   ]
  },
  {
   "cell_type": "code",
   "execution_count": null,
   "metadata": {
    "slideshow": {
     "slide_type": "fragment"
    }
   },
   "outputs": [],
   "source": [
    "def a():\n",
    "    return random.random()\n",
    "\n",
    "def b():\n",
    "    return 10 * random.random()\n",
    "\n",
    "def c():\n",
    "    return a() + b() - 1"
   ]
  },
  {
   "cell_type": "markdown",
   "metadata": {
    "slideshow": {
     "slide_type": "fragment"
    }
   },
   "source": [
    "Furthermore, we'd like to use our models to determine what values of our random variables are plausible by comparing them to data.\n",
    "Say we measure only `b()`, getting a value of `8`.\n",
    "Is it more likely that `c()` is `8` or `6`?"
   ]
  },
  {
   "cell_type": "markdown",
   "metadata": {
    "slideshow": {
     "slide_type": "subslide"
    }
   },
   "source": [
    "So in order to build models,\n",
    "we will use the Python package\n",
    "[pyMC](https://docs.pymc.io), or `pm` for short."
   ]
  },
  {
   "cell_type": "markdown",
   "metadata": {
    "slideshow": {
     "slide_type": "fragment"
    }
   },
   "source": [
    "\"MC\" could be interpreted to stand for\n",
    "\"Monte Carlo\", a prominent and long-standing casino in Monaco, near the border of Italy and France.\n",
    "Loosely speaking, an algorithm that uses random samples is a _Monte Carlo algorithm_.\n",
    "It might also stand for\n",
    "\"Markov Chain\", which is the type of random process that pyMC uses to generate its samples.\n",
    "The full technique that pyMC uses is called \"Markov Chain Monte Carlo\", or \"MCMC\"."
   ]
  },
  {
   "cell_type": "markdown",
   "metadata": {
    "slideshow": {
     "slide_type": "subslide"
    }
   },
   "source": [
    "Models are built by calling functions from pyMC that build random variables while inside a `with` block that names the model:"
   ]
  },
  {
   "cell_type": "markdown",
   "metadata": {
    "slideshow": {
     "slide_type": "fragment"
    }
   },
   "source": [
    "```python\n",
    "model1 = pm.Model()\n",
    "model2 = pm.Model()\n",
    "\n",
    "with model1:\n",
    "    X = pm.Function(\"X\")\n",
    "    \n",
    "with model2:\n",
    "    Y = pm.OtherFunction(\"Y\")\n",
    "```"
   ]
  },
  {
   "cell_type": "markdown",
   "metadata": {
    "slideshow": {
     "slide_type": "fragment"
    }
   },
   "source": [
    "The `with` block tells pyMC to which model we are currently adding variables, so the result of running the Python code above would be to add the variable returned by `pm.Function` to `model1` with the name `X` and the variable returned by `pm.OtherFunction` to `model2` with the name `Y`."
   ]
  },
  {
   "cell_type": "markdown",
   "metadata": {
    "slideshow": {
     "slide_type": "slide"
    }
   },
   "source": [
    "## Let's build the littlest model"
   ]
  },
  {
   "cell_type": "markdown",
   "metadata": {
    "slideshow": {
     "slide_type": "fragment"
    }
   },
   "source": [
    "Let's build one of the simplest models imaginable: a single random variable that is either `0` or `1`, each with a probability of 50%.\n",
    "\n",
    "We can think of this as a model for a single coin toss, where `0` means \"heads\" and `1` means \"tails\"."
   ]
  },
  {
   "cell_type": "code",
   "execution_count": null,
   "metadata": {
    "slideshow": {
     "slide_type": "fragment"
    }
   },
   "outputs": [],
   "source": [
    "coin_toss_model = pm.Model()\n",
    "\n",
    "with coin_toss_model:\n",
    "    coin_toss = pm.Categorical(name=\"coin_toss\", p=[1 / 2, 1 / 2])"
   ]
  },
  {
   "cell_type": "markdown",
   "metadata": {
    "slideshow": {
     "slide_type": "subslide"
    }
   },
   "source": [
    "We can then sample from a given model by calling the function `pm.sample` inside another `with` block:"
   ]
  },
  {
   "cell_type": "code",
   "execution_count": null,
   "metadata": {
    "slideshow": {
     "slide_type": "fragment"
    }
   },
   "outputs": [],
   "source": [
    "with coin_toss_model:\n",
    "    coin_toss_samples = pm.sample(n_init=0, chains=1, tune=0)"
   ]
  },
  {
   "cell_type": "markdown",
   "metadata": {
    "slideshow": {
     "slide_type": "fragment"
    }
   },
   "source": [
    "Don't worry about the arguments to `pm.sample` for now.\n",
    "pyMC is a sophisticated and powerful library for sampling from complicated models, and the arguments to `pm.sample` are there to allow lots of flexibility and performance that we don't need just yet."
   ]
  },
  {
   "cell_type": "markdown",
   "metadata": {
    "slideshow": {
     "slide_type": "subslide"
    }
   },
   "source": [
    "The values used above are reasonable defaults for now.\n",
    "To keep things simple, we'll define a function to take in a model and call `pm.sample` on that model with those values for the arguments:"
   ]
  },
  {
   "cell_type": "code",
   "execution_count": null,
   "metadata": {
    "slideshow": {
     "slide_type": "fragment"
    }
   },
   "outputs": [],
   "source": [
    "def sample_from(model):\n",
    "    with model:\n",
    "        samples = pm.sample(n_init=0, chains=1, tune=0)\n",
    "    return samples"
   ]
  },
  {
   "cell_type": "code",
   "execution_count": null,
   "metadata": {
    "slideshow": {
     "slide_type": "fragment"
    }
   },
   "outputs": [],
   "source": [
    "coin_toss_samples = sample_from(coin_toss_model)"
   ]
  },
  {
   "cell_type": "markdown",
   "metadata": {
    "slideshow": {
     "slide_type": "subslide"
    }
   },
   "source": [
    "`pm.sample` returns something like a dictionary.\n",
    "They keys are the names of the random variables\n",
    "and the values are the samples of that variable:"
   ]
  },
  {
   "cell_type": "code",
   "execution_count": null,
   "metadata": {
    "slideshow": {
     "slide_type": "fragment"
    }
   },
   "outputs": [],
   "source": [
    "coin_toss_samples[\"coin_toss\"]"
   ]
  },
  {
   "cell_type": "markdown",
   "metadata": {
    "slideshow": {
     "slide_type": "subslide"
    }
   },
   "source": [
    "A couple of \"gotchas\" for using pyMC:\n",
    "\n",
    "1. For technical reasons, it's not a good idea to run more than one notebook using pyMC at the same time. If you are running a `with` block in one notebook and then try to also run a `with` block in another, you'll get a warning message and the second notebook will have to wait for the first to finish before it can run.\n",
    "1. Trying to add a variable more than once will cause an error, so be careful when copying and pasting code to build a model."
   ]
  },
  {
   "cell_type": "markdown",
   "metadata": {
    "slideshow": {
     "slide_type": "subslide"
    }
   },
   "source": [
    "We can put these samples into a dataframe and treat them as though they were real data that we gathered from an actual series of coin tosses.\n",
    "\n",
    "From there, we can do descriptive statistics on our sample."
   ]
  },
  {
   "cell_type": "code",
   "execution_count": null,
   "metadata": {
    "slideshow": {
     "slide_type": "fragment"
    }
   },
   "outputs": [],
   "source": [
    "def samples_to_dataframe(samples):\n",
    "    return pd.DataFrame([sample for sample in samples])\n",
    "\n",
    "def add_counts(data):\n",
    "    data[\"count\"] = np.ones(len(data))\n",
    "    return data"
   ]
  },
  {
   "cell_type": "code",
   "execution_count": null,
   "metadata": {
    "slideshow": {
     "slide_type": "fragment"
    }
   },
   "outputs": [],
   "source": [
    "coin_toss_data = add_counts(samples_to_dataframe(coin_toss_samples))\n",
    "\n",
    "coin_toss_data"
   ]
  },
  {
   "cell_type": "code",
   "execution_count": null,
   "metadata": {
    "slideshow": {
     "slide_type": "subslide"
    }
   },
   "outputs": [],
   "source": [
    "counts = coin_toss_data.groupby(\"coin_toss\").count()[\"count\"]\n",
    "\n",
    "plt.figure()\n",
    "plt.bar(counts.index, counts / sum(counts));"
   ]
  },
  {
   "cell_type": "markdown",
   "metadata": {
    "slideshow": {
     "slide_type": "slide"
    }
   },
   "source": [
    "### We can still combine and transform random variables in `pm`"
   ]
  },
  {
   "cell_type": "markdown",
   "metadata": {
    "slideshow": {
     "slide_type": "fragment"
    }
   },
   "source": [
    "Just like variables in algebra, random variables in `pm` models can be manipulated with math: added, subtracted, divided, multiplied, etc.\n",
    "\n",
    "That is, if we combine two random variables with math, the result is a new random variable:\n",
    "\n",
    "$$Z := X + Y$$"
   ]
  },
  {
   "cell_type": "markdown",
   "metadata": {
    "slideshow": {
     "slide_type": "fragment"
    }
   },
   "source": [
    "just like we could define\n",
    "$$z = x + y$$\n",
    "in algebra"
   ]
  },
  {
   "cell_type": "markdown",
   "metadata": {
    "slideshow": {
     "slide_type": "fragment"
    }
   },
   "source": [
    "or\n",
    "```python\n",
    "z = x + y\n",
    "```\n",
    "in pure Python."
   ]
  },
  {
   "cell_type": "markdown",
   "metadata": {
    "slideshow": {
     "slide_type": "subslide"
    }
   },
   "source": [
    "We do this in `pm` by adding a variable with the function `pm.Deterministic`, which we apply to the Python expression for our random variable."
   ]
  },
  {
   "cell_type": "markdown",
   "metadata": {
    "slideshow": {
     "slide_type": "fragment"
    }
   },
   "source": [
    "As an example, let's imagine we'd like to toss a coin twice and then count the number of tails. Since we're representing tails as `1`, that's just equal to the sum of the two random variables:"
   ]
  },
  {
   "cell_type": "code",
   "execution_count": null,
   "metadata": {
    "slideshow": {
     "slide_type": "fragment"
    }
   },
   "outputs": [],
   "source": [
    "num_tails_model = pm.Model()\n",
    "\n",
    "with num_tails_model:\n",
    "    X = pm.Categorical(name=\"first_coin_toss\", p=[1 / 2] * 2)\n",
    "    Y = pm.Categorical(name=\"second_coin_toss\", p=[1 / 2] * 2)\n",
    "    Z = pm.Deterministic(name=\"number_of_tails\", var=X + Y)"
   ]
  },
  {
   "cell_type": "code",
   "execution_count": null,
   "metadata": {
    "slideshow": {
     "slide_type": "subslide"
    }
   },
   "outputs": [],
   "source": [
    "num_tails_samples = sample_from(num_tails_model)"
   ]
  },
  {
   "cell_type": "code",
   "execution_count": null,
   "metadata": {
    "slideshow": {
     "slide_type": "fragment"
    }
   },
   "outputs": [],
   "source": [
    "num_tails_data = add_counts(samples_to_dataframe(num_tails_samples))\n",
    "\n",
    "counts = num_tails_data.groupby(\"number_of_tails\").count()[\"count\"]\n",
    "\n",
    "plt.figure()\n",
    "plt.bar(counts.index, counts / sum(counts));"
   ]
  }
 ],
 "metadata": {
  "celltoolbar": "Slideshow",
  "kernelspec": {
   "display_name": "Python 3",
   "language": "python",
   "name": "python3"
  },
  "language_info": {
   "codemirror_mode": {
    "name": "ipython",
    "version": 3
   },
   "file_extension": ".py",
   "mimetype": "text/x-python",
   "name": "python",
   "nbconvert_exporter": "python",
   "pygments_lexer": "ipython3",
   "version": "3.6.8"
  }
 },
 "nbformat": 4,
 "nbformat_minor": 2
}
