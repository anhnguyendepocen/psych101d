{
 "cells": [
  {
   "cell_type": "markdown",
   "metadata": {
    "slideshow": {
     "slide_type": "slide"
    }
   },
   "source": [
    "<img src=\"../../shared/img/banner.svg\"></img>"
   ]
  },
  {
   "cell_type": "markdown",
   "metadata": {
    "slideshow": {
     "slide_type": "-"
    }
   },
   "source": [
    "# Extra Slides - `pycoin`"
   ]
  },
  {
   "cell_type": "code",
   "execution_count": null,
   "metadata": {
    "slideshow": {
     "slide_type": "skip"
    }
   },
   "outputs": [],
   "source": [
    "%matplotlib notebook"
   ]
  },
  {
   "cell_type": "code",
   "execution_count": null,
   "metadata": {
    "slideshow": {
     "slide_type": "skip"
    }
   },
   "outputs": [],
   "source": [
    "import sys\n",
    "\n",
    "sys.path.append(\"../../\")\n",
    "\n",
    "from shared.src import quiet\n",
    "from shared.src import seed"
   ]
  },
  {
   "cell_type": "code",
   "execution_count": null,
   "metadata": {},
   "outputs": [],
   "source": [
    "import math\n",
    "import random\n",
    "import string\n",
    "import time\n",
    "\n",
    "import daft\n",
    "from IPython.display import Image\n",
    "import matplotlib.pyplot as plt\n",
    "import numpy as np\n",
    "import pandas as pd\n",
    "import pymc3 as pm\n",
    "import scipy.special\n",
    "import scipy.stats\n",
    "import seaborn as sns"
   ]
  },
  {
   "cell_type": "code",
   "execution_count": null,
   "metadata": {
    "slideshow": {
     "slide_type": "skip"
    }
   },
   "outputs": [],
   "source": [
    "def sample_from(model, n, filt=10):\n",
    "    with model:\n",
    "        samples = pm.sample(chains=1, draws=n * filt)[::filt]\n",
    "    return samples"
   ]
  },
  {
   "cell_type": "code",
   "execution_count": null,
   "metadata": {
    "slideshow": {
     "slide_type": "skip"
    }
   },
   "outputs": [],
   "source": [
    "def samples_to_dataframe(samples):\n",
    "    return pd.DataFrame([sample for sample in samples])\n",
    "\n",
    "def add_counts(data):\n",
    "    data[\"count\"] = np.ones(len(data))\n",
    "    return data"
   ]
  },
  {
   "cell_type": "markdown",
   "metadata": {
    "slideshow": {
     "slide_type": "slide"
    }
   },
   "source": [
    "## pycoin"
   ]
  },
  {
   "cell_type": "markdown",
   "metadata": {
    "slideshow": {
     "slide_type": "fragment"
    }
   },
   "source": [
    "Speaking loosely, cryptocurrencies work as follows:\n",
    "a transaction, such as `\"alice paid bob 10 coins\"`,\n",
    "is considered verified if the result of applying a function called `hash` to it\n",
    "results in a number smaller than some value.\n",
    "`hash` can be any function that takes in a string and returns a number.\n",
    "In order to get `hash` to evaluate to a small number,\n",
    "you're allowed to append whatever gibberish you want to the transaction.\n",
    "\n",
    "Some folks collect transactions and attempt to verify them,\n",
    "which they do by searching for a gibberish string to add to the transaction.\n",
    "This string is called a \"nonce\", or \"Number used ONCE\"."
   ]
  },
  {
   "cell_type": "markdown",
   "metadata": {
    "slideshow": {
     "slide_type": "fragment"
    }
   },
   "source": [
    "Why would they do that?\n",
    "In exchange, they are allowed to add a special transaction before they go searching:\n",
    "`\"{somebody} gets 1 coin\"`.\n",
    "Normally, they choose themselves.\n",
    "\n",
    "Since it produces currency, this process is called \"mining\",\n",
    "by analogy with mining precious metal currency.\n",
    "Since there are usually many transactions combined together into a chunk,\n",
    "the whole process is called \"mining a block\"."
   ]
  },
  {
   "cell_type": "code",
   "execution_count": null,
   "metadata": {
    "slideshow": {
     "slide_type": "subslide"
    }
   },
   "outputs": [],
   "source": [
    "data = \"alice paid bob 10 pycoin; {name} gets 1 pycoin. nonce:\".format(name=\"charles\")\n",
    "\n",
    "def run_pycoin(data, target=1e16):\n",
    "    s = data \n",
    "\n",
    "    while not target > hash(s) > -target:\n",
    "        s += random.choice(string.ascii_letters)\n",
    "        \n",
    "    return s"
   ]
  },
  {
   "cell_type": "code",
   "execution_count": null,
   "metadata": {
    "slideshow": {
     "slide_type": "fragment"
    }
   },
   "outputs": [],
   "source": [
    "run_pycoin(data, target=1e17)"
   ]
  },
  {
   "cell_type": "markdown",
   "metadata": {
    "slideshow": {
     "slide_type": "fragment"
    }
   },
   "source": [
    "The function `hash` is usually chosen to be _cryptographic_, one of the reasons for the _crypto_ in _cryptocurrency_.\n",
    "One thing that this means is that its behavior is believed to be extremely unpredictable:\n",
    "the only way to know the output of `hash` on some value is to run it on that value;\n",
    "the only way to find an input that makes `hash` give a certain output is to try it on lots of inputs.\n",
    "There is no simple pattern that would allow, say, someone very clever to find a gibberish string much faster and with much less effort than everyone else."
   ]
  },
  {
   "cell_type": "markdown",
   "metadata": {
    "slideshow": {
     "slide_type": "fragment"
    }
   },
   "source": [
    "The strategy almost every miner takes is, then, to try _random inputs_.\n",
    "This means that we can model cryptocurrency mining with our random variable toolkit.\n",
    "\n",
    "Even better: putting a random input into `hash` and checking whether the output is below a certain number is a kind of random variable we're very familiar with.\n",
    "The chance that any given input succeeds is very low, but we will be trying a large number of them.\n",
    "Or, from another perspective, each attempt is completely independent of the previous, and so the mining process is memoryless."
   ]
  },
  {
   "cell_type": "markdown",
   "metadata": {
    "slideshow": {
     "slide_type": "fragment"
    }
   },
   "source": [
    "We can therefore use the same model we used for the raindrops as our model of `pycoin` mining!\n",
    "\n",
    "The time in between successfully mined blocks is `Exponential`; the number of blocks mined in any given period (second, day, month) is `Poisson`."
   ]
  },
  {
   "cell_type": "markdown",
   "metadata": {
    "slideshow": {
     "slide_type": "fragment"
    }
   },
   "source": [
    "### HISTORICAL BLOCKCHAIN DATA HERE"
   ]
  },
  {
   "cell_type": "code",
   "execution_count": null,
   "metadata": {},
   "outputs": [],
   "source": [
    "def test_pycoin(data, num_blocks=1000, target=1e16):\n",
    "    times = []\n",
    "    for block_ii in range(num_blocks):\n",
    "        start_time = time.time()\n",
    "        run_pycoin(data, target)\n",
    "        elapsed_time = time.time() - start_time\n",
    "        times.append(elapsed_time)\n",
    "        \n",
    "    return times"
   ]
  },
  {
   "cell_type": "code",
   "execution_count": null,
   "metadata": {},
   "outputs": [],
   "source": [
    "times = test_pycoin(data, num_blocks=5000, target=1e18)"
   ]
  },
  {
   "cell_type": "code",
   "execution_count": null,
   "metadata": {},
   "outputs": [],
   "source": [
    "plt.figure()\n",
    "plt.hist(times, normed=True, bins=500);"
   ]
  },
  {
   "cell_type": "code",
   "execution_count": null,
   "metadata": {},
   "outputs": [],
   "source": [
    "beta = np.mean(times)"
   ]
  },
  {
   "cell_type": "code",
   "execution_count": null,
   "metadata": {},
   "outputs": [],
   "source": [
    "def exp_pdf(t, beta):\n",
    "    return 1 / beta * np.exp(- t / beta)"
   ]
  },
  {
   "cell_type": "code",
   "execution_count": null,
   "metadata": {},
   "outputs": [],
   "source": [
    "ts = np.linspace(0, max(times))\n",
    "plt.plot(ts, exp_pdf(ts, beta), color=\"C1\", lw=4);"
   ]
  }
 ],
 "metadata": {
  "celltoolbar": "Slideshow",
  "kernelspec": {
   "display_name": "Python 3",
   "language": "python",
   "name": "python3"
  },
  "language_info": {
   "codemirror_mode": {
    "name": "ipython",
    "version": 3
   },
   "file_extension": ".py",
   "mimetype": "text/x-python",
   "name": "python",
   "nbconvert_exporter": "python",
   "pygments_lexer": "ipython3",
   "version": "3.6.8"
  }
 },
 "nbformat": 4,
 "nbformat_minor": 2
}
