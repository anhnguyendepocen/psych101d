{
 "cells": [
  {
   "cell_type": "markdown",
   "metadata": {
    "slideshow": {
     "slide_type": "slide"
    }
   },
   "source": [
    "<img src=\"../../shared/img/slides_banner.svg\" width=2560></img>"
   ]
  },
  {
   "cell_type": "markdown",
   "metadata": {
    "slideshow": {
     "slide_type": "-"
    }
   },
   "source": [
    "# 05a - Null Hypothesis Significance Testing"
   ]
  },
  {
   "cell_type": "code",
   "execution_count": null,
   "metadata": {
    "slideshow": {
     "slide_type": "skip"
    }
   },
   "outputs": [],
   "source": [
    "%matplotlib inline"
   ]
  },
  {
   "cell_type": "code",
   "execution_count": null,
   "metadata": {
    "slideshow": {
     "slide_type": "skip"
    }
   },
   "outputs": [],
   "source": [
    "import sys\n",
    "\n",
    "sys.path.append(\"../../\")\n",
    "\n",
    "from shared.src import quiet\n",
    "from shared.src import seed\n",
    "from shared.src import style"
   ]
  },
  {
   "cell_type": "code",
   "execution_count": null,
   "metadata": {
    "slideshow": {
     "slide_type": "skip"
    }
   },
   "outputs": [],
   "source": [
    "import random\n",
    "\n",
    "import daft\n",
    "from IPython.display import Image, YouTubeVideo\n",
    "import matplotlib.pyplot as plt\n",
    "import numpy as np\n",
    "import pandas as pd\n",
    "import pymc3 as pm\n",
    "import seaborn as sns\n",
    "import scipy.stats"
   ]
  },
  {
   "cell_type": "code",
   "execution_count": null,
   "metadata": {
    "slideshow": {
     "slide_type": "skip"
    }
   },
   "outputs": [],
   "source": [
    "sns.set_context(\"notebook\", font_scale=1.7)"
   ]
  },
  {
   "cell_type": "code",
   "execution_count": null,
   "metadata": {
    "slideshow": {
     "slide_type": "skip"
    }
   },
   "outputs": [],
   "source": [
    "import shared.src.utils.util as shared_util"
   ]
  },
  {
   "cell_type": "markdown",
   "metadata": {
    "slideshow": {
     "slide_type": "slide"
    }
   },
   "source": [
    "This week, we put on our frequentist hats:\n",
    "we are going to study the most common method for frequentist inference,\n",
    "_null hypothesis significance testing_.\n",
    "\n",
    "Next week, we'll take a Bayesian approach to similar problems."
   ]
  },
  {
   "cell_type": "markdown",
   "metadata": {
    "slideshow": {
     "slide_type": "skip"
    }
   },
   "source": [
    "Warning: as indicated below, these ideas are notoriously unintuitive and easy to confuse yourself with.\n",
    "\n",
    "So don't be discouraged if you find this material confusing.\n",
    "There is a lot of other tutorial material online\n",
    "which might be helpful."
   ]
  },
  {
   "cell_type": "markdown",
   "metadata": {
    "slideshow": {
     "slide_type": "slide"
    }
   },
   "source": [
    "## Null Hypothesis Significance Testing"
   ]
  },
  {
   "cell_type": "markdown",
   "metadata": {
    "slideshow": {
     "slide_type": "fragment"
    }
   },
   "source": [
    "0. Collect data from an experiment and compute a statistic on that data."
   ]
  },
  {
   "cell_type": "markdown",
   "metadata": {
    "slideshow": {
     "slide_type": "fragment"
    }
   },
   "source": [
    "1. Come up with a model of \"nothing interesting is happening in my data\".\n",
    "    - This model can be resampling-based, mathematical, or in `pyMC`\n",
    "    - It is called the _null model_. The hypothesis that it is true is the _null hypothesis_."
   ]
  },
  {
   "cell_type": "markdown",
   "metadata": {
    "slideshow": {
     "slide_type": "skip"
    }
   },
   "source": [
    "Mathematical models are the classical approach.\n",
    "Bootstrapping is a type of resampling, but it won't be the type we use here.\n",
    "In general, a `pyMC` model can be replaced with any _generative_ model:\n",
    "any model form which you can generate samples."
   ]
  },
  {
   "cell_type": "markdown",
   "metadata": {
    "slideshow": {
     "slide_type": "subslide"
    }
   },
   "source": [
    "2. Obtain the sampling distribution of the statistic from the model\n",
    "    - by literally sampling from it,\n",
    "        - either resampling or with `pm.sample`\n",
    "    - or by clever mathematical manipulation"
   ]
  },
  {
   "cell_type": "markdown",
   "metadata": {
    "slideshow": {
     "slide_type": "fragment"
    }
   },
   "source": [
    "3. Compare the value of the statistic observed on the data to the sampling distribution.\n",
    "   - If the observed value is \"too extreme\", the test is positive and the result is \"statistically significant\"."
   ]
  },
  {
   "cell_type": "markdown",
   "metadata": {
    "slideshow": {
     "slide_type": "slide"
    }
   },
   "source": [
    "## The Intellectual Heritage of Null Hypothesis Significance Testing"
   ]
  },
  {
   "cell_type": "markdown",
   "metadata": {
    "slideshow": {
     "slide_type": "fragment"
    }
   },
   "source": [
    "The formal apparatus of null hypothesis significance testing dates to the early-to-mid 20th century."
   ]
  },
  {
   "cell_type": "markdown",
   "metadata": {
    "slideshow": {
     "slide_type": "fragment"
    }
   },
   "source": [
    "This was an important moment in the history of science:\n",
    "for the preceding century, major discoveries in the laws of nature were made regularly,\n",
    "and they were enabling rapid technological progress."
   ]
  },
  {
   "cell_type": "markdown",
   "metadata": {
    "slideshow": {
     "slide_type": "fragment"
    }
   },
   "source": [
    "And furthermore, disciplines like physics had gone through several iterations of discovering \"laws of nature\"\n",
    "and then realizing they needed to be amended:\n",
    "what was once absolute truth was replaced with a new absolute truth, which was itself replaced."
   ]
  },
  {
   "cell_type": "markdown",
   "metadata": {
    "slideshow": {
     "slide_type": "subslide"
    }
   },
   "source": [
    "This inspired philosophers, and philosophically-minded scientists,\n",
    "to try to formalize and explain the process by which science produced knowledge,\n",
    "since the kind of knowledge it produced was clearly not absolute."
   ]
  },
  {
   "cell_type": "markdown",
   "metadata": {
    "slideshow": {
     "slide_type": "fragment"
    }
   },
   "source": [
    "> Since we can never know anything for sure, it is simply not worth searching for certainty; but it is well worth searching for truth; and we do this chiefly by searching for mistakes, so that we have to correct them\n",
    "\n",
    "Karl Popper, _In Search of a Better World_, 1984"
   ]
  },
  {
   "cell_type": "markdown",
   "metadata": {
    "slideshow": {
     "slide_type": "skip"
    }
   },
   "source": [
    "A hypothesis is _falsifiable_ if it can be proven false.\n",
    "\n",
    "A hypothesis is _verifiable_ if it can be proven true."
   ]
  },
  {
   "cell_type": "markdown",
   "metadata": {
    "slideshow": {
     "slide_type": "fragment"
    }
   },
   "source": [
    "In this presentation of the scientific method,\n",
    "hypotheses must be _falsifiable_ but need not be _verifiable_,\n",
    "and the goal is to _falsify_ rather than _verify_."
   ]
  },
  {
   "cell_type": "markdown",
   "metadata": {
    "slideshow": {
     "slide_type": "subslide"
    }
   },
   "source": [
    "### Falsifiability"
   ]
  },
  {
   "cell_type": "markdown",
   "metadata": {
    "slideshow": {
     "slide_type": "fragment"
    }
   },
   "source": [
    "> In so far as a scientific statement speaks about reality, it must be falsifiable: and in so far as it is not falsifiable, it does not speak about reality.\n",
    "\n",
    "Karl Popper, _The Logic of Scientific Discovery_, 1934"
   ]
  },
  {
   "cell_type": "markdown",
   "metadata": {
    "slideshow": {
     "slide_type": "subslide"
    }
   },
   "source": [
    "#### Unfalsifiable Example 1: Russell's Teapot"
   ]
  },
  {
   "cell_type": "markdown",
   "metadata": {
    "slideshow": {
     "slide_type": "fragment"
    }
   },
   "source": [
    "Bertrand Russell proposed, as an example of an unfalsifiable statement, the following:\n",
    "\n",
    "> If I were to suggest that between the Earth and Mars there is a china teapot revolving about the sun in an elliptical orbit, nobody would be able to disprove my assertion provided I were careful to add that the teapot is too small to be revealed even by our most powerful telescopes.\n",
    "\n",
    "Bertrand Russell, unpublished article for _Illustrated_ magazine, 1952."
   ]
  },
  {
   "cell_type": "code",
   "execution_count": null,
   "metadata": {
    "slideshow": {
     "slide_type": "subslide"
    }
   },
   "outputs": [],
   "source": [
    "Image(url=\"https://upload.wikimedia.org/wikipedia/commons/7/70/Teapot_in_space.jpg\", width=400)"
   ]
  },
  {
   "cell_type": "markdown",
   "metadata": {
    "slideshow": {
     "slide_type": "subslide"
    }
   },
   "source": [
    "#### Unfalsifiable Example 2: The Ptolemaic Model"
   ]
  },
  {
   "cell_type": "markdown",
   "metadata": {
    "slideshow": {
     "slide_type": "fragment"
    }
   },
   "source": [
    "For 1500 years, the cosmological model that was\n",
    "most widely believed by astronomers and astrologes was the\n",
    "[Ptolemaic model](https://en.wikipedia.org/wiki/Geocentric_model#Ptolemaic_model)."
   ]
  },
  {
   "cell_type": "code",
   "execution_count": null,
   "metadata": {
    "slideshow": {
     "slide_type": "fragment"
    }
   },
   "outputs": [],
   "source": [
    "YouTubeVideo(\"EpSy0Lkm3zM\", width=600, height=450)"
   ]
  },
  {
   "cell_type": "markdown",
   "metadata": {
    "slideshow": {
     "slide_type": "skip"
    }
   },
   "source": [
    "In this model, planets move in \"double orbits\": \n",
    "a \"larger orbit\" around (a point close to) the Earth\n",
    "and a \"smaller orbit\" around the path of that orbit.\n",
    "See the animation above.\n",
    "The latter is called an _epicycle_:\n",
    "a cycle on top of a cycle.\n",
    "\n",
    "Imagine that each planet is being rotated by a gear\n",
    "which is itself on a rotating gear.\n",
    "This is how [some mechanical planetaria operate](https://en.wikipedia.org/wiki/Planetarium#Traditional_electromechanical/optical_projectors)."
   ]
  },
  {
   "cell_type": "markdown",
   "metadata": {
    "slideshow": {
     "slide_type": "subslide"
    }
   },
   "source": [
    "This model does quite well explaining the orbits of the planets\n",
    "well enough to match data based on observation by eye."
   ]
  },
  {
   "cell_type": "markdown",
   "metadata": {
    "slideshow": {
     "slide_type": "fragment"
    }
   },
   "source": [
    "This was the only data available until the revolution in optical technology\n",
    "around the turn of the 17th century.\n",
    "Finding a simple model to fit to this data\n",
    "led to the theories of [Kepler](https://en.wikipedia.org/wiki/Kepler%27s_laws_of_planetary_motion)\n",
    "and Newton."
   ]
  },
  {
   "cell_type": "markdown",
   "metadata": {
    "slideshow": {
     "slide_type": "subslide"
    }
   },
   "source": [
    "However, it can be shown that,\n",
    "if one merely adds enough more epicycles\n",
    "(epiepicycles, epiepiepicycles, and so on), \n",
    "the shape of _any orbit_ can be explained,\n",
    "and so this version of the Ptolemaic model cannot be falisified."
   ]
  },
  {
   "cell_type": "code",
   "execution_count": null,
   "metadata": {
    "slideshow": {
     "slide_type": "fragment"
    }
   },
   "outputs": [],
   "source": [
    "YouTubeVideo(\"QVuU2YCwHjw\", start=20, rel=0, autoplay=1, width=600, height=450)"
   ]
  },
  {
   "cell_type": "markdown",
   "metadata": {
    "slideshow": {
     "slide_type": "skip"
    }
   },
   "source": [
    "NB: this isn't exactly how the Ptolemaic model worked\n",
    "(there was only one epicycle),\n",
    "but it would be a way to \"extend\" the Ptolemaic model to fit any data."
   ]
  },
  {
   "cell_type": "markdown",
   "metadata": {
    "slideshow": {
     "slide_type": "skip"
    }
   },
   "source": [
    "For more, check out [jezzamon.com](http://www.jezzamon.com/fourier/), which has a nice intuitive and visual introduction to the Fourier transform, or this [Mathologer video](https://www.youtube.com/watch?v=qS4H6PEcCCA) explaining the Homer Simpson example."
   ]
  },
  {
   "cell_type": "markdown",
   "metadata": {
    "slideshow": {
     "slide_type": "subslide"
    }
   },
   "source": [
    "#### Falisifiable Example 1: Swans"
   ]
  },
  {
   "cell_type": "markdown",
   "metadata": {
    "slideshow": {
     "slide_type": "fragment"
    }
   },
   "source": [
    "As an example of a falsifiable claim, consider the claim that \"All Swans are White\"."
   ]
  },
  {
   "cell_type": "markdown",
   "metadata": {
    "slideshow": {
     "slide_type": "subslide"
    }
   },
   "source": [
    "Across roughly the same time period as the Ptolemaic model held sway, some 1500 years,\n",
    "this claim was widely believed in Europe, even a proverbial truth, like $2+2=4$."
   ]
  },
  {
   "cell_type": "code",
   "execution_count": null,
   "metadata": {
    "slideshow": {
     "slide_type": "fragment"
    }
   },
   "outputs": [],
   "source": [
    "Image(\"https://upload.wikimedia.org/wikipedia/commons/c/ce/Black_Swan_at_Martin_Mere.JPG\", width=250)"
   ]
  },
  {
   "cell_type": "markdown",
   "metadata": {
    "slideshow": {
     "slide_type": "skip"
    }
   },
   "source": [
    "The [arrival of Dutch explorer Willem de Vlamingh in Australia in 1697](https://en.wikipedia.org/wiki/Black_swan_emblems_and_popular_culture#European_myth_and_metaphor),\n",
    "where he observed the [black swan](https://en.wikipedia.org/wiki/Black_swan),\n",
    "falsified that belief."
   ]
  },
  {
   "cell_type": "markdown",
   "metadata": {
    "slideshow": {
     "slide_type": "subslide"
    }
   },
   "source": [
    "### Statistical Claims are not Logically Falsifiable"
   ]
  },
  {
   "cell_type": "markdown",
   "metadata": {
    "slideshow": {
     "slide_type": "fragment"
    }
   },
   "source": [
    "The claims we make with statistics are less like \"All Swans are White\"\n",
    "and more like \"It is Unlikely we would Observe a Black Swan\"."
   ]
  },
  {
   "cell_type": "markdown",
   "metadata": {
    "slideshow": {
     "slide_type": "fragment"
    }
   },
   "source": [
    "The observation of a single black swan obviously does not invalidate this claim the level of logic."
   ]
  },
  {
   "cell_type": "markdown",
   "metadata": {
    "slideshow": {
     "slide_type": "subslide"
    }
   },
   "source": [
    "Importantly, the observation of hundreds of black swans and no white swans also does not _logically_ invalidate this claim."
   ]
  },
  {
   "cell_type": "markdown",
   "metadata": {
    "slideshow": {
     "slide_type": "fragment"
    }
   },
   "source": [
    "Even if the claim is true, it could be the case that, by some cosmic coincidence, we observed only the uncommon black swans."
   ]
  },
  {
   "cell_type": "markdown",
   "metadata": {
    "slideshow": {
     "slide_type": "fragment"
    }
   },
   "source": [
    "In Tom Stoppard's play/film [_Rosencrantz & Guildenstern Are Dead_](https://en.wikipedia.org/wiki/Rosencrantz_and_Guildenstern_Are_Dead),\n",
    "the titular characters (from _Hamlet_)\n",
    "flip a coin 92 times, getting a heads every single time [(video link)](https://www.youtube.com/watch?v=gOwLEVQGbrM).\n",
    "\n",
    "While this event is not _impossible_, it is fabulously _unlikely_:\n",
    "it has a chance of $1$ in $2^{92}$."
   ]
  },
  {
   "cell_type": "code",
   "execution_count": null,
   "metadata": {
    "slideshow": {
     "slide_type": "fragment"
    }
   },
   "outputs": [],
   "source": [
    "1 / 2 ** 92"
   ]
  },
  {
   "cell_type": "markdown",
   "metadata": {
    "slideshow": {
     "slide_type": "subslide"
    }
   },
   "source": [
    "## Binary Hypothesis Testing Brings Falsifiability to Statistics"
   ]
  },
  {
   "cell_type": "markdown",
   "metadata": {
    "slideshow": {
     "slide_type": "skip"
    }
   },
   "source": [
    "We've already done some binary hypothesis testing in previous labs,\n",
    "and versions of it appear in `data8`.\n",
    "\n",
    "We're going through it in detail here to review and in order to frame it in terms of falsification,\n",
    "which will be useful for understanding null hypothesis significance testing."
   ]
  },
  {
   "cell_type": "markdown",
   "metadata": {
    "slideshow": {
     "slide_type": "fragment"
    }
   },
   "source": [
    "Simple version:\n",
    "\n",
    "1. Write down a hypothesis.\n",
    "2. Determine the chance your results would occur under that hypothesis.\n",
    "3. If the chance that your results would occur is sufficiently low, the _hypothesis is rejected_ as falsified."
   ]
  },
  {
   "cell_type": "markdown",
   "metadata": {
    "slideshow": {
     "slide_type": "subslide"
    }
   },
   "source": [
    "#### Caution: how do you pick _sufficiently low_?"
   ]
  },
  {
   "cell_type": "markdown",
   "metadata": {
    "slideshow": {
     "slide_type": "fragment"
    }
   },
   "source": [
    "> It is open to the experimenter to be more or less exacting in respect of the smallness of the probability he would require before he would be willing to admit that his observations have demonstrated a positive result.\n",
    "\n",
    "Fisher, _The Principles of Experimentation_, 1935"
   ]
  },
  {
   "cell_type": "markdown",
   "metadata": {
    "slideshow": {
     "slide_type": "fragment"
    }
   },
   "source": [
    "But most people use $0.05$."
   ]
  },
  {
   "cell_type": "markdown",
   "metadata": {
    "slideshow": {
     "slide_type": "subslide"
    }
   },
   "source": [
    "#### Caution: How do you define _the chance your results would occur_?"
   ]
  },
  {
   "cell_type": "markdown",
   "metadata": {
    "slideshow": {
     "slide_type": "fragment"
    }
   },
   "source": [
    "Consider the case of Rosencrantz tossing the coin: the chance of the sequence of 92 heads is $1$ in $2^{92}$, but so is the chance of _any_ given particular sequence."
   ]
  },
  {
   "cell_type": "markdown",
   "metadata": {
    "slideshow": {
     "slide_type": "fragment"
    }
   },
   "source": [
    "And so you would either always reject the hypothesis that the coin was fair or always accept it,\n",
    "depending on where you set your threshold."
   ]
  },
  {
   "cell_type": "markdown",
   "metadata": {
    "slideshow": {
     "slide_type": "subslide"
    }
   },
   "source": [
    "#### 1. Define a statistic of the observed data and calculate the chance of observing that statistic."
   ]
  },
  {
   "cell_type": "markdown",
   "metadata": {
    "slideshow": {
     "slide_type": "skip"
    }
   },
   "source": [
    "Usually, we pick a statistic such that many datasets get mapped to the same value:\n",
    "summarizing with a single number usually does the trick.\n",
    "\n",
    "But we also want datasets that are _meaningfully_ different to get mapped to different values.\n",
    "Determining what differences are meaningful is the art of model selection."
   ]
  },
  {
   "cell_type": "markdown",
   "metadata": {
    "slideshow": {
     "slide_type": "fragment"
    }
   },
   "source": [
    "For this example, consider the _count_ of the number of heads,\n",
    "rather than the specific sequence.\n",
    "Many specific sequences have the same number of heads in them,\n",
    "and so their probabilities are added together."
   ]
  },
  {
   "cell_type": "markdown",
   "metadata": {
    "slideshow": {
     "slide_type": "skip"
    }
   },
   "source": [
    "As discussed previously, the distribution of the count is a `Binomial`.\n",
    "For Rosencrantz's experiment, the parameters are $n=92$ and $p=0.5$,\n",
    "since it is hypothesized that the coin is fair."
   ]
  },
  {
   "cell_type": "markdown",
   "metadata": {
    "slideshow": {
     "slide_type": "subslide"
    }
   },
   "source": [
    "Now, if we observe exactly 46 heads and 46 tails, and use 0.05 as our cutoff,\n",
    "we would not reject the hypothesis that the coin is fair."
   ]
  },
  {
   "cell_type": "code",
   "execution_count": null,
   "metadata": {
    "slideshow": {
     "slide_type": "fragment"
    }
   },
   "outputs": [],
   "source": [
    "scipy.stats.binom.pmf(46, n=92, p=0.5)"
   ]
  },
  {
   "cell_type": "markdown",
   "metadata": {
    "slideshow": {
     "slide_type": "fragment"
    }
   },
   "source": [
    "But if we observed 92 heads, we would:"
   ]
  },
  {
   "cell_type": "code",
   "execution_count": null,
   "metadata": {
    "slideshow": {
     "slide_type": "fragment"
    }
   },
   "outputs": [],
   "source": [
    "scipy.stats.binom.pmf(92, n=92, p=0.5)"
   ]
  },
  {
   "cell_type": "markdown",
   "metadata": {
    "slideshow": {
     "slide_type": "subslide"
    }
   },
   "source": [
    "But that's the chance that _the specific outcome we observed would occur_.\n",
    "\n",
    "We want to control instead the chance that _we reject the hypothesis_ when it is true,\n",
    "and this procedure won't do that."
   ]
  },
  {
   "cell_type": "code",
   "execution_count": null,
   "metadata": {
    "slideshow": {
     "slide_type": "fragment"
    }
   },
   "outputs": [],
   "source": [
    "scipy.stats.binom.pmf(46, n=92, p=0.5)"
   ]
  },
  {
   "cell_type": "markdown",
   "metadata": {
    "slideshow": {
     "slide_type": "skip"
    }
   },
   "source": [
    "Adjust the number above, starting from 46 and working first upwards and then downwards.\n",
    "At first, the numbers will be above `0.05`, and so we won't reject the hypothesis that the coin is far.\n",
    "Stop when the number goes below `0.05`."
   ]
  },
  {
   "cell_type": "markdown",
   "metadata": {
    "slideshow": {
     "slide_type": "fragment"
    }
   },
   "source": [
    "The probability drops below `0.05` at `51` heads or at `41` heads.\n",
    "But the chance of observing _either_ `51` _or_ `41` heads is above `0.05`:"
   ]
  },
  {
   "cell_type": "code",
   "execution_count": null,
   "metadata": {
    "slideshow": {
     "slide_type": "fragment"
    }
   },
   "outputs": [],
   "source": [
    "scipy.stats.binom.pmf(41, n=92, p=0.5) + scipy.stats.binom.pmf(51, n=92, p=0.5)"
   ]
  },
  {
   "cell_type": "markdown",
   "metadata": {
    "slideshow": {
     "slide_type": "subslide"
    }
   },
   "source": [
    "#### 2. Consider the value of your statistic on all possible datasets."
   ]
  },
  {
   "cell_type": "markdown",
   "metadata": {
    "slideshow": {
     "slide_type": "fragment"
    }
   },
   "source": [
    "That is, compute, approximate, or estimate the sampling distribution of the statistic.\n",
    "\n",
    "The chance you reject the hypothesis when it is true is the sum of the chances of observing each of the datasets that would cause you to reject the hypothesis, given that the hypothesis is true."
   ]
  },
  {
   "cell_type": "code",
   "execution_count": null,
   "metadata": {
    "slideshow": {
     "slide_type": "fragment"
    }
   },
   "outputs": [],
   "source": [
    "observations_that_would_cause_rejection = []\n",
    "\n",
    "for k in range(0, 93):\n",
    "    if scipy.stats.binom.pmf(k, n=92, p=0.5) < 0.05:\n",
    "        observations_that_would_cause_rejection.append(k)"
   ]
  },
  {
   "cell_type": "code",
   "execution_count": null,
   "metadata": {
    "slideshow": {
     "slide_type": "fragment"
    }
   },
   "outputs": [],
   "source": [
    "sum(scipy.stats.binom.pmf(k, n=92, p=0.5)\n",
    "    for k in observations_that_would_cause_rejection)"
   ]
  },
  {
   "cell_type": "markdown",
   "metadata": {
    "slideshow": {
     "slide_type": "skip"
    }
   },
   "source": [
    "The above cell demonstrates that if we were to reject the hypothesis that the coin was fair\n",
    "whenever the chance of observing the statistic was less than 0.05,\n",
    "the chance we'd reject the hypothesis when working with a fair coin would be about 35%!"
   ]
  },
  {
   "cell_type": "markdown",
   "metadata": {
    "slideshow": {
     "slide_type": "subslide"
    }
   },
   "source": [
    "#### 3. Set a threshold for the statistic such that the chance you incorrectly reject is _sufficiently low_."
   ]
  },
  {
   "cell_type": "code",
   "execution_count": null,
   "metadata": {
    "slideshow": {
     "slide_type": "fragment"
    }
   },
   "outputs": [],
   "source": [
    "rejection_threshold = 0.01\n",
    "observations_that_would_cause_rejection = []\n",
    "\n",
    "for k in range(0, 93):\n",
    "    if scipy.stats.binom.pmf(k, n=92, p=0.5) < rejection_threshold:\n",
    "        observations_that_would_cause_rejection.append(k)\n",
    "\n",
    "sum(scipy.stats.binom.pmf(k, n=92, p=0.5)\n",
    "    for k in observations_that_would_cause_rejection)"
   ]
  },
  {
   "cell_type": "markdown",
   "metadata": {
    "slideshow": {
     "slide_type": "skip"
    }
   },
   "source": [
    "Adjust the value of `rejection_threshold` until the value produced by the cell,\n",
    "which represents the chance of rejecting the null,\n",
    "drops below `0.05`.\n",
    "\n",
    "I find that `0.01` is sufficient, but `0.015` is not."
   ]
  },
  {
   "cell_type": "markdown",
   "metadata": {
    "slideshow": {
     "slide_type": "subslide"
    }
   },
   "source": [
    "Once this has been performed for a given statistic and set of parameters,\n",
    "we can give a decision rule that's in terms not of the probability,\n",
    "but in terms of the original values.\n",
    "\n",
    "For this distribution, and many others, the `observations_that_would_cause_rejection`\n",
    "are in the _tails_ of the distribution: the values at least some distance from the center.\n",
    "\n",
    "In this case, that distance is 10:"
   ]
  },
  {
   "cell_type": "code",
   "execution_count": null,
   "metadata": {
    "slideshow": {
     "slide_type": "fragment"
    }
   },
   "outputs": [],
   "source": [
    "num_reject = len(observations_that_would_cause_rejection)\n",
    "observations_that_would_cause_rejection[num_reject // 2 - 3 : num_reject // 2 + 3]"
   ]
  },
  {
   "cell_type": "markdown",
   "metadata": {
    "slideshow": {
     "slide_type": "fragment"
    }
   },
   "source": [
    "So if our \"count\" statistic is above 55 (is 56 or higher) or below 37 (is 36 or lower),\n",
    "we reject the hypothesis that the coin is fair."
   ]
  },
  {
   "cell_type": "markdown",
   "metadata": {
    "slideshow": {
     "slide_type": "subslide"
    }
   },
   "source": [
    "Put another way, if the _distance from the value predicted by the hypothesis is 10 or more_,\n",
    "we reject the hypothesis."
   ]
  },
  {
   "cell_type": "code",
   "execution_count": null,
   "metadata": {
    "slideshow": {
     "slide_type": "fragment"
    }
   },
   "outputs": [],
   "source": [
    "(observations_that_would_cause_rejection[num_reject // 2 - 1],\n",
    "observations_that_would_cause_rejection[num_reject // 2])"
   ]
  },
  {
   "cell_type": "markdown",
   "metadata": {
    "slideshow": {
     "slide_type": "fragment"
    }
   },
   "source": [
    "These are called _critical values_ of the statistic."
   ]
  },
  {
   "cell_type": "markdown",
   "metadata": {
    "slideshow": {
     "slide_type": "subslide"
    }
   },
   "source": [
    "Generic hypothesis testing, final version:\n",
    "\n",
    "#### 1. Define a statistic of the observed data and calculate the chance of observing that statistic.\n",
    "#### 2. Determine the chance your results would occur _under that hypothesis_.\n",
    "#### 3. If the chance that your results _or others like them_ would occur is sufficiently low, the _hypothesis is rejected_ as falsified."
   ]
  },
  {
   "cell_type": "markdown",
   "metadata": {
    "slideshow": {
     "slide_type": "subslide"
    }
   },
   "source": [
    "### We Can Approximate the Distribution of our Statistic with pyMC"
   ]
  },
  {
   "cell_type": "code",
   "execution_count": null,
   "metadata": {
    "slideshow": {
     "slide_type": "fragment"
    }
   },
   "outputs": [],
   "source": [
    "with pm.Model() as coins_model:\n",
    "    coins = pm.Bernoulli(\"coins\", p=0.5, shape=(92))"
   ]
  },
  {
   "cell_type": "code",
   "execution_count": null,
   "metadata": {
    "slideshow": {
     "slide_type": "fragment"
    }
   },
   "outputs": [],
   "source": [
    "coins_samples = shared_util.samples_to_dataframe(shared_util.sample_from(\n",
    "    coins_model, draws=2500, chains=4, progressbar=True))"
   ]
  },
  {
   "cell_type": "code",
   "execution_count": null,
   "metadata": {
    "slideshow": {
     "slide_type": "fragment"
    }
   },
   "outputs": [],
   "source": [
    "k_pymc = coins_samples[\"coins\"].apply(sum)"
   ]
  },
  {
   "cell_type": "markdown",
   "metadata": {
    "slideshow": {
     "slide_type": "skip"
    }
   },
   "source": [
    "Two notes on modeling choices:\n",
    "\n",
    "1. **Why don't we calculate the `sum` inside of the model, with `pm.math.sum`?** It's typically a bad idea to include too many `Deterministic` components to a model. It slows down the sampling process and can make it unstable.\n",
    "2. **Why don't we just use a `Binomial` for the count directly?** This depends on how detailed you want your model to be. whenever possible, prefer to design models that generate raw data, or data in as raw a state as possible, and then apply my analyses to the samples _as though they were real data_. This emphasizes the role of the model as a _simulation of the real data generating process_."
   ]
  },
  {
   "cell_type": "code",
   "execution_count": null,
   "metadata": {
    "slideshow": {
     "slide_type": "subslide"
    }
   },
   "outputs": [],
   "source": [
    "f, ax = plt.subplots(figsize=(8, 6))\n",
    "sns.distplot(k_pymc, bins=range(0, 93), kde=False, norm_hist=True,\n",
    "             hist_kws={\"align\": \"left\"}, label=\"sampled with pyMC\");\n",
    "plt.plot(range(0, 93), scipy.stats.binom.pmf(range(0, 93), n=92, p=0.5),\n",
    "         lw=2, label=\"mathematically-derived\", marker=\".\", markersize=10);\n",
    "plt.ylim(1.7 * np.array(plt.ylim())); plt.xlabel(\"k\"); plt.legend(); plt.tight_layout();"
   ]
  },
  {
   "cell_type": "markdown",
   "metadata": {
    "slideshow": {
     "slide_type": "subslide"
    }
   },
   "source": [
    "But remember that our final decision rule was in terms of the deviation from the value given by the hypothesis.\n",
    "We can compute that statistic on our samples by using the following function:"
   ]
  },
  {
   "cell_type": "code",
   "execution_count": null,
   "metadata": {
    "slideshow": {
     "slide_type": "fragment"
    }
   },
   "outputs": [],
   "source": [
    "def deviation_statistic(observed_values, expected_value):\n",
    "    return np.abs(expected_value - observed_values)"
   ]
  },
  {
   "cell_type": "code",
   "execution_count": null,
   "metadata": {
    "slideshow": {
     "slide_type": "fragment"
    }
   },
   "outputs": [],
   "source": [
    "deviation_samp_dist_samples = deviation_statistic(k_pymc, 46)"
   ]
  },
  {
   "cell_type": "markdown",
   "metadata": {
    "slideshow": {
     "slide_type": "subslide"
    }
   },
   "source": [
    "With sufficient cleverness and by applying the rules of probability,\n",
    "we can obtain a sampling distribution for this statistic from the sampling distribution for the old one."
   ]
  },
  {
   "cell_type": "code",
   "execution_count": null,
   "metadata": {
    "slideshow": {
     "slide_type": "fragment"
    }
   },
   "outputs": [],
   "source": [
    "def deviation_statistic_pmf(k, n=92, p=0.5):\n",
    "    binom_pmf = scipy.stats.binom(n=n, p=0.5).pmf\n",
    "    if k > 0:\n",
    "        return 2 * binom_pmf(n * p + k)\n",
    "    else:\n",
    "        return binom_pmf(n * p + k)"
   ]
  },
  {
   "cell_type": "markdown",
   "metadata": {
    "slideshow": {
     "slide_type": "skip"
    }
   },
   "source": [
    "This is included only for comparion purposes;\n",
    "the goal of this class is to learn tools, like pyMC,\n",
    "that avoid using mathematical manipulations like these."
   ]
  },
  {
   "cell_type": "code",
   "execution_count": null,
   "metadata": {
    "slideshow": {
     "slide_type": "subslide"
    }
   },
   "outputs": [],
   "source": [
    "f, ax = plt.subplots(figsize=(8, 6))\n",
    "sns.distplot(deviation_samp_dist_samples, bins=np.arange(-0.5, 47.5), kde=False, norm_hist=True,\n",
    "             hist_kws={\"align\": \"mid\"}, label=\"Estimated with pyMC\");\n",
    "plt.ylim(1.7 * np.array(plt.ylim())); ax.set_xlabel(\"Deviation from Expected\");\n",
    "ax.plot([deviation_statistic_pmf(val) for val in np.arange(46)], color=\"C1\",\n",
    "        lw=2, label=\"Derived Mathematically\", marker=\".\", markersize=10);\n",
    "ax.set_title(\"Sampling Distribution\"); ax.legend(); plt.tight_layout();"
   ]
  },
  {
   "cell_type": "markdown",
   "metadata": {
    "slideshow": {
     "slide_type": "skip"
    }
   },
   "source": [
    "Notice the advantage in simplicity for the pyMC method:\n",
    "I didn't need to know any rules of probability to convert the sampling distribution\n",
    "of the first statistic into the sampling distribution of the second,\n",
    "I only needed to know how to compute the statistic on a sample.\n",
    "\n",
    "This is a generic benefit of the sampling approach,\n",
    "to balance the drawback of getting imprecise answers."
   ]
  },
  {
   "cell_type": "markdown",
   "metadata": {
    "slideshow": {
     "slide_type": "slide"
    }
   },
   "source": [
    "## Null Hypotheses Put the Focus on Falsification"
   ]
  },
  {
   "cell_type": "markdown",
   "metadata": {
    "slideshow": {
     "slide_type": "fragment"
    }
   },
   "source": [
    "One of the motivations for the falsification model of science is the recognition that our track record for hypotheses\n",
    "is extremely poor."
   ]
  },
  {
   "cell_type": "markdown",
   "metadata": {
    "slideshow": {
     "slide_type": "fragment"
    }
   },
   "source": [
    "From the Ptolematic model and the humor theory of medicine to Newton's laws and the wave theory of light,\n",
    "even useful and widely-believed hypotheses have turned out to be false."
   ]
  },
  {
   "cell_type": "markdown",
   "metadata": {
    "slideshow": {
     "slide_type": "subslide"
    }
   },
   "source": [
    "So instead of claiming to \"prove\" any hypothesis was true,\n",
    "early statisticians took the line that we should only _disprove_ theories:\n",
    "that every experiment was to be a miniature version of Galileo dethroning Ptolemy,\n",
    "or Einstein disproving Newton,\n",
    "but respecting the fact that the theories of Galileo and Einsteins were or will be themselves falsified."
   ]
  },
  {
   "cell_type": "markdown",
   "metadata": {
    "slideshow": {
     "slide_type": "fragment"
    }
   },
   "source": [
    "To that end, we propose **null hypotheses**:\n",
    "hypotheses we wish to disprove or falsify with an experiment."
   ]
  },
  {
   "cell_type": "markdown",
   "metadata": {
    "slideshow": {
     "slide_type": "fragment"
    }
   },
   "source": [
    "> Every experiment may be said to exist only in order to give the facts a chance of disproving the null hypothesis.\n",
    "\n",
    "R.A. Fisher, _The Design of Experiments_, 1925."
   ]
  },
  {
   "cell_type": "markdown",
   "metadata": {
    "slideshow": {
     "slide_type": "subslide"
    }
   },
   "source": [
    "### A Null Hypothesis is the Hypothesis of a Skeptic"
   ]
  },
  {
   "cell_type": "markdown",
   "metadata": {
    "slideshow": {
     "slide_type": "fragment"
    }
   },
   "source": [
    "Here are a few generic null hypotheses, rendered in plain English:\n",
    "\n",
    "- There is nothing interesting happening in this data\n",
    "- There is no effect of Foo on Bar\n",
    "- The size of the effect of Foo on Bar is 0\n",
    "- Foo and Bar are unrelated"
   ]
  },
  {
   "cell_type": "markdown",
   "metadata": {
    "slideshow": {
     "slide_type": "subslide"
    }
   },
   "source": [
    "### Common Null Hypotheses"
   ]
  },
  {
   "cell_type": "markdown",
   "metadata": {
    "slideshow": {
     "slide_type": "fragment"
    }
   },
   "source": [
    "Here are some null hypotheses render slightly more technically:\n",
    "\n",
    "- The true value of this parameter is 0\n",
    "- The true difference in the value of this parameter between two groups is 0\n",
    "- The true value of this statistic is 0\n",
    "- The true value of this statistic is 1"
   ]
  },
  {
   "cell_type": "markdown",
   "metadata": {
    "slideshow": {
     "slide_type": "subslide"
    }
   },
   "source": [
    "### Proposing Null Hypotheses"
   ]
  },
  {
   "cell_type": "markdown",
   "metadata": {
    "slideshow": {
     "slide_type": "fragment"
    }
   },
   "source": [
    "Give a null hypothesis for each of the claims below:"
   ]
  },
  {
   "cell_type": "markdown",
   "metadata": {
    "slideshow": {
     "slide_type": "fragment"
    }
   },
   "source": [
    "- Individuals whose attention is not divided will perform worse at a task\n",
    "- Reaction time decreases when the dose of caffeine is increased\n",
    "- Smoking increases the risk of lung cancer"
   ]
  },
  {
   "cell_type": "markdown",
   "metadata": {
    "slideshow": {
     "slide_type": "skip"
    }
   },
   "source": [
    "Note: there is not one single answer for any of these.\n",
    "Proposing a null model often means making the same kinds of assumptions that are needed when making a real model.\n",
    "This makes it somewhat subjective, or at the very least driven by the specific problem."
   ]
  },
  {
   "cell_type": "markdown",
   "metadata": {
    "slideshow": {
     "slide_type": "subslide"
    }
   },
   "source": [
    "### Null Hypothesis Testing Cannot be Done with Basic Bootstrapping"
   ]
  },
  {
   "cell_type": "markdown",
   "metadata": {
    "slideshow": {
     "slide_type": "fragment"
    }
   },
   "source": [
    "Bootstrapping generates an estimate of the _true_ sampling distribution of a statistic."
   ]
  },
  {
   "cell_type": "markdown",
   "metadata": {
    "slideshow": {
     "slide_type": "fragment"
    }
   },
   "source": [
    "This is not the same as the sampling distribution under the null hypothesis unless the null hypothesis is true.\n",
    "But that's exactly what we're trying to test!"
   ]
  },
  {
   "cell_type": "markdown",
   "metadata": {
    "slideshow": {
     "slide_type": "fragment"
    }
   },
   "source": [
    "Bootstrapping involves resampling from our data.\n",
    "\n",
    "In order to perform an equivalent of bootstrapping for null hypothesis testing,\n",
    "we'll need to come up with a way to resample from our data _as though the null hypothesis were true_.\n",
    "\n",
    "More on that in the next lecture."
   ]
  },
  {
   "cell_type": "markdown",
   "metadata": {
    "slideshow": {
     "slide_type": "subslide"
    }
   },
   "source": [
    "### We Capture the Degree of Evidence Against the Null with the $p$-value"
   ]
  },
  {
   "cell_type": "markdown",
   "metadata": {
    "slideshow": {
     "slide_type": "fragment"
    }
   },
   "source": [
    "To compute the $p$ value,\n",
    "we look at the sampling distribution of the statistic under the null\n",
    "and compare our observed value to it.\n",
    "\n",
    "We then add up the probability of every value of the statistic that is\n",
    "as or more extreme.\n",
    "\n",
    "For a statistic that gets larger as the data gets less likely under\n",
    "the null hypothesis,\n",
    "this can be achieved with a `>=`:"
   ]
  },
  {
   "cell_type": "code",
   "execution_count": null,
   "metadata": {
    "slideshow": {
     "slide_type": "fragment"
    }
   },
   "outputs": [],
   "source": [
    "def one_tailed_p_value_from_samples(observed_value, null_sampling_dist_samples):\n",
    "    return (null_sampling_dist_samples >= observed_value).mean()"
   ]
  },
  {
   "cell_type": "markdown",
   "metadata": {
    "slideshow": {
     "slide_type": "subslide"
    }
   },
   "source": [
    "Let's presume we observed `57` heads in our experiment\n",
    "and take as our null hypothesis that the coin is fair,\n",
    "allowing us to use the samples from before as our null samples."
   ]
  },
  {
   "cell_type": "code",
   "execution_count": null,
   "metadata": {
    "slideshow": {
     "slide_type": "fragment"
    }
   },
   "outputs": [],
   "source": [
    "observed_count = 57\n",
    "observed_statistic = deviation_statistic(observed_count, 46)\n",
    "null_sampling_dist_samples = deviation_statistic(k_pymc, 46)"
   ]
  },
  {
   "cell_type": "code",
   "execution_count": null,
   "metadata": {
    "slideshow": {
     "slide_type": "subslide"
    }
   },
   "outputs": [],
   "source": [
    "f, ax = plt.subplots(figsize=(10, 6))\n",
    "sns.distplot(null_sampling_dist_samples, bins=np.arange(-0.5, 47.5), kde=False, norm_hist=True, ax=ax,\n",
    "             label=\"Sampling Distribution\\nUnder Null Hypothesis\");\n",
    "ax.vlines(observed_statistic, 0, 0.01, lw=6, label=\"observed\");\n",
    "ax.set_xlabel(\"Deviation from Expected\"); plt.ylim(1.5 * np.array(plt.ylim())); ax.legend();"
   ]
  },
  {
   "cell_type": "code",
   "execution_count": null,
   "metadata": {
    "slideshow": {
     "slide_type": "subslide"
    }
   },
   "outputs": [],
   "source": [
    "bar_heights, _ = np.histogram(null_sampling_dist_samples, bins=range(48), density=True)\n",
    "extreme_values = range(observed_statistic, 47)  # all values at least"
   ]
  },
  {
   "cell_type": "code",
   "execution_count": null,
   "metadata": {
    "slideshow": {
     "slide_type": "fragment"
    }
   },
   "outputs": [],
   "source": [
    "f, ax = plt.subplots(figsize=(14, 8))\n",
    "sns.distplot(null_sampling_dist_samples, bins=np.arange(-0.5, 47.5), kde=False, norm_hist=True, ax=ax,\n",
    "             label=\"Sampling Distribution\\nUnder Null Hypothesis\");\n",
    "ax.vlines(observed_statistic, 0, 0.01, lw=6, label=\"Observed\");\n",
    "ax.bar(extreme_values, bar_heights[extreme_values], width=1, color=\"C1\", label=\"Contributes to $p$\")\n",
    "ax.set_xlabel(\"Deviation from Expected\"); plt.ylim(1.5 * np.array(plt.ylim())); ax.legend();"
   ]
  },
  {
   "cell_type": "markdown",
   "metadata": {
    "slideshow": {
     "slide_type": "skip"
    }
   },
   "source": [
    "The area of the region in gold is the _p_ value for our observation of 57 heads,\n",
    "a deviation of 11 from the 46 predicted under the null.\n",
    "\n",
    "It gives us the probability that we'd observe a deviation at least that large,\n",
    "just by chance, under the null. The value is calculated two different ways in the cell below."
   ]
  },
  {
   "cell_type": "code",
   "execution_count": null,
   "metadata": {
    "slideshow": {
     "slide_type": "fragment"
    }
   },
   "outputs": [],
   "source": [
    "observed_p = sum(bar_heights[extreme_values])\n",
    "assert np.isclose(observed_p, one_tailed_p_value_from_samples(observed_statistic, null_sampling_dist_samples))\n",
    "\n",
    "observed_p"
   ]
  },
  {
   "cell_type": "markdown",
   "metadata": {
    "slideshow": {
     "slide_type": "subslide"
    }
   },
   "source": [
    "This value will be close to the one obtained by using the values from the mathematically-derived pmf"
   ]
  },
  {
   "cell_type": "code",
   "execution_count": null,
   "metadata": {
    "slideshow": {
     "slide_type": "fragment"
    }
   },
   "outputs": [],
   "source": [
    "null_sampling_dist_pmf_vals = pd.Series(deviation_statistic_pmf(val) for val in np.arange(46))\n",
    "f, ax = plt.subplots(figsize=(16, 6))\n",
    "ax.plot(null_sampling_dist_pmf_vals, color=\"C1\",\n",
    "        lw=2, label=\"Sampling Distribution, pmf\", marker=\".\", markersize=10);\n",
    "ax.plot(null_sampling_dist_pmf_vals[null_sampling_dist_pmf_vals.index >= observed_statistic],\n",
    "        linestyle=\"none\", markeredgecolor=\"C3\", markerfacecolor=\"none\", marker=\".\", markersize=10,\n",
    "        label=\"Contribues to $p$\"); ax.set_xlabel(\"Deviation from Expected\"); ax.legend();"
   ]
  },
  {
   "cell_type": "code",
   "execution_count": null,
   "metadata": {
    "slideshow": {
     "slide_type": "subslide"
    }
   },
   "outputs": [],
   "source": [
    "def tail_p_value_from_pmf(observed_value, null_sampling_dist_pmf, vals):\n",
    "    vals = [val for val in vals if val >= observed_value]\n",
    "    return sum(null_sampling_dist_pmf(val) for val in vals)"
   ]
  },
  {
   "cell_type": "code",
   "execution_count": null,
   "metadata": {
    "slideshow": {
     "slide_type": "fragment"
    }
   },
   "outputs": [],
   "source": [
    "tail_p_value_from_pmf(observed_statistic, deviation_statistic_pmf, range(93))"
   ]
  },
  {
   "cell_type": "markdown",
   "metadata": {
    "slideshow": {
     "slide_type": "subslide"
    }
   },
   "source": [
    "### When the Value of $p$ is Below a Threshold, we Reject the Null Hypothesis"
   ]
  },
  {
   "cell_type": "markdown",
   "metadata": {
    "slideshow": {
     "slide_type": "fragment"
    }
   },
   "source": [
    "This is a special case of the generic hypothesis testing described above.\n",
    "\n",
    "By definition, this will happen sometimes when the null hypothesis is true.\n",
    "It will happen at a rate given by the threshold we apply to $p$,\n",
    "known as the _false positive rate_ or $\\alpha$.\n",
    "\n",
    "We try to design hypothesis tests where it's _more likely_ that\n",
    "$p$ is small when the null hypothesis is false.\n",
    "The chance that $p$ is small when the null is false is known as the\n",
    "_true positive rate_ or _power_."
   ]
  },
  {
   "cell_type": "markdown",
   "metadata": {
    "slideshow": {
     "slide_type": "subslide"
    }
   },
   "source": [
    "### If we Reject the Null Hypothesis, We Say our Observed Statistic was _Statistically Significant_"
   ]
  },
  {
   "cell_type": "markdown",
   "metadata": {
    "slideshow": {
     "slide_type": "fragment"
    }
   },
   "source": [
    "Do not read any more into that statement than its definition:\n",
    "it literally only means that the null hypothesis was rejected.\n",
    "\n",
    "\"Statistically significant\" does not mean that any particular non-null hypothesis is true, or even likely.\n",
    "\n",
    "\"Statistically significant\" does not guarantee that the null hypothesis is false, it only suggests it.\n",
    "\n",
    "\"Statistically significant\" does not mean that the effect is large, or _significant_ in any practical sense."
   ]
  },
  {
   "cell_type": "markdown",
   "metadata": {
    "slideshow": {
     "slide_type": "slide"
    }
   },
   "source": [
    "## $p$-Values are Notoriously Misleading"
   ]
  },
  {
   "cell_type": "markdown",
   "metadata": {
    "slideshow": {
     "slide_type": "subslide"
    }
   },
   "source": [
    "The following are all **incorrect** interpretations of the $p$-value:\n",
    "\n",
    "### \"$p < 0.05$, therefore ...\""
   ]
  },
  {
   "cell_type": "markdown",
   "metadata": {
    "slideshow": {
     "slide_type": "fragment"
    }
   },
   "source": [
    "\"...the chance that the null hypothesis is true is less than 1 in 20.\""
   ]
  },
  {
   "cell_type": "markdown",
   "metadata": {
    "slideshow": {
     "slide_type": "fragment"
    }
   },
   "source": [
    "\"...the chance my original hypothesis is wrong is less than 1 in 20.\""
   ]
  },
  {
   "cell_type": "markdown",
   "metadata": {
    "slideshow": {
     "slide_type": "fragment"
    }
   },
   "source": [
    "\"...the chance a repeat of this experiment would get a negative result is less than 1 in 20.\""
   ]
  },
  {
   "cell_type": "markdown",
   "metadata": {
    "slideshow": {
     "slide_type": "fragment"
    }
   },
   "source": [
    "\"...a repeat of this experiment would also find $p < 0.05$.\""
   ]
  },
  {
   "cell_type": "markdown",
   "metadata": {
    "slideshow": {
     "slide_type": "subslide"
    }
   },
   "source": [
    "### $p$ _IS NOT_ the Posterior Probability of the Null Hypothesis"
   ]
  },
  {
   "cell_type": "markdown",
   "metadata": {
    "slideshow": {
     "slide_type": "skip"
    }
   },
   "source": [
    "The posterior represents our beliefs after observing data,\n",
    "e.g. the value of $p$.\n",
    "\n",
    "In order to determine our beliefs after observing the data,\n",
    "we need to specify our beliefs before observing the data,\n",
    "our prior on the null hypothesis,\n",
    "and we need to determine the likelihood of our data.\n",
    "\n",
    "Estimating this posterior with `pyMC` is a focus of this week's lab.\n",
    "\n",
    "The $p$ value gives the strength of evidence against the null hypothesis,\n",
    "but even very strong evidence is insufficient to disprove a very likely null hypothesis.\n",
    "If I'm claiming to overturn the Standard Model of physics,\n",
    "I'll require much stronger evidence than if I'm studying a new phenomenon in psychology."
   ]
  },
  {
   "cell_type": "markdown",
   "metadata": {
    "slideshow": {
     "slide_type": "subslide"
    }
   },
   "source": [
    "### $1 - p$ _IS NOT_ the Probability Another Run of the Same  Experiment would Report the Same Finding"
   ]
  },
  {
   "cell_type": "markdown",
   "metadata": {
    "slideshow": {
     "slide_type": "skip"
    }
   },
   "source": [
    "This corresponds to the third and fourth statements above.\n",
    "Such an experiment is called a _replication experiment_, and is the focus of\n",
    "\n",
    "This quantity requires us to also specify, or assume, or estimate, the prior probability of the null hypothesis\n",
    "and examine what happens when the null hypothesis is wrong."
   ]
  },
  {
   "cell_type": "markdown",
   "metadata": {
    "slideshow": {
     "slide_type": "subslide"
    }
   },
   "source": [
    "### $p$ _IS_ the Conditional Probability of Such an Extreme Statistic, Given that the Null Hypothesis is True"
   ]
  },
  {
   "cell_type": "markdown",
   "metadata": {
    "slideshow": {
     "slide_type": "skip"
    }
   },
   "source": [
    "And remember we introduced the null hypothesis with the hope of falsifying it!"
   ]
  },
  {
   "cell_type": "markdown",
   "metadata": {
    "slideshow": {
     "slide_type": "subslide"
    }
   },
   "source": [
    "### $p$ _IS_ itself a Statistic"
   ]
  },
  {
   "cell_type": "markdown",
   "metadata": {
    "slideshow": {
     "slide_type": "fragment"
    }
   },
   "source": [
    "Like any statistic, it has a sampling distribution,\n",
    "and so is different from experiment to experiment,\n",
    "just like the mean or the standard deviation.\n",
    "\n",
    "Just as we think of a \"sample mean\" and a \"sample standard deviation\",\n",
    "which vary from dataset to dataset,\n",
    "and which we distinguish from the \"true mean\" and \"true standard deviation\",\n",
    "we should recognize the $p$ value as a sample-dependent quantity."
   ]
  },
  {
   "cell_type": "markdown",
   "metadata": {
    "slideshow": {
     "slide_type": "slide"
    }
   },
   "source": [
    "## There is Nothing Intellectually Necessary About NHST"
   ]
  },
  {
   "cell_type": "markdown",
   "metadata": {
    "slideshow": {
     "slide_type": "fragment"
    }
   },
   "source": [
    "The choice to binarize things into \"falsified\" and \"not falsified\"\n",
    "is unncessary:\n",
    "we don't ever need to consider any hypothesis falsified,\n",
    "just less and less likely."
   ]
  },
  {
   "cell_type": "markdown",
   "metadata": {
    "slideshow": {
     "slide_type": "fragment"
    }
   },
   "source": [
    "Falsification is just one way of formalizing the scientific method."
   ]
  },
  {
   "cell_type": "markdown",
   "metadata": {
    "slideshow": {
     "slide_type": "skip"
    }
   },
   "source": [
    "Like the processes that science studies, science itself defies simplistic formal models:\n",
    "just as all hypotheses are only ever partially true,\n",
    "the falsification model of science is itself incomplete at best.\n",
    "\n",
    "The famous dictum that \"all models are wrong, but some are useful\" applies to falsification as a model of science."
   ]
  },
  {
   "cell_type": "markdown",
   "metadata": {
    "slideshow": {
     "slide_type": "fragment"
    }
   },
   "source": [
    "Besides being a convenient apparatus for implementing falsification,\n",
    "null hypotheses are chosen for simplicity's sake.\n",
    "There's nothing stopping you from testing,\n",
    "and choosing to reject,\n",
    "a non-null hypothesis."
   ]
  },
  {
   "cell_type": "markdown",
   "metadata": {
    "slideshow": {
     "slide_type": "fragment"
    }
   },
   "source": [
    "Methods like confidence intervals, bootstrapping, and sampling from posteriors all allow you to assign probabilities to null _and_ non-null hypotheses."
   ]
  },
  {
   "cell_type": "markdown",
   "metadata": {
    "slideshow": {
     "slide_type": "fragment"
    }
   },
   "source": [
    "`data8` avoids NHST because it's so unintuitive and, frankly, unnecessary."
   ]
  },
  {
   "cell_type": "markdown",
   "metadata": {
    "slideshow": {
     "slide_type": "subslide"
    }
   },
   "source": [
    "## But NHST is Extremely Common"
   ]
  },
  {
   "cell_type": "markdown",
   "metadata": {
    "slideshow": {
     "slide_type": "fragment"
    }
   },
   "source": [
    "For historical, technological, and psychological reasons,\n",
    "NHST based on $p$-values derived from classic statistical tests\n",
    "is an extremely common form of inference in research science,\n",
    "common enough that there is no choice but to include it in this course."
   ]
  },
  {
   "cell_type": "markdown",
   "metadata": {
    "slideshow": {
     "slide_type": "skip"
    }
   },
   "source": [
    "By psychological reasons, I mean that\n",
    "it allows researchers to \"sweep uncertainty under the rug\"\n",
    "and pretend that their results are set in stone,\n",
    "so long as they have passed a null hypothesis significance test.\n",
    "\n",
    "As might be obvious, this is an opinion,\n",
    "rather than a mathematical fact,\n",
    "but the distaste for NHST with $p$ values is\n",
    "[widespread among the current generation of statisticians](https://amstat.tandfonline.com/toc/utas20/73/sup1)."
   ]
  },
  {
   "cell_type": "markdown",
   "metadata": {
    "slideshow": {
     "slide_type": "slide"
    }
   },
   "source": [
    "## Null Hypothesis Significance Testing"
   ]
  },
  {
   "cell_type": "markdown",
   "metadata": {
    "slideshow": {
     "slide_type": "fragment"
    }
   },
   "source": [
    "0. Collect data from an experiment and compute a statistic on that data."
   ]
  },
  {
   "cell_type": "markdown",
   "metadata": {
    "slideshow": {
     "slide_type": "fragment"
    }
   },
   "source": [
    "1. Come up with a model of \"nothing interesting is happening in my data\".\n",
    "    - This model can be resampling-based, mathematical, or in `pyMC`\n",
    "    - It is called the _null model_. The hypothesis that it is true is the _null hypothesis_."
   ]
  },
  {
   "cell_type": "markdown",
   "metadata": {
    "slideshow": {
     "slide_type": "skip"
    }
   },
   "source": [
    "Mathematical models are the classical approach.\n",
    "Bootstrapping is a type of resampling, but it won't be the type we use here.\n",
    "In general, a `pyMC` model can be replaced with any _generative_ model:\n",
    "any model form which you can generate samples."
   ]
  },
  {
   "cell_type": "markdown",
   "metadata": {
    "slideshow": {
     "slide_type": "fragment"
    }
   },
   "source": [
    "2. Obtain the sampling distribution of the statistic from the model\n",
    "    - by literally sampling from it,\n",
    "        - either resampling or with `pm.sample`\n",
    "    - or by clever mathematical manipulation"
   ]
  },
  {
   "cell_type": "markdown",
   "metadata": {
    "slideshow": {
     "slide_type": "fragment"
    }
   },
   "source": [
    "3. Compare the value of the statistic observed on the data to the sampling distribution.\n",
    "   - If the observed value is \"too extreme\", the test is positive and the result is \"statistically significant\"."
   ]
  },
  {
   "cell_type": "markdown",
   "metadata": {
    "slideshow": {
     "slide_type": "slide"
    }
   },
   "source": [
    "## Modeling NHST"
   ]
  },
  {
   "cell_type": "markdown",
   "metadata": {
    "slideshow": {
     "slide_type": "subslide"
    }
   },
   "source": [
    "### To Model NHST, we need to specify a prior and a likelihood"
   ]
  },
  {
   "cell_type": "markdown",
   "metadata": {
    "slideshow": {
     "slide_type": "fragment"
    }
   },
   "source": [
    "```python\n",
    "with pm.Model() as nhst_model:\n",
    "    # prior\n",
    "    null_true = pm.?(\"null_true\", ?)\n",
    "    # likelihood (will be a function of null_true)\n",
    "    positive_result = pm.?(\"positive_result\", ?)\n",
    "```"
   ]
  },
  {
   "cell_type": "markdown",
   "metadata": {
    "slideshow": {
     "slide_type": "subslide"
    }
   },
   "source": [
    "#### Prior: What do we believe about the null?"
   ]
  },
  {
   "cell_type": "markdown",
   "metadata": {
    "slideshow": {
     "slide_type": "fragment"
    }
   },
   "source": [
    "As with any `pyMC` model, we must specify a prior.\n",
    "In this case, the prior determines our faith in the null hypothesis.\n",
    "\n",
    "There is no generic objective way to do this.\n",
    "The necessary subjectivity of this step makes it\n",
    "one of the most controversial aspects of the generative/Bayesian modeling approach,\n",
    "the one we focus on in this course."
   ]
  },
  {
   "cell_type": "markdown",
   "metadata": {
    "slideshow": {
     "slide_type": "skip"
    }
   },
   "source": [
    "Because the null is either true or false,\n",
    "we can model it as a discrete variable with two states,\n",
    "a `Bernoulli` or a `Categorical`."
   ]
  },
  {
   "cell_type": "markdown",
   "metadata": {
    "slideshow": {
     "slide_type": "subslide"
    }
   },
   "source": [
    "#### Likelihood: What happens when the null is true and when it is false?"
   ]
  },
  {
   "cell_type": "markdown",
   "metadata": {
    "slideshow": {
     "slide_type": "fragment"
    }
   },
   "source": [
    "The outcome of the test is also binary.\n",
    "\n",
    "We either reject the null, and say that the test was positive ($+$),\n",
    "or we fail to reject the null, and say that the the test was negative ($-$)."
   ]
  },
  {
   "cell_type": "markdown",
   "metadata": {
    "slideshow": {
     "slide_type": "fragment"
    }
   },
   "source": [
    "Therefore our likelihood is going to be `Bernoulli` as well.\n",
    "\n",
    "The parameter `p` of that `Bernoulli` will take on one of two different values,\n",
    "depending on whether the null is true or false.\n",
    "\n",
    "If you were writing a pure Python model of null hypothesis significance testing,\n",
    "you'd use an `if`/`else` construct to handle this:\n",
    "`if null_true`, use one value, `else` use a different one.\n",
    "\n",
    "In pyMC, the role of `if` is played by `pm.math.switch`.\n",
    "The lab contains a description of how it is used."
   ]
  },
  {
   "cell_type": "markdown",
   "metadata": {
    "slideshow": {
     "slide_type": "subslide"
    }
   },
   "source": [
    "We can visualize the likelihood for this model directlyas a table,\n",
    "since it is discrete and the number of possible values is small: $2 * 2 = 4$."
   ]
  },
  {
   "cell_type": "markdown",
   "metadata": {
    "slideshow": {
     "slide_type": "fragment"
    }
   },
   "source": [
    "<table class=\"center\">\n",
    "  <tbody>\n",
    "    <tr>\n",
    "      <th class=\"border-less\"></th>\n",
    "      <th > $$F$$ </th>\n",
    "      <th > $$T$$ </th>\n",
    "    </tr>\n",
    "    <tr>\n",
    "      <td >$$+$$</td>\n",
    "      <td style=\"background-color: rgb(0,50,98); color: white\"> True Positive Rate, Power, Sensitivity </td>\n",
    "      <td style=\"background-color: rgb(253,181,21);\"> False Positive Rate, &#945; </td>\n",
    "    </tr>\n",
    "     <tr>\n",
    "      <td >$$-$$</td>\n",
    "      <td style=\"background-color: rgb(0,50,98); color: white\"> False Negative Rate, &#946;</td>\n",
    "      <td style=\"background-color: rgb(253,181,21);\"> True Negative Rate, Specificity</td>\n",
    "    </tr>\n",
    "  </tbody>\n",
    "</table>\n"
   ]
  },
  {
   "cell_type": "markdown",
   "metadata": {
    "slideshow": {
     "slide_type": "skip"
    }
   },
   "source": [
    "A given cell in this table represents a particular combination of the state of the null hypothesis,\n",
    "$F$alse or $T$rue, and the outcome of the test, either positive ($+$) or negative ($-$).\n",
    "Inside the cell are the names that these particular conditional probabilities go by in different disciplines.\n",
    "\n",
    "The columns represent the conditional distributions of the test outcomes given the state of the null hypothesis.\n",
    "\n",
    "For more on where this table comes from, see\n",
    "[this blog post](https://charlesfrye.github.io/stats/2018/06/09/hypothesis-testing.html)."
   ]
  },
  {
   "cell_type": "markdown",
   "metadata": {
    "slideshow": {
     "slide_type": "fragment"
    }
   },
   "source": [
    "Computing the power is more difficult than computing the false positive rate, $\\alpha$,\n",
    "and typically requires the prior be specified in more detail than we have done here.\n",
    "\n",
    "For the lab this week, we will assume that the power is known.\n",
    "We will see power computations in future lectures, labs, and homeworks."
   ]
  }
 ],
 "metadata": {
  "celltoolbar": "Slideshow",
  "kernelspec": {
   "display_name": "Python 3",
   "language": "python",
   "name": "python3"
  },
  "language_info": {
   "codemirror_mode": {
    "name": "ipython",
    "version": 3
   },
   "file_extension": ".py",
   "mimetype": "text/x-python",
   "name": "python",
   "nbconvert_exporter": "python",
   "pygments_lexer": "ipython3",
   "version": "3.6.8"
  }
 },
 "nbformat": 4,
 "nbformat_minor": 2
}
