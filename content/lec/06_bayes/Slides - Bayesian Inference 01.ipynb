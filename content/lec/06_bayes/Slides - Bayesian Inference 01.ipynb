{
 "cells": [
  {
   "cell_type": "markdown",
   "metadata": {
    "slideshow": {
     "slide_type": "slide"
    }
   },
   "source": [
    "<img src=\"../../shared/img/slides_banner.svg\" width=2560></img>"
   ]
  },
  {
   "cell_type": "code",
   "execution_count": null,
   "metadata": {},
   "outputs": [],
   "source": []
  },
  {
   "cell_type": "markdown",
   "metadata": {
    "slideshow": {
     "slide_type": "-"
    }
   },
   "source": [
    "# Bayesian Inference 01 - Bayes' Rule for Binary Variables"
   ]
  },
  {
   "cell_type": "code",
   "execution_count": null,
   "metadata": {
    "slideshow": {
     "slide_type": "skip"
    }
   },
   "outputs": [],
   "source": [
    "%matplotlib inline"
   ]
  },
  {
   "cell_type": "code",
   "execution_count": null,
   "metadata": {
    "slideshow": {
     "slide_type": "skip"
    }
   },
   "outputs": [],
   "source": [
    "import sys\n",
    "\n",
    "sys.path.append(\"../../\")\n",
    "\n",
    "from shared.src import quiet\n",
    "from shared.src import seed\n",
    "from shared.src import style"
   ]
  },
  {
   "cell_type": "code",
   "execution_count": null,
   "metadata": {
    "slideshow": {
     "slide_type": "skip"
    }
   },
   "outputs": [],
   "source": [
    "from pathlib import Path\n",
    "import random\n",
    "\n",
    "import daft\n",
    "from IPython.display import HTML, Image\n",
    "import matplotlib.pyplot as plt\n",
    "import numpy as np\n",
    "import pandas as pd\n",
    "import pymc3 as pm\n",
    "import theano.tensor as tt\n",
    "import seaborn as sns\n",
    "import scipy.stats"
   ]
  },
  {
   "cell_type": "code",
   "execution_count": null,
   "metadata": {
    "slideshow": {
     "slide_type": "skip"
    }
   },
   "outputs": [],
   "source": [
    "sns.set_context(\"notebook\", font_scale=1.7)"
   ]
  },
  {
   "cell_type": "code",
   "execution_count": null,
   "metadata": {
    "slideshow": {
     "slide_type": "skip"
    }
   },
   "outputs": [],
   "source": [
    "import shared.src.utils.util as shared_util"
   ]
  },
  {
   "cell_type": "code",
   "execution_count": null,
   "metadata": {
    "slideshow": {
     "slide_type": "skip"
    }
   },
   "outputs": [],
   "source": [
    "def compare_bernoullis(bernoulli_samples, colors=None, titles=None):\n",
    "    \"\"\"Given a list of Series representing samples from a Bernoulli variable,\n",
    "    plot histograms of each Series in the list.\n",
    "    Optionally, provide a color and/or title for each histogram.\n",
    "    \n",
    "    Parameters\n",
    "    ==========\n",
    "    bernoulli_samples: list of Series or list of arrays. Each element in\n",
    "                       this list is passed to sns.distplot\n",
    "    colors : list of strings or None. If not None, use to color the histograms.\n",
    "    titles : list of strings or None. If not None, use to title the axes.\n",
    "    \n",
    "    Returns\n",
    "    =======\n",
    "    f : matplotlib Figure containing axs with histograms plotted in\n",
    "    axs : array of matplotlib Axes\n",
    "    \"\"\"\n",
    "    n_bernoullis = len(bernoulli_samples)\n",
    "    \n",
    "    f, axs = plt.subplots(figsize=(6 * n_bernoullis, 6),\n",
    "                          ncols=n_bernoullis,  sharex=True, sharey=True)\n",
    "    if n_bernoullis == 1:\n",
    "        axs = np.array([axs])\n",
    "    if colors is None:\n",
    "        colors = [None] * n_bernoullis\n",
    "    if titles is None:\n",
    "        titles = [\"\"] * n_bernoullis\n",
    "        \n",
    "    assert len(colors) == n_bernoullis, f\"provide the same number of colors as bernoulli_samples: {n_bernoullis}\"\n",
    "    assert len(titles) == n_bernoullis, f\"provide the same number of titles as bernoulli_samples: {n_bernoullis}\"\n",
    "    \n",
    "    bins = [-0.5, 0.5, 1.5]\n",
    "    kwargs = {\"kde\": False, \"bins\": bins,\n",
    "              \"norm_hist\": True, \"hist_kws\": {\"alpha\": 1, \"ec\": \"k\", \"lw\": 4}}\n",
    "    for ax, bernoulli, color, title in zip(axs, bernoulli_samples, colors, titles):\n",
    "        sns.distplot(bernoulli, **kwargs, color=color, ax=ax);\n",
    "        ax.set_xlabel(\"\")\n",
    "        ax.set_title(title)\n",
    "        ax.set_ylim(0, 1.1)\n",
    "\n",
    "    [ax.set_xticks([0, 1]) for ax in axs]\n",
    "    [ax.set_xticklabels([\"0\", \"1\"]) for ax in axs];\n",
    "    return f, axs"
   ]
  },
  {
   "cell_type": "code",
   "execution_count": null,
   "metadata": {
    "slideshow": {
     "slide_type": "skip"
    }
   },
   "outputs": [],
   "source": [
    "def add_arrow_chain(prior1, ax):\n",
    "    posterior1 = posterior_given_passing(prior1)\n",
    "    ax.arrow(prior1, posterior1, (posterior1 - prior1) * 0.67, 0, lw=4, head_width=0.02, color=\"k\")\n",
    "    \n",
    "    prior2 = posterior1\n",
    "    posterior2 = posterior_given_passing(prior2)\n",
    "    \n",
    "    ax.vlines([prior1, prior2], [prior1, prior2], [posterior1, posterior2], lw=4, color=\"C3\");"
   ]
  },
  {
   "cell_type": "markdown",
   "metadata": {
    "slideshow": {
     "slide_type": "slide"
    }
   },
   "source": [
    "# Bayes' Rule"
   ]
  },
  {
   "cell_type": "markdown",
   "metadata": {
    "slideshow": {
     "slide_type": "subslide"
    }
   },
   "source": [
    "Previously, we derived Bayes' Rule,\n",
    "for relating conditional probabilities to one another,\n",
    "for \"inverting\" a conditional probability statement:"
   ]
  },
  {
   "cell_type": "markdown",
   "metadata": {
    "slideshow": {
     "slide_type": "fragment"
    }
   },
   "source": [
    "$$\n",
    "p(A \\vert B) \\ \\ \\ \\overleftrightarrow{\\text{Bayes}} \\ \\ \\ p(B \\vert A)\n",
    "$$"
   ]
  },
  {
   "cell_type": "markdown",
   "metadata": {
    "slideshow": {
     "slide_type": "subslide"
    }
   },
   "source": [
    "The important special case of this rule that was considered last week\n",
    "was the relationship between a hypothesis and data that provided evidence about that hypothesis:"
   ]
  },
  {
   "cell_type": "markdown",
   "metadata": {
    "slideshow": {
     "slide_type": "fragment"
    }
   },
   "source": [
    "$$\n",
    "p(\\text{hypothesis}\\vert \\text{data}) = \\frac{p(\\text{data}\\vert \\text{hypothesis}) p(\\text{hypothesis})}{p(\\text{data})}\n",
    "$$"
   ]
  },
  {
   "cell_type": "markdown",
   "metadata": {
    "slideshow": {
     "slide_type": "skip"
    }
   },
   "source": [
    "The left term in the numerator is the _likelihood_:\n",
    "typically, our data is fixed, and we vary the hypothesis,\n",
    "obtaining the probability we would observe the data we did observe,\n",
    "for each hypothesis we consider.\n",
    "\n",
    "When we build a model,\n",
    "this is the piece that relates unknown quantities,\n",
    "like the true mean of the population,\n",
    "to quantities we can observe, like the value on a sample.\n",
    "\n",
    "Note how much easier it is to specify this direction of conditional probability\n",
    "than the other way around.\n",
    "\n",
    "For example: if I know that an animal is a cat, rather than a dog,\n",
    "I can guess its weight.\n",
    "But if I know an animal's weight, I need to think quite a bit harder\n",
    "to determine whether its a dog or a cat."
   ]
  },
  {
   "cell_type": "markdown",
   "metadata": {
    "slideshow": {
     "slide_type": "skip"
    }
   },
   "source": [
    "The right term in the numerator is the _prior_:\n",
    "the probability we assign to the hypothesis,\n",
    "having not seen any data.\n",
    "\n",
    "When we build a model,\n",
    "this is the piece that captures the knowledge we bring to the problem\n",
    "from our experience, from the scientific literature, or by assumption."
   ]
  },
  {
   "cell_type": "markdown",
   "metadata": {
    "slideshow": {
     "slide_type": "subslide"
    }
   },
   "source": [
    "Recall that, for pyMC to work,\n",
    "we don't need to specify the denominator:\n",
    "we only need to know the probability of the hypothesis\n",
    "\"up to a proportionality constant\"."
   ]
  },
  {
   "cell_type": "markdown",
   "metadata": {
    "slideshow": {
     "slide_type": "fragment"
    }
   },
   "source": [
    "$$\n",
    "p(\\text{hypothesis}\\vert \\text{data}) \\propto p(\\text{data}\\vert \\text{hypothesis}) p(\\text{hypothesis})\n",
    "$$"
   ]
  },
  {
   "cell_type": "markdown",
   "metadata": {
    "slideshow": {
     "slide_type": "slide"
    }
   },
   "source": [
    "# Bayes' Rule and Binary Hypothesis Testing"
   ]
  },
  {
   "cell_type": "markdown",
   "metadata": {
    "slideshow": {
     "slide_type": "fragment"
    }
   },
   "source": [
    "In last week's lab, we were even more specific:\n",
    "we focused in on the case where the \"data\" we observe is just the result of a statistical test:"
   ]
  },
  {
   "cell_type": "markdown",
   "metadata": {
    "slideshow": {
     "slide_type": "fragment"
    }
   },
   "source": [
    "$$\n",
    "p(\\text{hypothesis}\\vert \\text{test result}) = \\frac{p(\\text{test result}\\vert \\text{hypothesis}) p(\\text{hypothesis})}{p(\\text{test result})}\n",
    "$$"
   ]
  },
  {
   "cell_type": "markdown",
   "metadata": {
    "slideshow": {
     "slide_type": "subslide"
    }
   },
   "source": [
    "## $ p(\\text{hypothesis})$"
   ]
  },
  {
   "cell_type": "markdown",
   "metadata": {
    "slideshow": {
     "slide_type": "fragment"
    }
   },
   "source": [
    "This is the _prior_ component of our model."
   ]
  },
  {
   "cell_type": "code",
   "execution_count": null,
   "metadata": {
    "slideshow": {
     "slide_type": "fragment"
    }
   },
   "outputs": [],
   "source": [
    "prior_on_null = 0.5"
   ]
  },
  {
   "cell_type": "markdown",
   "metadata": {
    "slideshow": {
     "slide_type": "skip"
    }
   },
   "source": [
    "In the lab, we said that we thought there was a 50% chance that the null was true."
   ]
  },
  {
   "cell_type": "markdown",
   "metadata": {
    "slideshow": {
     "slide_type": "subslide"
    }
   },
   "source": [
    "## $ p(\\text{test result}\\vert \\text{hypothesis})$"
   ]
  },
  {
   "cell_type": "markdown",
   "metadata": {
    "slideshow": {
     "slide_type": "fragment"
    }
   },
   "source": [
    "This is the _likelihood_ component of our model."
   ]
  },
  {
   "cell_type": "markdown",
   "metadata": {
    "slideshow": {
     "slide_type": "skip"
    }
   },
   "source": [
    "The state of the null hypothesis determines which column we are in in this table.\n",
    "Remember that this is generally unknown, even unknowable!\n",
    "\n",
    "The output of the statistical test determines which row.\n",
    "This is the component that we actually know."
   ]
  },
  {
   "cell_type": "markdown",
   "metadata": {
    "slideshow": {
     "slide_type": "fragment"
    }
   },
   "source": [
    "\n",
    "<table class=\"center\">\n",
    "  <tbody>\n",
    "    <tr>\n",
    "      <th class=\"border-less\"></th>\n",
    "        <th > <font size=\"+2\"> $$ p(\\text{result}\\vert \\text{hypothesis}=T)$$ </font></th>\n",
    "        <th > <font size=\"+2\"> $$ p(\\text{result}\\vert \\text{hypothesis}=F)$$ </font></th>\n",
    "    </tr>\n",
    "    <tr>\n",
    "        <td ><font size=\"+2\"> $$+$$ </font></td>\n",
    "      <td style=\"background-color: rgb(0,50,98); color: white\"> <font size=\"+2\"> True Positive Rate, Power, Sensitivity </font> </td>\n",
    "      <td style=\"background-color: rgb(253,181,21);\"> <font size=\"+2\"> False Positive Rate, &#945; </font> </td>\n",
    "    </tr>\n",
    "     <tr>\n",
    "         <td ><font size=\"+2\"> $$-$$</font></td>\n",
    "      <td style=\"background-color: rgb(0,50,98); color: white\"> <font size=\"+2\"> False Negative Rate, &#946; </font></td>\n",
    "      <td style=\"background-color: rgb(253,181,21);\"> <font size=\"+2\"> True Negative Rate, Specificity </font> </td>\n",
    "    </tr>\n",
    "  </tbody>\n",
    "</table>\n",
    "</font>\n"
   ]
  },
  {
   "cell_type": "markdown",
   "metadata": {
    "slideshow": {
     "slide_type": "skip"
    }
   },
   "source": [
    "Color indicates the components that are probability distributions: they add up to 1.\n",
    "The columns of this table are probability distributions, and so add up to 1.\n",
    "\n",
    "The rows of this table for our model do not add up to 1,\n",
    "and they shouldn't, in general.\n",
    "\n",
    "Since we think of our data\n",
    "(in this case, the output of the statistical test)\n",
    "as being fixed and compare the choices of the value of the unknown\n",
    "(in this case, the truth value of the null hypothesis),\n",
    "we are usually in the case where we are moving within a row of this table,\n",
    "rather than within a column.\n",
    "\n",
    "That's why this component has the name _likelihood_,\n",
    "more specificially _data likelihood_,\n",
    "rather than anything involving the word \"probability\",\n",
    "as in _prior probability_ and _posterior probability_:\n",
    "probabilities add up to 1."
   ]
  },
  {
   "cell_type": "markdown",
   "metadata": {
    "slideshow": {
     "slide_type": "fragment"
    }
   },
   "source": [
    "These are both binary variables, so we can model them as `Bernoulli`s and need to specify a value for `p` for each:"
   ]
  },
  {
   "cell_type": "code",
   "execution_count": null,
   "metadata": {
    "slideshow": {
     "slide_type": "fragment"
    }
   },
   "outputs": [],
   "source": [
    "alpha = 0.05; power = 0.3"
   ]
  },
  {
   "cell_type": "markdown",
   "metadata": {
    "slideshow": {
     "slide_type": "skip"
    }
   },
   "source": [
    "These values were used in the lab.\n",
    "\n",
    "The value of `alpha`, remember, is determined by our cutoff on the $p$ statistic.\n",
    "\n",
    "The value of `power` is trickier to determine, and ranges from `0.3` for small, noisy studies,\n",
    "as are common in many branches of biology, including neuroscience,\n",
    "up to `0.8` or `0.9` or higher for large, well-controlled studies,\n",
    "like clinical trials."
   ]
  },
  {
   "cell_type": "markdown",
   "metadata": {
    "slideshow": {
     "slide_type": "subslide"
    }
   },
   "source": [
    "## We Can Almost Never Write Down a Table, But We Can Almost Always Write Down a Model"
   ]
  },
  {
   "cell_type": "code",
   "execution_count": null,
   "metadata": {
    "slideshow": {
     "slide_type": "fragment"
    }
   },
   "outputs": [],
   "source": [
    "with pm.Model() as science_model_positive_result:\n",
    "    null_true = pm.Bernoulli(\"null_true\", p=prior_on_null)\n",
    "    positive_result = pm.Bernoulli(\"positive_result\",\n",
    "                                   p=pm.math.switch(null_true, alpha, power), observed=1,\n",
    "                                   dtype=\"int64\")"
   ]
  },
  {
   "cell_type": "markdown",
   "metadata": {
    "slideshow": {
     "slide_type": "skip"
    }
   },
   "source": [
    "Depending on the context, this will be called a\n",
    "- _`pyMC` model_, when we want to emphasize the concrete implementation\n",
    "- _generative model_, when we want to emphasize the abstract concept\n",
    "\n",
    "Some terms you might hear elsewhere:\n",
    "- _Bayesian model_, _Bayesian network_, _graphical model_, _probabilistic program_, _directed acylic graph_ (DAG)"
   ]
  },
  {
   "cell_type": "markdown",
   "metadata": {
    "slideshow": {
     "slide_type": "subslide"
    }
   },
   "source": [
    "When we want to ask questions of the model,\n",
    "we draw samples from it."
   ]
  },
  {
   "cell_type": "markdown",
   "metadata": {
    "slideshow": {
     "slide_type": "skip"
    }
   },
   "source": [
    "Any technique for statistical estimation based on simulating random samples is a _Monte Carlo_ technique.\n",
    "\n",
    "For example, bootstrapping is also a Monte Carlo technique."
   ]
  },
  {
   "cell_type": "code",
   "execution_count": null,
   "metadata": {
    "slideshow": {
     "slide_type": "fragment"
    }
   },
   "outputs": [],
   "source": [
    "samples_from_prior = pm.sample_prior_predictive(model=science_model_positive_result)"
   ]
  },
  {
   "cell_type": "code",
   "execution_count": null,
   "metadata": {
    "slideshow": {
     "slide_type": "fragment"
    }
   },
   "outputs": [],
   "source": [
    "samples_from_prior"
   ]
  },
  {
   "cell_type": "code",
   "execution_count": null,
   "metadata": {
    "slideshow": {
     "slide_type": "fragment"
    }
   },
   "outputs": [],
   "source": [
    "samples_from_prior_df = shared_util.samples_to_dataframe(samples_from_prior)"
   ]
  },
  {
   "cell_type": "markdown",
   "metadata": {
    "slideshow": {
     "slide_type": "skip"
    }
   },
   "source": [
    "`sample_prior_predictive` produces a dictionary,\n",
    "as does `sample_posterior_predictive`,\n",
    "while `pm.sample` produces something else called a `MultiTrace`.\n",
    "\n",
    "For most of our analysis, we want to think of these all as _samples_,\n",
    "so we convert to one datatype, a pandas `DataFrame`."
   ]
  },
  {
   "cell_type": "code",
   "execution_count": null,
   "metadata": {
    "slideshow": {
     "slide_type": "fragment"
    }
   },
   "outputs": [],
   "source": [
    "print(samples_from_prior_df.head())"
   ]
  },
  {
   "cell_type": "code",
   "execution_count": null,
   "metadata": {
    "slideshow": {
     "slide_type": "subslide"
    }
   },
   "outputs": [],
   "source": [
    "null_true_selector = samples_from_prior_df[\"null_true\"].astype(bool)\n",
    "null_false_selector = -null_true_selector"
   ]
  },
  {
   "cell_type": "markdown",
   "metadata": {
    "slideshow": {
     "slide_type": "skip"
    }
   },
   "source": [
    "Note: pyMC works exclusively with numbers.\n",
    "Variable values cannot be `bool`eans or `str`ings,\n",
    "only things like `int`s and `float`s.\n",
    "\n",
    "`pandas`, on the other hand, uses `bool`eans and `str`ings quite a lot,\n",
    "and so you'll need to interconvert between the two.\n",
    "\n",
    "This will come up when using data from `pandas` as\n",
    "the observed values in pyMC,\n",
    "e.g. in this week's lab."
   ]
  },
  {
   "cell_type": "code",
   "execution_count": null,
   "metadata": {
    "slideshow": {
     "slide_type": "subslide"
    }
   },
   "outputs": [],
   "source": [
    "compare_bernoullis(\n",
    "    [samples_from_prior_df[\"positive_result\"].loc[null_false_selector],\n",
    "     samples_from_prior_df[\"positive_result\"].loc[null_true_selector]],\n",
    "    colors=[\"C0\", \"C1\"], titles=[\n",
    "        \"Null Hypothesis False:\\n $P(R\\\\vert H_0=$False$)$\",\n",
    "        \"Null Hypothesis True:\\n $P(R\\\\vert H_0=$True$)$\"]);"
   ]
  },
  {
   "cell_type": "markdown",
   "metadata": {
    "slideshow": {
     "slide_type": "fragment"
    }
   },
   "source": [
    "\n",
    "<table class=\"center\">\n",
    "  <tbody>\n",
    "    <tr>\n",
    "      <th class=\"border-less\"></th>\n",
    "        <th > <font size=\"+1\"> $$F$$ </font> </th>\n",
    "        <th > <font size=\"+1\"> $$T$$ </font> </th>\n",
    "    </tr>\n",
    "    <tr>\n",
    "        <td > <font size=\"+2\"> $$+$$ </font></td>\n",
    "      <td style=\"background-color: rgb(0,50,98); color: white\"> <font size=\"+2\"> True Positive Rate, Power, Sensitivity </font> </td>\n",
    "      <td style=\"background-color: rgb(253,181,21);\"> <font size=\"+2\"> False Positive Rate, &#945; </font> </td>\n",
    "    </tr>\n",
    "     <tr>\n",
    "         <td ><font size=\"+2\"> $$-$$ </font></td>\n",
    "      <td style=\"background-color: rgb(0,50,98); color: white\"> <font size=\"+2\"> False Negative Rate, &#946; </font></td>\n",
    "      <td style=\"background-color: rgb(253,181,21);\"> <font size=\"+2\"> True Negative Rate, Specificity </font> </td>\n",
    "    </tr>\n",
    "  </tbody>\n",
    "</table>\n",
    "</font>\n"
   ]
  },
  {
   "cell_type": "markdown",
   "metadata": {
    "slideshow": {
     "slide_type": "subslide"
    }
   },
   "source": [
    "## Bayes and Bugs"
   ]
  },
  {
   "cell_type": "markdown",
   "metadata": {
    "slideshow": {
     "slide_type": "skip"
    }
   },
   "source": [
    "Now, let's do another example, also with binary variables."
   ]
  },
  {
   "cell_type": "code",
   "execution_count": null,
   "metadata": {
    "slideshow": {
     "slide_type": "fragment"
    }
   },
   "outputs": [],
   "source": [
    "HTML(filename=\"data/debug_tweet.html\")"
   ]
  },
  {
   "cell_type": "markdown",
   "metadata": {
    "slideshow": {
     "slide_type": "subslide"
    }
   },
   "source": [
    "When we write code, we aim for it to have no bugs."
   ]
  },
  {
   "cell_type": "markdown",
   "metadata": {
    "slideshow": {
     "slide_type": "fragment"
    }
   },
   "source": [
    "To try and ensure this,\n",
    "we write tests and check whether the code passes those tests."
   ]
  },
  {
   "cell_type": "markdown",
   "metadata": {
    "slideshow": {
     "slide_type": "fragment"
    }
   },
   "source": [
    "If a chunk of code fails a test,\n",
    "then we know there's a bug."
   ]
  },
  {
   "cell_type": "markdown",
   "metadata": {
    "slideshow": {
     "slide_type": "skip"
    }
   },
   "source": [
    "Presuming our tests don't have bugs! Remember [Cromwell's Rule](https://en.wikipedia.org/wiki/Cromwell%27s_rule)."
   ]
  },
  {
   "cell_type": "markdown",
   "metadata": {
    "slideshow": {
     "slide_type": "subslide"
    }
   },
   "source": [
    "But in Python, even if we've got really good tests,\n",
    "there's still a chance a bug slips through."
   ]
  },
  {
   "cell_type": "markdown",
   "metadata": {
    "slideshow": {
     "slide_type": "skip"
    }
   },
   "source": [
    "Some other languages can make guarantees, of a sort,\n",
    "that certain kinds of bugs are not present."
   ]
  },
  {
   "cell_type": "markdown",
   "metadata": {
    "slideshow": {
     "slide_type": "fragment"
    }
   },
   "source": [
    "So the inferential question here is:\n",
    "if I write code that passes all my tests,\n",
    "what's the chance that it has no bugs?"
   ]
  },
  {
   "cell_type": "markdown",
   "metadata": {
    "slideshow": {
     "slide_type": "fragment"
    }
   },
   "source": [
    "### $$ p(\\text{no bugs}\\vert \\text{pass tests}) = 🤔$$ "
   ]
  },
  {
   "cell_type": "markdown",
   "metadata": {
    "slideshow": {
     "slide_type": "fragment"
    }
   },
   "source": [
    "That is, what should I _believe_ about the bugginess of my code,\n",
    "_after_ I've passed the tests.\n",
    "\n",
    "It's intuitive that this depends on what kinds of code I tend to write\n",
    "and how good my tests are."
   ]
  },
  {
   "cell_type": "markdown",
   "metadata": {
    "slideshow": {
     "slide_type": "subslide"
    }
   },
   "source": [
    "As we'll see,\n",
    "if we just write out Bayes' Rule\n",
    "and start filling it in,\n",
    "those two intuitions will pop out."
   ]
  },
  {
   "cell_type": "markdown",
   "metadata": {
    "slideshow": {
     "slide_type": "fragment"
    }
   },
   "source": [
    "$$\n",
    "p(\\text{no bugs}\\vert \\text{pass tests}) = \\frac{p(\\text{pass tests}\\vert \\text{no bugs}) p(\\text{no bugs})}{p(\\text{pass tests})}\n",
    "$$"
   ]
  },
  {
   "cell_type": "markdown",
   "metadata": {
    "slideshow": {
     "slide_type": "fragment"
    }
   },
   "source": [
    "Afterwards, we'll compare our answer to pyMC's results.\n",
    "\n",
    "The \"direct\" method we use here won't scale\n",
    "to bigger, more complicated problems,\n",
    "but pyMC will."
   ]
  },
  {
   "cell_type": "markdown",
   "metadata": {
    "slideshow": {
     "slide_type": "skip"
    }
   },
   "source": [
    "At least to a certain extent.\n",
    "\n",
    "There are, of course, problems too big for any approach.\n",
    "For Bayesian Monte Carlo methods like pyMC,\n",
    "some of those problems are practical applications,\n",
    "like images and video.\n",
    "\n",
    "But for statistical inference\n",
    "of the kind most often done in research psychology,\n",
    "Bayesian Monte Carlo will scale well enough to do the job."
   ]
  },
  {
   "cell_type": "markdown",
   "metadata": {
    "slideshow": {
     "slide_type": "fragment"
    }
   },
   "source": [
    "This example comes from\n",
    "[Chapter 1](https://nbviewer.jupyter.org/github/CamDavidsonPilon/Probabilistic-Programming-and-Bayesian-Methods-for-Hackers/blob/master/Chapter1_Introduction/Ch1_Introduction_PyMC3.ipynb)\n",
    "of the GitHub textbook\n",
    "[Bayesian Methods for Hackers](https://github.com/CamDavidsonPilon/Probabilistic-Programming-and-Bayesian-Methods-for-Hackers),\n",
    "one of the core inspirations for this class."
   ]
  },
  {
   "cell_type": "markdown",
   "metadata": {
    "slideshow": {
     "slide_type": "subslide"
    }
   },
   "source": [
    "### Prior: $ p(\\text{no bugs}) $"
   ]
  },
  {
   "cell_type": "markdown",
   "metadata": {
    "slideshow": {
     "slide_type": "fragment"
    }
   },
   "source": [
    "This is the chance that the code I have written, without testing it,\n",
    "has no bugs in it.\n",
    "\n",
    "It expresses my beliefs about my code, before I have observed the results of tests."
   ]
  },
  {
   "cell_type": "markdown",
   "metadata": {
    "slideshow": {
     "slide_type": "skip"
    }
   },
   "source": [
    "In real life, this prior wouldn't be so simple:\n",
    "if the code were more complicated,\n",
    "the prior probability would be lower,\n",
    "while if it were less complicated,\n",
    "or I had worked on it with a friend,\n",
    "the prior probability might be higher.\n",
    "\n",
    "You might even start to think of it as a function of other variables,\n",
    "some of which you can measure and some of which you can't."
   ]
  },
  {
   "cell_type": "code",
   "execution_count": null,
   "metadata": {
    "slideshow": {
     "slide_type": "fragment"
    }
   },
   "outputs": [],
   "source": [
    "prior_no_bugs = 0.2"
   ]
  },
  {
   "cell_type": "markdown",
   "metadata": {
    "slideshow": {
     "slide_type": "fragment"
    }
   },
   "source": [
    "Below, this will be denoted $p_n$."
   ]
  },
  {
   "cell_type": "markdown",
   "metadata": {
    "slideshow": {
     "slide_type": "subslide"
    }
   },
   "source": [
    "### Likelihood: $ p(\\text{pass tests} \\lvert \\text{no bugs}) $"
   ]
  },
  {
   "cell_type": "markdown",
   "metadata": {
    "slideshow": {
     "slide_type": "fragment"
    }
   },
   "source": [
    "This component relates one variable's value to the distribution over another variable's possible values."
   ]
  },
  {
   "cell_type": "markdown",
   "metadata": {
    "slideshow": {
     "slide_type": "skip"
    }
   },
   "source": [
    "Most often, it relates the value of a variable we _cannot_ observe\n",
    "to a distribution over the values of a variable we _can_ observe."
   ]
  },
  {
   "cell_type": "markdown",
   "metadata": {
    "slideshow": {
     "slide_type": "fragment"
    }
   },
   "source": [
    "\n",
    "<table class=\"center\">\n",
    "  <tbody>\n",
    "    <tr>\n",
    "      <th class=\"border-less\"></th>\n",
    "        <th > <font size=\"+1\"> No Bugs </font> </th>\n",
    "      <th > <font size=\"+1\"> Some Bugs </font> </th>\n",
    "    </tr>\n",
    "    <tr>\n",
    "        <td > <font size=\"+1\"> Pass </font></td>\n",
    "      <td style=\"background-color: rgb(0,50,98); color: white\"> <font size=\"+2\"> 1 </font> </td>\n",
    "      <td style=\"background-color: rgb(253,181,21);\"> <font size=\"+2\"> 0.5 </font> </td>\n",
    "    </tr>\n",
    "     <tr>\n",
    "      <td ><font size=\"+1\"> Fail </font></td>\n",
    "      <td style=\"background-color: rgb(0,50,98); color: white\"> <font size=\"+2\"> 0 </font></td>\n",
    "      <td style=\"background-color: rgb(253,181,21);\"> <font size=\"+2\"> 0.5 </font> </td>\n",
    "    </tr>\n",
    "  </tbody>\n",
    "</table>\n",
    "</font>\n"
   ]
  },
  {
   "cell_type": "code",
   "execution_count": null,
   "metadata": {
    "slideshow": {
     "slide_type": "fragment"
    }
   },
   "outputs": [],
   "source": [
    "def tests_likelihood(observation, truth_about_code):\n",
    "    if observation == \"pass tests\":\n",
    "        if truth_about_code == \"no bugs\":\n",
    "            return 1\n",
    "        elif truth_about_code == \"some bugs\":\n",
    "            return 0.5\n",
    "        \n",
    "    if observation == \"fail tests\":\n",
    "        if truth_about_code == \"no bugs\":\n",
    "            return 0\n",
    "        elif truth_about_code == \"some bugs\":\n",
    "            return 0.5"
   ]
  },
  {
   "cell_type": "markdown",
   "metadata": {
    "slideshow": {
     "slide_type": "skip"
    }
   },
   "source": [
    "This code implements a \"look-up table\"\n",
    "for the likelihood above.\n",
    "\n",
    "You might think of all of the likelihoods in all of our models as being\n",
    "just big, fast versions of a look-up table like this one:\n",
    "given a value for the parameters (bugs or no bugs)\n",
    "and the observations (pass or fail),\n",
    "they return a probability."
   ]
  },
  {
   "cell_type": "markdown",
   "metadata": {
    "slideshow": {
     "slide_type": "subslide"
    }
   },
   "source": [
    "We are only interested in what happens if the code passes the tests,\n",
    "so we can make a simple function that only looks at a \"row\" of the table."
   ]
  },
  {
   "cell_type": "code",
   "execution_count": null,
   "metadata": {
    "slideshow": {
     "slide_type": "fragment"
    }
   },
   "outputs": [],
   "source": [
    "def likelihood_test_passed(truth_about_code):\n",
    "    return tests_likelihood(\"pass tests\", truth_about_code)"
   ]
  },
  {
   "cell_type": "code",
   "execution_count": null,
   "metadata": {
    "slideshow": {
     "slide_type": "fragment"
    }
   },
   "outputs": [],
   "source": [
    "likelihood_test_passed(\"no bugs\") + likelihood_test_passed(\"some bugs\")"
   ]
  },
  {
   "cell_type": "markdown",
   "metadata": {
    "slideshow": {
     "slide_type": "subslide"
    }
   },
   "source": [
    "### Normalizing Factor: $p(\\text{pass tests})$"
   ]
  },
  {
   "cell_type": "markdown",
   "metadata": {
    "slideshow": {
     "slide_type": "fragment"
    }
   },
   "source": [
    "This is also called the _marginal probability of the observations_."
   ]
  },
  {
   "cell_type": "markdown",
   "metadata": {
    "slideshow": {
     "slide_type": "fragment"
    }
   },
   "source": [
    "$$\n",
    "p(\\text{pass tests}) = p(\\text{pass tests}\\ ,\\ \\text{no bugs}) + p(\\text{pass tests}\\ ,\\ \\text{some bugs})\n",
    "$$"
   ]
  },
  {
   "cell_type": "markdown",
   "metadata": {
    "slideshow": {
     "slide_type": "skip"
    }
   },
   "source": [
    "The chance that we pass the tests is\n",
    "\n",
    "- the chance we pass the tests and there are no bugs PLUS\n",
    "- the chance we pass the tests and there are some bugs\n",
    "\n",
    "We could have instead written it as\n",
    "\n",
    "- the chance we pass the tests and [Mercury is in retrograde](https://www.ismercuryinretrograde.com/) PLUS\n",
    "- the chance we pass the tests and Mercurcy is not in retrograde\n",
    "\n",
    "since the only thing that matters is that we break the probabiity down\n",
    "in terms of two mutually exclusive events.\n",
    "\n",
    "But using the behavior of Mercury wouldn't give us\n",
    "a useful way of breaking down the number we're trying to calculate,\n",
    "whereas the way we chose gives us,\n",
    "by applying the rule $p(x,y) = p(x\\vert y)p(y)$ twice:"
   ]
  },
  {
   "cell_type": "markdown",
   "metadata": {
    "slideshow": {
     "slide_type": "fragment"
    }
   },
   "source": [
    "$$\n",
    "p(\\text{pass tests}) = p(\\text{pass tests}\\vert \\text{no bugs}) p(\\text{no bugs}) + p(\\text{pass tests}\\vert \\text{some bugs}) p(\\text{some bugs})\n",
    "$$"
   ]
  },
  {
   "cell_type": "markdown",
   "metadata": {
    "slideshow": {
     "slide_type": "skip"
    }
   },
   "source": [
    "These are all numbers from our likelihood and prior!\n",
    "\n",
    "And indeed, once you have a likelihood and a prior,\n",
    "nothing in principle is stopping you from calculating\n",
    "this normalization factor.\n",
    "\n",
    "For us,\n",
    "the numbers are:"
   ]
  },
  {
   "cell_type": "markdown",
   "metadata": {
    "slideshow": {
     "slide_type": "fragment"
    }
   },
   "source": [
    "$$\n",
    "p(\\text{pass tests}) = 1 \\cdot p_n + 0.5 \\cdot (1 - p_n)\n",
    "$$"
   ]
  },
  {
   "cell_type": "markdown",
   "metadata": {
    "slideshow": {
     "slide_type": "skip"
    }
   },
   "source": [
    "Which we calculate in Python as"
   ]
  },
  {
   "cell_type": "code",
   "execution_count": null,
   "metadata": {
    "slideshow": {
     "slide_type": "subslide"
    }
   },
   "outputs": [],
   "source": [
    "prior_some_bugs = 1 - prior_no_bugs\n",
    "\n",
    "normalizing_factor = likelihood_test_passed(\"no bugs\") * prior_no_bugs\\\n",
    "    + likelihood_test_passed(\"some bugs\") * prior_some_bugs"
   ]
  },
  {
   "cell_type": "code",
   "execution_count": null,
   "metadata": {
    "slideshow": {
     "slide_type": "fragment"
    }
   },
   "outputs": [],
   "source": [
    "normalizing_factor"
   ]
  },
  {
   "cell_type": "markdown",
   "metadata": {
    "slideshow": {
     "slide_type": "skip"
    }
   },
   "source": [
    "This example is a bit deceptive:\n",
    "with more complicated discrete models, the number of things we need to add together grows very rapidly.\n",
    "With continuous variables, the sum becomes an integral, and those are very hard in general.\n",
    "With complicated continuous models, the result is a high dimensional integral,\n",
    "for which we have very limited mathematical tools.\n",
    "\n",
    "So even though it's possible to do, in theory,\n",
    "it is impractical, and so pyMC is built specifically to avoid computing it."
   ]
  },
  {
   "cell_type": "markdown",
   "metadata": {
    "slideshow": {
     "slide_type": "subslide"
    }
   },
   "source": [
    "### Posterior: $p(\\text{no bugs}\\vert \\text{pass tests})$"
   ]
  },
  {
   "cell_type": "markdown",
   "metadata": {
    "slideshow": {
     "slide_type": "fragment"
    }
   },
   "source": [
    "This is what we were actually interested in."
   ]
  },
  {
   "cell_type": "markdown",
   "metadata": {
    "slideshow": {
     "slide_type": "fragment"
    }
   },
   "source": [
    "### $$ p(\\text{no bugs}\\vert \\text{pass tests}) = 🤔$$ "
   ]
  },
  {
   "cell_type": "markdown",
   "metadata": {
    "slideshow": {
     "slide_type": "subslide"
    }
   },
   "source": [
    "Unlike the majority of cases,\n",
    "in this one we can actually calculate the posterior directly by hand,\n",
    "using the quantities above."
   ]
  },
  {
   "cell_type": "markdown",
   "metadata": {
    "slideshow": {
     "slide_type": "skip"
    }
   },
   "source": [
    "We begin by writing out Bayes' Rule:"
   ]
  },
  {
   "cell_type": "markdown",
   "metadata": {
    "slideshow": {
     "slide_type": "fragment"
    }
   },
   "source": [
    "$$\\begin{align}\n",
    "p(\\text{no bugs}\\vert \\text{pass tests}) &= \\frac{p(\\text{pass tests}\\vert \\text{no bugs})p(\\text{no bugs})}{ p(\\text{pass tests})}\n",
    "\\end{align}$$"
   ]
  },
  {
   "cell_type": "markdown",
   "metadata": {
    "slideshow": {
     "slide_type": "skip"
    }
   },
   "source": [
    "then we plug in the numbers"
   ]
  },
  {
   "cell_type": "markdown",
   "metadata": {
    "slideshow": {
     "slide_type": "fragment"
    }
   },
   "source": [
    "$$\\begin{align}\n",
    "p(\\text{no bugs}\\vert \\text{pass tests}) &= \\frac{1 \\cdot p_n}{ 1 \\cdot p_n + 0.5 \\cdot (1 - p_n)}\n",
    "\\end{align}$$"
   ]
  },
  {
   "cell_type": "markdown",
   "metadata": {
    "slideshow": {
     "slide_type": "skip"
    }
   },
   "source": [
    "and simplify:"
   ]
  },
  {
   "cell_type": "markdown",
   "metadata": {
    "slideshow": {
     "slide_type": "fragment"
    }
   },
   "source": [
    "$$\\begin{align}\n",
    "p(\\text{no bugs}\\vert \\text{pass tests}) &= \\frac{2 p_n}{2 p_n +(1 - p_n)}\\\\\n",
    "&= \\frac{2 p_n}{ p_n + 1}\n",
    "\\end{align}$$"
   ]
  },
  {
   "cell_type": "markdown",
   "metadata": {
    "slideshow": {
     "slide_type": "skip"
    }
   },
   "source": [
    "And so our posterior probability is no longer a mystery.\n",
    "\n",
    "It's just this simple function of our prior:"
   ]
  },
  {
   "cell_type": "markdown",
   "metadata": {
    "slideshow": {
     "slide_type": "subslide"
    }
   },
   "source": [
    "### $$ p(\\text{no bugs}\\vert \\text{pass tests}) \\neq 🤔$$ \n",
    "\n",
    "### $$ p(\\text{no bugs}\\vert \\text{pass tests}) = \\frac{2 p_n}{p_n + 1}$$ "
   ]
  },
  {
   "cell_type": "markdown",
   "metadata": {
    "slideshow": {
     "slide_type": "subslide"
    }
   },
   "source": [
    "First, let's use this function to get our posterior,\n",
    "given all of the assumptions we made:"
   ]
  },
  {
   "cell_type": "code",
   "execution_count": null,
   "metadata": {
    "slideshow": {
     "slide_type": "fragment"
    }
   },
   "outputs": [],
   "source": [
    "# note that this assumes that our likelihood of passing with some bugs was 0.5!\n",
    "# if you change the definition of likelihood above, you also need to rederive the values for this function\n",
    "\n",
    "def posterior_given_passing(p_no_bugs):\n",
    "    return 2 * p_no_bugs / (p_no_bugs + 1)"
   ]
  },
  {
   "cell_type": "code",
   "execution_count": null,
   "metadata": {
    "slideshow": {
     "slide_type": "fragment"
    }
   },
   "outputs": [],
   "source": [
    "print(prior_no_bugs, posterior_given_passing(prior_no_bugs))"
   ]
  },
  {
   "cell_type": "markdown",
   "metadata": {
    "slideshow": {
     "slide_type": "skip"
    }
   },
   "source": [
    "This makes sense: once you've seen the tests pass,\n",
    "the chance there are no bugs increases, but it doesn't go to 1."
   ]
  },
  {
   "cell_type": "markdown",
   "metadata": {
    "slideshow": {
     "slide_type": "skip"
    }
   },
   "source": [
    "Clearly, the posterior depends on our prior,\n",
    "which we set fairly arbitrarily.\n",
    "\n",
    "Let's take a look at what the posterior probability looks like for \n",
    "a bunch of different values of the prior porbability."
   ]
  },
  {
   "cell_type": "code",
   "execution_count": null,
   "metadata": {
    "scrolled": false,
    "slideshow": {
     "slide_type": "subslide"
    }
   },
   "outputs": [],
   "source": [
    "f, ax = plt.subplots(figsize=(12, 12)); ps = np.linspace(0, 1, num=100)\n",
    "ax.plot([0, 1],  [0, 1], color=\"gray\", lw=4, ls=\"--\", label=\"Prior\");\n",
    "ax.plot(ps, posterior_given_passing(ps), lw=4, label=\"Posterior\");\n",
    "ax.vlines(ps, ps, posterior_given_passing(ps), color=\"C3\", zorder=0, label=\"Change in Beliefs\");\n",
    "ax.set_xlim(0, 1); ax.set_ylim(0, 1); ax.legend();\n",
    "ax.set_xlabel(\"$p_n$, prior $p$ of bug-free code\");\n",
    "ax.set_ylabel(\"$p($no bugs $\\\\vert$ passed tests$)$\\nposterior $p$ of bug-free code\");"
   ]
  },
  {
   "cell_type": "markdown",
   "metadata": {
    "slideshow": {
     "slide_type": "skip"
    }
   },
   "source": [
    "1. Observing that the tests were passed always decreases the chance that there are bugs.\n",
    "2. The only time that observing that the tests were passed doesn't change the posterior from the prior\n",
    "is when the prior is 0 or 1: if you're certain, you have no need of evidence.\n",
    "3. The change is maximized when the prior is 0.5: evidence is most useful when you are most uncertain. "
   ]
  },
  {
   "cell_type": "markdown",
   "metadata": {
    "slideshow": {
     "slide_type": "subslide"
    }
   },
   "source": [
    "### For Comparison, the pyMC Way"
   ]
  },
  {
   "cell_type": "markdown",
   "metadata": {
    "slideshow": {
     "slide_type": "skip"
    }
   },
   "source": [
    "Returning to the original problem,\n",
    "let's remind ourselves of how we'd use pyMC to solve it."
   ]
  },
  {
   "cell_type": "markdown",
   "metadata": {
    "slideshow": {
     "slide_type": "fragment"
    }
   },
   "source": [
    "### $$ p(\\text{no bugs}\\vert \\text{pass tests}) = 🤔$$ "
   ]
  },
  {
   "cell_type": "markdown",
   "metadata": {
    "slideshow": {
     "slide_type": "fragment"
    }
   },
   "source": [
    "The pyMC approach to solving this problem is to _approximate the posterior_\n",
    "by drawing samples from it."
   ]
  },
  {
   "cell_type": "code",
   "execution_count": null,
   "metadata": {
    "slideshow": {
     "slide_type": "subslide"
    }
   },
   "outputs": [],
   "source": [
    "with pm.Model() as bugs_model:\n",
    "    bug_free = pm.Bernoulli(\"bug_free\", p=prior_no_bugs)  # prior\n",
    "    \n",
    "    pass_test_no_bugs = likelihood_test_passed(\"no bugs\")\n",
    "    pass_test_some_bugs = likelihood_test_passed(\"some bugs\")\n",
    "    \n",
    "    pass_tests = pm.Bernoulli(  # likelihood\n",
    "        \"pass_tests\",\n",
    "        p=pm.math.switch(\n",
    "            bug_free, pass_test_no_bugs, pass_test_some_bugs),\n",
    "        observed=1)"
   ]
  },
  {
   "cell_type": "code",
   "execution_count": null,
   "metadata": {
    "slideshow": {
     "slide_type": "fragment"
    }
   },
   "outputs": [],
   "source": [
    "posterior_samples_trace = shared_util.sample_from(bugs_model)\n",
    "posterior_samples_df = shared_util.samples_to_dataframe(posterior_samples_trace)\n",
    "\n",
    "posterior_ps = posterior_samples_df[\"bug_free\"].value_counts().sort_index() / len(posterior_samples_df)\n",
    "posterior_ps"
   ]
  },
  {
   "cell_type": "code",
   "execution_count": null,
   "metadata": {
    "slideshow": {
     "slide_type": "subslide"
    }
   },
   "outputs": [],
   "source": [
    "f, ax = plt.subplots(figsize=(6, 6))\n",
    "ax.bar([0, 1], posterior_ps, color=\"C2\");\n",
    "ax.set_xticks([0, 1]); ax.set_xticklabels([\"some bugs\", \"bug free\"]);\n",
    "ax.set_ylabel(\"Posterior probability\");"
   ]
  },
  {
   "cell_type": "markdown",
   "metadata": {
    "slideshow": {
     "slide_type": "subslide"
    }
   },
   "source": [
    "## Iteratively Applying Bayes' Rule"
   ]
  },
  {
   "cell_type": "markdown",
   "metadata": {
    "slideshow": {
     "slide_type": "fragment"
    }
   },
   "source": [
    "Let's say we write another set of tests, and the code passes again.\n",
    "\n",
    "What is our new answer?"
   ]
  },
  {
   "cell_type": "markdown",
   "metadata": {
    "slideshow": {
     "slide_type": "fragment"
    }
   },
   "source": [
    "### $$ p(\\text{no bugs}\\vert \\text{pass both sets of tests}) = 🤔$$ "
   ]
  },
  {
   "cell_type": "markdown",
   "metadata": {
    "slideshow": {
     "slide_type": "subslide"
    }
   },
   "source": [
    "Remember that our prior represented our beliefs before we observed the first tests had been passed.\n",
    "\n",
    "The posterior represents our beliefs after we observed the first tests had been passed."
   ]
  },
  {
   "cell_type": "markdown",
   "metadata": {
    "slideshow": {
     "slide_type": "subslide"
    }
   },
   "source": [
    "_After_ the first tests have been passed is also _before_ the second tests have been passed.\n",
    "\n",
    "Therefore the posterior for the first set of tests is the prior for the second set of tests."
   ]
  },
  {
   "cell_type": "markdown",
   "metadata": {
    "slideshow": {
     "slide_type": "fragment"
    }
   },
   "source": [
    "> Nach dem Spiel ist vor dem Spiel\n",
    "\n",
    "Sepp Herberger, German football coach"
   ]
  },
  {
   "cell_type": "markdown",
   "metadata": {
    "slideshow": {
     "slide_type": "skip"
    }
   },
   "source": [
    "In English: \"After the game is before the game\"."
   ]
  },
  {
   "cell_type": "code",
   "execution_count": null,
   "metadata": {
    "slideshow": {
     "slide_type": "fragment"
    }
   },
   "outputs": [],
   "source": [
    "print(posterior_given_passing(prior_no_bugs), # prior for second tests\n",
    "      posterior_given_passing(posterior_given_passing(prior_no_bugs)) ) # posterior for second tests"
   ]
  },
  {
   "cell_type": "code",
   "execution_count": null,
   "metadata": {
    "scrolled": false,
    "slideshow": {
     "slide_type": "subslide"
    }
   },
   "outputs": [],
   "source": [
    "f, ax = plt.subplots(figsize=(10, 10)); ps = np.linspace(0, 1, num=100)\n",
    "ax.plot([0, 1],  [0, 1], color=\"gray\", lw=4, ls=\"--\", label=\"Prior\");\n",
    "ax.plot(ps, posterior_given_passing(ps), lw=4, label=\"Posterior\");\n",
    "ax.vlines(ps, ps, posterior_given_passing(ps), color=\"C3\", zorder=0, label=\"Change in Beliefs\");\n",
    "ax.set_xlim(0, 1); ax.set_ylim(0, 1); ax.legend();\n",
    "add_arrow_chain(prior_no_bugs, ax);\n",
    "ax.set_xlabel(\"$p_n$, prior $p$ of bug-free code\"); #plt.axis(\"equal\");\n",
    "ax.set_ylabel(\"$p($no bugs $\\\\vert$ passed tests$)$\\nposterior $p$ of bug-free code\");"
   ]
  },
  {
   "cell_type": "markdown",
   "metadata": {
    "slideshow": {
     "slide_type": "skip"
    }
   },
   "source": [
    "The thick red vertical lines above represent the updating of our beliefs from the prior to the posterior.\n",
    "\n",
    "The one going from `0.2` to approximately `0.33` represents the update to our beliefs after the first set of tests.\n",
    "\n",
    "The arrow indicates that, when we apply another test to the same unknown variable,\n",
    "the posterior (position on y-axis) becomes the prior (position of x-axis).\n",
    "Our final beliefs about the unknown variable,\n",
    "whether the code has bugs,\n",
    "are obtained by applying Bayes' Rule to get a posterior from that prior\n",
    "(graphically, by following the thick red line from `0.33` to `0.5`)."
   ]
  },
  {
   "cell_type": "markdown",
   "metadata": {
    "slideshow": {
     "slide_type": "skip"
    }
   },
   "source": [
    "A fun exercise:\n",
    "rewrite `posterior_given_passing` so that it also takes in the `likelihood_test_passed`\n",
    "and compute the posterior given Bayes' rule,\n",
    "then edit the parameters of the likelihood and see how it changes the posterior as a function of the prior."
   ]
  },
  {
   "cell_type": "markdown",
   "metadata": {
    "slideshow": {
     "slide_type": "slide"
    }
   },
   "source": [
    "## Bayes' Rule Flips the Table Around"
   ]
  },
  {
   "cell_type": "markdown",
   "metadata": {
    "slideshow": {
     "slide_type": "fragment"
    }
   },
   "source": [
    "Returning to the picture in terms of tables representing conditional distributions,\n",
    "we can see that Bayes' Rule has taken this table,\n",
    "representing the likelihood:"
   ]
  },
  {
   "cell_type": "markdown",
   "metadata": {
    "slideshow": {
     "slide_type": "fragment"
    }
   },
   "source": [
    "\n",
    "<table class=\"center\">\n",
    "  <tbody>\n",
    "    <tr>\n",
    "      <th class=\"border-less\"></th>\n",
    "        <th > <font size=\"+1\"> No Bugs </font> </th>\n",
    "      <th > <font size=\"+1\"> Some Bugs </font> </th>\n",
    "    </tr>\n",
    "    <tr>\n",
    "        <td > <font size=\"+1\"> Pass </font></td>\n",
    "      <td style=\"background-color: rgb(0,50,98); color: white\"> <font size=\"+2\"> 1 </font> </td>\n",
    "      <td style=\"background-color: rgb(253,181,21);\"> <font size=\"+2\"> 0.5 </font> </td>\n",
    "    </tr>\n",
    "     <tr>\n",
    "      <td ><font size=\"+1\"> Fail </font></td>\n",
    "      <td style=\"background-color: rgb(0,50,98); color: white\"> <font size=\"+2\"> 0 </font></td>\n",
    "      <td style=\"background-color: rgb(253,181,21);\"> <font size=\"+2\"> 0.5 </font> </td>\n",
    "    </tr>\n",
    "  </tbody>\n",
    "</table>\n",
    "</font>\n"
   ]
  },
  {
   "cell_type": "markdown",
   "metadata": {
    "slideshow": {
     "slide_type": "fragment"
    }
   },
   "source": [
    "and, by combining it with the prior, turned it into this table,\n",
    "representing the posterior:"
   ]
  },
  {
   "cell_type": "markdown",
   "metadata": {
    "slideshow": {
     "slide_type": "fragment"
    }
   },
   "source": [
    "\n",
    "<table class=\"center\">\n",
    "  <tbody>\n",
    "    <tr>\n",
    "      <th class=\"border-less\"></th>\n",
    "        <th > <font size=\"+1\"> No Bugs </font> </th>\n",
    "      <th > <font size=\"+1\"> Some Bugs </font> </th>\n",
    "    </tr>\n",
    "    <tr style=\"background-color: rgb(0,50,98); color: white\">\n",
    "        <td > <font size=\"+1\"> Pass </font></td>\n",
    "      <td> <font size=\"+2\"> 1/3 </font> </td>\n",
    "      <td> <font size=\"+2\"> 2/3 </font> </td>\n",
    "    </tr>\n",
    "     <tr style=\"background-color: rgb(253,181,21);\">\n",
    "      <td><font size=\"+1\"> Fail </font></td>\n",
    "      <td> <font size=\"+2\"> 0 </font></td>\n",
    "      <td> <font size=\"+2\"> 1 </font> </td>\n",
    "    </tr>\n",
    "  </tbody>\n",
    "</table>\n",
    "</font>\n"
   ]
  },
  {
   "cell_type": "markdown",
   "metadata": {
    "slideshow": {
     "slide_type": "subslide"
    }
   },
   "source": [
    "### For NHST, these probabilities have special names"
   ]
  },
  {
   "cell_type": "markdown",
   "metadata": {
    "slideshow": {
     "slide_type": "fragment"
    }
   },
   "source": [
    "\n",
    "<table class=\"center\">\n",
    "  <tbody>\n",
    "    <tr>\n",
    "      <th class=\"border-less\"></th>\n",
    "        <th > <font size=\"+1\"> Null Hypothesis False </font> </th>\n",
    "      <th > <font size=\"+1\"> Null Hypothesis True </font> </th>\n",
    "    </tr>\n",
    "    <tr style=\"background-color: rgb(0,50,98); color: white\">\n",
    "        <td > <font size=\"+2\"> + </font></td>\n",
    "      <td> <font size=\"+2\"> Positive Predictive Value </font> </td>\n",
    "      <td> <font size=\"+2\"> False Discovery Rate</font> </td>\n",
    "    </tr>\n",
    "     <tr style=\"background-color: rgb(253,181,21);\">\n",
    "      <td><font size=\"+2\"> - </font></td>\n",
    "      <td> <font size=\"+2\"> False Omission Rate </font></td>\n",
    "      <td> <font size=\"+2\"> Negative Predictive Value </font> </td>\n",
    "    </tr>\n",
    "  </tbody>\n",
    "</table>\n",
    "</font>\n"
   ]
  },
  {
   "cell_type": "markdown",
   "metadata": {
    "slideshow": {
     "slide_type": "fragment"
    }
   },
   "source": [
    "Let's think about these terms for the \"bugs\" example,\n",
    "where the null hypothesis is that you have some bugs.\n",
    "\n",
    "- Tests have a very high negative predictive value: if you fail a test, you have a bug,\n",
    "so failing a test is very informative\n",
    "\n",
    "- Tests have a much lower positive predictive value: if you pass the tests,\n",
    "you still have a good chance of having a bug."
   ]
  },
  {
   "cell_type": "markdown",
   "metadata": {
    "slideshow": {
     "slide_type": "skip"
    }
   },
   "source": [
    "The need for prior probabilities to \"flip the table around\" with Bayes' Rule\n",
    "is one reason why most statistical treatments only focus on the likelihood,\n",
    "the \"forward model\" table.\n",
    "\n",
    "But when you're trying to interpret the outputs of a test,\n",
    "this table is the one you want."
   ]
  },
  {
   "cell_type": "markdown",
   "metadata": {
    "slideshow": {
     "slide_type": "subslide"
    }
   },
   "source": [
    "## Example: Medical Testing"
   ]
  },
  {
   "cell_type": "markdown",
   "metadata": {
    "slideshow": {
     "slide_type": "fragment"
    }
   },
   "source": [
    "Someone I know had a medical test (below, Test 2) done in an attempt to confirm a diagnosis strongly suggested by an earlier test (Test 1).\n",
    "\n",
    "Test 2 came back negative, out of alignment with both Test 1 and with some other clinical evidence.\n",
    "In light of this, the physician recommended more expensive and invasive testing to rule out alternatives."
   ]
  },
  {
   "cell_type": "markdown",
   "metadata": {
    "slideshow": {
     "slide_type": "fragment"
    }
   },
   "source": [
    "The reported numbers for $p(+\\vert \\text{Disease})$ and\n",
    "$p(-\\vert \\text{No Disease})$ looked quite good:\n",
    "the former, the _sensitivity_ (or power) was around 70%\n",
    "and the latter, the _specificity_, was around 90%."
   ]
  },
  {
   "cell_type": "markdown",
   "metadata": {
    "slideshow": {
     "slide_type": "fragment"
    }
   },
   "source": [
    "\n",
    "<table class=\"center\">\n",
    "  <tbody>\n",
    "    <tr>\n",
    "      <th class=\"border-less\"></th>\n",
    "        <th > <font size=\"+1\"> Disease </font> </th>\n",
    "      <th > <font size=\"+1\"> No Disease </font> </th>\n",
    "    </tr>\n",
    "    <tr>\n",
    "        <td > <font size=\"+1\"> Test 2 + </font></td>\n",
    "      <td style=\"background-color: rgb(0,50,98); color: white\"> <font size=\"+2\"> 0.7 </font> </td>\n",
    "      <td style=\"background-color: rgb(253,181,21);\"> <font size=\"+2\"> 0.1 </font> </td>\n",
    "    </tr>\n",
    "     <tr>\n",
    "      <td ><font size=\"+1\"> Test 2 - </font></td>\n",
    "      <td style=\"background-color: rgb(0,50,98); color: white\"> <font size=\"+2\"> 0.3 </font></td>\n",
    "      <td style=\"background-color: rgb(253,181,21);\"> <font size=\"+2\"> 0.9 </font> </td>\n",
    "    </tr>\n",
    "  </tbody>\n",
    "</table>\n",
    "</font>\n"
   ]
  },
  {
   "cell_type": "markdown",
   "metadata": {
    "slideshow": {
     "slide_type": "subslide"
    }
   },
   "source": [
    "When you hear someone say “90% of folks without the disease tested negative”,\n",
    "the immediate gut reaction is to infer “someone with a negative result probably doesn’t have the disease”\n",
    "and even \"someone with a positive result probably does have the disease.\""
   ]
  },
  {
   "cell_type": "markdown",
   "metadata": {
    "slideshow": {
     "slide_type": "fragment"
    }
   },
   "source": [
    "But remember that we need to consider the chance that the person given the test had the disease in the first place:\n",
    "the _prior_ probability of the person having the disease."
   ]
  },
  {
   "cell_type": "markdown",
   "metadata": {
    "slideshow": {
     "slide_type": "skip"
    }
   },
   "source": [
    "I checked out the paper that was used to design Test 2:\n",
    "they noted that over 90% of individuals who tested positive on Test 1 turned out to, in fact, have the disease.\n",
    "This is the _positive predictive value_ of the test,\n",
    "and it is also the posterior probability that an individual has the disease,\n",
    "given that they got a positive result on that test."
   ]
  },
  {
   "cell_type": "markdown",
   "metadata": {
    "slideshow": {
     "slide_type": "fragment"
    }
   },
   "source": [
    "\n",
    "<table class=\"center\">\n",
    "  <tbody>\n",
    "    <tr>\n",
    "      <th class=\"border-less\"></th>\n",
    "        <th > <font size=\"+2\"> Disease </font> </th>\n",
    "      <th > <font size=\"+2\"> No Disease </font> </th>\n",
    "    </tr>\n",
    "    <tr style=\"background-color: rgb(0,50,98); color: white\">\n",
    "        <td > <font size=\"+2\"> Test 1 + </font></td>\n",
    "      <td> <font size=\"+2\"> 0.9</font> </td>\n",
    "      <td> <font size=\"+2\"> 0.1 </font> </td>\n",
    "    </tr>\n",
    "     <tr style=\"background-color: rgb(253,181,21);\">\n",
    "      <td><font size=\"+2\"> Test 1 - </font></td>\n",
    "      <td> <font size=\"+2\"> ? </font></td>\n",
    "      <td> <font size=\"+2\"> ? </font> </td>\n",
    "    </tr>\n",
    "  </tbody>\n",
    "</table>\n",
    "</font>\n"
   ]
  },
  {
   "cell_type": "markdown",
   "metadata": {
    "slideshow": {
     "slide_type": "fragment"
    }
   },
   "source": [
    "Once someone has gotten a positive result on Test 1,\n",
    "that becomes our new prior probabilty."
   ]
  },
  {
   "cell_type": "markdown",
   "metadata": {
    "slideshow": {
     "slide_type": "subslide"
    }
   },
   "source": [
    "Combining that information with the likelihood table for Test 2,\n",
    "we have"
   ]
  },
  {
   "cell_type": "markdown",
   "metadata": {
    "slideshow": {
     "slide_type": "fragment"
    }
   },
   "source": [
    "\n",
    "<table class=\"center\">\n",
    "  <tbody>\n",
    "    <tr>\n",
    "      <th class=\"border-less\"></th>\n",
    "        <th > <font size=\"+2\"> Disease </font> </th>\n",
    "      <th > <font size=\"+2\"> No Disease </font> </th>\n",
    "    </tr>\n",
    "    <tr style=\"background-color: rgb(0,50,98); color: white\">\n",
    "        <td > <font size=\"+2\"> Test 2 + </font></td>\n",
    "      <td> <font size=\"+2\"> 0.98</font> </td>\n",
    "      <td> <font size=\"+2\"> 0.02 </font> </td>\n",
    "    </tr>\n",
    "     <tr style=\"background-color: rgb(253,181,21);\">\n",
    "      <td><font size=\"+2\"> Test 2 - </font></td>\n",
    "      <td> <font size=\"+2\"> 0.75 </font></td>\n",
    "      <td> <font size=\"+2\"> 0.25 </font> </td>\n",
    "    </tr>\n",
    "  </tbody>\n",
    "</table>\n",
    "</font>\n"
   ]
  },
  {
   "cell_type": "markdown",
   "metadata": {
    "slideshow": {
     "slide_type": "fragment"
    }
   },
   "source": [
    "This is our final posterior: what we think _after_ seeing the results of test 2 and test 1.\n",
    "\n",
    "Seeing a negative result on the second test does not have nearly the effect that one might expect: it changes 9:1 odds into 3:1 odds. A positive result similarly takes 9:1 odds to ~50:1 odds."
   ]
  },
  {
   "cell_type": "markdown",
   "metadata": {
    "slideshow": {
     "slide_type": "skip"
    }
   },
   "source": [
    "Think back to the example with waking up in your room to find it dark:\n",
    "the sensitivity of this test is high,\n",
    "since the room is likely to be dark if the sun has gone out,\n",
    "but that doesn't mean it's right to infer the sun has gone out just because your room is dark!"
   ]
  },
  {
   "cell_type": "markdown",
   "metadata": {
    "slideshow": {
     "slide_type": "skip"
    }
   },
   "source": [
    "This example is covered in slightly more detail in\n",
    "[this blog post](https://charlesfrye.github.io/stats/2018/01/09/hypothesis-test-example.html).\n",
    "\n",
    "As a note:\n",
    "the second test was based on machine learning,\n",
    "while the first test was based on biology.\n",
    "If there's another take away from this,\n",
    "besides \"Be Bayesian About Evidence\",\n",
    "it's: \"Take Care Incorporating ML Into Your Decision-Making\"."
   ]
  },
  {
   "cell_type": "markdown",
   "metadata": {
    "slideshow": {
     "slide_type": "subslide"
    }
   },
   "source": [
    "## Last Bit: The Joint Probability Table"
   ]
  },
  {
   "cell_type": "markdown",
   "metadata": {
    "slideshow": {
     "slide_type": "fragment"
    }
   },
   "source": [
    "The tables we considered were the _conditional probabilities_:\n",
    "\n",
    "if I assume that some condition is true,\n",
    "what will the other variables look like?"
   ]
  },
  {
   "cell_type": "markdown",
   "metadata": {
    "slideshow": {
     "slide_type": "fragment"
    }
   },
   "source": [
    "Instead, we can consider what the chance is of observing any pair\n",
    "of outcomes, one for each variable,\n",
    "and so consider the _joint probability_:"
   ]
  },
  {
   "cell_type": "markdown",
   "metadata": {
    "slideshow": {
     "slide_type": "fragment"
    }
   },
   "source": [
    "<table class=\"center\">\n",
    "  <tbody>\n",
    "    <tr>\n",
    "      <th class=\"border-less\"></th>\n",
    "        <th > <font size=\"+2\"> $$H_0 \\text{ False}$$ </font></th>\n",
    "        <th > <font size=\"+2\"> $$H_0 \\text{ True}$$  </font></th>\n",
    "    </tr>\n",
    "    <tr style=\"background-color: rgb(255,255,255);\">\n",
    "        <td ><font size=\"+2\"> $$+$$ </font></td>\n",
    "      <td> <font size=\"+2\"> $$p(F, +)$$</font> </td>\n",
    "      <td> <font size=\"+2\"> $$p(T, +)$$</font> </td>\n",
    "    </tr>\n",
    "     <tr style=\"background-color: rgb(255,255,255);\">\n",
    "         <td ><font size=\"+2\"> $$-$$</font></td>\n",
    "      <td> <font size=\"+2\"> $$p(F, -)$$ </font></td>\n",
    "      <td> <font size=\"+2\"> $$p(T, -)$$ </font> </td>\n",
    "    </tr>\n",
    "  </tbody>\n",
    "</table>\n",
    "</font>"
   ]
  },
  {
   "cell_type": "markdown",
   "metadata": {
    "slideshow": {
     "slide_type": "subslide"
    }
   },
   "source": [
    "These events have special names for the case of hypothesis testing:"
   ]
  },
  {
   "cell_type": "markdown",
   "metadata": {
    "slideshow": {
     "slide_type": "fragment"
    }
   },
   "source": [
    "<table class=\"center\">\n",
    "  <tbody>\n",
    "    <tr>\n",
    "      <th class=\"border-less\"></th>\n",
    "        <th > <font size=\"+2\"> $$H_0 \\text{ False}$$ </font></th>\n",
    "        <th > <font size=\"+2\"> $$H_0 \\text{ True}$$  </font></th>\n",
    "    </tr>\n",
    "    <tr style=\"background-color: rgb(255,255,255);\">\n",
    "        <td ><font size=\"+2\"> $$+$$ </font></td>\n",
    "      <td> <font size=\"+2\"> True Positive </font> </td>\n",
    "      <td> <font size=\"+2\"> False Positive, Type I Error </font> </td>\n",
    "    </tr>\n",
    "     <tr style=\"background-color: rgb(255,255,255);\">\n",
    "         <td ><font size=\"+2\"> $$-$$</font></td>\n",
    "      <td> <font size=\"+2\"> False Negative, Type II Error </font></td>\n",
    "      <td> <font size=\"+2\"> True Negative </font> </td>\n",
    "    </tr>\n",
    "  </tbody>\n",
    "</table>\n",
    "</font>"
   ]
  },
  {
   "cell_type": "markdown",
   "metadata": {
    "slideshow": {
     "slide_type": "skip"
    }
   },
   "source": [
    "Note: these are not the names of the _probabilities_ but the names of the _events_.\n",
    "The previous tables had names for the probabilities.\n",
    "The names of the probabilites, the equivalents of \"power\" and \"positive predictive value\",\n",
    "would be \"_Chance of_ True Positive\", \"_Chance of_ Type I Error\"."
   ]
  },
  {
   "cell_type": "markdown",
   "metadata": {
    "slideshow": {
     "slide_type": "fragment"
    }
   },
   "source": [
    "Note: the names \"Type I Error\" and \"Type II Error\" should be\n",
    "[banished from language](https://en.wikipedia.org/wiki/Damnatio_memoriae)."
   ]
  },
  {
   "cell_type": "markdown",
   "metadata": {
    "slideshow": {
     "slide_type": "subslide"
    }
   },
   "source": [
    "Their literal etymology is as follows:\n",
    "while writing about errors that can occur during hypothesis testing,\n",
    "in 1933 Jerzy Neyman and Egon Pearson wrote\n",
    "\n",
    "> these errors will be of two kinds:\n",
    "<br>(I) we reject $H_0$ ... when it is true,\n",
    "<br>(II) we fail to reject $H_0$ when some alternative hypothesis $H_A$ or $H_1$ is true."
   ]
  },
  {
   "cell_type": "markdown",
   "metadata": {
    "slideshow": {
     "slide_type": "skip"
    }
   },
   "source": [
    "Sourced from [Wikipedia](https://en.wikipedia.org/wiki/Type_I_and_type_II_errors#Etymology),\n",
    "though the original quote is from their paper _The testing of statistical hypotheses in relation to probabilities a priori_."
   ]
  },
  {
   "cell_type": "markdown",
   "metadata": {
    "slideshow": {
     "slide_type": "skip"
    }
   },
   "source": [
    "This labeling stuck, in part because the field of traditional statistics is so hide-bound\n",
    "and taught in a way that encourages practitioners to treat it as a series of magical incantations and fixed recipes."
   ]
  },
  {
   "cell_type": "markdown",
   "metadata": {
    "slideshow": {
     "slide_type": "fragment"
    }
   },
   "source": [
    "These labels are literally there just in order to separate out the two kinds of errors;\n",
    "there is no meaning to them.\n",
    "They could have written"
   ]
  },
  {
   "cell_type": "markdown",
   "metadata": {
    "slideshow": {
     "slide_type": "fragment"
    }
   },
   "source": [
    "> these errors will be of two kinds:\n",
    "<br>(😢) we reject $H_0$ ... when it is true,\n",
    "<br>(😡) we fail to reject $H_0$ when some alternative hypothesis $H_A$ or $H_1$ is true."
   ]
  },
  {
   "cell_type": "markdown",
   "metadata": {
    "slideshow": {
     "slide_type": "fragment"
    }
   },
   "source": [
    "and we'd probably be talking about Type 😡 Errors."
   ]
  }
 ],
 "metadata": {
  "celltoolbar": "Slideshow",
  "kernelspec": {
   "display_name": "Python 3",
   "language": "python",
   "name": "python3"
  },
  "language_info": {
   "codemirror_mode": {
    "name": "ipython",
    "version": 3
   },
   "file_extension": ".py",
   "mimetype": "text/x-python",
   "name": "python",
   "nbconvert_exporter": "python",
   "pygments_lexer": "ipython3",
   "version": "3.6.8"
  }
 },
 "nbformat": 4,
 "nbformat_minor": 2
}
