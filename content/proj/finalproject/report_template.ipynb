{
 "cells": [
  {
   "cell_type": "markdown",
   "metadata": {},
   "source": [
    "<img src=\"../../shared/img/banner.svg\"></img>"
   ]
  },
  {
   "cell_type": "markdown",
   "metadata": {},
   "source": [
    "# Final Project Report - TITLE GOES HERE"
   ]
  },
  {
   "cell_type": "markdown",
   "metadata": {},
   "source": [
    "#### REMOVE IN SUBMITTED VERSION\n",
    "\n",
    "We suggest you use this template for making your final report.\n",
    "Simply make a copy of this file and name it `report.ipynb`.\n",
    "Remove any cells that say **REMOVE IN SUBMITTED VERSION** at the top,\n",
    "like this one,\n",
    "and add in `ok.auth` and `ok.submit` cells.\n",
    "\n",
    "Make sure to keep the code cells below!"
   ]
  },
  {
   "cell_type": "code",
   "execution_count": null,
   "metadata": {},
   "outputs": [],
   "source": [
    "%matplotlib inline"
   ]
  },
  {
   "cell_type": "code",
   "execution_count": null,
   "metadata": {},
   "outputs": [],
   "source": [
    "import sys\n",
    "\n",
    "sys.path.append(\"../../\")\n",
    "\n",
    "from shared.src import quiet\n",
    "from shared.src import seed\n",
    "from shared.src import style"
   ]
  },
  {
   "cell_type": "code",
   "execution_count": null,
   "metadata": {},
   "outputs": [],
   "source": [
    "import random\n",
    "\n",
    "from client.api.notebook import Notebook\n",
    "import numpy as np\n",
    "import matplotlib.pyplot as plt\n",
    "import numpy as np\n",
    "import pandas as pd\n",
    "import pymc3 as pm\n",
    "import scipy\n",
    "import seaborn as sns"
   ]
  },
  {
   "cell_type": "code",
   "execution_count": null,
   "metadata": {},
   "outputs": [],
   "source": [
    "import shared.src.utils.util as shared_util"
   ]
  },
  {
   "cell_type": "markdown",
   "metadata": {},
   "source": [
    "#### REMOVE IN SUBMITTED VERSION\n",
    "\n",
    "If you wish to define functions or classes outside of the notebook,\n",
    "do so inside the file `utils/util.py`.\n",
    "The cell below will import them, and they will be available inside `util`.\n",
    "\n",
    "This is not strictly necessary,\n",
    "so ignore this if you are not familiar with\n",
    "defining your own Python modules.\n",
    "It is provided only for convenience."
   ]
  },
  {
   "cell_type": "code",
   "execution_count": null,
   "metadata": {},
   "outputs": [],
   "source": [
    "import utils.util as util"
   ]
  },
  {
   "cell_type": "code",
   "execution_count": null,
   "metadata": {},
   "outputs": [],
   "source": [
    "sns.set_context(\"notebook\", font_scale=1.7)"
   ]
  },
  {
   "cell_type": "code",
   "execution_count": null,
   "metadata": {},
   "outputs": [],
   "source": [
    "ok = Notebook(\"ok/config\")"
   ]
  },
  {
   "cell_type": "markdown",
   "metadata": {},
   "source": [
    "#### REMOVE IN SUBMITTED VERSION\n",
    "\n",
    "The rubric below breaks the report down into five weighted components.\n",
    "\n",
    "## Report Rubric\n",
    "\n",
    "1. **Dataset background described** (5%)\n",
    "  - Provide link or citation for dataset source\n",
    "  - Explain how it was originally collected<br><br>\n",
    "2. **Dataset cleaned and visualized** (15%)\n",
    "  - Perform any necessary \"munging\" tasks\n",
    "  - Visualize important variables<br><br>\n",
    "3. **Question articulated** (20%)\n",
    "  - Describe a question you intend to use the data to answer\n",
    "  - Make clear the connection between the data and the question<br><br>\n",
    "4. **Model developed** (25%)\n",
    "  - Define a pyMC `Model` for the data in order to support using\n",
    "  Bayesian inference to answer the question you articulated\n",
    "  - Explain your modeling choices: where did the likelihood come from?\n",
    "  what does your prior imply about your beliefs, and why did you choose that prior?\n",
    "  which variables are hidden, which variables are observed,\n",
    "  and how do those choices relate to your question?\n",
    "  - If you based your model on one from the class or elsewhere,\n",
    "  make sure to mention that here.<br><br>\n",
    "5. **Findings reported** (35%)\n",
    "  - Use `sample`, `sample_posterior_predictive`, and/or `plot_posterior`,\n",
    "  plus any visualizations you design yourself,\n",
    "  as needed to examine the posterior of your model and draw conclusions.\n",
    "  - Make sure you report your findings in terms of uncertainty:\n",
    "  don't just report _whether_ you believe the data supports a conclusion,\n",
    "  but instead report _how plausible_ a conclusion is, given the output of your model.\n",
    "\n",
    "The remainder of this report is broken down into these sections,\n",
    "with additional information on formatting and expectations.\n",
    "\n",
    "There is no obvious way to measure the \"length\" of a notebook\n",
    "that is analogous to the page or word count of an essay.\n",
    "It is expected that the notebook has about as much content as a lab\n",
    "and not more than twice as much.\n",
    "You should produce up to a few short paragraphs of text in each section,\n",
    "along with code and plots as needed.\n",
    "\n",
    "If anything is unclear, please post on Piazza."
   ]
  },
  {
   "cell_type": "markdown",
   "metadata": {},
   "source": [
    "# Dataset Background"
   ]
  },
  {
   "cell_type": "markdown",
   "metadata": {},
   "source": [
    "#### REMOVE IN SUBMITTED VERSION\n",
    "\n",
    "This section can be more-or-less copied from your proposal.\n",
    "See the relevant section of the `proposal_template` for details\n",
    "on what is expected here.\n",
    "Now that you know exactly what questions you'll be asking of your data,\n",
    "you might wish to slightly change the emphasis.\n",
    "\n",
    "#### MAKE SURE THE DATASET YOU USE IS LESS THAN 1 MEGABYTE IN SIZE.\n",
    "\n",
    "To reduce the strain on the okpy system,\n",
    "we need to keep our project files small.\n",
    "Do _not_ submit the project with a dataset of size greater than 1 megabyte.\n",
    "The `ok.grade` cell will check this for you."
   ]
  },
  {
   "cell_type": "code",
   "execution_count": null,
   "metadata": {},
   "outputs": [],
   "source": [
    "df = pd.read_csv(\"data/data.csv\", index_col=0)"
   ]
  },
  {
   "cell_type": "code",
   "execution_count": null,
   "metadata": {},
   "outputs": [],
   "source": [
    "ok.grade(\"dataset_size\")"
   ]
  },
  {
   "cell_type": "markdown",
   "metadata": {},
   "source": [
    "# Dataset Cleaning and Visualization"
   ]
  },
  {
   "cell_type": "markdown",
   "metadata": {
    "slideshow": {
     "slide_type": "slide"
    }
   },
   "source": [
    "#### REMOVE IN SUBMITTED VERSION\n",
    "\n",
    "In this section, remove missing values, apply necessary transformations,\n",
    "and visualize the key variables in the dataset.\n",
    "Lab 01 will be helpful here.\n",
    "\n",
    "For your visualizations, you will likely want some combination of\n",
    "`boxplot`s, `distplot`s, `pairplot`, and `jointplot`s.\n",
    "Make sure to visualize _the relationships between variables_,\n",
    "whenever that is important, and not just the values of variables by themselves."
   ]
  },
  {
   "cell_type": "markdown",
   "metadata": {},
   "source": [
    "# Question"
   ]
  },
  {
   "cell_type": "markdown",
   "metadata": {
    "slideshow": {
     "slide_type": "slide"
    }
   },
   "source": [
    "#### REMOVE IN SUBMITTED VERSION\n",
    "\n",
    "In this section, describe the question you'd like to pose of your data.\n",
    "\n",
    "\n",
    "For example,\n",
    "it might be \"when did sentiment about Donald Trump in hip-hop turn negative\", as in Lecture 06,\n",
    "or \"how does the score of participants on a task differ as both task difficulty and their attentional state change\", as in the `attention` dataset used at several points in the class.\n",
    "\n",
    "Make sure the connection between the dataset you chose and the question you are posing is clear."
   ]
  },
  {
   "cell_type": "markdown",
   "metadata": {},
   "source": [
    "# Model"
   ]
  },
  {
   "cell_type": "markdown",
   "metadata": {
    "slideshow": {
     "slide_type": "slide"
    }
   },
   "source": [
    "#### REMOVE IN SUBMITTED VERSION\n",
    "\n",
    "In this section, describe and define, in Python, the model you will use to answer your question with your dataset.\n",
    "\n",
    "Make sure each of the choices you make in defining your model are explained. Which variables are observed? Which variables/parameters are unknown? What distributions did you choose for your prior, and what do they imply about what you believe or assume about the unknown variables? What distribution did you choose for your likelihood and why (continuous vs discrete, robust to outliers vs not)? How do the question you are asking and the structure of your data drive your modeling choices?\n",
    "\n",
    "If you're struggling to come up with the right distribution for your prior or likelihood\n",
    "based on what we've covered in class, check out\n",
    "[\"The Distribution Zoo\"](https://ben18785.shinyapps.io/distribution-zoo/),\n",
    "an interactive tool for visualizing common distributions for Bayesian modeling.\n",
    "It also includes some useful facts about each distribution.\n",
    "You'll need to find the equivalent distribution in pyMC by checking\n",
    "[the documentation](https://docs.pymc.io/api/distributions.html).\n",
    "\n",
    "If you have time, you might wish to define two or more models and compare and contrast their structure."
   ]
  },
  {
   "cell_type": "markdown",
   "metadata": {},
   "source": [
    "# Findings"
   ]
  },
  {
   "cell_type": "markdown",
   "metadata": {
    "slideshow": {
     "slide_type": "slide"
    }
   },
   "source": [
    "#### REMOVE IN SUBMITTED VERSION\n",
    "\n",
    "In this section, draw samples from your model and then use them, along with our tools of posterior inference,\n",
    "to answer your question.\n",
    "\n",
    "For example, you might visualize the posteriors relative to a reference value with `plot_posterior`,\n",
    "check what future data you might observe with `sample_posterior_predictive`,\n",
    "or compute boolean functions on the posterior samples to determine\n",
    "the probability that a claim is true under your posterior.\n",
    "\n",
    "If you defined two different models above, you should compare and contrast their findings."
   ]
  },
  {
   "cell_type": "markdown",
   "metadata": {},
   "source": [
    "# Presentation Link"
   ]
  },
  {
   "cell_type": "markdown",
   "metadata": {},
   "source": [
    "#### REMOVE IN SUBMITTED VERSION\n",
    "\n",
    "In this section, include a link to the Google Slides presentation that you gave in class,\n",
    "as below:\n",
    "\n",
    "> See slides at [this link](https://docs.google.com/presentation/d/1NLLl-hKY2bq0RFUITeF-4nb-RErKzcq4C6XJ_4YZBIE/edit?usp=sharing).\n",
    "\n",
    "Check out [these instructions](https://support.google.com/docs/answer/2494822)\n",
    "for how to make a Google Drive document shareable by link.\n",
    "You'll want to look for a section called \"Share a link to the file\" or something similar.\n",
    "\n",
    "The presentation should cover the same material as the report,\n",
    "but at a higher level.\n",
    "Introduce the dataset and the question you'd like to answer with it,\n",
    "visualize the relevant variables,\n",
    "describe your model, and then report your findings.\n",
    "The presentation should be no longer than five minutes."
   ]
  }
 ],
 "metadata": {
  "kernelspec": {
   "display_name": "Python 3",
   "language": "python",
   "name": "python3"
  },
  "language_info": {
   "codemirror_mode": {
    "name": "ipython",
    "version": 3
   },
   "file_extension": ".py",
   "mimetype": "text/x-python",
   "name": "python",
   "nbconvert_exporter": "python",
   "pygments_lexer": "ipython3",
   "version": "3.6.8"
  }
 },
 "nbformat": 4,
 "nbformat_minor": 2
}
