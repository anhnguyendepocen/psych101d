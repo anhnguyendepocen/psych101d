{
 "cells": [
  {
   "cell_type": "markdown",
   "metadata": {},
   "source": [
    "<img src=\"../../shared/img/banner.svg\"></img>"
   ]
  },
  {
   "cell_type": "markdown",
   "metadata": {},
   "source": [
    "# Final Project Proposal - TITLE GOES HERE"
   ]
  },
  {
   "cell_type": "markdown",
   "metadata": {},
   "source": [
    "#### REMOVE IN SUBMITTED VERSION\n",
    "\n",
    "We suggest you use this template for making your project proposal.\n",
    "Simply make a copy of this file and name it `proposal.ipynb`.\n",
    "Remove any cells that say **REMOVE IN SUBMITTED VERSION** at the top,\n",
    "like this one,\n",
    "and add in `ok.auth` and `ok.submit` cells.\n",
    "\n",
    "Make sure to keep the code cells below!"
   ]
  },
  {
   "cell_type": "code",
   "execution_count": null,
   "metadata": {},
   "outputs": [],
   "source": [
    "%matplotlib inline"
   ]
  },
  {
   "cell_type": "code",
   "execution_count": null,
   "metadata": {},
   "outputs": [],
   "source": [
    "import sys\n",
    "\n",
    "sys.path.append(\"../../\")\n",
    "\n",
    "from shared.src import quiet\n",
    "from shared.src import seed\n",
    "from shared.src import style"
   ]
  },
  {
   "cell_type": "code",
   "execution_count": null,
   "metadata": {},
   "outputs": [],
   "source": [
    "import random\n",
    "\n",
    "from client.api.notebook import Notebook\n",
    "import numpy as np\n",
    "import matplotlib.pyplot as plt\n",
    "import numpy as np\n",
    "import pandas as pd\n",
    "import pymc3 as pm\n",
    "import scipy\n",
    "import seaborn as sns"
   ]
  },
  {
   "cell_type": "code",
   "execution_count": null,
   "metadata": {},
   "outputs": [],
   "source": [
    "import shared.src.utils.util as shared_util"
   ]
  },
  {
   "cell_type": "code",
   "execution_count": null,
   "metadata": {},
   "outputs": [],
   "source": [
    "sns.set_context(\"notebook\", font_scale=1.7)"
   ]
  },
  {
   "cell_type": "code",
   "execution_count": null,
   "metadata": {},
   "outputs": [],
   "source": [
    "ok = Notebook(\"ok/config\")"
   ]
  },
  {
   "cell_type": "markdown",
   "metadata": {},
   "source": [
    "#### REMOVE IN SUBMITTED VERSION\n",
    "\n",
    "## Final Project Structure\n",
    "\n",
    "For the final project, groups of two to three students will work together to\n",
    "find a dataset and then apply the modeling skills we have learned this semester\n",
    "to gain insight into the data and draw conclusions from it.\n",
    "The methods and results will then be shared as a report and a presentation.\n",
    "\n",
    "The final project has three graded components. They total to 25% of your final grade, broken down as below.\n",
    "\n",
    "1. **Proposal** (5%)\n",
    "   - A notebook proposing a dataset to work with (based on this template)\n",
    "2. **Report** (10%)\n",
    "   - A notebook detailing the dataset, your question, the model, and your findings\n",
    "   - See the section **Report Rubric** in the file `report_template.ipynb` under\n",
    "   `proj/finalproject` for details and a point breakdown.\n",
    "3. **Presentation** (10%)\n",
    "   - A Google Slides presentation summarizing the content of the report\n",
    "   - Delivered in-class, of no longer than 5 minutes in length.\n",
    "   - See the section **Presentation Link** in the file `report_template.ipynb` under\n",
    "   `proj/finalproject`.\n",
    "\n",
    "# Submitting in Groups\n",
    "\n",
    "For this project, you will work in groups of two or three.\n",
    "**Groups of three are strongly recommended and preferred**.\n",
    "\n",
    "Groups will be determined using OKpy.\n",
    "See [this video](https://youtu.be/3qx_RfKbvuQ)\n",
    "for details on how to choose your partners on OKpy\n",
    "(the relevant content starts about 1 minute in).\n",
    "\n",
    "Use the same group for both this proposal and the final report and presentation.\n",
    "If you need to change your group, please contact the GSI or instructor.\n",
    "\n",
    "For group submissions, _there is only one graded submission_.\n",
    "One of the group members will use `ok.submit` to send in the submission.\n",
    "Whichever version is sent in last will be the one that is graded.\n",
    "\n",
    "Please try to limit your submissions of both the project and proposal to only one,\n",
    "made once the work is complete,\n",
    "as the inclusion of the `data.csv` file means these submissions can take up far more space\n",
    "than other assignments."
   ]
  },
  {
   "cell_type": "markdown",
   "metadata": {},
   "source": [
    "#### List the members of your group here, so they can be cross-referenced with the information on OKpy if needed."
   ]
  },
  {
   "cell_type": "markdown",
   "metadata": {},
   "source": [
    "# Dataset Background"
   ]
  },
  {
   "cell_type": "markdown",
   "metadata": {},
   "source": [
    "#### REMOVE IN SUBMITTED VERSION\n",
    "\n",
    "In this section, introduce the dataset:\n",
    "where did it come from (link and/or citation),\n",
    "and what are its contents?\n",
    "What can you determine about how it was collected?\n",
    "\n",
    "Here are some possible sources on the web, several of which were used to find data for this class:\n",
    "- [kaggle](https://kaggle.com): combination dataset repository and machine learning/data analytics contest platform\n",
    "- [data.world](https://data.world/search?q=): data repository and search engine\n",
    "- [Google dataset search](https://toolbox.google.com/datasetsearch): a very thorough dataset search engine from Google\n",
    "- [socrata](https://dev.socrata.com/data/): search engine for publicly-available data\n",
    "- [data.gov](http://data.gov/): US government's central repository for data. Also check out [data.oaklandnet](https://data.oaklandnet.com/) for Oakland data or [datasf](https://datasf.org/opendata/) for data from the City of San Francisco.\n",
    "\n",
    "Alternatively, you might look closer to home:\n",
    "- Labs on campus: if a group member has a relationship with a lab on campus, e.g. as an RA, they could obtain some of the lab's data\n",
    "- Collecting your own data: you might alternatively collect some of your own data by scraping the web or measure a phenomenon out in the world. **Please do not engage in any human experimentation, including surveys**. There are numerous ethical concerns with the design and execution of psychological experiments which we don't have the time or resources to cover and enforce. Other 100-level courses in the Psych department cover experimental design and offer opportunities to get hands-on experience.\n",
    "\n",
    "Place the data you will be using inside the folder `data`\n",
    "as a file `data.csv`.\n",
    "Use the \"Upload\" button in the top right of the Jupyter file browser\n",
    "(the page you land on when you click an interact link)\n",
    "to upload files to `datahub`.\n",
    "\n",
    "`.csv` stands for `c`omma `s`eparated `v`alues:\n",
    "the contents of the file are like an Excel spreadsheet or a pandas DataFrame,\n",
    "and they use commas, `,`, to separate each column and lines to separate rows.\n",
    "\n",
    "If your original data source does not use\n",
    "the `csv` format, you will need to load it\n",
    "in whatever its original format is,\n",
    "using one of the other pandas loading tools,\n",
    "e.g. `pd.read_excel` for `.xls` files,\n",
    "then convert it to `csv` using the DataFrame method\n",
    "`to_csv`.\n",
    "See [the pandas docs](https://pandas.pydata.org/pandas-docs/version/0.23/io.html)\n",
    "for details,\n",
    "and don't be afraid to ask for help.\n",
    "\n",
    "See [this blogpost](https://www.shanelynn.ie/python-pandas-read_csv-load-data-from-csv-files/)\n",
    "or [this Medium post](https://towardsdatascience.com/pandas-dataframe-playing-with-csv-files-944225d19ff)\n",
    "for some info on using csv files in pandas.\n",
    "The first blogpost also has some links to additional tutorials.\n",
    "\n",
    "You will need to copy the data over to `proj/finalproject`,\n",
    "e.g. by downloading the file using the Jupyter file browser\n",
    "and then uploading it in the new location.\n",
    "\n",
    "#### MAKE SURE THE DATASET YOU USE IS LESS THAN 1 MEGABYTE IN SIZE.\n",
    "\n",
    "To reduce the strain on the okpy system,\n",
    "we need to keep our project files small.\n",
    "Do _not_ submit the project with a dataset of size greater than 1 megabyte.\n",
    "The `ok.grade` cell will check this for you."
   ]
  },
  {
   "cell_type": "code",
   "execution_count": null,
   "metadata": {},
   "outputs": [],
   "source": [
    "df = pd.read_csv(\"data/data.csv\", index_col=0)"
   ]
  },
  {
   "cell_type": "code",
   "execution_count": null,
   "metadata": {},
   "outputs": [],
   "source": [
    "ok.grade(\"dataset_size\")"
   ]
  }
 ],
 "metadata": {
  "kernelspec": {
   "display_name": "Python 3",
   "language": "python",
   "name": "python3"
  },
  "language_info": {
   "codemirror_mode": {
    "name": "ipython",
    "version": 3
   },
   "file_extension": ".py",
   "mimetype": "text/x-python",
   "name": "python",
   "nbconvert_exporter": "python",
   "pygments_lexer": "ipython3",
   "version": "3.6.8"
  }
 },
 "nbformat": 4,
 "nbformat_minor": 2
}
